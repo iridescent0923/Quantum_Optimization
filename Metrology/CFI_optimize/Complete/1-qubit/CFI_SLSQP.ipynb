{
 "cells": [
  {
   "cell_type": "code",
   "execution_count": 30,
   "metadata": {},
   "outputs": [],
   "source": [
    "import pennylane as qml\n",
    "from pennylane import numpy as np\n",
    "\n",
    "from IPython.display import display, Latex\n",
    "\n",
    "import scipy as sp\n",
    "\n",
    "import matplotlib.pyplot as plt\n",
    "\n",
    "# == Hamiltonain setup == \n",
    "Coeff_ham = [1]\n",
    "Obs = [qml.PauliZ(0)]\n",
    "Hamiltonian = qml.Hamiltonian(Coeff_ham, Obs)\n",
    "\n",
    "dev = qml.device(\"default.mixed\", wires = 1)\n",
    "\n",
    "# == gamma -> t ==\n",
    "# gamma = 0.5\n",
    "# t = -np.log( np.sqrt(1 - gamma))\n",
    "\n",
    "# == Define gammma ==\n",
    "t = 1e-9\n",
    "gamma_dephase = 1 - np.exp(-2 * t)\n",
    "\n",
    "gamma_ps = 0.8"
   ]
  },
  {
   "cell_type": "code",
   "execution_count": 31,
   "metadata": {},
   "outputs": [],
   "source": [
    "#  == Generate circuit ==\n",
    "# Stage_1: Generate dephase\n",
    "@qml.qnode(dev)\n",
    "def Dephase_circuit(phi):\n",
    "    qml.Hadamard(wires=0)\n",
    "    \n",
    "    # Time_evo t fixed as -phi/2\n",
    "    qml.ApproxTimeEvolution(Hamiltonian, -phi/2, 1)\n",
    "    \n",
    "    qml.PhaseDamping(gamma_dephase, wires = 0)\n",
    "    \n",
    "    qml.Hadamard(wires=0)\n",
    "    \n",
    "    return qml.density_matrix(wires=0)\n",
    "\n",
    "\n",
    "# Stage_2: Post-selection\n",
    "@qml.qnode(dev)\n",
    "def Post_selection(phi):\n",
    "    rho_dephase = Dephase_circuit(phi)\n",
    "    Kraus_oper = np.array([ [np.sqrt(1-gamma_ps), 0], [0, 1] ])\n",
    "    \n",
    "    Num = Kraus_oper @ rho_dephase @ Kraus_oper.conj().T\n",
    "    Den = np.trace(Kraus_oper @ rho_dephase @ Kraus_oper.conj().T)\n",
    "    rho_ps = Num / (Den)\n",
    "    qml.QubitDensityMatrix(rho_ps, wires=0)\n",
    "    \n",
    "    return qml.density_matrix(wires=0)"
   ]
  },
  {
   "cell_type": "code",
   "execution_count": 32,
   "metadata": {},
   "outputs": [],
   "source": [
    "# == CFI; cost function to maximize ==\n",
    "def CFI_ps(phi):\n",
    "    # Type casting for phi\n",
    "    para = np.array([phi], requires_grad = 'True')\n",
    "\n",
    "    Cost_function = qml.qinfo.classical_fisher(Post_selection)(para[0])\n",
    "    # Cost_function = round( np.array(Temp, requires_grad = False).numpy(),10)\n",
    "    \n",
    "    # Value-bound: 0 ~ 1\n",
    "    # if, 1 - cf = min -> then, cf = max\n",
    "    return -Cost_function"
   ]
  },
  {
   "cell_type": "code",
   "execution_count": 33,
   "metadata": {},
   "outputs": [
    {
     "name": "stdout",
     "output_type": "stream",
     "text": [
      "== Status ==\n",
      "gamma: 0.8   t: 1e-09  gamma_dephase: 1.999999943436137e-09\n"
     ]
    }
   ],
   "source": [
    "print(\"== Status ==\")\n",
    "print('gamma:', gamma_ps,'  t:',t,' gamma_dephase:', gamma_dephase)"
   ]
  },
  {
   "cell_type": "code",
   "execution_count": 34,
   "metadata": {},
   "outputs": [
    {
     "name": "stdout",
     "output_type": "stream",
     "text": [
      " message: Optimization terminated successfully\n",
      " success: True\n",
      "  status: 0\n",
      "     fun: -4.99936747704383\n",
      "       x: [ 6.278e+00]\n",
      "     nit: 6\n",
      "     jac: [-1.081e-02]\n",
      "    nfev: 16\n",
      "    njev: 6\n"
     ]
    }
   ],
   "source": [
    "# == Optimize begin ==\n",
    "\n",
    "Init_phi = 0 + 1e-1 + np.pi * 2 \n",
    "\n",
    "Seacrh_bound = np.array([0, np.pi * 4]).numpy()\n",
    "Constraints = sp.optimize.Bounds([Seacrh_bound[0]], [Seacrh_bound[1]])\n",
    "\n",
    "# SLSQP method to set constraints \n",
    "OPT_result = sp.optimize.minimize(CFI_ps, Init_phi, method = 'SLSQP', bounds = Constraints)\n",
    "\n",
    "print(OPT_result)"
   ]
  },
  {
   "cell_type": "code",
   "execution_count": 35,
   "metadata": {},
   "outputs": [
    {
     "name": "stdout",
     "output_type": "stream",
     "text": [
      "CFI_direct vs CFI_PS\n",
      "\n",
      "0.0    0.0\n",
      "2.618033967463875    2.618033967463875\n",
      "0.8812494984721811    0.8812494984721811\n",
      "0.38196601053601437    0.38196601053601437\n",
      "0.23445297726784584    0.23445297726784584\n",
      "1.499752414512435e-24    1.499752414512435e-24\n",
      "0.23445297726784609    0.23445297726784609\n",
      "0.38196601053601403    0.38196601053601403\n",
      "0.8812494984721808    0.8812494984721808\n",
      "2.6180339674638766    2.6180339674638766\n",
      "1.4997524073135885e-22    1.4997524073135885e-22\n"
     ]
    }
   ],
   "source": [
    "# == Check for the cost function ==\n",
    "temp_bound = np.linspace(0, np.pi * 2 , 11)\n",
    "\n",
    "data_1 = np.zeros(105)\n",
    "data_2 = np.zeros(105)\n",
    "\n",
    "Data = np.zeros((2, len(temp_bound)), requires_grad = 'False').numpy()\n",
    "\n",
    "\n",
    "print('CFI_direct vs CFI_PS\\n')\n",
    "for i in range(len(temp_bound)):\n",
    "    \n",
    "    Data[0][i], Data[1][i] = qml.qinfo.classical_fisher(Post_selection)(temp_bound[i]), -CFI_ps(temp_bound[i])\n",
    "    print(Data[0][i], '  ', Data[1][i])"
   ]
  },
  {
   "cell_type": "code",
   "execution_count": 36,
   "metadata": {},
   "outputs": [
    {
     "name": "stdout",
     "output_type": "stream",
     "text": [
      "== Optimization result ==\n",
      "\n",
      "Search bound: [ 0.0  ~  12.566370614359172 ]\n"
     ]
    },
    {
     "data": {
      "text/latex": [
       "Maximum CFI = [4.99936748] at $\\phi$ = 6.277611309203416"
      ],
      "text/plain": [
       "<IPython.core.display.Latex object>"
      ]
     },
     "metadata": {},
     "output_type": "display_data"
    }
   ],
   "source": [
    "# == MAX CFI after optimization ==\n",
    "print('== Optimization result ==\\n')\n",
    "print('Search bound: [', Seacrh_bound[0], ' ~ ', Seacrh_bound[1], ']')\n",
    "# print('Maximum CFI =', -CFI_ps(OPT_result.x[0])[0], ' at phi = [', OPT_result.x[0], ']')\n",
    "\n",
    "display(Latex( \"Maximum CFI = \" f\"{-CFI_ps(OPT_result.x[0])[0]}\" \" at $\\phi$ = \" f\"{OPT_result.x[0]}\"))"
   ]
  }
 ],
 "metadata": {
  "kernelspec": {
   "display_name": "Python 3",
   "language": "python",
   "name": "python3"
  },
  "language_info": {
   "codemirror_mode": {
    "name": "ipython",
    "version": 3
   },
   "file_extension": ".py",
   "mimetype": "text/x-python",
   "name": "python",
   "nbconvert_exporter": "python",
   "pygments_lexer": "ipython3",
   "version": "3.11.4"
  },
  "orig_nbformat": 4
 },
 "nbformat": 4,
 "nbformat_minor": 2
}
