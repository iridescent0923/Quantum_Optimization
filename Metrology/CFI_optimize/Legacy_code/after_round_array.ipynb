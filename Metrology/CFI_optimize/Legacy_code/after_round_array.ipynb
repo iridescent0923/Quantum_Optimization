{
 "cells": [
  {
   "cell_type": "code",
   "execution_count": 152,
   "metadata": {},
   "outputs": [],
   "source": [
    "import pennylane as qml\n",
    "from pennylane import numpy as np\n",
    "# import autograd.numpy as np\n",
    "\n",
    "import matplotlib.pyplot as plt\n",
    "\n",
    "\n",
    "# == Test for two coefficient calculation if it's diff? ==\n",
    "def With_norm(theta, gamma):\n",
    "    coeff = np.array([ ((1+np.exp(-1.j * theta))/2) * (np.sqrt(1-gamma)) , (1-np.exp(-1.j * theta))/2 ]) / (1-gamma * (np.cos(theta)**2) )\n",
    "    norm = np.linalg.norm(coeff)\n",
    "    \n",
    "    return coeff / norm\n",
    "    # return round_oper(coeff_result.numpy())\n",
    "\n",
    "def Without_norm(theta):\n",
    "    gamma = 0\n",
    "    coeff = np.array([ ((1+np.exp(-1.j * theta))/2) * (np.sqrt(1-gamma)) , (1-np.exp(-1.j * theta))/2 ]) / (1-gamma * (np.cos(theta)**2) )\n",
    "    norm = 1\n",
    "    \n",
    "    return coeff / norm\n",
    "    # return round_oper(coeff.numpy())"
   ]
  },
  {
   "cell_type": "code",
   "execution_count": 153,
   "metadata": {},
   "outputs": [],
   "source": [
    "# precision\n",
    "def round_oper(coeff_in, n):\n",
    "    coeff_round = np.zeros(2, dtype='complex_')\n",
    "    \n",
    "    for i in range(2):\n",
    "        coeff_round[i] = round(   qml.math.real(coeff_in[i])  , n) + round(   qml.math.imag(coeff_in[i])   , n) * 1j\n",
    "    \n",
    "    return coeff_round\n",
    "\n",
    "# precision\n",
    "def round_oper_1(coeff_in, n):\n",
    "    coeff_round = np.zeros(2, dtype='complex_')\n",
    "    \n",
    "    for i in range(2):\n",
    "        coeff_round[i] = round(   qml.math.real(coeff_in[i])  , n) + round(   qml.math.imag(coeff_in[i])   , n) * 1j\n",
    "    \n",
    "    return coeff_round"
   ]
  },
  {
   "cell_type": "code",
   "execution_count": 154,
   "metadata": {},
   "outputs": [
    {
     "data": {
      "text/plain": [
       "tensor([0.291927-0.454649j, 0.708073+0.454649j], requires_grad=True)"
      ]
     },
     "execution_count": 154,
     "metadata": {},
     "output_type": "execute_result"
    }
   ],
   "source": [
    "round_oper(With_norm(2.0,0).numpy(), 6)"
   ]
  },
  {
   "cell_type": "code",
   "execution_count": 155,
   "metadata": {},
   "outputs": [
    {
     "data": {
      "text/plain": [
       "tensor([0.5, 0.5], requires_grad=True)"
      ]
     },
     "execution_count": 155,
     "metadata": {},
     "output_type": "execute_result"
    }
   ],
   "source": [
    "# == Define new circuit for test ==\n",
    "dev_without = qml.device('default.qubit', wires = 1)\n",
    "@qml.qnode(dev_without)\n",
    "def circuit_without(theta):\n",
    "    qml.QubitStateVector(Without_norm(theta), wires=range(1))\n",
    "    # qml.QubitStateVector(Without_norm(theta), wires=range(1))\n",
    "\n",
    "    \n",
    "    return qml.probs()\n",
    "    # return qml.density_matrix(wires=0)\n",
    "\n",
    "\n",
    "dev_with_norm = qml.device('default.qubit', wires = 1)\n",
    "@qml.qnode(dev_with_norm)\n",
    "def circuit_with_norm(theta):\n",
    "    qml.QubitStateVector(round_oper(With_norm(theta,0).numpy(),6), wires=range(1))\n",
    "\n",
    "    \n",
    "    return qml.probs()\n",
    "    # return qml.density_matrix(wires=0)\n",
    "    \n",
    "circuit_without(np.pi/2)\n"
   ]
  },
  {
   "cell_type": "code",
   "execution_count": 156,
   "metadata": {},
   "outputs": [
    {
     "ename": "AttributeError",
     "evalue": "'ArrayBox' object has no attribute 'numpy'",
     "output_type": "error",
     "traceback": [
      "\u001b[0;31m---------------------------------------------------------------------------\u001b[0m",
      "\u001b[0;31mAttributeError\u001b[0m                            Traceback (most recent call last)",
      "Cell \u001b[0;32mIn[156], line 11\u001b[0m\n\u001b[1;32m      9\u001b[0m \u001b[39mfor\u001b[39;00m i \u001b[39min\u001b[39;00m \u001b[39mrange\u001b[39m(\u001b[39mlen\u001b[39m(tau_CFI)):\n\u001b[1;32m     10\u001b[0m     CFI_without[i] \u001b[39m=\u001b[39m qml\u001b[39m.\u001b[39mqinfo\u001b[39m.\u001b[39mclassical_fisher(circuit_without)(tau_CFI[i])\n\u001b[0;32m---> 11\u001b[0m     CFI_with[i] \u001b[39m=\u001b[39m qml\u001b[39m.\u001b[39;49mqinfo\u001b[39m.\u001b[39;49mclassical_fisher((circuit_with_norm))(tau_CFI[i])\n\u001b[1;32m     14\u001b[0m \u001b[39mprint\u001b[39m(\u001b[39m'\u001b[39m\u001b[39m== print out CFI ==\u001b[39m\u001b[39m'\u001b[39m)\n\u001b[1;32m     15\u001b[0m plt\u001b[39m.\u001b[39msubplot(\u001b[39m211\u001b[39m)\n",
      "File \u001b[0;32m/Library/Frameworks/Python.framework/Versions/3.11/lib/python3.11/site-packages/pennylane/qinfo/transforms.py:513\u001b[0m, in \u001b[0;36mclassical_fisher.<locals>.wrapper\u001b[0;34m(*args, **kwargs)\u001b[0m\n\u001b[1;32m    510\u001b[0m \u001b[39mif\u001b[39;00m interface \u001b[39m==\u001b[39m \u001b[39m\"\u001b[39m\u001b[39mtf\u001b[39m\u001b[39m\"\u001b[39m:\n\u001b[1;32m    511\u001b[0m     jac \u001b[39m=\u001b[39m _tf_jac(new_qnode)\n\u001b[0;32m--> 513\u001b[0m j \u001b[39m=\u001b[39m jac(\u001b[39m*\u001b[39;49margs, \u001b[39m*\u001b[39;49m\u001b[39m*\u001b[39;49mkwargs)\n\u001b[1;32m    514\u001b[0m p \u001b[39m=\u001b[39m new_qnode(\u001b[39m*\u001b[39margs, \u001b[39m*\u001b[39m\u001b[39m*\u001b[39mkwargs)\n\u001b[1;32m    516\u001b[0m \u001b[39mif\u001b[39;00m old_interface \u001b[39m==\u001b[39m \u001b[39m\"\u001b[39m\u001b[39mauto\u001b[39m\u001b[39m\"\u001b[39m:\n",
      "File \u001b[0;32m/Library/Frameworks/Python.framework/Versions/3.11/lib/python3.11/site-packages/pennylane/_grad.py:333\u001b[0m, in \u001b[0;36mjacobian.<locals>._jacobian_function\u001b[0;34m(*args, **kwargs)\u001b[0m\n\u001b[1;32m    327\u001b[0m     warnings\u001b[39m.\u001b[39mwarn(\n\u001b[1;32m    328\u001b[0m         \u001b[39m\"\u001b[39m\u001b[39mAttempted to differentiate a function with no trainable parameters. \u001b[39m\u001b[39m\"\u001b[39m\n\u001b[1;32m    329\u001b[0m         \u001b[39m\"\u001b[39m\u001b[39mIf this is unintended, please add trainable parameters via the \u001b[39m\u001b[39m\"\u001b[39m\n\u001b[1;32m    330\u001b[0m         \u001b[39m\"\u001b[39m\u001b[39m'\u001b[39m\u001b[39mrequires_grad\u001b[39m\u001b[39m'\u001b[39m\u001b[39m attribute or \u001b[39m\u001b[39m'\u001b[39m\u001b[39margnum\u001b[39m\u001b[39m'\u001b[39m\u001b[39m keyword.\u001b[39m\u001b[39m\"\u001b[39m\n\u001b[1;32m    331\u001b[0m     )\n\u001b[1;32m    332\u001b[0m \u001b[39mtry\u001b[39;00m:\n\u001b[0;32m--> 333\u001b[0m     jac \u001b[39m=\u001b[39m \u001b[39mtuple\u001b[39m(_jacobian(func, arg)(\u001b[39m*\u001b[39margs, \u001b[39m*\u001b[39m\u001b[39m*\u001b[39mkwargs) \u001b[39mfor\u001b[39;00m arg \u001b[39min\u001b[39;00m _argnum)\n\u001b[1;32m    334\u001b[0m \u001b[39mexcept\u001b[39;00m \u001b[39mTypeError\u001b[39;00m \u001b[39mas\u001b[39;00m e:\n\u001b[1;32m    335\u001b[0m     \u001b[39mif\u001b[39;00m active_return():\n",
      "File \u001b[0;32m/Library/Frameworks/Python.framework/Versions/3.11/lib/python3.11/site-packages/pennylane/_grad.py:333\u001b[0m, in \u001b[0;36m<genexpr>\u001b[0;34m(.0)\u001b[0m\n\u001b[1;32m    327\u001b[0m     warnings\u001b[39m.\u001b[39mwarn(\n\u001b[1;32m    328\u001b[0m         \u001b[39m\"\u001b[39m\u001b[39mAttempted to differentiate a function with no trainable parameters. \u001b[39m\u001b[39m\"\u001b[39m\n\u001b[1;32m    329\u001b[0m         \u001b[39m\"\u001b[39m\u001b[39mIf this is unintended, please add trainable parameters via the \u001b[39m\u001b[39m\"\u001b[39m\n\u001b[1;32m    330\u001b[0m         \u001b[39m\"\u001b[39m\u001b[39m'\u001b[39m\u001b[39mrequires_grad\u001b[39m\u001b[39m'\u001b[39m\u001b[39m attribute or \u001b[39m\u001b[39m'\u001b[39m\u001b[39margnum\u001b[39m\u001b[39m'\u001b[39m\u001b[39m keyword.\u001b[39m\u001b[39m\"\u001b[39m\n\u001b[1;32m    331\u001b[0m     )\n\u001b[1;32m    332\u001b[0m \u001b[39mtry\u001b[39;00m:\n\u001b[0;32m--> 333\u001b[0m     jac \u001b[39m=\u001b[39m \u001b[39mtuple\u001b[39m(_jacobian(func, arg)(\u001b[39m*\u001b[39;49margs, \u001b[39m*\u001b[39;49m\u001b[39m*\u001b[39;49mkwargs) \u001b[39mfor\u001b[39;00m arg \u001b[39min\u001b[39;00m _argnum)\n\u001b[1;32m    334\u001b[0m \u001b[39mexcept\u001b[39;00m \u001b[39mTypeError\u001b[39;00m \u001b[39mas\u001b[39;00m e:\n\u001b[1;32m    335\u001b[0m     \u001b[39mif\u001b[39;00m active_return():\n",
      "File \u001b[0;32m/Library/Frameworks/Python.framework/Versions/3.11/lib/python3.11/site-packages/autograd/wrap_util.py:20\u001b[0m, in \u001b[0;36munary_to_nary.<locals>.nary_operator.<locals>.nary_f\u001b[0;34m(*args, **kwargs)\u001b[0m\n\u001b[1;32m     18\u001b[0m \u001b[39melse\u001b[39;00m:\n\u001b[1;32m     19\u001b[0m     x \u001b[39m=\u001b[39m \u001b[39mtuple\u001b[39m(args[i] \u001b[39mfor\u001b[39;00m i \u001b[39min\u001b[39;00m argnum)\n\u001b[0;32m---> 20\u001b[0m \u001b[39mreturn\u001b[39;00m unary_operator(unary_f, x, \u001b[39m*\u001b[39;49mnary_op_args, \u001b[39m*\u001b[39;49m\u001b[39m*\u001b[39;49mnary_op_kwargs)\n",
      "File \u001b[0;32m/Library/Frameworks/Python.framework/Versions/3.11/lib/python3.11/site-packages/autograd/differential_operators.py:60\u001b[0m, in \u001b[0;36mjacobian\u001b[0;34m(fun, x)\u001b[0m\n\u001b[1;32m     50\u001b[0m \u001b[39m@unary_to_nary\u001b[39m\n\u001b[1;32m     51\u001b[0m \u001b[39mdef\u001b[39;00m \u001b[39mjacobian\u001b[39m(fun, x):\n\u001b[1;32m     52\u001b[0m \u001b[39m    \u001b[39m\u001b[39m\"\"\"\u001b[39;00m\n\u001b[1;32m     53\u001b[0m \u001b[39m    Returns a function which computes the Jacobian of `fun` with respect to\u001b[39;00m\n\u001b[1;32m     54\u001b[0m \u001b[39m    positional argument number `argnum`, which must be a scalar or array. Unlike\u001b[39;00m\n\u001b[0;32m   (...)\u001b[0m\n\u001b[1;32m     58\u001b[0m \u001b[39m    (out1, out2, ...) then the Jacobian has shape (out1, out2, ..., in1, in2, ...).\u001b[39;00m\n\u001b[1;32m     59\u001b[0m \u001b[39m    \"\"\"\u001b[39;00m\n\u001b[0;32m---> 60\u001b[0m     vjp, ans \u001b[39m=\u001b[39m _make_vjp(fun, x)\n\u001b[1;32m     61\u001b[0m     ans_vspace \u001b[39m=\u001b[39m vspace(ans)\n\u001b[1;32m     62\u001b[0m     jacobian_shape \u001b[39m=\u001b[39m ans_vspace\u001b[39m.\u001b[39mshape \u001b[39m+\u001b[39m vspace(x)\u001b[39m.\u001b[39mshape\n",
      "File \u001b[0;32m/Library/Frameworks/Python.framework/Versions/3.11/lib/python3.11/site-packages/autograd/core.py:10\u001b[0m, in \u001b[0;36mmake_vjp\u001b[0;34m(fun, x)\u001b[0m\n\u001b[1;32m      8\u001b[0m \u001b[39mdef\u001b[39;00m \u001b[39mmake_vjp\u001b[39m(fun, x):\n\u001b[1;32m      9\u001b[0m     start_node \u001b[39m=\u001b[39m VJPNode\u001b[39m.\u001b[39mnew_root()\n\u001b[0;32m---> 10\u001b[0m     end_value, end_node \u001b[39m=\u001b[39m  trace(start_node, fun, x)\n\u001b[1;32m     11\u001b[0m     \u001b[39mif\u001b[39;00m end_node \u001b[39mis\u001b[39;00m \u001b[39mNone\u001b[39;00m:\n\u001b[1;32m     12\u001b[0m         \u001b[39mdef\u001b[39;00m \u001b[39mvjp\u001b[39m(g): \u001b[39mreturn\u001b[39;00m vspace(x)\u001b[39m.\u001b[39mzeros()\n",
      "File \u001b[0;32m/Library/Frameworks/Python.framework/Versions/3.11/lib/python3.11/site-packages/autograd/tracer.py:10\u001b[0m, in \u001b[0;36mtrace\u001b[0;34m(start_node, fun, x)\u001b[0m\n\u001b[1;32m      8\u001b[0m \u001b[39mwith\u001b[39;00m trace_stack\u001b[39m.\u001b[39mnew_trace() \u001b[39mas\u001b[39;00m t:\n\u001b[1;32m      9\u001b[0m     start_box \u001b[39m=\u001b[39m new_box(x, t, start_node)\n\u001b[0;32m---> 10\u001b[0m     end_box \u001b[39m=\u001b[39m fun(start_box)\n\u001b[1;32m     11\u001b[0m     \u001b[39mif\u001b[39;00m isbox(end_box) \u001b[39mand\u001b[39;00m end_box\u001b[39m.\u001b[39m_trace \u001b[39m==\u001b[39m start_box\u001b[39m.\u001b[39m_trace:\n\u001b[1;32m     12\u001b[0m         \u001b[39mreturn\u001b[39;00m end_box\u001b[39m.\u001b[39m_value, end_box\u001b[39m.\u001b[39m_node\n",
      "File \u001b[0;32m/Library/Frameworks/Python.framework/Versions/3.11/lib/python3.11/site-packages/autograd/wrap_util.py:15\u001b[0m, in \u001b[0;36munary_to_nary.<locals>.nary_operator.<locals>.nary_f.<locals>.unary_f\u001b[0;34m(x)\u001b[0m\n\u001b[1;32m     13\u001b[0m \u001b[39melse\u001b[39;00m:\n\u001b[1;32m     14\u001b[0m     subargs \u001b[39m=\u001b[39m subvals(args, \u001b[39mzip\u001b[39m(argnum, x))\n\u001b[0;32m---> 15\u001b[0m \u001b[39mreturn\u001b[39;00m fun(\u001b[39m*\u001b[39;49msubargs, \u001b[39m*\u001b[39;49m\u001b[39m*\u001b[39;49mkwargs)\n",
      "File \u001b[0;32m/Library/Frameworks/Python.framework/Versions/3.11/lib/python3.11/site-packages/pennylane/transforms/batch_transform.py:302\u001b[0m, in \u001b[0;36mbatch_transform.default_qnode_wrapper.<locals>._wrapper\u001b[0;34m(*args, **kwargs)\u001b[0m\n\u001b[1;32m    299\u001b[0m \u001b[39mif\u001b[39;00m old_interface \u001b[39m==\u001b[39m \u001b[39m\"\u001b[39m\u001b[39mauto\u001b[39m\u001b[39m\"\u001b[39m:\n\u001b[1;32m    300\u001b[0m     qnode\u001b[39m.\u001b[39minterface \u001b[39m=\u001b[39m qml\u001b[39m.\u001b[39mmath\u001b[39m.\u001b[39mget_interface(\u001b[39m*\u001b[39margs, \u001b[39m*\u001b[39m\u001b[39mlist\u001b[39m(kwargs\u001b[39m.\u001b[39mvalues()))\n\u001b[0;32m--> 302\u001b[0m qnode\u001b[39m.\u001b[39;49mconstruct(args, kwargs)\n\u001b[1;32m    303\u001b[0m tapes, processing_fn \u001b[39m=\u001b[39m \u001b[39mself\u001b[39m\u001b[39m.\u001b[39mconstruct(qnode\u001b[39m.\u001b[39mqtape, \u001b[39m*\u001b[39mtargs, \u001b[39m*\u001b[39m\u001b[39m*\u001b[39mtkwargs)\n\u001b[1;32m    305\u001b[0m interface \u001b[39m=\u001b[39m qnode\u001b[39m.\u001b[39minterface\n",
      "File \u001b[0;32m/Library/Frameworks/Python.framework/Versions/3.11/lib/python3.11/site-packages/pennylane/qnode.py:827\u001b[0m, in \u001b[0;36mQNode.construct\u001b[0;34m(self, args, kwargs)\u001b[0m\n\u001b[1;32m    824\u001b[0m \u001b[39mif\u001b[39;00m old_interface \u001b[39m==\u001b[39m \u001b[39m\"\u001b[39m\u001b[39mauto\u001b[39m\u001b[39m\"\u001b[39m:\n\u001b[1;32m    825\u001b[0m     \u001b[39mself\u001b[39m\u001b[39m.\u001b[39minterface \u001b[39m=\u001b[39m qml\u001b[39m.\u001b[39mmath\u001b[39m.\u001b[39mget_interface(\u001b[39m*\u001b[39margs, \u001b[39m*\u001b[39m\u001b[39mlist\u001b[39m(kwargs\u001b[39m.\u001b[39mvalues()))\n\u001b[0;32m--> 827\u001b[0m \u001b[39mself\u001b[39m\u001b[39m.\u001b[39m_tape \u001b[39m=\u001b[39m make_qscript(\u001b[39mself\u001b[39;49m\u001b[39m.\u001b[39;49mfunc, shots)(\u001b[39m*\u001b[39;49margs, \u001b[39m*\u001b[39;49m\u001b[39m*\u001b[39;49mkwargs)\n\u001b[1;32m    828\u001b[0m \u001b[39mself\u001b[39m\u001b[39m.\u001b[39m_qfunc_output \u001b[39m=\u001b[39m \u001b[39mself\u001b[39m\u001b[39m.\u001b[39mtape\u001b[39m.\u001b[39m_qfunc_output\n\u001b[1;32m    830\u001b[0m params \u001b[39m=\u001b[39m \u001b[39mself\u001b[39m\u001b[39m.\u001b[39mtape\u001b[39m.\u001b[39mget_parameters(trainable_only\u001b[39m=\u001b[39m\u001b[39mFalse\u001b[39;00m)\n",
      "File \u001b[0;32m/Library/Frameworks/Python.framework/Versions/3.11/lib/python3.11/site-packages/pennylane/tape/qscript.py:1482\u001b[0m, in \u001b[0;36mmake_qscript.<locals>.wrapper\u001b[0;34m(*args, **kwargs)\u001b[0m\n\u001b[1;32m   1480\u001b[0m \u001b[39mdef\u001b[39;00m \u001b[39mwrapper\u001b[39m(\u001b[39m*\u001b[39margs, \u001b[39m*\u001b[39m\u001b[39m*\u001b[39mkwargs):\n\u001b[1;32m   1481\u001b[0m     \u001b[39mwith\u001b[39;00m AnnotatedQueue() \u001b[39mas\u001b[39;00m q:\n\u001b[0;32m-> 1482\u001b[0m         result \u001b[39m=\u001b[39m fn(\u001b[39m*\u001b[39;49margs, \u001b[39m*\u001b[39;49m\u001b[39m*\u001b[39;49mkwargs)\n\u001b[1;32m   1484\u001b[0m     qscript \u001b[39m=\u001b[39m QuantumScript\u001b[39m.\u001b[39mfrom_queue(q, shots)\n\u001b[1;32m   1485\u001b[0m     qscript\u001b[39m.\u001b[39m_qfunc_output \u001b[39m=\u001b[39m result\n",
      "Cell \u001b[0;32mIn[155], line 16\u001b[0m, in \u001b[0;36mcircuit_with_norm\u001b[0;34m(theta)\u001b[0m\n\u001b[1;32m     14\u001b[0m \u001b[39m@qml\u001b[39m\u001b[39m.\u001b[39mqnode(dev_with_norm)\n\u001b[1;32m     15\u001b[0m \u001b[39mdef\u001b[39;00m \u001b[39mcircuit_with_norm\u001b[39m(theta):\n\u001b[0;32m---> 16\u001b[0m     qml\u001b[39m.\u001b[39mQubitStateVector(round_oper(With_norm(theta,\u001b[39m0\u001b[39;49m)\u001b[39m.\u001b[39;49mnumpy(),\u001b[39m6\u001b[39m), wires\u001b[39m=\u001b[39m\u001b[39mrange\u001b[39m(\u001b[39m1\u001b[39m))\n\u001b[1;32m     19\u001b[0m     \u001b[39mreturn\u001b[39;00m qml\u001b[39m.\u001b[39mprobs()\n",
      "\u001b[0;31mAttributeError\u001b[0m: 'ArrayBox' object has no attribute 'numpy'"
     ]
    }
   ],
   "source": [
    "# == Compare with CFI plot ==\n",
    "\n",
    "N = 1000\n",
    "tau_CFI = np.linspace(-0.001, 3.0, N)\n",
    "\n",
    "CFI_without = np.zeros(N)\n",
    "CFI_with = np.zeros(N)\n",
    "\n",
    "for i in range(len(tau_CFI)):\n",
    "    CFI_without[i] = qml.qinfo.classical_fisher(circuit_without)(tau_CFI[i])\n",
    "    CFI_with[i] = qml.qinfo.classical_fisher((circuit_with_norm))(tau_CFI[i])\n",
    "\n",
    "\n",
    "print('== print out CFI ==')\n",
    "plt.subplot(211)\n",
    "plt.plot(tau_CFI, CFI_without)\n",
    "plt.title('Without normalized')\n",
    "plt.xlabel('Time')\n",
    "plt.ylabel('Probability_0_state')\n",
    "plt.grid()\n",
    "\n",
    "\n",
    "plt.subplot(212)\n",
    "plt.plot(tau_CFI, CFI_with)\n",
    "plt.title('With normalized')\n",
    "plt.xlabel('Time')\n",
    "plt.ylabel('Probability_0_state')\n",
    "# plt.legend()\n",
    "plt.grid()"
   ]
  }
 ],
 "metadata": {
  "kernelspec": {
   "display_name": "Python 3",
   "language": "python",
   "name": "python3"
  },
  "language_info": {
   "codemirror_mode": {
    "name": "ipython",
    "version": 3
   },
   "file_extension": ".py",
   "mimetype": "text/x-python",
   "name": "python",
   "nbconvert_exporter": "python",
   "pygments_lexer": "ipython3",
   "version": "3.11.4"
  },
  "orig_nbformat": 4
 },
 "nbformat": 4,
 "nbformat_minor": 2
}
