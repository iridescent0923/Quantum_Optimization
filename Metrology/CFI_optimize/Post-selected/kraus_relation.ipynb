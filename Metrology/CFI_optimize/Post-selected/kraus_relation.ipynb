{
 "cells": [
  {
   "cell_type": "code",
   "execution_count": 2,
   "metadata": {},
   "outputs": [
    {
     "data": {
      "text/plain": [
       "array([[ True,  True],\n",
       "       [ True,  True]])"
      ]
     },
     "execution_count": 2,
     "metadata": {},
     "output_type": "execute_result"
    }
   ],
   "source": [
    "import numpy as np\n",
    "\n",
    "# kraus operator \n",
    "gamma = 0.3\n",
    "\n",
    "E0 = np.array([ [1, 0], [0, np.sqrt(1-gamma)] ])\n",
    "E1 = np.array([ [0, 0], [0, np.sqrt(gamma)] ])\n",
    "\n",
    "res= E0.conj().T @ E0 + E1.conj().T @ E1\n",
    "\n",
    "res == np.eye(2)"
   ]
  },
  {
   "cell_type": "code",
   "execution_count": 3,
   "metadata": {},
   "outputs": [
    {
     "data": {
      "text/plain": [
       "1.0"
      ]
     },
     "execution_count": 3,
     "metadata": {},
     "output_type": "execute_result"
    }
   ],
   "source": [
    "np.log(np.e)"
   ]
  },
  {
   "cell_type": "code",
   "execution_count": 4,
   "metadata": {},
   "outputs": [
    {
     "name": "stdout",
     "output_type": "stream",
     "text": [
      "gamma: 0.3 phi: 3.141592653589793 \n",
      " (0.8366600265340756-0j)\n"
     ]
    }
   ],
   "source": [
    "# Time_evo coeff\n",
    "phi = np.pi\n",
    "\n",
    "# rho after hada -> time_evo\n",
    "rho = np.array([ [1, np.exp(1.j * phi)], [np.exp(-1.j * phi), 1] ]) /2 \n",
    "\n",
    "# After kraus                                                                 \n",
    "rho_alt = E0 @ rho @ E0.conj().T + E1 @ rho @ E1.conj().T\n",
    "\n",
    "rho_01 = (2*rho_alt[1][0]) / np.exp(-1.j * phi)\n",
    "print('gamma:', gamma, 'phi:',phi ,'\\n', rho_01)"
   ]
  },
  {
   "cell_type": "code",
   "execution_count": 5,
   "metadata": {},
   "outputs": [
    {
     "data": {
      "text/plain": [
       "(0.8366600265340756-0j)"
      ]
     },
     "execution_count": 5,
     "metadata": {},
     "output_type": "execute_result"
    }
   ],
   "source": [
    "# t = np.log10(1 / np.sqrt(1 - gamma))\n",
    "t = -np.log( np.sqrt(1 - gamma))\n",
    "rho_intended = np.array( [ [1, np.exp(1.j*phi -t)], [np.exp(-1.j * phi -t), 1] ]) / 2\n",
    "\n",
    "(2*rho_intended[0][1]) / np.exp(1.j * phi)"
   ]
  },
  {
   "cell_type": "code",
   "execution_count": null,
   "metadata": {},
   "outputs": [],
   "source": []
  }
 ],
 "metadata": {
  "kernelspec": {
   "display_name": "Python 3",
   "language": "python",
   "name": "python3"
  },
  "language_info": {
   "codemirror_mode": {
    "name": "ipython",
    "version": 3
   },
   "file_extension": ".py",
   "mimetype": "text/x-python",
   "name": "python",
   "nbconvert_exporter": "python",
   "pygments_lexer": "ipython3",
   "version": "3.11.4"
  },
  "orig_nbformat": 4
 },
 "nbformat": 4,
 "nbformat_minor": 2
}
