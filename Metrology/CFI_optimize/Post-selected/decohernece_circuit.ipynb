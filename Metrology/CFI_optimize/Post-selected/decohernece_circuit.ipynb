{
 "cells": [
  {
   "cell_type": "code",
   "execution_count": 214,
   "metadata": {},
   "outputs": [],
   "source": [
    "import pennylane as qml\n",
    "import scipy as sp\n",
    "from pennylane import numpy as np\n",
    "\n",
    "# == Hamiltonain setup == \n",
    "Coeff_ham = [1]\n",
    "Obs = [qml.PauliZ(0)]\n",
    "Hamiltonian = qml.Hamiltonian(Coeff_ham, Obs)\n",
    "\n",
    "dev = qml.device(\"default.mixed\", wires = 1)\n",
    "\n",
    "# == Damping setup == \n",
    "t = 1 \n",
    "\n",
    "gamma = 0.5\n",
    "@qml.qnode(dev)\n",
    "def Decoherence_circuit(phi):\n",
    "    qml.Hadamard(wires=0)\n",
    "    \n",
    "    qml.ApproxTimeEvolution(Hamiltonian, -phi/2, 1)\n",
    "    \n",
    "    qml.PhaseDamping(gamma, wires = 0)\n",
    "    \n",
    "    return qml.density_matrix(wires = 0)"
   ]
  },
  {
   "cell_type": "code",
   "execution_count": 215,
   "metadata": {},
   "outputs": [
    {
     "name": "stdout",
     "output_type": "stream",
     "text": [
      "gamma: 0.3 phi: 3.141592653589793 \n",
      " (0.8366600265340812-1.232595164407831e-32j)\n",
      "\n",
      "gamma: 0.3 phi: 3.141592653589793 \n",
      " (0.8366600265340812+1.232595164407831e-32j)\n"
     ]
    }
   ],
   "source": [
    "gamma = 0.3\n",
    "phi = np.pi\n",
    "res_01 = (2 * Decoherence_circuit(np.pi)[0][1]) / np.exp(1.j * phi)\n",
    "res_10 = (2 * Decoherence_circuit(np.pi)[1][0]) / np.exp(-1.j * phi)\n",
    "\n",
    "print('gamma:', gamma, 'phi:',phi   ,'\\n', res_01)\n",
    "print()\n",
    "print('gamma:', gamma, 'phi:',phi ,'\\n', res_10)"
   ]
  },
  {
   "cell_type": "code",
   "execution_count": 216,
   "metadata": {},
   "outputs": [
    {
     "name": "stdout",
     "output_type": "stream",
     "text": [
      "0.8366600265340814\n",
      "0.8607079764250578\n"
     ]
    }
   ],
   "source": [
    "gamma = 0.3\n",
    "U = qml.PhaseDamping(gamma, wires = 0)\n",
    "\n",
    "dephase = np.exp(-gamma/2)\n",
    "\n",
    "print(U.kraus_matrices()[0][1][1])\n",
    "# print(U.kraus_matrices())\n",
    "print(dephase)"
   ]
  },
  {
   "cell_type": "code",
   "execution_count": 217,
   "metadata": {},
   "outputs": [
    {
     "data": {
      "text/plain": [
       "(0.35355339059327534+0.3535533905932754j)"
      ]
     },
     "execution_count": 217,
     "metadata": {},
     "output_type": "execute_result"
    }
   ],
   "source": [
    "phi = np.pi / 4\n",
    "t = 1\n",
    "gamma = 0\n",
    "\n",
    "Decoherence_circuit(phi)[0][1]"
   ]
  },
  {
   "cell_type": "code",
   "execution_count": 218,
   "metadata": {},
   "outputs": [
    {
     "data": {
      "text/plain": [
       "(0.13006502375572224+0.1300650237557222j)"
      ]
     },
     "execution_count": 218,
     "metadata": {},
     "output_type": "execute_result"
    }
   ],
   "source": [
    "def Density_compare(phi):\n",
    "    mem = np.exp(1.j * phi - t) / 2\n",
    "    return mem\n",
    "\n",
    "Density_compare(phi)    "
   ]
  }
 ],
 "metadata": {
  "kernelspec": {
   "display_name": "Python 3",
   "language": "python",
   "name": "python3"
  },
  "language_info": {
   "codemirror_mode": {
    "name": "ipython",
    "version": 3
   },
   "file_extension": ".py",
   "mimetype": "text/x-python",
   "name": "python",
   "nbconvert_exporter": "python",
   "pygments_lexer": "ipython3",
   "version": "3.11.4"
  },
  "orig_nbformat": 4
 },
 "nbformat": 4,
 "nbformat_minor": 2
}
