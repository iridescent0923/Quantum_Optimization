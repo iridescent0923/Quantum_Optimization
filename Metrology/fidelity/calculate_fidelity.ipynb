{
 "cells": [
  {
   "cell_type": "code",
   "execution_count": 1,
   "metadata": {},
   "outputs": [
    {
     "name": "stdout",
     "output_type": "stream",
     "text": [
      "density_matrix of (|0> + |1>)/sqrt(2) cross (|0> + |1>)/sqrt(2): \n",
      " [[0.25 0.25 0.25 0.25]\n",
      " [0.25 0.25 0.25 0.25]\n",
      " [0.25 0.25 0.25 0.25]\n",
      " [0.25 0.25 0.25 0.25]] \n",
      "\n",
      "Hamiltonian:\n",
      "   (1) [Y0]\n",
      "+ (1) [Y1] \n",
      "\n",
      "circuit_density_matrix_init:\n",
      " [[0.25+0.00000000e+00j 0.25-3.92523115e-17j 0.25-3.92523115e-17j 0.25-7.85046229e-17j]\n",
      " [0.25+3.92523115e-17j 0.25+0.00000000e+00j 0.25+0.00000000e+00j 0.25-3.92523115e-17j]\n",
      " [0.25+3.92523115e-17j 0.25+0.00000000e+00j 0.25+0.00000000e+00j 0.25-3.92523115e-17j]\n",
      " [0.25+7.85046229e-17j 0.25+3.92523115e-17j 0.25+3.92523115e-17j 0.25+0.00000000e+00j]]\n",
      "\n",
      "fidelity: 1.0000000099871134\n"
     ]
    },
    {
     "name": "stderr",
     "output_type": "stream",
     "text": [
      "/Library/Frameworks/Python.framework/Versions/3.11/lib/python3.11/site-packages/pennylane/math/quantum.py:46: UserWarning: Argument passed to fidelity has shape (4, 4) and will be interpreted as a density matrix. If a batched state vector was intended, please call qml.math.dm_from_state_vector first, as passing state vectors to fidelity is deprecated.\n",
      "  warnings.warn(\n"
     ]
    },
    {
     "data": {
      "image/png": "[encoded data removed]",
      "text/plain": [
       "<Figure size 400x300 with 1 Axes>"
      ]
     },
     "metadata": {},
     "output_type": "display_data"
    }
   ],
   "source": [
    "import matplotlib.pyplot as plt\n",
    "import pennylane as qml\n",
    "import scipy as sp\n",
    "\n",
    "from pennylane import numpy as np\n",
    "from IPython.display import display, Math\n",
    "\n",
    "np.set_printoptions(threshold=np.inf, linewidth=np.inf)\n",
    "np.set_printoptions()\n",
    "\n",
    "dev = qml.device('default.qubit', wires= 2)\n",
    "\n",
    "pauli_y = np.array([ [0, -1.j], [1.j, 0]])\n",
    "\n",
    "# Calculate density matrix of rho_tot\n",
    "# state = (00 + 01 + 10 + 11)/2\n",
    "state_tot = np.kron( (np.array([[1], [0]]) + np.array([[0], [1]]))/np.sqrt(2) , (np.array([[1], [0]]) + np.array([[0], [1]]))/np.sqrt(2) )\n",
    "rho_tot = state_tot @ state_tot.conj().T\n",
    "\n",
    "print('density_matrix of (|0> + |1>)/sqrt(2) cross (|0> + |1>)/sqrt(2): \\n', rho_tot,'\\n')\n",
    "\n",
    "\n",
    "\n",
    "# Hamiltonian setup\n",
    "coeffs = [1, 1]\n",
    "# obs = [qml.PauliZ(0) @ qml.PauliZ(1)]\n",
    "# obs = [qml.PauliX(0) , qml.PauliX(1)]\n",
    "obs = [qml.PauliY(0) , qml.PauliY(1)]\n",
    "\n",
    "hamiltonian = qml.Hamiltonian(coeffs, obs)\n",
    "print('Hamiltonian:\\n', hamiltonian,'\\n')\n",
    "\n",
    "\n",
    "# Quantum circuit\n",
    "@qml.qnode(dev)\n",
    "def circuit(theta_1, theta_2, tau):\n",
    "    \n",
    "\t# \"\"\"\n",
    "\t# qml.RX(theta_1,  wires = 0)    \n",
    "\t# qml.RX(theta_1, wires = 1)    \n",
    "\t# qml.RX(np.pi/2, wires = 0)    \n",
    "\t# qml.RX(np.pi/2, wires = 1)    \n",
    "\t\n",
    "\tqml.ApproxTimeEvolution(hamiltonian, tau, 1)\n",
    " \n",
    "\t\n",
    "\t# qml.RX(theta_2, wires = 0)    \n",
    "\t# qml.RX(theta_2, wires = 1) \n",
    " \n",
    "\t# qml.RY(np.pi/2, wires = 0)    \n",
    "\t# qml.RY(np.pi/2, wires = 1)\n",
    "\t\n",
    "\t# \"\"\"\n",
    " \n",
    "\t\"\"\"\n",
    "\tqml.Hadamard(wires=0) \n",
    "\tqml.CNOT(wires=[0,1])\n",
    " \t\"\"\"\n",
    "\t\n",
    "\n",
    "\t# return qml.state()\n",
    "\treturn qml.density_matrix(wires=[0, 1])\n",
    "\n",
    "\n",
    "# Calculate concurrence\n",
    "def concurrence_calculation(paras):\n",
    "\n",
    "\ttheta_1, theta_2, tau = paras\n",
    " \n",
    "\t# density matrix casting to numpy\n",
    "\trho = circuit(theta_1, theta_2, tau).numpy()\n",
    " \n",
    "\trho_tensor = rho.reshape([2,2,2,2])\n",
    "\trho_reduced = np.trace(rho_tensor, axis1 = 0, axis2 = 2)\n",
    " \n",
    "\tconcurrence = np.sqrt(2*(1-np.trace(rho_reduced**2)))\n",
    "\n",
    "\t# 1-concurrence = minimum => concurrence = max!!\n",
    "\treturn 1 - concurrence\n",
    "\n",
    "\n",
    "def fidelity_calculation(rho_1, rho_2):\n",
    "\n",
    "    # fidelity = np.trace(rho_1 @ rho_2)\n",
    "    # fidelity = np.linalg.norm(( sp.linalg.sqrtm(rho_1) @ sp.linalg.sqrtm(rho_2) ) ,2) **2\n",
    "    # fidelity = np.trace( np.absolute( sp.linalg.sqrtm(rho_1) @ sp.linalg.sqrtm(rho_2) ))**2\n",
    "    \n",
    "    fidelity = (np.trace(sp.linalg.sqrtm( sp.linalg.sqrtm(rho_1) @ rho_2 @ sp.linalg.sqrtm(rho_1))))**2\n",
    "    \n",
    "    return fidelity.real\n",
    "\n",
    "# theta_1 ,theta_2, tau\n",
    "print('circuit_density_matrix_init:\\n',circuit(0,0,np.pi/4))\n",
    "\n",
    "print('\\nfidelity:', qml.math.fidelity(rho_tot, circuit(0,0,np.pi/4)))\n",
    "fig, ax = qml.draw_mpl(circuit)(0,0,1)"
   ]
  },
  {
   "cell_type": "code",
   "execution_count": 2,
   "metadata": {},
   "outputs": [
    {
     "name": "stdout",
     "output_type": "stream",
     "text": [
      "Concurrence before optimization:  (0.9092974268256816-0j) \n",
      "\n",
      "fidelity before optimize:  0.9113541867025495\n"
     ]
    },
    {
     "name": "stderr",
     "output_type": "stream",
     "text": [
      "/Library/Frameworks/Python.framework/Versions/3.11/lib/python3.11/site-packages/pennylane/math/quantum.py:46: UserWarning: Argument passed to fidelity has shape (4, 4) and will be interpreted as a density matrix. If a batched state vector was intended, please call qml.math.dm_from_state_vector first, as passing state vectors to fidelity is deprecated.\n",
      "  warnings.warn(\n"
     ]
    }
   ],
   "source": [
    "# Calculate the bell state density \n",
    "\n",
    "# == Test before optimize(concurrence) ==\n",
    "# theta_1, theta_2, tau\n",
    "test = 1,1,1\n",
    "print('Concurrence before optimization: ', -1*(concurrence_calculation(test)-1) ,'\\n')\n",
    "\n",
    "# fidelity_calculation(rho_tot, rho_before)\n",
    "rho_before = circuit(1,1,1)\n",
    "print('fidelity before optimize: ',qml.math.fidelity(rho_tot, rho_before))"
   ]
  },
  {
   "attachments": {
    "image.png": {
     "image/png": "[encoded data removed]"
    }
   },
   "cell_type": "markdown",
   "metadata": {},
   "source": [
    "![image.png](attachment:image.png)"
   ]
  },
  {
   "cell_type": "code",
   "execution_count": 3,
   "metadata": {},
   "outputs": [
    {
     "name": "stdout",
     "output_type": "stream",
     "text": [
      "concurrence_after_optimize(max):  (0.9999997531058307-0j) \n",
      "\n",
      "optimized parameters: 1.0 1.0 0.7857495137780474 \n",
      "\n",
      "fidelity_after_optimzed: 0.9999997671557539\n"
     ]
    },
    {
     "name": "stderr",
     "output_type": "stream",
     "text": [
      "/Library/Frameworks/Python.framework/Versions/3.11/lib/python3.11/site-packages/scipy/optimize/_numdiff.py:598: ComplexWarning: Casting complex values to real discards the imaginary part\n",
      "  J_transposed[i] = df / dx\n",
      "/Library/Frameworks/Python.framework/Versions/3.11/lib/python3.11/site-packages/scipy/optimize/_slsqp_py.py:422: ComplexWarning: Casting complex values to real discards the imaginary part\n",
      "  slsqp(m, meq, x, xl, xu, fx, c, g, a, acc, majiter, mode, w, jw,\n"
     ]
    }
   ],
   "source": [
    "#== Optimze begin ==\n",
    "\n",
    "Init_parameters = 1,1,1\n",
    "result = sp.optimize.minimize(concurrence_calculation, Init_parameters, method='SLSQP')\n",
    "# BFGS\n",
    "\n",
    "# 1-concurrence = x => concurrence = -(x-1)\n",
    "# -1 * concurrence = x  => concurrence = -1 * (x)\n",
    "print('concurrence_after_optimize(max): ', -1 * (concurrence_calculation(result.x)-1) ,'\\n')\n",
    "\n",
    "\n",
    "# density matrix after optimze the circuit\n",
    "rho_after_optimized = circuit(result.x[0], result.x[1],result.x[2]).numpy()\n",
    "\n",
    "# print out parameters\n",
    "print('optimized parameters:', result.x[0],result.x[1],result.x[2],'\\n')\n",
    "\n",
    "# print fidelity of optimized circuit\n",
    "print('fidelity_after_optimzed:',qml.math.fidelity(rho_after_optimized, rho_tot))\n",
    "\n"
   ]
  }
 ],
 "metadata": {
  "kernelspec": {
   "display_name": "Python 3",
   "language": "python",
   "name": "python3"
  },
  "language_info": {
   "codemirror_mode": {
    "name": "ipython",
    "version": 3
   },
   "file_extension": ".py",
   "mimetype": "text/x-python",
   "name": "python",
   "nbconvert_exporter": "python",
   "pygments_lexer": "ipython3",
   "version": "3.11.4"
  },
  "orig_nbformat": 4
 },
 "nbformat": 4,
 "nbformat_minor": 2
}
