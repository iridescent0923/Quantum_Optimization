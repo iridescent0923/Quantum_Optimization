{
 "cells": [
  {
   "cell_type": "code",
   "execution_count": 199,
   "metadata": {},
   "outputs": [],
   "source": [
    "# ==============================\n",
    "# Standard Library Imports\n",
    "# ==============================\n",
    "from enum import Enum\n",
    "import random\n",
    "\n",
    "# ==============================\n",
    "# Third-party Library Imports\n",
    "# ==============================\n",
    "import matplotlib.pyplot as plt\n",
    "from IPython.display import display, Latex\n",
    "from matplotlib.ticker import MultipleLocator\n",
    "import numpy as np  # Original numpy\n",
    "import pennylane as qml\n",
    "import torch \n",
    "\n",
    "# ==============================\n",
    "# User defined \n",
    "# ==============================\n",
    "import plot_data as pt\n",
    "import torch_optimizer as tr_opt"
   ]
  },
  {
   "cell_type": "code",
   "execution_count": 200,
   "metadata": {},
   "outputs": [],
   "source": [
    "# ==============================\n",
    "# Setup for Quantum Computations\n",
    "# ==============================\n",
    "\n",
    "# PennyLane settings\n",
    "dev = qml.device('default.mixed', wires=2)\n",
    "\n",
    "# Define Hamiltonian for quantum computations\n",
    "# H = qml.Hamiltonian(coeffs=[-0.5, -0.5], observables=[qml.PauliZ(0), qml.PauliZ(1)])\n",
    "H = qml.Hamiltonian(coeffs=[-0.5], observables=[qml.PauliZ(0) @ qml.PauliZ(1)])\n",
    "H_1 = qml.Hamiltonian(coeffs=[-0.5, -0.5], observables=[qml.PauliZ(0), qml.PauliZ(1)])\n",
    "# H_1 = qml.Hamiltonian(coeffs=[-0.5], observables=[qml.PauliZ(0)])"
   ]
  },
  {
   "cell_type": "markdown",
   "metadata": {},
   "source": [
    "## Legacy\n",
    "\n",
    "#### Common use\n",
    "\n",
    "$$\n",
    "H = -0.5 \\cdot Z_0 - 0.5 \\cdot Z_1 \n",
    "$$\n",
    "\n",
    "$$\n",
    "= -0.5 \\cdot (Z \\otimes I) - 0.5 \\cdot (I \\otimes Z)\n",
    "$$\n",
    "\n",
    "$$\n",
    "\n",
    "$$\n",
    "\n",
    "\n",
    "$$\n",
    "where,\n",
    "Z = \\begin{pmatrix} 1 & 0 \\\\ 0 & -1 \\end{pmatrix}\n",
    "$$"
   ]
  },
  {
   "cell_type": "markdown",
   "metadata": {},
   "source": [
    "## New Hamiltonian\n",
    "\n",
    "#### Entangler Hamiltonian\n",
    "\n",
    "$$\n",
    "H = -0.5 \\, Z_0 \\otimes Z_1\n",
    "$$\n",
    "\n",
    "\n",
    "$$\n",
    "where,\n",
    "Z = \\begin{pmatrix} 1 & 0 \\\\ 0 & -1 \\end{pmatrix}\n",
    "$$"
   ]
  },
  {
   "cell_type": "markdown",
   "metadata": {},
   "source": [
    "#### Phase Accumulator Hamiltonian\n",
    "\n",
    "\n",
    "$$\n",
    "H_{1} = -0.5 \\cdot Z_0 - 0.5 \\cdot Z_1 \n",
    "$$\n",
    "\n",
    "$$\n",
    "= -0.5 \\cdot (Z \\otimes I) - 0.5 \\cdot (I \\otimes Z)\n",
    "$$\n",
    "\n",
    "$$\n",
    "\n",
    "$$\n",
    "\n",
    "\n",
    "$$\n",
    "where,\n",
    "Z = \\begin{pmatrix} 1 & 0 \\\\ 0 & -1 \\end{pmatrix}\n",
    "$$"
   ]
  },
  {
   "cell_type": "code",
   "execution_count": 201,
   "metadata": {},
   "outputs": [
    {
     "data": {
      "text/plain": [
       "array([[ 1,  0,  0,  0],\n",
       "       [ 0, -1,  0,  0],\n",
       "       [ 0,  0, -1,  0],\n",
       "       [ 0,  0,  0,  1]])"
      ]
     },
     "execution_count": 201,
     "metadata": {},
     "output_type": "execute_result"
    }
   ],
   "source": [
    "test = np.array([\n",
    "    [1,0],\n",
    "    [0,-1]\n",
    "])\n",
    "\n",
    "res = np.kron(test, test)\n",
    "\n",
    "res"
   ]
  },
  {
   "cell_type": "code",
   "execution_count": 202,
   "metadata": {},
   "outputs": [],
   "source": [
    "# Global Parameters\n",
    "Tau_global = torch.tensor(0, dtype=torch.float, requires_grad=False)   # Dephase tau\n",
    "Gamma_ps_global = torch.tensor(0, dtype=torch.float, requires_grad=False)\n",
    "Paras_global = torch.tensor([0, 0, 0, 0], dtype=torch.float, requires_grad=True)\n",
    "Phi_global = torch.tensor(0, dtype=torch.float, requires_grad=True)\n",
    "\n",
    "def Dephase_factor(tau):\n",
    "    \"\"\" \n",
    "    Calculate the dephasing factor for a given dephasing time tau.\n",
    "\n",
    "    Args:\n",
    "        tau (torch.Tensor): Dephasing time.\n",
    "\n",
    "    Returns:\n",
    "        torch.Tensor: Dephasing factor.\n",
    "    \"\"\"  \n",
    "    return 1 - torch.exp(-2 * tau)"
   ]
  },
  {
   "cell_type": "markdown",
   "metadata": {},
   "source": [
    "$$\n",
    "Let, e^{-t/T_2} = e^{-\\tau} \\\\[1em]\n",
    "\n",
    "\\frac{1}{2} \n",
    "\n",
    "\\begin{bmatrix}\n",
    "\n",
    "1 & e^{(i\\phi - \\tau)} \\\\\n",
    "e^{(-i\\phi - \\tau)} & 1\n",
    "\n",
    "\\end{bmatrix}\n",
    "\n",
    "=\n",
    "\n",
    "\\frac{1}{2} \n",
    "\n",
    "\\begin{bmatrix}\n",
    "\n",
    "1 & e^{i\\phi} \\sqrt{1 - \\gamma} \\\\\n",
    "e^{-i\\phi} \\sqrt{1 - \\gamma} & 1\n",
    "\n",
    "\\end{bmatrix}\n",
    "$$\n",
    "\n",
    "$$\n",
    "\\\\[1em]\n",
    "Then,\n",
    "\\quad \\gamma = \n",
    "1 - e^{-2 \\tau}\n",
    "$$\n",
    "\n",
    "$$ \n",
    "e^{-\\tau} = \\sqrt{1 - \\gamma}\n",
    "$$"
   ]
  },
  {
   "cell_type": "code",
   "execution_count": 203,
   "metadata": {},
   "outputs": [],
   "source": [
    "@qml.qnode(dev, interface='torch', diff_method='backprop')\n",
    "def circuit(phi):\n",
    "    # global Paras_global, Tau_global\n",
    "    # theta_x = Paras_global[0]\n",
    "    # tau_1 = Paras_global[1]\n",
    "    # tau_2 = Paras_global[2]\n",
    "    global Paras_global, Tau_global\n",
    "    theta_1 = Paras_global[0]\n",
    "    theta_2 = Paras_global[1]\n",
    "    tau_1 = Paras_global[2]\n",
    "    tau_2 = Paras_global[3]\n",
    "    \n",
    "    gamma_dephase = Dephase_factor(Tau_global)\n",
    "    \n",
    "    # Stage_1: RY for pi/2\n",
    "    qml.RY(torch.pi/2, wires=0)\n",
    "    qml.RY(torch.pi/2, wires=1)\n",
    "    \n",
    "    # Stage_2: Entangler    \n",
    "    qml.ApproxTimeEvolution(H, tau_1, 1)\n",
    "    qml.PhaseDamping(gamma_dephase, wires = 0)\n",
    "    qml.PhaseDamping(gamma_dephase, wires = 1)    \n",
    "    \n",
    "    qml.RX(theta_1, wires = 0)    \n",
    "    qml.RX(theta_2, wires = 1)    \n",
    "\n",
    "    qml.RY(-torch.pi/2, wires = 0)    \n",
    "    qml.RY(-torch.pi/2, wires = 1)   \n",
    "\n",
    "    qml.ApproxTimeEvolution(H, tau_2, 1)\n",
    "    qml.PhaseDamping(gamma_dephase, wires = 0)\n",
    "    qml.PhaseDamping(gamma_dephase, wires = 1) \n",
    "    \n",
    "    qml.RY(torch.pi/2, wires = 0)    \n",
    "    qml.RY(torch.pi/2, wires = 1) \n",
    "    \n",
    "    # Stage_3: Accumulator\n",
    "    qml.ApproxTimeEvolution(H_1, phi, 1)\n",
    "    \n",
    "    qml.RX(torch.pi/(2), wires=0)\n",
    "    qml.RX(torch.pi/(2), wires=1)\n",
    "    \n",
    "    # return qml.state()\n",
    "    return qml.density_matrix(wires = [0, 1])"
   ]
  },
  {
   "cell_type": "code",
   "execution_count": 204,
   "metadata": {},
   "outputs": [
    {
     "data": {
      "image/png": "[encoded data removed]",
      "text/plain": [
       "<Figure size 1300x300 with 1 Axes>"
      ]
     },
     "metadata": {},
     "output_type": "display_data"
    }
   ],
   "source": [
    "fig, ax = qml.draw_mpl(circuit)(np.pi)"
   ]
  },
  {
   "cell_type": "code",
   "execution_count": 205,
   "metadata": {},
   "outputs": [],
   "source": [
    "# @qml.qnode(dev, interface = 'torch', diff_method = 'backprop')\n",
    "# def Post_selection(phi):\n",
    "\n",
    "#     global Paras_global, Gamma_ps_global\n",
    "#     get_density_matrix = circuit(phi)\n",
    "        \n",
    "#     # Kraus operator for 2*2 matrix\n",
    "#     K = torch.tensor([\n",
    "#         [torch.sqrt(1 - Gamma_ps_global), 0], \n",
    "#         [0, 1]\n",
    "#     ], dtype=torch.complex128)\n",
    "    \n",
    "#     Numerator = torch.kron(K, torch.eye(2)) @ get_density_matrix @ torch.kron(K, torch.eye(2)).conj().T\n",
    "#     Denominator = torch.trace(Numerator)\n",
    "    \n",
    "#     rho_ps = Numerator / Denominator\n",
    "    \n",
    "#     qml.QubitDensityMatrix(rho_ps, wires = [0, 1])\n",
    "    \n",
    "#     return qml.density_matrix(wires = [0, 1])  "
   ]
  },
  {
   "cell_type": "markdown",
   "metadata": {},
   "source": [
    "$$ \n",
    "K =  \\begin{bmatrix}\n",
    "\\sqrt{1-\\gamma_{ps}} & 0 \\\\\n",
    "0 & 1 \n",
    "\\end{bmatrix}  \n",
    "$$\n",
    "\n",
    "\n",
    "$$\n",
    "\\rho_{ps} = \n",
    "\\frac{(K \\otimes I) \\rho (K^{\\dagger} \\otimes I ^{\\dagger})}\n",
    "\n",
    "{Tr[(K \\otimes I) \\rho (K^{\\dagger} \\otimes I ^{\\dagger})]}\n",
    "$$"
   ]
  },
  {
   "cell_type": "code",
   "execution_count": 206,
   "metadata": {},
   "outputs": [],
   "source": [
    "@qml.qnode(dev, interface = 'torch', diff_method = 'backprop')\n",
    "def Post_selection(phi):\n",
    "\n",
    "    global Paras_global, Gamma_ps_global\n",
    "    get_density_matrix = circuit(phi)\n",
    "        \n",
    "    # Kraus operator for 2*2 matrix\n",
    "    K = torch.tensor([\n",
    "        [torch.sqrt(1 - Gamma_ps_global), 0], \n",
    "        [0, 1]\n",
    "    ], dtype=torch.complex128)\n",
    "    \n",
    "    Numerator = torch.kron(K, K) @ get_density_matrix @ torch.kron(K, K).conj().T\n",
    "    Denominator = torch.trace(Numerator)\n",
    "    \n",
    "    rho_ps = Numerator / Denominator\n",
    "    \n",
    "    qml.QubitDensityMatrix(rho_ps, wires = [0, 1])\n",
    "    \n",
    "    return qml.density_matrix(wires = [0, 1])  "
   ]
  },
  {
   "cell_type": "markdown",
   "metadata": {},
   "source": [
    "$$ \n",
    "K =  \\begin{bmatrix}\n",
    "\\sqrt{1-\\gamma_{ps}} & 0 \\\\\n",
    "0 & 1 \n",
    "\\end{bmatrix}  \n",
    "$$\n",
    "\n",
    "\n",
    "$$\n",
    "\\rho_{ps} = \n",
    "\\frac{(K \\otimes K) \\rho (K \\otimes K)^{\\dagger}}\n",
    "% (K^{\\dagger} \\otimes I ^{\\dagger})}\n",
    "\n",
    "{Tr[(K \\otimes K) \\rho (K \\otimes K)^{\\dagger}]}\n",
    "$$"
   ]
  },
  {
   "cell_type": "code",
   "execution_count": 207,
   "metadata": {},
   "outputs": [],
   "source": [
    "def set_circuit(desired_tau_dephase, desired_gamma_post_selection):\n",
    "    \"\"\"\n",
    "    Set the global dephasing rate and post-selection rate for the circuit.\n",
    "\n",
    "    Args:\n",
    "        desired_tau_dephase (float): Desired dephasing rate tau.\n",
    "        desired_gamma_post_selection (float): Desired post-selection rate gamma.\n",
    "    \"\"\"\n",
    "    global Tau_global, Gamma_ps_global \n",
    "    \n",
    "    Tau_global = torch.tensor(desired_tau_dephase)\n",
    "    Gamma_ps_global = torch.tensor([desired_gamma_post_selection])"
   ]
  },
  {
   "cell_type": "code",
   "execution_count": 208,
   "metadata": {},
   "outputs": [],
   "source": [
    "def cost_function(paras):\n",
    "    \"\"\" \n",
    "    Compute the cost using classical Fisher information for the given parameters.\n",
    "\n",
    "    Args:\n",
    "        paras (torch.Tensor): Parameters for quantum gates.\n",
    "\n",
    "    Returns:\n",
    "        torch.Tensor: Computed cost.\n",
    "    \"\"\"\n",
    "    global Paras_global, Phi_global\n",
    "    Paras_global = paras\n",
    "\n",
    "    CFI = qml.qinfo.classical_fisher(Post_selection)(Phi_global)\n",
    "    \n",
    "    return -CFI"
   ]
  },
  {
   "cell_type": "code",
   "execution_count": 209,
   "metadata": {},
   "outputs": [],
   "source": [
    "def plot_test():\n",
    "    global Paras_global\n",
    "    # set circuit\n",
    "    set_circuit(0, 0.8)\n",
    "    Paras_global = torch.tensor([torch.pi/2, torch.pi/2, torch.pi/2])\n",
    "    \n",
    "    PHI = torch.arange(0, 3*torch.pi, 1e-1)\n",
    "    Data_temp = torch.zeros((len(PHI), 2))\n",
    "    Data_temp[:, 0] = PHI\n",
    "\n",
    "    for idx, phi_current in enumerate(PHI):\n",
    "        phi_temp = torch.tensor([phi_current])\n",
    "        Data_temp[idx][1] = qml.qinfo.classical_fisher(Post_selection)(phi_temp)\n",
    "\n",
    "    Data_temp = Data_temp.detach().numpy() \n",
    "    \n",
    "    plt.plot(Data_temp[:,0], Data_temp[:,1], label = f'$\\gamma$ = {Gamma_ps_global}')\n",
    "\n",
    "    plt.title('CFI by selected gamma')\n",
    "    plt.xlabel('Time')\n",
    "    plt.ylabel('CFI')\n",
    "    plt.legend()\n",
    "    plt.grid()\n",
    "    \n",
    "# plot_test()"
   ]
  },
  {
   "cell_type": "code",
   "execution_count": 210,
   "metadata": {},
   "outputs": [],
   "source": [
    "def torch_optimization(sweep_range, initial_parameters, method):\n",
    "    \"\"\" \n",
    "    Perform optimization using specified optimizer over a range of phi values.\n",
    "\n",
    "    Args:\n",
    "        sweep_range (list): Range of phi values for optimization.\n",
    "        initial_parameters (torch.Tensor): Initial parameters for optimization.\n",
    "        method (str): Optimization method ('LBFGS' or 'Adam').\n",
    "\n",
    "    Returns:\n",
    "        torch.Tensor: Data tensor containing optimization results.\n",
    "    \"\"\"\n",
    "    Phi = torch.arange(sweep_range[0], sweep_range[1], sweep_range[2], dtype=torch.float32)\n",
    "    Data = torch.zeros((len(Phi), len(initial_parameters) + 2))\n",
    "    Data[:,0] = Phi\n",
    "    \n",
    "    global Phi_global\n",
    "    params_tensor = initial_parameters.clone().requires_grad_(True)\n",
    "    \n",
    "    opt = tr_opt.select_optimizer(method, params_tensor)\n",
    "    \n",
    "    def closure():\n",
    "        opt.zero_grad()\n",
    "        loss = cost_function(params_tensor)\n",
    "        loss.backward()\n",
    "        return loss\n",
    "       \n",
    "    steps = 1\n",
    "    f_logs = [cost_function(params_tensor).item()]\n",
    "    ftol = 1e-10\n",
    "        \n",
    "    # Begin optimization\n",
    "    for phi_idx in range(len(Phi)):\n",
    "        Phi_global = Phi[phi_idx].clone().requires_grad_(True)\n",
    "        \n",
    "        if Phi[phi_idx] < 3:\n",
    "            steps = 150\n",
    "        elif Phi[phi_idx] < 10:\n",
    "            steps = 100\n",
    "        else:\n",
    "            steps = 100\n",
    "\n",
    "        for i in range(steps):\n",
    "            opt.step(closure)\n",
    "\n",
    "            fval = cost_function(opt.param_groups[0]['params'][0]).item()\n",
    "            # print(f\"{i+1:03d}th iteration, CFI=\", fval)\n",
    "            f_logs.append(fval)\n",
    "            if np.abs((fval-f_logs[-2])/fval) < ftol:\n",
    "                break\n",
    "            \n",
    "        print(\"CFI =\", -fval, \"Paras =\", opt.param_groups[0]['params'][0].detach().numpy())\n",
    "        \n",
    "        Data[phi_idx, 1] = -fval\n",
    "        Data[phi_idx, 2:] = opt.param_groups[0]['params'][0]\n",
    "        \n",
    "        # torch.cat(([-fval], opt.param_groups[0]['params'][0].detach().numpy()))\n",
    "\n",
    "\n",
    "    return Data"
   ]
  },
  {
   "cell_type": "code",
   "execution_count": 211,
   "metadata": {},
   "outputs": [],
   "source": [
    "\n",
    "def optimization_by_tau(sweep_range, init_par, tau_dephase, gamma_post_selection, method):\n",
    "    \"\"\" \n",
    "    Iterate over different values of tau_dephase and gamma_post_selection for optimization.\n",
    "\n",
    "    Args:\n",
    "        sweep_range (list): Range of phi values for optimization.\n",
    "        init_par (torch.Tensor): Initial parameters for optimization.\n",
    "        tau_dephase (list): List of dephasing rates tau to iterate over.\n",
    "        gamma_post_selection (float): Post-selection rate gamma.\n",
    "        method (str): Optimization method.\n",
    "\n",
    "    Returns:\n",
    "        np.ndarray: Numpy array with optimization results for each tau.\n",
    "    \"\"\"\n",
    "    for tau_idx, tau_current in enumerate(tau_dephase):\n",
    "        # if gamma_post_selection == 0:\n",
    "        #     if tau_current == 0:\n",
    "        #         init_par[0] = torch.tensor(2.3561797)\n",
    "        #     else:\n",
    "        #         init_par = init_par.clone()\n",
    "            # elif tau_current == 5e-2:\n",
    "            #     init_par[0] = torch.tensor(2.3561797)\n",
    "            #     init_par[1] = torch.tensor(2.5612175)\n",
    "\n",
    "        set_circuit(tau_current, gamma_post_selection)\n",
    "        \n",
    "        temp = torch_optimization(sweep_range, init_par, method).detach().cpu().numpy()\n",
    "        if tau_idx == 0:\n",
    "            Data = np.zeros((len(tau_dephase), len(temp[:,0]), len(temp[0,:])))\n",
    "            Data[tau_idx][:, :] = temp\n",
    "        else:\n",
    "            Data[tau_idx][:, :] = temp\n",
    "            \n",
    "    return Data"
   ]
  },
  {
   "cell_type": "code",
   "execution_count": 212,
   "metadata": {},
   "outputs": [
    {
     "name": "stdout",
     "output_type": "stream",
     "text": [
      "CFI = 2.398110528919892 Paras = [3.926991  3.926991  3.7482727 1.5709158]\n",
      "CFI = 2.3686073861936077 Paras = [3.926991  3.926991  3.7482727 1.5709158]\n",
      "CFI = 2.284332626068487 Paras = [3.926991  3.926991  3.7482727 1.5709158]\n",
      "CFI = 2.1329700885732157 Paras = [3.926991  3.926991  3.7482727 1.5709158]\n",
      "CFI = 1.9168497755244769 Paras = [3.926991  3.926991  3.7482727 1.5709158]\n",
      "CFI = 1.7229907044733843 Paras = [3.926991  3.926991  3.7482727 1.5709158]\n",
      "CFI = 1.7361035512845377 Paras = [3.926991  3.926991  3.7482727 1.5709158]\n",
      "CFI = 1.9489688521994442 Paras = [3.926991  3.926991  3.7482727 1.5709158]\n",
      "CFI = 2.1525811327502073 Paras = [3.926991  3.926991  3.7482727 1.5709158]\n",
      "CFI = 2.250564537957972 Paras = [3.926991  3.926991  3.7482727 1.5709158]\n",
      "CFI = 2.240669434685792 Paras = [3.926991  3.926991  3.7482727 1.5709158]\n",
      "CFI = 2.1240071439105552 Paras = [3.926991  3.926991  3.7482727 1.5709158]\n",
      "CFI = 1.8767325632094858 Paras = [3.926991  3.926991  3.7482727 1.5709158]\n",
      "CFI = 1.4478550371743293 Paras = [3.926991  3.926991  3.7482727 1.5709158]\n",
      "CFI = 0.8059572752341057 Paras = [3.926991  3.926991  3.7482727 1.5709158]\n",
      "CFI = 0.15192683497262732 Paras = [3.926991  3.926991  3.7482727 1.5709158]\n",
      "CFI = 0.06519004745691637 Paras = [3.926991  3.926991  3.7482727 1.5709158]\n",
      "CFI = 0.6500552473681791 Paras = [3.926991  3.926991  3.7482727 1.5709158]\n",
      "CFI = 1.326288419405628 Paras = [3.926991  3.926991  3.7482727 1.5709158]\n",
      "CFI = 1.801571739147414 Paras = [3.926991  3.926991  3.7482727 1.5709158]\n",
      "CFI = 2.0830608326627287 Paras = [3.926991  3.926991  3.7482727 1.5709158]\n",
      "CFI = 2.2248854476024706 Paras = [3.926991  3.926991  3.7482727 1.5709158]\n",
      "CFI = 2.2572493256827415 Paras = [3.926991  3.926991  3.7482727 1.5709158]\n",
      "CFI = 2.1833307998967317 Paras = [3.926991  3.926991  3.7482727 1.5709158]\n",
      "CFI = 1.9995727844022717 Paras = [3.926991  3.926991  3.7482727 1.5709158]\n",
      "CFI = 1.7720386576192797 Paras = [3.926991  3.926991  3.7482727 1.5709158]\n",
      "CFI = 1.703018447990132 Paras = [3.926991  3.926991  3.7482727 1.5709158]\n",
      "CFI = 1.8673412256816322 Paras = [3.926991  3.926991  3.7482727 1.5709158]\n",
      "CFI = 2.0907825409084833 Paras = [3.926991  3.926991  3.7482727 1.5709158]\n",
      "CFI = 2.257752536902575 Paras = [3.926991  3.926991  3.7482727 1.5709158]\n",
      "CFI = 2.3554161166536147 Paras = [3.926991  3.926991  3.7482727 1.5709158]\n",
      "CFI = 2.3959433600680446 Paras = [3.926991  3.926991  3.7482727 1.5709158]\n",
      "CFI = 2.3869902392411175 Paras = [3.926991  3.926991  3.7482727 1.5709158]\n",
      "CFI = 2.326772150343704 Paras = [3.926991  3.926991  3.7482727 1.5709158]\n",
      "CFI = 2.204787208066728 Paras = [3.926991  3.926991  3.7482727 1.5709158]\n",
      "CFI = 2.012139706538876 Paras = [3.926991  3.926991  3.7482727 1.5709158]\n",
      "CFI = 1.789254759253545 Paras = [3.926991  3.926991  3.7482727 1.5709158]\n",
      "CFI = 1.6976086403864077 Paras = [3.926991  3.926991  3.7482727 1.5709158]\n",
      "CFI = 1.8500202115509263 Paras = [3.926991  3.926991  3.7482727 1.5709158]\n",
      "CFI = 2.0787808656561904 Paras = [3.926991  3.926991  3.7482727 1.5709158]\n",
      "CFI = 2.223473636760019 Paras = [3.926991  3.926991  3.7482727 1.5709158]\n",
      "CFI = 2.2573781941014888 Paras = [3.926991  3.926991  3.7482727 1.5709158]\n",
      "CFI = 2.186353308771537 Paras = [3.926991  3.926991  3.7482727 1.5709158]\n",
      "CFI = 1.9982222428062557 Paras = [3.926991  3.926991  3.7482727 1.5709158]\n",
      "CFI = 1.652097623372427 Paras = [3.926991  3.926991  3.7482727 1.5709158]\n",
      "CFI = 1.0953894110149336 Paras = [3.926991  3.926991  3.7482727 1.5709158]\n",
      "CFI = 0.3926710515296432 Paras = [3.926991  3.926991  3.7482727 1.5709158]\n",
      "CFI = 0.00024768352458915603 Paras = [3.926991  3.926991  3.7482727 1.5709158]\n",
      "CFI = 0.3613969327714369 Paras = [3.926991  3.926991  3.7482727 1.5709158]\n",
      "CFI = 1.0634393481183264 Paras = [3.926991  3.926991  3.7482727 1.5709158]\n",
      "CFI = 1.6306012000179377 Paras = [3.926991  3.926991  3.7482727 1.5709158]\n",
      "CFI = 1.985719426798267 Paras = [3.926991  3.926991  3.7482727 1.5709158]\n",
      "CFI = 2.1802383113005206 Paras = [3.926991  3.926991  3.7482727 1.5709158]\n",
      "CFI = 2.2563662044553685 Paras = [3.926991  3.926991  3.7482727 1.5709158]\n",
      "CFI = 2.227557655189995 Paras = [3.926991  3.926991  3.7482727 1.5709158]\n",
      "CFI = 2.088182286614391 Paras = [3.926991  3.926991  3.7482727 1.5709158]\n",
      "CFI = 1.8611162103036598 Paras = [3.926991  3.926991  3.7482727 1.5709158]\n",
      "CFI = 1.6996905630927133 Paras = [3.926991  3.926991  3.7482727 1.5709158]\n",
      "CFI = 1.7801666257741822 Paras = [3.926991  3.926991  3.7482727 1.5709158]\n",
      "CFI = 2.0014297617897316 Paras = [3.926991  3.926991  3.7482727 1.5709158]\n",
      "CFI = 2.197186908719899 Paras = [3.926991  3.926991  3.7482727 1.5709158]\n",
      "CFI = 2.322458082611854 Paras = [3.926991  3.926991  3.7482727 1.5709158]\n",
      "CFI = 2.3853329959614906 Paras = [3.926991  3.926991  3.7482727 1.5709158]\n",
      "CFI = 2.3966175916102985 Paras = [3.926991  3.926991  3.7482727 1.5709158]\n",
      "CFI = 2.3585577208380677 Paras = [3.926991  3.926991  3.7482727 1.5709158]\n",
      "CFI = 2.263912588766586 Paras = [3.926991  3.926991  3.7482727 1.5709158]\n",
      "CFI = 2.1003911491229665 Paras = [3.926991  3.926991  3.7482727 1.5709158]\n",
      "CFI = 1.8781722540643921 Paras = [3.926991  3.926991  3.7482727 1.5709158]\n",
      "CFI = 1.7064327447046115 Paras = [3.926991  3.926991  3.7482727 1.5709158]\n",
      "CFI = 1.763314962242278 Paras = [3.926991  3.926991  3.7482727 1.5709158]\n",
      "CFI = 1.9885672648097397 Paras = [3.926991  3.926991  3.7482727 1.5709158]\n",
      "CFI = 2.1769854532291677 Paras = [3.926991  3.926991  3.7482727 1.5709158]\n",
      "CFI = 2.2561957557062824 Paras = [3.926991  3.926991  3.7482727 1.5709158]\n",
      "CFI = 2.228803649793526 Paras = [3.926991  3.926991  3.7482727 1.5709158]\n",
      "CFI = 2.0926570971481104 Paras = [3.926991  3.926991  3.7482727 1.5709158]\n",
      "CFI = 1.818963845764988 Paras = [3.926991  3.926991  3.7482727 1.5709158]\n",
      "CFI = 1.354102692737769 Paras = [3.926991  3.926991  3.7482727 1.5709158]\n",
      "CFI = 0.6845589187330487 Paras = [3.926991  3.926991  3.7482727 1.5709158]\n",
      "CFI = 0.08156965157993162 Paras = [3.926991  3.926991  3.7482727 1.5709158]\n",
      "CFI = 0.13002472618645583 Paras = [3.926991  3.926991  3.7482727 1.5709158]\n",
      "CFI = 0.7715463997468743 Paras = [3.926991  3.926991  3.7482727 1.5709158]\n",
      "CFI = 1.421871795744335 Paras = [3.926991  3.926991  3.7482727 1.5709158]\n",
      "CFI = 1.860852702125034 Paras = [3.926991  3.926991  3.7482727 1.5709158]\n",
      "CFI = 2.1154759768549836 Paras = [3.926991  3.926991  3.7482727 1.5709158]\n",
      "CFI = 2.237600430172807 Paras = [3.926991  3.926991  3.7482727 1.5709158]\n",
      "CFI = 2.252470500081503 Paras = [3.926991  3.926991  3.7482727 1.5709158]\n",
      "CFI = 2.159843387294104 Paras = [3.926991  3.926991  3.7482727 1.5709158]\n",
      "CFI = 1.960331455810306 Paras = [3.926991  3.926991  3.7482727 1.5709158]\n",
      "CFI = 1.7432420435847273 Paras = [3.926991  3.926991  3.7482727 1.5709158]\n",
      "CFI = 1.7175935181761435 Paras = [3.926991  3.926991  3.7482727 1.5709158]\n",
      "CFI = 1.9058019861980062 Paras = [3.926991  3.926991  3.7482727 1.5709158]\n",
      "CFI = 2.1239145241062367 Paras = [3.926991  3.926991  3.7482727 1.5709158]\n",
      "CFI = 2.278727933483966 Paras = [3.926991  3.926991  3.7482727 1.5709158]\n",
      "CFI = 2.3659096548648817 Paras = [3.926991  3.926991  3.7482727 1.5709158]\n",
      "CFI = 2.397825259831605 Paras = [3.926991  3.926991  3.7482727 1.5709158]\n"
     ]
    }
   ],
   "source": [
    "sweep_range = torch.tensor([1e-2, 3*torch.pi, 1e-1], dtype=torch.float, requires_grad=False)\n",
    "# init_par = torch.tensor([torch.pi/2, torch.pi/2, torch.pi/2, torch.pi/2], dtype=torch.float)\n",
    "init_par = torch.tensor([3.9270031, 3.9270031, 3.721944,  1.5709158], dtype=torch.float)\n",
    "tau_dephase = 5e-2,\n",
    "# tau_dephase =  5e-1,\n",
    "gamma_ps = 0\n",
    "\n",
    "res = optimization_by_tau(sweep_range, init_par, tau_dephase, gamma_ps, 'LBFGS')"
   ]
  },
  {
   "cell_type": "code",
   "execution_count": 213,
   "metadata": {},
   "outputs": [
    {
     "data": {
      "image/png": "[encoded data removed]",
      "text/plain": [
       "<Figure size 640x480 with 1 Axes>"
      ]
     },
     "metadata": {},
     "output_type": "display_data"
    }
   ],
   "source": [
    "pt.plot_result(res, tau_dephase, gamma_ps, 'CFI')"
   ]
  },
  {
   "cell_type": "code",
   "execution_count": 214,
   "metadata": {},
   "outputs": [
    {
     "data": {
      "image/png": "[encoded data removed]",
      "text/plain": [
       "<Figure size 640x480 with 1 Axes>"
      ]
     },
     "metadata": {},
     "output_type": "display_data"
    }
   ],
   "source": [
    "pt.plot_result(res, tau_dephase, gamma_ps, 'theta_x')"
   ]
  },
  {
   "cell_type": "code",
   "execution_count": 215,
   "metadata": {},
   "outputs": [
    {
     "data": {
      "image/png": "[encoded data removed]",
      "text/plain": [
       "<Figure size 640x480 with 1 Axes>"
      ]
     },
     "metadata": {},
     "output_type": "display_data"
    }
   ],
   "source": [
    "pt.plot_result(res, tau_dephase, gamma_ps, 'tau_1')"
   ]
  },
  {
   "cell_type": "code",
   "execution_count": 216,
   "metadata": {},
   "outputs": [
    {
     "data": {
      "image/png": "[encoded data removed]",
      "text/plain": [
       "<Figure size 640x480 with 1 Axes>"
      ]
     },
     "metadata": {},
     "output_type": "display_data"
    }
   ],
   "source": [
    "pt.plot_result(res, tau_dephase, gamma_ps, 'tau_2')"
   ]
  }
 ],
 "metadata": {
  "kernelspec": {
   "display_name": "Python 3",
   "language": "python",
   "name": "python3"
  },
  "language_info": {
   "codemirror_mode": {
    "name": "ipython",
    "version": 3
   },
   "file_extension": ".py",
   "mimetype": "text/x-python",
   "name": "python",
   "nbconvert_exporter": "python",
   "pygments_lexer": "ipython3",
   "version": "3.11.4"
  }
 },
 "nbformat": 4,
 "nbformat_minor": 2
}
