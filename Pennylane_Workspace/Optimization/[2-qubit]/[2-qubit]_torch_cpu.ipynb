{
 "cells": [
  {
   "cell_type": "code",
   "execution_count": 440,
   "metadata": {},
   "outputs": [],
   "source": [
    "# ==============================\n",
    "# Standard Library Imports\n",
    "# ==============================\n",
    "from enum import Enum\n",
    "import random\n",
    "\n",
    "# ==============================\n",
    "# Third-party Library Imports\n",
    "# ==============================\n",
    "import matplotlib.pyplot as plt\n",
    "from IPython.display import display, Latex\n",
    "from matplotlib.ticker import MultipleLocator\n",
    "import numpy as np  # Original numpy\n",
    "import pennylane as qml\n",
    "import torch \n",
    "\n",
    "# ==============================\n",
    "# User defined \n",
    "# ==============================\n",
    "import plot_data as pt\n",
    "import torch_optimizer as tr_opt"
   ]
  },
  {
   "cell_type": "code",
   "execution_count": 441,
   "metadata": {},
   "outputs": [],
   "source": [
    "# ==============================\n",
    "# Setup for Quantum Computations\n",
    "# ==============================\n",
    "\n",
    "# PennyLane settings\n",
    "dev = qml.device('default.mixed', wires=2)\n",
    "\n",
    "# Define Hamiltonian for quantum computations\n",
    "# H = qml.Hamiltonian(coeffs=[-0.5, -0.5], observables=[qml.PauliZ(0), qml.PauliZ(1)])\n",
    "H = qml.Hamiltonian(coeffs=[-0.5], observables=[qml.PauliZ(0) @ qml.PauliZ(1)])\n",
    "H_1 = qml.Hamiltonian(coeffs=[-0.5, -0.5], observables=[qml.PauliZ(0), qml.PauliZ(1)])\n",
    "# H_1 = qml.Hamiltonian(coeffs=[-0.5], observables=[qml.PauliZ(0)])"
   ]
  },
  {
   "cell_type": "markdown",
   "metadata": {},
   "source": [
    "## Legacy\n",
    "\n",
    "#### Common use\n",
    "\n",
    "$$\n",
    "H = -0.5 \\cdot Z_0 - 0.5 \\cdot Z_1 \n",
    "$$\n",
    "\n",
    "$$\n",
    "= -0.5 \\cdot (Z \\otimes I) - 0.5 \\cdot (I \\otimes Z)\n",
    "$$\n",
    "\n",
    "$$\n",
    "\n",
    "$$\n",
    "\n",
    "\n",
    "$$\n",
    "where,\n",
    "Z = \\begin{pmatrix} 1 & 0 \\\\ 0 & -1 \\end{pmatrix}\n",
    "$$"
   ]
  },
  {
   "cell_type": "markdown",
   "metadata": {},
   "source": [
    "## New Hamiltonian\n",
    "\n",
    "#### Entangler Hamiltonian\n",
    "\n",
    "$$\n",
    "H = -0.5 \\, Z_0 \\otimes Z_1\n",
    "$$\n",
    "\n",
    "\n",
    "$$\n",
    "where,\n",
    "Z = \\begin{pmatrix} 1 & 0 \\\\ 0 & -1 \\end{pmatrix}\n",
    "$$"
   ]
  },
  {
   "cell_type": "markdown",
   "metadata": {},
   "source": [
    "#### Phase Accumulator Hamiltonian\n",
    "\n",
    "\n",
    "$$\n",
    "H_{1} = -0.5 \\cdot Z_0 - 0.5 \\cdot Z_1 \n",
    "$$\n",
    "\n",
    "$$\n",
    "= -0.5 \\cdot (Z \\otimes I) - 0.5 \\cdot (I \\otimes Z)\n",
    "$$\n",
    "\n",
    "$$\n",
    "\n",
    "$$\n",
    "\n",
    "\n",
    "$$\n",
    "where,\n",
    "Z = \\begin{pmatrix} 1 & 0 \\\\ 0 & -1 \\end{pmatrix}\n",
    "$$"
   ]
  },
  {
   "cell_type": "code",
   "execution_count": 442,
   "metadata": {},
   "outputs": [
    {
     "data": {
      "text/plain": [
       "array([[ 1,  0,  0,  0],\n",
       "       [ 0, -1,  0,  0],\n",
       "       [ 0,  0, -1,  0],\n",
       "       [ 0,  0,  0,  1]])"
      ]
     },
     "execution_count": 442,
     "metadata": {},
     "output_type": "execute_result"
    }
   ],
   "source": [
    "test = np.array([\n",
    "    [1,0],\n",
    "    [0,-1]\n",
    "])\n",
    "\n",
    "res = np.kron(test, test)\n",
    "\n",
    "res"
   ]
  },
  {
   "cell_type": "code",
   "execution_count": 443,
   "metadata": {},
   "outputs": [],
   "source": [
    "# Global Parameters\n",
    "Tau_global = torch.tensor(0, dtype=torch.float, requires_grad=False)   # Dephase tau\n",
    "Gamma_ps_global = torch.tensor(0, dtype=torch.float, requires_grad=False)\n",
    "Paras_global = torch.tensor([0, 0, 0, 0], dtype=torch.float, requires_grad=True)\n",
    "Phi_global = torch.tensor(0, dtype=torch.float, requires_grad=True)\n",
    "\n",
    "def Dephase_factor(tau):\n",
    "    \"\"\" \n",
    "    Calculate the dephasing factor for a given dephasing time tau.\n",
    "\n",
    "    Args:\n",
    "        tau (torch.Tensor): Dephasing time.\n",
    "\n",
    "    Returns:\n",
    "        torch.Tensor: Dephasing factor.\n",
    "    \"\"\"  \n",
    "    return 1 - torch.exp(-2 * tau)"
   ]
  },
  {
   "cell_type": "markdown",
   "metadata": {},
   "source": [
    "$$\n",
    "Let, e^{-t/T_2} = e^{-\\tau} \\\\[1em]\n",
    "\n",
    "\\frac{1}{2} \n",
    "\n",
    "\\begin{bmatrix}\n",
    "\n",
    "1 & e^{(i\\phi - \\tau)} \\\\\n",
    "e^{(-i\\phi - \\tau)} & 1\n",
    "\n",
    "\\end{bmatrix}\n",
    "\n",
    "=\n",
    "\n",
    "\\frac{1}{2} \n",
    "\n",
    "\\begin{bmatrix}\n",
    "\n",
    "1 & e^{i\\phi} \\sqrt{1 - \\gamma} \\\\\n",
    "e^{-i\\phi} \\sqrt{1 - \\gamma} & 1\n",
    "\n",
    "\\end{bmatrix}\n",
    "$$\n",
    "\n",
    "$$\n",
    "\\\\[1em]\n",
    "Then,\n",
    "\\quad \\gamma = \n",
    "1 - e^{-2 \\tau}\n",
    "$$\n",
    "\n",
    "$$ \n",
    "e^{-\\tau} = \\sqrt{1 - \\gamma}\n",
    "$$"
   ]
  },
  {
   "cell_type": "code",
   "execution_count": 444,
   "metadata": {},
   "outputs": [],
   "source": [
    "\n",
    "@qml.qnode(dev, interface='torch', diff_method='backprop')\n",
    "def circuit(phi):\n",
    "    # global Paras_global, Tau_global\n",
    "    # theta_x = Paras_global[0]\n",
    "    # tau_1 = Paras_global[1]\n",
    "    # tau_2 = Paras_global[2]\n",
    "    global Paras_global, Tau_global\n",
    "    theta_1 = Paras_global[0]\n",
    "    theta_2 = Paras_global[1]\n",
    "    tau_1 = Paras_global[2]\n",
    "    tau_2 = Paras_global[3]\n",
    "    \n",
    "    gamma_dephase = Dephase_factor(Tau_global)\n",
    "    \n",
    "    # Stage_1: RY for pi/2\n",
    "    qml.RY(torch.pi/2, wires=0)\n",
    "    qml.RY(torch.pi/2, wires=1)\n",
    "    \n",
    "    # Stage_2: Entangler    \n",
    "    qml.ApproxTimeEvolution(H, tau_1, 1)\n",
    "    qml.PhaseDamping(gamma_dephase, wires = 0)\n",
    "    qml.PhaseDamping(gamma_dephase, wires = 1)    \n",
    "    \n",
    "    qml.RX(theta_1, wires = 0)    \n",
    "    qml.RX(theta_2, wires = 1)    \n",
    "\n",
    "    qml.RY(-torch.pi/2, wires = 0)    \n",
    "    qml.RY(-torch.pi/2, wires = 1)   \n",
    "\n",
    "    qml.ApproxTimeEvolution(H, tau_2, 1)\n",
    "    qml.PhaseDamping(gamma_dephase, wires = 0)\n",
    "    qml.PhaseDamping(gamma_dephase, wires = 1) \n",
    "    \n",
    "    qml.RY(torch.pi/2, wires = 0)    \n",
    "    qml.RY(torch.pi/2, wires = 1) \n",
    "    \n",
    "    # Stage_3: Accumulator\n",
    "    qml.ApproxTimeEvolution(H_1, phi, 1)\n",
    "    qml.PhaseDamping(gamma_dephase, wires = 0)\n",
    "    qml.PhaseDamping(gamma_dephase, wires = 1) \n",
    "    \n",
    "    qml.RX(torch.pi/(2), wires=0)\n",
    "    qml.RX(torch.pi/(2), wires=1)\n",
    "    \n",
    "    # return qml.state()\n",
    "    return qml.density_matrix(wires = [0, 1])"
   ]
  },
  {
   "cell_type": "code",
   "execution_count": 445,
   "metadata": {},
   "outputs": [
    {
     "data": {
      "image/png": "[encoded data removed]",
      "text/plain": [
       "<Figure size 1400x300 with 1 Axes>"
      ]
     },
     "metadata": {},
     "output_type": "display_data"
    }
   ],
   "source": [
    "fig, ax = qml.draw_mpl(circuit)(np.pi)"
   ]
  },
  {
   "cell_type": "code",
   "execution_count": 446,
   "metadata": {},
   "outputs": [],
   "source": [
    "# @qml.qnode(dev, interface = 'torch', diff_method = 'backprop')\n",
    "# def Post_selection(phi):\n",
    "\n",
    "#     global Paras_global, Gamma_ps_global\n",
    "#     get_density_matrix = circuit(phi)\n",
    "        \n",
    "#     # Kraus operator for 2*2 matrix\n",
    "#     K = torch.tensor([\n",
    "#         [torch.sqrt(1 - Gamma_ps_global), 0], \n",
    "#         [0, 1]\n",
    "#     ], dtype=torch.complex128)\n",
    "    \n",
    "#     Numerator = torch.kron(K, torch.eye(2)) @ get_density_matrix @ torch.kron(K, torch.eye(2)).conj().T\n",
    "#     Denominator = torch.trace(Numerator)\n",
    "    \n",
    "#     rho_ps = Numerator / Denominator\n",
    "    \n",
    "#     qml.QubitDensityMatrix(rho_ps, wires = [0, 1])\n",
    "    \n",
    "#     return qml.density_matrix(wires = [0, 1])  "
   ]
  },
  {
   "cell_type": "markdown",
   "metadata": {},
   "source": [
    "$$ \n",
    "K =  \\begin{bmatrix}\n",
    "\\sqrt{1-\\gamma_{ps}} & 0 \\\\\n",
    "0 & 1 \n",
    "\\end{bmatrix}  \n",
    "$$\n",
    "\n",
    "\n",
    "$$\n",
    "\\rho_{ps} = \n",
    "\\frac{(K \\otimes I) \\rho (K^{\\dagger} \\otimes I ^{\\dagger})}\n",
    "\n",
    "{Tr[(K \\otimes I) \\rho (K^{\\dagger} \\otimes I ^{\\dagger})]}\n",
    "$$"
   ]
  },
  {
   "cell_type": "code",
   "execution_count": 447,
   "metadata": {},
   "outputs": [],
   "source": [
    "@qml.qnode(dev, interface = 'torch', diff_method = 'backprop')\n",
    "def Post_selection(phi):\n",
    "\n",
    "    global Paras_global, Gamma_ps_global\n",
    "    get_density_matrix = circuit(phi)\n",
    "        \n",
    "    # Kraus operator for 2*2 matrix\n",
    "    K = torch.tensor([\n",
    "        [torch.sqrt(1 - Gamma_ps_global), 0], \n",
    "        [0, 1]\n",
    "    ], dtype=torch.complex128)\n",
    "    \n",
    "    Numerator = torch.kron(K, K) @ get_density_matrix @ torch.kron(K, K).conj().T\n",
    "    Denominator = torch.trace(Numerator)\n",
    "    \n",
    "    rho_ps = Numerator / Denominator\n",
    "    \n",
    "    qml.QubitDensityMatrix(rho_ps, wires = [0, 1])\n",
    "    \n",
    "    return qml.density_matrix(wires = [0, 1])  "
   ]
  },
  {
   "cell_type": "markdown",
   "metadata": {},
   "source": [
    "$$ \n",
    "K =  \\begin{bmatrix}\n",
    "\\sqrt{1-\\gamma_{ps}} & 0 \\\\\n",
    "0 & 1 \n",
    "\\end{bmatrix}  \n",
    "$$\n",
    "\n",
    "\n",
    "$$\n",
    "\\rho_{ps} = \n",
    "\\frac{(K \\otimes K) \\rho (K \\otimes K)^{\\dagger}}\n",
    "% (K^{\\dagger} \\otimes I ^{\\dagger})}\n",
    "\n",
    "{Tr[(K \\otimes K) \\rho (K \\otimes K)^{\\dagger}]}\n",
    "$$"
   ]
  },
  {
   "cell_type": "code",
   "execution_count": 448,
   "metadata": {},
   "outputs": [],
   "source": [
    "def set_circuit(desired_tau_dephase, desired_gamma_post_selection):\n",
    "    \"\"\"\n",
    "    Set the global dephasing rate and post-selection rate for the circuit.\n",
    "\n",
    "    Args:\n",
    "        desired_tau_dephase (float): Desired dephasing rate tau.\n",
    "        desired_gamma_post_selection (float): Desired post-selection rate gamma.\n",
    "    \"\"\"\n",
    "    global Tau_global, Gamma_ps_global \n",
    "    \n",
    "    Tau_global = torch.tensor(desired_tau_dephase)\n",
    "    Gamma_ps_global = torch.tensor([desired_gamma_post_selection])"
   ]
  },
  {
   "cell_type": "code",
   "execution_count": 449,
   "metadata": {},
   "outputs": [],
   "source": [
    "def cost_function(paras):\n",
    "    \"\"\" \n",
    "    Compute the cost using classical Fisher information for the given parameters.\n",
    "\n",
    "    Args:\n",
    "        paras (torch.Tensor): Parameters for quantum gates.\n",
    "\n",
    "    Returns:\n",
    "        torch.Tensor: Computed cost.\n",
    "    \"\"\"\n",
    "    global Paras_global, Phi_global\n",
    "    Paras_global = paras\n",
    "\n",
    "    CFI = qml.qinfo.classical_fisher(Post_selection)(Phi_global)\n",
    "    \n",
    "    return -CFI"
   ]
  },
  {
   "cell_type": "code",
   "execution_count": 450,
   "metadata": {},
   "outputs": [],
   "source": [
    "def plot_test():\n",
    "    global Paras_global\n",
    "    # set circuit\n",
    "    set_circuit(0, 0.8)\n",
    "    Paras_global = torch.tensor([torch.pi/2, torch.pi/2, torch.pi/2])\n",
    "    \n",
    "    PHI = torch.arange(0, 3*torch.pi, 1e-1)\n",
    "    Data_temp = torch.zeros((len(PHI), 2))\n",
    "    Data_temp[:, 0] = PHI\n",
    "\n",
    "    for idx, phi_current in enumerate(PHI):\n",
    "        phi_temp = torch.tensor([phi_current])\n",
    "        Data_temp[idx][1] = qml.qinfo.classical_fisher(Post_selection)(phi_temp)\n",
    "\n",
    "    Data_temp = Data_temp.detach().numpy() \n",
    "    \n",
    "    plt.plot(Data_temp[:,0], Data_temp[:,1], label = f'$\\gamma$ = {Gamma_ps_global}')\n",
    "\n",
    "    plt.title('CFI by selected gamma')\n",
    "    plt.xlabel('Time')\n",
    "    plt.ylabel('CFI')\n",
    "    plt.legend()\n",
    "    plt.grid()\n",
    "    \n",
    "# plot_test()"
   ]
  },
  {
   "cell_type": "code",
   "execution_count": 451,
   "metadata": {},
   "outputs": [],
   "source": [
    "def torch_optimization(sweep_range, initial_parameters, method):\n",
    "    \"\"\" \n",
    "    Perform optimization using specified optimizer over a range of phi values.\n",
    "\n",
    "    Args:\n",
    "        sweep_range (list): Range of phi values for optimization.\n",
    "        initial_parameters (torch.Tensor): Initial parameters for optimization.\n",
    "        method (str): Optimization method ('LBFGS' or 'Adam').\n",
    "\n",
    "    Returns:\n",
    "        torch.Tensor: Data tensor containing optimization results.\n",
    "    \"\"\"\n",
    "    Phi = torch.arange(sweep_range[0], sweep_range[1], sweep_range[2], dtype=torch.float32)\n",
    "    Data = torch.zeros((len(Phi), len(initial_parameters) + 2))\n",
    "    Data[:,0] = Phi\n",
    "    \n",
    "    global Phi_global\n",
    "    params_tensor = initial_parameters.clone().requires_grad_(True)\n",
    "    \n",
    "    opt = tr_opt.select_optimizer(method, params_tensor)\n",
    "    \n",
    "    def closure():\n",
    "        opt.zero_grad()\n",
    "        loss = cost_function(params_tensor)\n",
    "        loss.backward()\n",
    "        return loss\n",
    "       \n",
    "    steps = 60\n",
    "    f_logs = [cost_function(params_tensor).item()]\n",
    "    ftol = 1e-20\n",
    "        \n",
    "    # Begin optimization\n",
    "    for phi_idx in range(len(Phi)):\n",
    "        Phi_global = Phi[phi_idx].clone().requires_grad_(True)\n",
    "        \n",
    "        # if Phi[phi_idx] < 3:\n",
    "        #     steps = 150\n",
    "        # elif Phi[phi_idx] < 10:\n",
    "        #     steps = 100\n",
    "        # else:\n",
    "        #     steps = 1\n",
    "\n",
    "        for i in range(steps):\n",
    "            opt.step(closure)\n",
    "\n",
    "            fval = cost_function(opt.param_groups[0]['params'][0]).item()\n",
    "            # print(f\"{i+1:03d}th iteration, CFI=\", fval)\n",
    "            f_logs.append(fval)\n",
    "            if np.abs((fval-f_logs[-2])/fval) < ftol:\n",
    "                break\n",
    "            \n",
    "        print(\"CFI =\", -fval, \"Paras =\", opt.param_groups[0]['params'][0].detach().numpy())\n",
    "        \n",
    "        Data[phi_idx, 1] = -fval\n",
    "        Data[phi_idx, 2:] = opt.param_groups[0]['params'][0]\n",
    "\n",
    "    return Data"
   ]
  },
  {
   "cell_type": "code",
   "execution_count": 452,
   "metadata": {},
   "outputs": [],
   "source": [
    "def optimization_by_tau(sweep_range, init_par, tau_dephase, gamma_post_selection, method):\n",
    "    \"\"\" \n",
    "    Iterate over different values of tau_dephase and gamma_post_selection for optimization.\n",
    "\n",
    "    Args:\n",
    "        sweep_range (list): Range of phi values for optimization.\n",
    "        init_par (torch.Tensor): Initial parameters for optimization.\n",
    "        tau_dephase (list): List of dephasing rates tau to iterate over.\n",
    "        gamma_post_selection (float): Post-selection rate gamma.\n",
    "        method (str): Optimization method.\n",
    "\n",
    "    Returns:\n",
    "        np.ndarray: Numpy array with optimization results for each tau.\n",
    "    \"\"\"\n",
    "    for tau_idx, tau_current in enumerate(tau_dephase):\n",
    "        # if gamma_post_selection == 0:\n",
    "        #     if tau_current == 0:\n",
    "        #         init_par[0] = torch.tensor(2.3561797)\n",
    "        #     else:\n",
    "        #         init_par = init_par.clone()\n",
    "            # elif tau_current == 5e-2:\n",
    "            #     init_par[0] = torch.tensor(2.3561797)\n",
    "            #     init_par[1] = torch.tensor(2.5612175)\n",
    "\n",
    "        set_circuit(tau_current, gamma_post_selection)\n",
    "        \n",
    "        temp = torch_optimization(sweep_range, init_par, method).detach().cpu().numpy()\n",
    "        if tau_idx == 0:\n",
    "            Data = np.zeros((len(tau_dephase), len(temp[:,0]), len(temp[0,:])))\n",
    "            Data[tau_idx][:, :] = temp\n",
    "        else:\n",
    "            Data[tau_idx][:, :] = temp\n",
    "            \n",
    "    return Data"
   ]
  },
  {
   "cell_type": "code",
   "execution_count": 453,
   "metadata": {},
   "outputs": [
    {
     "name": "stdout",
     "output_type": "stream",
     "text": [
      "CFI = 2.012362846588524 Paras = [5.497822   5.497822   0.49889493 1.5801139 ]\n",
      "CFI = 1.9928065842211136 Paras = [5.497763   5.497763   0.49889493 1.5801139 ]\n",
      "CFI = 1.9392775814034158 Paras = [5.497763   5.497763   0.49889493 1.5801139 ]\n",
      "CFI = 1.849258441311079 Paras = [5.497763   5.497763   0.49889493 1.5801139 ]\n",
      "CFI = 1.7243414490258266 Paras = [5.497763   5.497763   0.49889493 1.5801139 ]\n",
      "CFI = 1.5831592769746698 Paras = [5.497763   5.497763   0.49889493 1.5801139 ]\n",
      "CFI = 1.4755934548383265 Paras = [5.497763   5.497763   0.49889493 1.5801139 ]\n",
      "CFI = 1.4568580122764583 Paras = [5.497763   5.497763   0.49889493 1.5801139 ]\n",
      "CFI = 1.5121967079043361 Paras = [5.4977674  5.4977674  0.49889493 1.5801139 ]\n",
      "CFI = 1.5595932134528356 Paras = [5.497772   5.497772   0.49889493 1.5801139 ]\n",
      "CFI = 1.5319819189775645 Paras = [5.497772   5.497772   0.49889493 1.5801139 ]\n",
      "CFI = 1.400099379082262 Paras = [5.497772   5.497772   0.49889493 1.5801139 ]\n",
      "CFI = 1.1526275212058703 Paras = [5.497772   5.497772   0.49889493 1.5801139 ]\n",
      "CFI = 0.7946287667739229 Paras = [5.497772   5.497772   0.49889493 1.5801139 ]\n",
      "CFI = 0.38136742284696223 Paras = [5.497772   5.497772   0.49889493 1.5801139 ]\n",
      "CFI = 0.06302387098816185 Paras = [5.497772   5.497772   0.49889493 1.5801139 ]\n",
      "CFI = 0.026607522766059963 Paras = [5.497772   5.497772   0.49889493 1.5801139 ]\n",
      "CFI = 0.2976211171336829 Paras = [5.497772   5.497772   0.49889493 1.5801139 ]\n",
      "CFI = 0.7065445359522358 Paras = [5.497772   5.497772   0.49889493 1.5801139 ]\n",
      "CFI = 1.0839116604650347 Paras = [5.497772   5.497772   0.49889493 1.5801139 ]\n",
      "CFI = 1.3566398108475202 Paras = [5.497772   5.497772   0.49889493 1.5801139 ]\n",
      "CFI = 1.5128806035495215 Paras = [5.497772   5.497772   0.49889493 1.5801139 ]\n",
      "CFI = 1.5614380012917837 Paras = [5.4977727  5.4977727  0.49889493 1.5801139 ]\n",
      "CFI = 1.526069246312371 Paras = [5.4977727  5.4977727  0.49889493 1.5801139 ]\n",
      "CFI = 1.4648815778688586 Paras = [5.4977727  5.4977727  0.49889493 1.5801139 ]\n",
      "CFI = 1.4630042287838285 Paras = [5.4977727  5.4977727  0.49889493 1.5801139 ]\n",
      "CFI = 1.5548194774870532 Paras = [5.4977727  5.4977727  0.49889493 1.5801139 ]\n",
      "CFI = 1.6940422166490583 Paras = [5.4977727  5.4977727  0.49889493 1.5801139 ]\n",
      "CFI = 1.8249832846635166 Paras = [5.4977727  5.4977727  0.49889493 1.5801139 ]\n",
      "CFI = 1.9229954032340053 Paras = [5.4977727  5.4977727  0.49889493 1.5801139 ]\n",
      "CFI = 1.984211432814655 Paras = [5.4977727  5.4977727  0.49889493 1.5801139 ]\n",
      "CFI = 2.0109098218763135 Paras = [5.4977727  5.4977727  0.49889493 1.5801139 ]\n",
      "CFI = 2.0049358924374427 Paras = [5.4977727  5.4977727  0.49889493 1.5801139 ]\n",
      "CFI = 1.9658382065479068 Paras = [5.4977727  5.4977727  0.49889493 1.5801139 ]\n",
      "CFI = 1.891230005846566 Paras = [5.4977727  5.4977727  0.49889493 1.5801139 ]\n",
      "CFI = 1.7799436702814846 Paras = [5.4977727  5.4977727  0.49889493 1.5801139 ]\n",
      "CFI = 1.6414045699842825 Paras = [5.4977727  5.4977727  0.49889493 1.5801139 ]\n",
      "CFI = 1.5119794996861349 Paras = [5.4977727  5.4977727  0.49889493 1.5801139 ]\n",
      "CFI = 1.4525245929919046 Paras = [5.4977727  5.4977727  0.49889493 1.5801139 ]\n",
      "CFI = 1.4849476454179171 Paras = [5.4977727  5.4977727  0.49889493 1.5801139 ]\n",
      "CFI = 1.5461568859026678 Paras = [5.4977727  5.4977727  0.49889493 1.5801139 ]\n",
      "CFI = 1.5550765684533299 Paras = [5.4977727  5.4977727  0.49889493 1.5801139 ]\n",
      "CFI = 1.4685752148212825 Paras = [5.4977727  5.4977727  0.49889493 1.5801139 ]\n",
      "CFI = 1.2698693046646046 Paras = [5.4977727  5.4977727  0.49889493 1.5801139 ]\n",
      "CFI = 0.955184894785176 Paras = [5.4977727  5.4977727  0.49889493 1.5801139 ]\n",
      "CFI = 0.5526964790982499 Paras = [5.4977727  5.4977727  0.49889493 1.5801139 ]\n",
      "CFI = 0.1706403235030831 Paras = [5.4977727  5.4977727  0.49889493 1.5801139 ]\n",
      "CFI = 9.988567860326548e-05 Paras = [5.4977727  5.4977727  0.49889493 1.5801139 ]\n",
      "CFI = 0.15608560821932074 Paras = [5.4977727  5.4977727  0.49889493 1.5801139 ]\n",
      "CFI = 0.5326778289074874 Paras = [5.4977727  5.4977727  0.49889493 1.5801139 ]\n",
      "CFI = 0.9374898317817284 Paras = [5.4977727  5.4977727  0.49889493 1.5801139 ]\n",
      "CFI = 1.2574342714130835 Paras = [5.4977727  5.4977727  0.49889493 1.5801139 ]\n",
      "CFI = 1.4617149355169667 Paras = [5.4977727  5.4977727  0.49889493 1.5801139 ]\n",
      "CFI = 1.5533094719543312 Paras = [5.4977727  5.4977727  0.49889493 1.5801139 ]\n",
      "CFI = 1.54827596004281 Paras = [5.4977727  5.4977727  0.49889493 1.5801139 ]\n",
      "CFI = 1.4879497448156285 Paras = [5.4977727  5.4977727  0.49889493 1.5801139 ]\n",
      "CFI = 1.4521831555354117 Paras = [5.4977727  5.4977727  0.49889493 1.5801139 ]\n",
      "CFI = 1.5070733922273478 Paras = [5.4977727  5.4977727  0.49889493 1.5801139 ]\n",
      "CFI = 1.6345796923259144 Paras = [5.4977727  5.4977727  0.49889493 1.5801139 ]\n",
      "CFI = 1.7737877700529903 Paras = [5.4977727  5.4977727  0.49889493 1.5801139 ]\n",
      "CFI = 1.8867360167413185 Paras = [5.4977727  5.4977727  0.49889493 1.5801139 ]\n",
      "CFI = 1.9631041760970698 Paras = [5.4977727  5.4977727  0.49889493 1.5801139 ]\n",
      "CFI = 2.0038348530988648 Paras = [5.4977727  5.4977727  0.49889493 1.5801139 ]\n"
     ]
    }
   ],
   "source": [
    "# ===================\n",
    "tau_set = 5e-1,\n",
    "gamma_ps_set = 0\n",
    "init_par = torch.tensor([5.5038905, 5.5038905,  0.42476583, 1.5801139], \n",
    "                        dtype=torch.float)\n",
    "# ===================\n",
    "\n",
    "sweep_range = torch.tensor([1e-2, 2*torch.pi, 1e-1], dtype=torch.float, requires_grad=False)\n",
    "res = optimization_by_tau(sweep_range, init_par, tau_set, gamma_ps_set, 'LBFGS')\n",
    "# res = optimization_by_tau(sweep_range, init_par, tau_set, gamma_ps_set, 'LBFGS')"
   ]
  },
  {
   "cell_type": "code",
   "execution_count": 454,
   "metadata": {},
   "outputs": [
    {
     "data": {
      "image/png": "[encoded data removed]",
      "text/plain": [
       "<Figure size 640x480 with 1 Axes>"
      ]
     },
     "metadata": {},
     "output_type": "display_data"
    }
   ],
   "source": [
    "pt.plot_result(res, tau_set, gamma_ps_set, 'CFI')"
   ]
  },
  {
   "cell_type": "code",
   "execution_count": 455,
   "metadata": {},
   "outputs": [
    {
     "data": {
      "image/png": "[encoded data removed]",
      "text/plain": [
       "<Figure size 640x480 with 1 Axes>"
      ]
     },
     "metadata": {},
     "output_type": "display_data"
    }
   ],
   "source": [
    "pt.plot_result(res, tau_set, gamma_ps_set, 'theta_x')"
   ]
  },
  {
   "cell_type": "code",
   "execution_count": 456,
   "metadata": {},
   "outputs": [
    {
     "data": {
      "image/png": "[encoded data removed]",
      "text/plain": [
       "<Figure size 640x480 with 1 Axes>"
      ]
     },
     "metadata": {},
     "output_type": "display_data"
    }
   ],
   "source": [
    "pt.plot_result(res, tau_set, gamma_ps_set, 'tau_1')"
   ]
  },
  {
   "cell_type": "code",
   "execution_count": 457,
   "metadata": {},
   "outputs": [
    {
     "data": {
      "image/png": "[encoded data removed]",
      "text/plain": [
       "<Figure size 640x480 with 1 Axes>"
      ]
     },
     "metadata": {},
     "output_type": "display_data"
    }
   ],
   "source": [
    "pt.plot_result(res, tau_set, gamma_ps_set, 'tau_2')"
   ]
  }
 ],
 "metadata": {
  "kernelspec": {
   "display_name": "Python 3",
   "language": "python",
   "name": "python3"
  },
  "language_info": {
   "codemirror_mode": {
    "name": "ipython",
    "version": 3
   },
   "file_extension": ".py",
   "mimetype": "text/x-python",
   "name": "python",
   "nbconvert_exporter": "python",
   "pygments_lexer": "ipython3",
   "version": "3.11.4"
  }
 },
 "nbformat": 4,
 "nbformat_minor": 2
}
