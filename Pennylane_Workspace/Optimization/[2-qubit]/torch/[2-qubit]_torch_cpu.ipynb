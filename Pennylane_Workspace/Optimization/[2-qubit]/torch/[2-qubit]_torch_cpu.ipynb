{
 "cells": [
  {
   "cell_type": "code",
   "execution_count": 544,
   "metadata": {},
   "outputs": [],
   "source": [
    "# ==============================\n",
    "# Standard Library Imports\n",
    "# ==============================\n",
    "from enum import Enum\n",
    "import random\n",
    "\n",
    "# ==============================\n",
    "# Third-party Library Imports\n",
    "# ==============================\n",
    "import matplotlib.pyplot as plt\n",
    "from IPython.display import display, Latex\n",
    "from matplotlib.ticker import MultipleLocator\n",
    "import numpy as np  # Original numpy\n",
    "import pennylane as qml\n",
    "import torch \n",
    "\n",
    "# ==============================\n",
    "# User defined \n",
    "# ==============================\n",
    "import plot_data as pt\n",
    "import torch_optimizer as tr_opt"
   ]
  },
  {
   "cell_type": "code",
   "execution_count": 545,
   "metadata": {},
   "outputs": [],
   "source": [
    "# ==============================\n",
    "# Setup for Quantum Computations\n",
    "# ==============================\n",
    "\n",
    "# PennyLane settings\n",
    "dev = qml.device('default.mixed', wires=2)\n",
    "\n",
    "# Define Hamiltonian for quantum computations\n",
    "# H = qml.Hamiltonian(coeffs=[-0.5, -0.5], observables=[qml.PauliZ(0), qml.PauliZ(1)])\n",
    "H = qml.Hamiltonian(coeffs=[-0.5], observables=[qml.PauliZ(0) @ qml.PauliZ(1)])\n",
    "H_1 = qml.Hamiltonian(coeffs=[-0.5, -0.5], observables=[qml.PauliZ(0), qml.PauliZ(1)])\n",
    "# H_1 = qml.Hamiltonian(coeffs=[-0.5], observables=[qml.PauliZ(0)])"
   ]
  },
  {
   "cell_type": "markdown",
   "metadata": {},
   "source": [
    "## Legacy\n",
    "\n",
    "#### Common use\n",
    "\n",
    "$$\n",
    "H = -0.5 \\cdot Z_0 - 0.5 \\cdot Z_1 \n",
    "$$\n",
    "\n",
    "$$\n",
    "= -0.5 \\cdot (Z \\otimes I) - 0.5 \\cdot (I \\otimes Z)\n",
    "$$\n",
    "\n",
    "$$\n",
    "\n",
    "$$\n",
    "\n",
    "\n",
    "$$\n",
    "where,\n",
    "Z = \\begin{pmatrix} 1 & 0 \\\\ 0 & -1 \\end{pmatrix}\n",
    "$$"
   ]
  },
  {
   "cell_type": "markdown",
   "metadata": {},
   "source": [
    "## New Hamiltonian\n",
    "\n",
    "#### Entangler Hamiltonian\n",
    "\n",
    "$$\n",
    "H = -0.5 \\, Z_0 \\otimes Z_1\n",
    "$$\n",
    "\n",
    "\n",
    "$$\n",
    "where,\n",
    "Z = \\begin{pmatrix} 1 & 0 \\\\ 0 & -1 \\end{pmatrix}\n",
    "$$"
   ]
  },
  {
   "cell_type": "markdown",
   "metadata": {},
   "source": [
    "#### Phase Accumulator Hamiltonian\n",
    "\n",
    "\n",
    "$$\n",
    "H_{1} = -0.5 \\cdot Z_0 - 0.5 \\cdot Z_1 \n",
    "$$\n",
    "\n",
    "$$\n",
    "= -0.5 \\cdot (Z \\otimes I) - 0.5 \\cdot (I \\otimes Z)\n",
    "$$\n",
    "\n",
    "$$\n",
    "\n",
    "$$\n",
    "\n",
    "\n",
    "$$\n",
    "where,\n",
    "Z = \\begin{pmatrix} 1 & 0 \\\\ 0 & -1 \\end{pmatrix}\n",
    "$$"
   ]
  },
  {
   "cell_type": "code",
   "execution_count": 546,
   "metadata": {},
   "outputs": [],
   "source": [
    "# Global Parameters\n",
    "Tau_global = torch.tensor(0, dtype=torch.float, requires_grad=False)   # Dephase tau\n",
    "Gamma_ps_global = torch.tensor(0, dtype=torch.float, requires_grad=False)\n",
    "Paras_global = torch.tensor([0, 0, 0, 0], dtype=torch.float, requires_grad=True)\n",
    "Phi_global = torch.tensor(0, dtype=torch.float, requires_grad=True)\n",
    "\n",
    "def Dephase_factor(tau):\n",
    "    \"\"\" \n",
    "    Calculate the dephasing factor for a given dephasing time tau.\n",
    "\n",
    "    Args:\n",
    "        tau (torch.Tensor): Dephasing time.\n",
    "\n",
    "    Returns:\n",
    "        torch.Tensor: Dephasing factor.\n",
    "    \"\"\"  \n",
    "    return 1 - torch.exp(-2 * tau)"
   ]
  },
  {
   "cell_type": "markdown",
   "metadata": {},
   "source": [
    "$$\n",
    "Let, e^{-t/T_2} = e^{-\\tau} \\\\[1em]\n",
    "\n",
    "\\frac{1}{2} \n",
    "\n",
    "\\begin{bmatrix}\n",
    "\n",
    "1 & e^{(i\\phi - \\tau)} \\\\\n",
    "e^{(-i\\phi - \\tau)} & 1\n",
    "\n",
    "\\end{bmatrix}\n",
    "\n",
    "=\n",
    "\n",
    "\\frac{1}{2} \n",
    "\n",
    "\\begin{bmatrix}\n",
    "\n",
    "1 & e^{i\\phi} \\sqrt{1 - \\gamma} \\\\\n",
    "e^{-i\\phi} \\sqrt{1 - \\gamma} & 1\n",
    "\n",
    "\\end{bmatrix}\n",
    "$$\n",
    "\n",
    "$$\n",
    "\\\\[1em]\n",
    "Then,\n",
    "\\quad \\gamma = \n",
    "1 - e^{-2 \\tau}\n",
    "$$\n",
    "\n",
    "$$ \n",
    "e^{-\\tau} = \\sqrt{1 - \\gamma}\n",
    "$$"
   ]
  },
  {
   "cell_type": "code",
   "execution_count": 547,
   "metadata": {},
   "outputs": [],
   "source": [
    "@qml.qnode(dev, interface='torch', diff_method='backprop')\n",
    "def circuit(phi):\n",
    "    global Paras_global, Tau_global\n",
    "    theta_x = Paras_global[0]\n",
    "    phi_z = Paras_global[1]\n",
    "    tau_1 = Paras_global[2]\n",
    "    tau_2 = Paras_global[3]\n",
    "    \n",
    "    gamma_dephase = Dephase_factor(Tau_global)\n",
    "    \n",
    "    # Stage_1: RY for pi/2\n",
    "    qml.RY(torch.pi/2, wires=0)\n",
    "    qml.RY(torch.pi/2, wires=1)\n",
    "    \n",
    "    # Stage_2: Entangler    \n",
    "    qml.ApproxTimeEvolution(H, tau_1, 1)\n",
    "    qml.PhaseDamping(gamma_dephase, wires = 0)\n",
    "    qml.PhaseDamping(gamma_dephase, wires = 1)    \n",
    "    \n",
    "    qml.RX(theta_x, wires = 0)    \n",
    "    qml.RX(theta_x, wires = 1)    \n",
    "\n",
    "    qml.RY(-torch.pi/2, wires = 0)    \n",
    "    qml.RY(-torch.pi/2, wires = 1)   \n",
    "\n",
    "    qml.ApproxTimeEvolution(H, tau_2, 1)\n",
    "    qml.PhaseDamping(gamma_dephase, wires = 0)\n",
    "    qml.PhaseDamping(gamma_dephase, wires = 1) \n",
    "    \n",
    "    qml.RY(torch.pi/2, wires = 0)    \n",
    "    qml.RY(torch.pi/2, wires = 1) \n",
    "    \n",
    "    # Stage_3: Accumulator\n",
    "    qml.ApproxTimeEvolution(H_1, phi, 1)\n",
    "    qml.PhaseDamping(gamma_dephase, wires = 0)\n",
    "    qml.PhaseDamping(gamma_dephase, wires = 1) \n",
    "    \n",
    "    qml.RZ(phi_z, wires=0)\n",
    "    qml.RZ(phi_z, wires=1)\n",
    "    \n",
    "    qml.RX(torch.pi/(2), wires=0)\n",
    "    qml.RX(torch.pi/(2), wires=1)\n",
    "    \n",
    "    return qml.density_matrix(wires = [0, 1])"
   ]
  },
  {
   "cell_type": "code",
   "execution_count": 548,
   "metadata": {},
   "outputs": [
    {
     "data": {
      "image/png": "[encoded data removed]",
      "text/plain": [
       "<Figure size 1500x300 with 1 Axes>"
      ]
     },
     "metadata": {},
     "output_type": "display_data"
    }
   ],
   "source": [
    "fig, ax = qml.draw_mpl(circuit)(np.pi)"
   ]
  },
  {
   "cell_type": "code",
   "execution_count": 549,
   "metadata": {},
   "outputs": [],
   "source": [
    "@qml.qnode(dev, interface = 'torch', diff_method = 'backprop')\n",
    "def Post_selection(phi):\n",
    "\n",
    "    global Paras_global, Gamma_ps_global\n",
    "    get_density_matrix = circuit(phi)\n",
    "        \n",
    "    # Kraus operator for 2*2 matrix\n",
    "    K = torch.tensor([\n",
    "        [torch.sqrt(1 - Gamma_ps_global), 0], \n",
    "        [0, 1]\n",
    "    ], dtype=torch.complex128)\n",
    "    \n",
    "    Numerator = torch.kron(K, K) @ get_density_matrix @ torch.kron(K, K).conj().T\n",
    "    Denominator = torch.trace(Numerator)\n",
    "    \n",
    "    rho_ps = Numerator / Denominator\n",
    "    \n",
    "    qml.QubitDensityMatrix(rho_ps, wires = [0, 1])\n",
    "    \n",
    "    return qml.density_matrix(wires = [0, 1])  "
   ]
  },
  {
   "cell_type": "markdown",
   "metadata": {},
   "source": [
    "$$ \n",
    "K =  \\begin{bmatrix}\n",
    "\\sqrt{1-\\gamma_{ps}} & 0 \\\\\n",
    "0 & 1 \n",
    "\\end{bmatrix}  \n",
    "$$\n",
    "\n",
    "\n",
    "$$\n",
    "\\rho_{ps} = \n",
    "\\frac{(K \\otimes K) \\rho (K \\otimes K)^{\\dagger}}\n",
    "% (K^{\\dagger} \\otimes I ^{\\dagger})}\n",
    "\n",
    "{Tr[(K \\otimes K) \\rho (K \\otimes K)^{\\dagger}]}\n",
    "$$"
   ]
  },
  {
   "cell_type": "code",
   "execution_count": 550,
   "metadata": {},
   "outputs": [],
   "source": [
    "def set_circuit(desired_tau_dephase, desired_gamma_post_selection):\n",
    "    \"\"\"\n",
    "    Set the global dephasing rate and post-selection rate for the circuit.\n",
    "\n",
    "    Args:\n",
    "        desired_tau_dephase (float): Desired dephasing rate tau.\n",
    "        desired_gamma_post_selection (float): Desired post-selection rate gamma.\n",
    "    \"\"\"\n",
    "    global Tau_global, Gamma_ps_global \n",
    "    \n",
    "    Tau_global = torch.tensor(desired_tau_dephase)\n",
    "    Gamma_ps_global = torch.tensor([desired_gamma_post_selection])"
   ]
  },
  {
   "cell_type": "code",
   "execution_count": 551,
   "metadata": {},
   "outputs": [],
   "source": [
    "def cost_function(paras):\n",
    "    \"\"\" \n",
    "    Compute the cost using classical Fisher information for the given parameters.\n",
    "\n",
    "    Args:\n",
    "        paras (torch.Tensor): Parameters for quantum gates.\n",
    "\n",
    "    Returns:\n",
    "        torch.Tensor: Computed cost.\n",
    "    \"\"\"\n",
    "    global Paras_global, Phi_global\n",
    "    Paras_global = paras\n",
    "\n",
    "    CFI = qml.qinfo.classical_fisher(Post_selection)(Phi_global)\n",
    "    \n",
    "    return -CFI"
   ]
  },
  {
   "cell_type": "code",
   "execution_count": 552,
   "metadata": {},
   "outputs": [],
   "source": [
    "def plot_test():\n",
    "    global Paras_global\n",
    "    # set circuit\n",
    "    set_circuit(0, 0.8)\n",
    "    Paras_global = torch.tensor([torch.pi/2, torch.pi/2, torch.pi/2])\n",
    "    \n",
    "    PHI = torch.arange(0, 3*torch.pi, 1e-1)\n",
    "    Data_temp = torch.zeros((len(PHI), 2))\n",
    "    Data_temp[:, 0] = PHI\n",
    "\n",
    "    for idx, phi_current in enumerate(PHI):\n",
    "        phi_temp = torch.tensor([phi_current])\n",
    "        Data_temp[idx][1] = qml.qinfo.classical_fisher(Post_selection)(phi_temp)\n",
    "\n",
    "    Data_temp = Data_temp.detach().numpy() \n",
    "    \n",
    "    plt.plot(Data_temp[:,0], Data_temp[:,1], label = f'$\\gamma$ = {Gamma_ps_global}')\n",
    "\n",
    "    plt.title('CFI by selected gamma')\n",
    "    plt.xlabel('Time')\n",
    "    plt.ylabel('CFI')\n",
    "    plt.legend()\n",
    "    plt.grid()\n",
    "    \n",
    "# plot_test()"
   ]
  },
  {
   "cell_type": "code",
   "execution_count": 553,
   "metadata": {},
   "outputs": [],
   "source": [
    "def torch_optimization(sweep_range, initial_parameters, method):\n",
    "    \"\"\" \n",
    "    Perform optimization using specified optimizer over a range of phi values.\n",
    "\n",
    "    Args:\n",
    "        sweep_range (list): Range of phi values for optimization.\n",
    "        initial_parameters (torch.Tensor): Initial parameters for optimization.\n",
    "        method (str): Optimization method ('LBFGS' or 'Adam').\n",
    "\n",
    "    Returns:\n",
    "        torch.Tensor: Data tensor containing optimization results.\n",
    "    \"\"\"\n",
    "    Phi = torch.arange(sweep_range[0], sweep_range[1], sweep_range[2], dtype=torch.float32)\n",
    "    Data = torch.zeros((len(Phi), len(initial_parameters) + 2))\n",
    "    Data[:,0] = Phi\n",
    "    \n",
    "    global Phi_global\n",
    "    params_tensor = initial_parameters.clone().requires_grad_(True)\n",
    "    \n",
    "    opt = tr_opt.select_optimizer(method, params_tensor)\n",
    "    \n",
    "    def closure():\n",
    "        opt.zero_grad()\n",
    "        loss = cost_function(params_tensor)\n",
    "        loss.backward()\n",
    "        return loss\n",
    "       \n",
    "    steps = 1\n",
    "    f_logs = [cost_function(params_tensor).item()]\n",
    "    ftol = 1e-9\n",
    "        \n",
    "    # Begin optimization\n",
    "    for phi_idx in range(len(Phi)):\n",
    "        Phi_global = Phi[phi_idx].clone().requires_grad_(True)\n",
    "        \n",
    "        # if Phi[phi_idx] < 3:\n",
    "        #     steps = 20\n",
    "        # elif Phi[phi_idx] < 10:\n",
    "        #     steps = 10\n",
    "        # else:\n",
    "        #     steps = 1\n",
    "\n",
    "        for i in range(steps):\n",
    "            opt.step(closure)\n",
    "\n",
    "            fval = cost_function(opt.param_groups[0]['params'][0]).item()\n",
    "            # print(f\"{i+1:03d}th iteration, CFI=\", fval)\n",
    "            f_logs.append(fval)\n",
    "            if np.abs((fval-f_logs[-2])/fval) < ftol:\n",
    "                break\n",
    "            \n",
    "        print(\"CFI =\", -fval, \"Paras =\", opt.param_groups[0]['params'][0].detach().numpy())\n",
    "        \n",
    "        Data[phi_idx, 1] = -fval\n",
    "        Data[phi_idx, 2:] = opt.param_groups[0]['params'][0]\n",
    "\n",
    "    return Data"
   ]
  },
  {
   "cell_type": "code",
   "execution_count": 554,
   "metadata": {},
   "outputs": [],
   "source": [
    "def optimization_by_tau(sweep_range, init_par, tau_dephase, gamma_post_selection, method):\n",
    "    \"\"\" \n",
    "    Iterate over different values of tau_dephase and gamma_post_selection for optimization.\n",
    "\n",
    "    Args:\n",
    "        sweep_range (list): Range of phi values for optimization.\n",
    "        init_par (torch.Tensor): Initial parameters for optimization.\n",
    "        tau_dephase (list): List of dephasing rates tau to iterate over.\n",
    "        gamma_post_selection (float): Post-selection rate gamma.\n",
    "        method (str): Optimization method.\n",
    "\n",
    "    Returns:\n",
    "        np.ndarray: Numpy array with optimization results for each tau.\n",
    "    \"\"\"\n",
    "    for tau_idx, tau_current in enumerate(tau_dephase):\n",
    "        # if gamma_post_selection == 0:\n",
    "        #     if tau_current == 0:\n",
    "        #         init_par[0] = torch.tensor(2.3561797)\n",
    "        #     else:\n",
    "        #         init_par = init_par.clone()\n",
    "            # elif tau_current == 5e-2:\n",
    "            #     init_par[0] = torch.tensor(2.3561797)\n",
    "            #     init_par[1] = torch.tensor(2.5612175)\n",
    "\n",
    "        set_circuit(tau_current, gamma_post_selection)\n",
    "        \n",
    "        temp = torch_optimization(sweep_range, init_par, method).detach().cpu().numpy()\n",
    "        if tau_idx == 0:\n",
    "            Data = np.zeros((len(tau_dephase), len(temp[:,0]), len(temp[0,:])))\n",
    "            Data[tau_idx][:, :] = temp\n",
    "        else:\n",
    "            Data[tau_idx][:, :] = temp\n",
    "            \n",
    "    return Data"
   ]
  },
  {
   "cell_type": "code",
   "execution_count": 555,
   "metadata": {},
   "outputs": [
    {
     "name": "stdout",
     "output_type": "stream",
     "text": [
      "CFI = 0.25623543784614344 Paras = [1.6012448 1.3975495 1.5707964 1.5707964]\n",
      "CFI = 1.9929022286639695 Paras = [2.003508  1.092289  1.5707964 1.5707964]\n",
      "CFI = 2.283851598911065 Paras = [2.1081643 1.0706457 1.5707964 1.5707964]\n",
      "CFI = 2.363818895941293 Paras = [2.1651034 1.059789  1.5707964 1.5707964]\n",
      "CFI = 2.329772187542308 Paras = [2.205235  1.0563835 1.5707964 1.5707964]\n",
      "CFI = 2.217802758369239 Paras = [2.2407405 1.0626755 1.5707964 1.5707964]\n",
      "CFI = 2.0670169814948722 Paras = [2.2767484 1.0868639 1.5707964 1.5707964]\n",
      "CFI = 1.9350985877661542 Paras = [2.2957654 1.1410272 1.5707964 1.5707964]\n",
      "CFI = 1.8136655902540177 Paras = [2.30818   1.2065262 1.5707964 1.5707964]\n",
      "CFI = 1.7097310825990992 Paras = [2.3194783 1.2802289 1.5707964 1.5707964]\n",
      "CFI = 1.6362918912341016 Paras = [2.3293655 1.3629814 1.5707964 1.5707964]\n",
      "CFI = 1.5953147605388427 Paras = [2.3373947 1.4537183 1.5707964 1.5707964]\n",
      "CFI = 1.5771270092602032 Paras = [2.3433874 1.5496478 1.5707964 1.5707964]\n",
      "CFI = 1.570195165762482 Paras = [2.347598  1.6480829 1.5707964 1.5707964]\n",
      "CFI = 1.567684249349906 Paras = [2.3504572 1.7475051 1.5707965 1.5707964]\n",
      "CFI = 1.5667631322928193 Paras = [2.3523736 1.8472888 1.5707964 1.5707964]\n",
      "CFI = 1.566412635603466 Paras = [2.353652  1.9472047 1.5707964 1.5707964]\n",
      "CFI = 1.5662736360582459 Paras = [2.3545032 2.0471709 1.570796  1.5707964]\n",
      "CFI = 1.566217208067779 Paras = [2.3550696 2.147157  1.5707963 1.5707964]\n",
      "CFI = 1.5661944351342636 Paras = [2.3554466 2.2471511 1.5707965 1.5707964]\n",
      "CFI = 1.5661832044735893 Paras = [2.355697  2.3471484 1.5707963 1.5707964]\n",
      "CFI = 1.5661784063459359 Paras = [2.3558636 2.4471474 1.5707959 1.5707964]\n",
      "CFI = 1.5661766502106604 Paras = [2.3559747 2.5471468 1.5707961 1.5707964]\n",
      "CFI = 1.5661758777161112 Paras = [2.3560483 2.6471465 1.5707964 1.5707964]\n",
      "CFI = 1.5661755890633315 Paras = [2.3560972 2.7471466 1.5707966 1.5707964]\n",
      "CFI = 1.5661745932695634 Paras = [2.35613   2.8471463 1.5707965 1.5707964]\n",
      "CFI = 1.5661747024751402 Paras = [2.3561513 2.9471464 1.5707964 1.5707964]\n",
      "CFI = 1.5661745909448115 Paras = [2.356166  3.0471463 1.5707964 1.5707964]\n",
      "CFI = 1.5661747058788564 Paras = [2.3561754 3.1471465 1.5707959 1.5707964]\n",
      "CFI = 1.5661757700914063 Paras = [2.3561816 3.2471466 1.5707961 1.5707964]\n",
      "CFI = 1.5661746977649837 Paras = [2.356186  3.3471463 1.5707964 1.5707964]\n",
      "CFI = 1.5661745951043358 Paras = [2.3561888 3.4471464 1.5707965 1.5707964]\n",
      "CFI = 1.5661758593178055 Paras = [2.3561907 3.5471466 1.5707964 1.5707964]\n",
      "CFI = 1.5661769708791409 Paras = [2.3561919 3.6471467 1.5707964 1.5707964]\n",
      "CFI = 1.5661768264082272 Paras = [2.3561926 3.7471468 1.5707963 1.5707964]\n",
      "CFI = 1.566175922126229 Paras = [2.3561933 3.8471465 1.5707963 1.5707964]\n",
      "CFI = 1.5661758247554487 Paras = [2.3561935 3.9471467 1.5707963 1.5707964]\n",
      "CFI = 1.566174600605519 Paras = [2.3561938 4.0471463 1.5707965 1.5707964]\n",
      "CFI = 1.5661747062198295 Paras = [2.3561938 4.147146  1.5707963 1.5707964]\n",
      "CFI = 1.5661759052058803 Paras = [2.356194  4.2471466 1.5707963 1.5707964]\n",
      "CFI = 1.5661768902861057 Paras = [2.3561943 4.347147  1.5707961 1.5707964]\n",
      "CFI = 1.5661744848791428 Paras = [2.3561943 4.4471464 1.5707964 1.5707964]\n",
      "CFI = 1.5661746867186357 Paras = [2.3561945 4.5471463 1.5707963 1.5707964]\n",
      "CFI = 1.5661743910096297 Paras = [2.3561945 4.6471467 1.5707963 1.5707964]\n",
      "CFI = 1.5661749151043343 Paras = [2.3561945 4.7471466 1.5707963 1.5707964]\n",
      "CFI = 1.5661744074586523 Paras = [2.3561945 4.8471465 1.570796  1.5707964]\n",
      "CFI = 1.5661743538364705 Paras = [2.3561945 4.9471464 1.5707963 1.5707964]\n",
      "CFI = 1.5661748353558749 Paras = [2.3561945 5.0471463 1.5707963 1.5707964]\n",
      "CFI = 1.5661750774815422 Paras = [2.3561945 5.147146  1.5707963 1.5707964]\n",
      "CFI = 1.566176917470607 Paras = [2.3561945 5.2471466 1.5707964 1.5707964]\n",
      "CFI = 1.5661747279514762 Paras = [2.3561945 5.3471465 1.5707964 1.5707964]\n",
      "CFI = 1.5661769179954823 Paras = [2.3561945 5.447147  1.5707964 1.5707964]\n",
      "CFI = 1.5661748821095398 Paras = [2.3561945 5.5471463 1.5707965 1.5707964]\n",
      "CFI = 1.5661745213807592 Paras = [2.3561945 5.647146  1.5707961 1.5707964]\n",
      "CFI = 1.5661767577404742 Paras = [2.3561945 5.7471466 1.5707961 1.5707964]\n",
      "CFI = 1.56617490634747 Paras = [2.3561945 5.8471465 1.5707961 1.5707964]\n",
      "CFI = 1.5661766813773004 Paras = [2.3561945 5.947147  1.5707965 1.5707964]\n",
      "CFI = 1.5661769141908182 Paras = [2.3561945 6.047147  1.5707965 1.5707964]\n",
      "CFI = 1.5661746754778416 Paras = [2.3561945 6.147146  1.5707961 1.5707964]\n",
      "CFI = 1.5661747418134628 Paras = [2.3561945 6.2471466 1.570796  1.5707964]\n",
      "CFI = 1.5661745275036063 Paras = [2.3561945 6.3471465 1.5707965 1.5707964]\n",
      "CFI = 1.566176966327513 Paras = [2.3561945 6.447147  1.5707966 1.5707964]\n",
      "CFI = 1.5661747486489916 Paras = [2.3561945 6.5471463 1.5707964 1.5707964]\n"
     ]
    }
   ],
   "source": [
    "# ===================\n",
    "tau_set = 5e-2,\n",
    "gamma_ps_set = 0\n",
    "init_par = torch.tensor([torch.pi/2,torch.pi/2,torch.pi/2,torch.pi/2], \n",
    "                        dtype=torch.float)\n",
    "# ===================\n",
    "\n",
    "sweep_range = torch.tensor([1e-2, 2*torch.pi, 1e-1], dtype=torch.float, requires_grad=False)\n",
    "res = optimization_by_tau(sweep_range, init_par, tau_set, gamma_ps_set, 'LBFGS')\n",
    "# res = optimization_by_tau(sweep_range, init_par, tau_set, gamma_ps_set, 'LBFGS')"
   ]
  },
  {
   "cell_type": "code",
   "execution_count": 556,
   "metadata": {},
   "outputs": [
    {
     "data": {
      "image/png": "[encoded data removed]",
      "text/plain": [
       "<Figure size 640x480 with 1 Axes>"
      ]
     },
     "metadata": {},
     "output_type": "display_data"
    }
   ],
   "source": [
    "pt.plot_result(res, tau_set, gamma_ps_set, 'CFI')"
   ]
  },
  {
   "cell_type": "code",
   "execution_count": 557,
   "metadata": {},
   "outputs": [
    {
     "data": {
      "image/png": "[encoded data removed]",
      "text/plain": [
       "<Figure size 640x480 with 1 Axes>"
      ]
     },
     "metadata": {},
     "output_type": "display_data"
    }
   ],
   "source": [
    "pt.plot_result(res, tau_set, gamma_ps_set, 'theta_x')"
   ]
  },
  {
   "cell_type": "code",
   "execution_count": 558,
   "metadata": {},
   "outputs": [
    {
     "data": {
      "image/png": "[encoded data removed]",
      "text/plain": [
       "<Figure size 640x480 with 1 Axes>"
      ]
     },
     "metadata": {},
     "output_type": "display_data"
    }
   ],
   "source": [
    "pt.plot_result(res, tau_set, gamma_ps_set, 'tau_1')"
   ]
  },
  {
   "cell_type": "code",
   "execution_count": 559,
   "metadata": {},
   "outputs": [
    {
     "data": {
      "image/png": "[encoded data removed]",
      "text/plain": [
       "<Figure size 640x480 with 1 Axes>"
      ]
     },
     "metadata": {},
     "output_type": "display_data"
    }
   ],
   "source": [
    "pt.plot_result(res, tau_set, gamma_ps_set, 'tau_2')"
   ]
  }
 ],
 "metadata": {
  "kernelspec": {
   "display_name": "Python 3",
   "language": "python",
   "name": "python3"
  },
  "language_info": {
   "codemirror_mode": {
    "name": "ipython",
    "version": 3
   },
   "file_extension": ".py",
   "mimetype": "text/x-python",
   "name": "python",
   "nbconvert_exporter": "python",
   "pygments_lexer": "ipython3",
   "version": "3.11.4"
  }
 },
 "nbformat": 4,
 "nbformat_minor": 2
}
