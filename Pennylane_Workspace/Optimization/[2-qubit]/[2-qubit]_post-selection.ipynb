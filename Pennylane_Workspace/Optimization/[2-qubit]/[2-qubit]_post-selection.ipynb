{
 "cells": [
  {
   "cell_type": "code",
   "execution_count": 1,
   "metadata": {},
   "outputs": [],
   "source": [
    "# ==============================\n",
    "# Standard Library Imports\n",
    "# ==============================\n",
    "from enum import Enum\n",
    "import random\n",
    "\n",
    "# ==============================\n",
    "# Third-party Library Imports\n",
    "# ==============================\n",
    "import matplotlib.pyplot as plt\n",
    "from IPython.display import display, Latex\n",
    "from matplotlib.ticker import MultipleLocator\n",
    "import numpy as np  # Original numpy\n",
    "import pennylane as qml\n",
    "import torch \n",
    "\n",
    "# ==============================\n",
    "# User defined \n",
    "# ==============================\n",
    "import plot_data"
   ]
  },
  {
   "cell_type": "code",
   "execution_count": 2,
   "metadata": {},
   "outputs": [],
   "source": [
    "# ==============================\n",
    "# Setup for Quantum Computations\n",
    "# ==============================\n",
    "\n",
    "# PennyLane settings\n",
    "dev = qml.device('default.mixed', wires=2)\n",
    "\n",
    "# Define Hamiltonian for quantum computations\n",
    "H = qml.Hamiltonian(coeffs=[-0.5, -0.5], observables=[qml.PauliZ(0), qml.PauliZ(1)])"
   ]
  },
  {
   "cell_type": "markdown",
   "metadata": {},
   "source": [
    "$$\n",
    "H = -0.5 \\cdot Z_0 - 0.5 \\cdot Z_1 \n",
    "$$\n",
    "\n",
    "$$\n",
    "= -0.5 \\cdot (Z \\otimes I) - 0.5 \\cdot (I \\otimes Z)\n",
    "$$\n",
    "\n",
    "$$\n",
    "\n",
    "$$\n",
    "\n",
    "\n",
    "$$\n",
    "where,\n",
    "Z = \\begin{pmatrix} 1 & 0 \\\\ 0 & -1 \\end{pmatrix}\n",
    "$$"
   ]
  },
  {
   "cell_type": "code",
   "execution_count": 3,
   "metadata": {},
   "outputs": [],
   "source": [
    "# Global Parameters\n",
    "Tau_global = torch.tensor(0, dtype=torch.float, requires_grad=False)   # Dephase tau\n",
    "Gamma_ps_global = torch.tensor(0, dtype=torch.float, requires_grad=False)\n",
    "Paras_global = torch.tensor([0, 0, 0], dtype=torch.float, requires_grad=True)\n",
    "Phi_global = torch.tensor(0, dtype=torch.float, requires_grad=True)\n",
    "\n",
    "def Dephase_factor(tau):\n",
    "    \"\"\" \n",
    "    Calculate the dephasing factor for a given dephasing time tau.\n",
    "\n",
    "    Args:\n",
    "        tau (torch.Tensor): Dephasing time.\n",
    "\n",
    "    Returns:\n",
    "        torch.Tensor: Dephasing factor.\n",
    "    \"\"\"  \n",
    "    return 1 - torch.exp(-2 * tau)"
   ]
  },
  {
   "cell_type": "markdown",
   "metadata": {},
   "source": [
    "$$\n",
    "Let, e^{-t/T_2} = e^{-\\tau} \\\\[1em]\n",
    "\n",
    "\\frac{1}{2} \n",
    "\n",
    "\\begin{bmatrix}\n",
    "\n",
    "1 & e^{(i\\phi - \\tau)} \\\\\n",
    "e^{(-i\\phi - \\tau)} & 1\n",
    "\n",
    "\\end{bmatrix}\n",
    "\n",
    "=\n",
    "\n",
    "\\frac{1}{2} \n",
    "\n",
    "\\begin{bmatrix}\n",
    "\n",
    "1 & e^{i\\phi} \\sqrt{1 - \\gamma} \\\\\n",
    "e^{-i\\phi} \\sqrt{1 - \\gamma} & 1\n",
    "\n",
    "\\end{bmatrix}\n",
    "$$\n",
    "\n",
    "$$\n",
    "\\\\[1em]\n",
    "Then,\n",
    "\\quad \\gamma = \n",
    "1 - e^{-2 \\tau}\n",
    "$$\n",
    "\n",
    "$$ \n",
    "e^{-\\tau} = \\sqrt{1 - \\gamma}\n",
    "$$"
   ]
  },
  {
   "cell_type": "code",
   "execution_count": 4,
   "metadata": {},
   "outputs": [],
   "source": [
    "@qml.qnode(dev, interface='torch', diff_method='backprop')\n",
    "def circuit(phi):\n",
    "    global Paras_global, Tau_global\n",
    "    theta_x = Paras_global[0]\n",
    "    tau_1 = Paras_global[1]\n",
    "    tau_2 = Paras_global[2]\n",
    "    \n",
    "    gamma_dephase = Dephase_factor(Tau_global)\n",
    "    \n",
    "    # Stage_1: RY for pi/2\n",
    "    qml.RY(torch.pi/2, wires=0)\n",
    "    qml.RY(torch.pi/2, wires=1)\n",
    "    \n",
    "    # Stage_2: Entangler    \n",
    "    qml.ApproxTimeEvolution(H, tau_1, 1)\n",
    "    # qml.PhaseDamping(gamma_dephase, wires = 0)\n",
    "    # qml.PhaseDamping(gamma_dephase, wires = 1)    \n",
    "    \n",
    "    qml.RX(theta_x, wires = 0)    \n",
    "    qml.RX(theta_x, wires = 1)    \n",
    "\n",
    "    qml.RY(-torch.pi/2, wires = 0)    \n",
    "    qml.RY(-torch.pi/2, wires = 1)   \n",
    "\n",
    "    qml.ApproxTimeEvolution(H, tau_2, 1)\n",
    "    # qml.PhaseDamping(gamma_dephase, wires = 0)\n",
    "    # qml.PhaseDamping(gamma_dephase, wires = 1) \n",
    "    \n",
    "    qml.RY(torch.pi/2, wires = 0)    \n",
    "    qml.RY(torch.pi/2, wires = 1) \n",
    "    \n",
    "    # Stage_3: Accumulator\n",
    "    qml.ApproxTimeEvolution(H, phi, 1)\n",
    "    \n",
    "    qml.RX(torch.pi/(2), wires=0)\n",
    "    qml.RX(torch.pi/(2), wires=1)\n",
    "    \n",
    "    # return qml.state()\n",
    "    return qml.density_matrix(wires = [0, 1])"
   ]
  },
  {
   "cell_type": "code",
   "execution_count": 5,
   "metadata": {},
   "outputs": [
    {
     "data": {
      "image/png": "[encoded data removed]",
      "text/plain": [
       "<Figure size 1100x300 with 1 Axes>"
      ]
     },
     "metadata": {},
     "output_type": "display_data"
    }
   ],
   "source": [
    "fig, ax = qml.draw_mpl(circuit)(np.pi)"
   ]
  },
  {
   "cell_type": "code",
   "execution_count": 6,
   "metadata": {},
   "outputs": [],
   "source": [
    "@qml.qnode(dev, interface = 'torch', diff_method = 'backprop')\n",
    "def Post_selection(phi):\n",
    "\n",
    "    global Paras_global, Gamma_ps_global\n",
    "    get_density_matrix = circuit(phi)\n",
    "        \n",
    "    # Kraus operator for 2*2 matrix\n",
    "    K = torch.tensor([\n",
    "        [torch.sqrt(1 - Gamma_ps_global), 0], \n",
    "        [0, 1]\n",
    "    ], dtype=torch.complex128)\n",
    "    \n",
    "    Numerator = torch.kron(K, torch.eye(2)) @ get_density_matrix @ torch.kron(K, torch.eye(2)).conj().T\n",
    "    Denominator = torch.trace(Numerator)\n",
    "    \n",
    "    rho_ps = Numerator / Denominator\n",
    "    \n",
    "    qml.QubitDensityMatrix(rho_ps, wires = [0, 1])\n",
    "    \n",
    "    return qml.density_matrix(wires = [0, 1])  "
   ]
  },
  {
   "cell_type": "markdown",
   "metadata": {},
   "source": [
    "$$ \n",
    "K =  \\begin{bmatrix}\n",
    "\\sqrt{1-\\gamma_{ps}} & 0 \\\\\n",
    "0 & 1 \n",
    "\\end{bmatrix}  \n",
    "$$\n",
    "\n",
    "\n",
    "$$\n",
    "\\rho_{ps} = \n",
    "\\frac{(K \\otimes I) \\rho (K^{\\dagger} \\otimes I ^{\\dagger})}\n",
    "\n",
    "{Tr[(K \\otimes I) \\rho (K^{\\dagger} \\otimes I ^{\\dagger})]}\n",
    "$$"
   ]
  },
  {
   "cell_type": "code",
   "execution_count": 7,
   "metadata": {},
   "outputs": [],
   "source": [
    "def set_circuit(desired_tau_dephase, desired_gamma_post_selection):\n",
    "    \"\"\"\n",
    "    Set the global dephasing rate and post-selection rate for the circuit.\n",
    "\n",
    "    Args:\n",
    "        desired_tau_dephase (float): Desired dephasing rate tau.\n",
    "        desired_gamma_post_selection (float): Desired post-selection rate gamma.\n",
    "    \"\"\"\n",
    "    global Tau_global, Gamma_ps_global \n",
    "    \n",
    "    Tau_global = torch.tensor(desired_tau_dephase)\n",
    "    Gamma_ps_global = torch.tensor([desired_gamma_post_selection])"
   ]
  },
  {
   "cell_type": "code",
   "execution_count": 8,
   "metadata": {},
   "outputs": [],
   "source": [
    "def cost_function(paras):\n",
    "    \"\"\" \n",
    "    Compute the cost using classical Fisher information for the given parameters.\n",
    "\n",
    "    Args:\n",
    "        paras (torch.Tensor): Parameters for quantum gates.\n",
    "\n",
    "    Returns:\n",
    "        torch.Tensor: Computed cost.\n",
    "    \"\"\"\n",
    "    global Paras_global, Phi_global\n",
    "    Paras_global = paras\n",
    "\n",
    "    CFI = qml.qinfo.classical_fisher(Post_selection)(Phi_global)\n",
    "    \n",
    "    return -CFI"
   ]
  },
  {
   "cell_type": "code",
   "execution_count": 9,
   "metadata": {},
   "outputs": [],
   "source": [
    "def sweep_cfi(sweep_range, initial_parameters):\n",
    "    Phi = torch.arange(sweep_range[0], sweep_range[1], sweep_range[2], dtype=torch.float32)\n",
    "    Data = torch.zeros((len(Phi), 2))\n",
    "    Data[:,0] = Phi\n",
    "    \n",
    "    global Phi_global\n",
    "    params_tensor = initial_parameters.clone().requires_grad_(True)\n",
    "    \n",
    "    for phi_idx in range(len(Phi)):\n",
    "        Phi_global = Phi[phi_idx].clone().requires_grad_(True)\n",
    "        \n",
    "        Data[phi_idx, 1] = -cost_function(params_tensor)\n",
    "        \n",
    "    return Data"
   ]
  },
  {
   "cell_type": "code",
   "execution_count": 10,
   "metadata": {},
   "outputs": [],
   "source": [
    "def sweep_by_tau(sweep_range, init_par, tau_dephase, gamma_post_selection):\n",
    "    for tau_idx, tau_current in enumerate(tau_dephase):\n",
    "        set_circuit(tau_current, gamma_post_selection)\n",
    "        \n",
    "        temp = sweep_cfi(sweep_range, init_par).detach().numpy()\n",
    "        \n",
    "        if tau_idx == 0:\n",
    "            Data = np.zeros((len(tau_dephase), len(temp[:,0]), len(temp[0,:])))\n",
    "            Data[tau_idx][:, :] = temp\n",
    "        else:\n",
    "            Data[tau_idx][:, :] = temp\n",
    "        \n",
    "    return Data"
   ]
  },
  {
   "cell_type": "code",
   "execution_count": 12,
   "metadata": {},
   "outputs": [],
   "source": [
    "sweep_range = torch.tensor([0, 3*torch.pi, 1e-2], dtype=torch.float, requires_grad=False)\n",
    "init_par = torch.tensor([torch.pi/2, torch.pi/2, torch.pi/2], dtype=torch.float)\n",
    "tau_dephase = 0, 5e-1\n",
    "gamma_ps = 0\n",
    "\n",
    "res = sweep_by_tau(sweep_range, init_par, tau_dephase, gamma_ps)"
   ]
  },
  {
   "cell_type": "code",
   "execution_count": 13,
   "metadata": {},
   "outputs": [
    {
     "data": {
      "image/png": "[encoded data removed]",
      "text/plain": [
       "<Figure size 640x480 with 1 Axes>"
      ]
     },
     "metadata": {},
     "output_type": "display_data"
    }
   ],
   "source": [
    "plot_data.plot_result(res, tau_dephase, gamma_ps, 'CFI_PS')"
   ]
  }
 ],
 "metadata": {
  "kernelspec": {
   "display_name": "Python 3",
   "language": "python",
   "name": "python3"
  },
  "language_info": {
   "codemirror_mode": {
    "name": "ipython",
    "version": 3
   },
   "file_extension": ".py",
   "mimetype": "text/x-python",
   "name": "python",
   "nbconvert_exporter": "python",
   "pygments_lexer": "ipython3",
   "version": "3.11.4"
  }
 },
 "nbformat": 4,
 "nbformat_minor": 2
}
