{
 "cells": [
  {
   "cell_type": "code",
   "execution_count": 3,
   "metadata": {},
   "outputs": [
    {
     "name": "stdout",
     "output_type": "stream",
     "text": [
      "Initial state: [[1]\n",
      " [0]]\n"
     ]
    },
    {
     "data": {
      "text/latex": [
       "$\\displaystyle 1 - \\left|{0.5 e^{\\frac{i t \\left(E_{0} - 0.5 V_{\\parallel} \\gamma\\right)}{h}} + 0.5 e^{\\frac{i t \\left(E_{1} + 0.5 V_{\\parallel} \\gamma\\right)}{h}}}\\right|^{2}$"
      ],
      "text/plain": [
       "1 - Abs(0.5*exp(i*t*(E_0 - 0.5*V_\\parallel*gamma)/h) + 0.5*exp(i*t*(E_1 + 0.5*V_\\parallel*gamma)/h))**2"
      ]
     },
     "execution_count": 3,
     "metadata": {},
     "output_type": "execute_result"
    }
   ],
   "source": [
    "import sympy as sp\n",
    "import numpy as np\n",
    "import math\n",
    "\n",
    "psi = sp.Symbol('psi')\n",
    "\n",
    "#  init state = 0 state\n",
    "init_state = np.array([[1], [0] ])\n",
    "\n",
    "print('Initial state:', init_state)\n",
    "\n",
    "#  Hadamard\n",
    "def Hadamard():\n",
    "    Hadamard = (1/np.sqrt(2))*np.array([ [1, 1], [1, -1] ])\n",
    "\n",
    "    return Hadamard\n",
    "\n",
    "# Pauli Y\n",
    "def Pauli_Y(theta):\n",
    "    round_y = sp.Matrix([ [0, -1.j],[1.j, 0] ])\n",
    "    result = sp.exp(-1.j * (theta/2) * round_y)\n",
    "\n",
    "    return result\n",
    "\n",
    "# Pauli X\n",
    "def Pauli_X(theta):\n",
    "    round_x = sp.Matrix([ [0, 1], [1, 0] ])\n",
    "    result = sp.exp(-1.j * (theta/2) * round_x)\n",
    "\n",
    "    return result\n",
    "\n",
    "\n",
    "# evolve for time t\n",
    "def Time_evo():\n",
    "    E_0, E_1, gamma, h, V_parallel, i, t = sp.symbols('E_0, E_1, gamma, h, V_\\parallel, i, t')\n",
    "    round_x = sp.Matrix([ [0, 1], [1, 0] ])\n",
    "    round_y = sp.Matrix([ [0, -1.j], [1.j, 0] ])\n",
    "    round_z = sp.Matrix([ [1, 0], [0, -1] ])\n",
    "\n",
    "    state_0 = sp.exp(((i*t)/h) * (E_0 - (1/2) * gamma*V_parallel)) * sp.Matrix([[1, 0], [0, 0]])\n",
    "    state_1 = sp.exp(((i*t)/h) * (E_1 + (1/2) * gamma*V_parallel)) * sp.Matrix([[0, 0], [0, 1]])\n",
    "    \n",
    "    evo_oper = state_0 + state_1\n",
    "    return evo_oper\n",
    "\n",
    "# ==Calculation==\n",
    "\n",
    "#  opt_1: using Hadamard_gate\n",
    "def Oper_H():\n",
    "    # apply Hadamard\n",
    "    psi_0 = Hadamard() @ init_state\n",
    "\n",
    "    # evolve for t\n",
    "    psi_t = Time_evo() @ psi_0\n",
    "\n",
    "    # apply_Hadamard\n",
    "    psi_final = Hadamard() @ psi_t\n",
    "\n",
    "    # get expectation value\n",
    "    p = 1 - np.abs(psi_final[0,0])**2\n",
    "\n",
    "\n",
    "    return p\n",
    "\n",
    "\n",
    "Oper_H()"
   ]
  }
 ],
 "metadata": {
  "kernelspec": {
   "display_name": "Python 3",
   "language": "python",
   "name": "python3"
  },
  "language_info": {
   "codemirror_mode": {
    "name": "ipython",
    "version": 3
   },
   "file_extension": ".py",
   "mimetype": "text/x-python",
   "name": "python",
   "nbconvert_exporter": "python",
   "pygments_lexer": "ipython3",
   "version": "3.11.3"
  },
  "orig_nbformat": 4
 },
 "nbformat": 4,
 "nbformat_minor": 2
}
