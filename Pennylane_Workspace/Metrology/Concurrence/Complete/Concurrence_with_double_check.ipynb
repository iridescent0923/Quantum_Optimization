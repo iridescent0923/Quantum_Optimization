{
 "cells": [
  {
   "cell_type": "code",
   "execution_count": 75,
   "metadata": {},
   "outputs": [
    {
     "name": "stdout",
     "output_type": "stream",
     "text": [
      "Hamiltonian:\n",
      "   (-0.543) [Z0 X1]\n",
      "+ (0.2) [X0 Z1]\n"
     ]
    }
   ],
   "source": [
    "import matplotlib.pyplot as plt\n",
    "import pennylane as qml\n",
    "import scipy as sp\n",
    "\n",
    "from pennylane import numpy as np\n",
    "from IPython.display import display, Math\n",
    "\n",
    "np.set_printoptions(threshold=np.inf, linewidth=np.inf)\n",
    "np.set_printoptions()\n",
    "\n",
    "dev = qml.device('default.qubit', wires= 2)\n",
    "\n",
    "pauli_y = np.array([ [0, -1.j], [1.j, 0]])\n",
    "\n",
    "# Hamiltonian_new = 0.2*np.kron(sigma_x, sigma_z) -0.543*np.kron(sigma_z, sigma_x)\n",
    "# Hamiltonian setup\n",
    "coeffs = [0.2, -0.543]\n",
    "obs = [qml.PauliX(0) @ qml.PauliZ(1), qml.PauliZ(0) @ qml.PauliX(1)]\n",
    "# print('Data type:', type(obs))\n",
    "\n",
    "hamiltonian = qml.Hamiltonian(coeffs, obs)\n",
    "\n",
    "print('Hamiltonian:\\n',hamiltonian)"
   ]
  },
  {
   "cell_type": "code",
   "execution_count": 76,
   "metadata": {},
   "outputs": [],
   "source": [
    "# == Quantum circuit ==\n",
    "@qml.qnode(dev)\n",
    "def circuit(theta_init, tau_1, tau_2):\n",
    "    \n",
    "\tqml.ApproxTimeEvolution(hamiltonian, tau_1, 1)\n",
    "\tqml.RX(theta_init, wires = 0)    \n",
    "\tqml.RX(theta_init, wires = 1)    \n",
    "\t \n",
    "\tqml.RY(-np.pi/2, wires = 0)    \n",
    "\tqml.RY(-np.pi/2, wires = 1)   \n",
    "\t\n",
    "\tqml.ApproxTimeEvolution(hamiltonian, tau_2, 1)\n",
    "\t\n",
    "\tqml.RY(np.pi/2, wires = 0)    \n",
    "\tqml.RY(np.pi/2, wires = 1) \n",
    "\n",
    "\treturn qml.density_matrix(wires=[0, 1])"
   ]
  },
  {
   "cell_type": "code",
   "execution_count": 77,
   "metadata": {},
   "outputs": [],
   "source": [
    "# == Calculate concurrence ==\n",
    "def concurrence_calculation(paras):\n",
    "\n",
    "\ttheta_init, tau_1, tau_2 = paras\n",
    " \n",
    "\t# density matrix casting to numpy\n",
    "\trho = circuit(theta_init, tau_1, tau_2).numpy()\n",
    "\trho_uni = np.kron(pauli_y, pauli_y) @ rho.conj() @ np.kron(pauli_y, pauli_y)\n",
    "\t\n",
    "\tR = sp.linalg.sqrtm( sp.linalg.sqrtm(rho) @ rho_uni @ sp.linalg.sqrtm(rho) )\n",
    "\t# print('Concurrence matrix(R): \\n', R)\n",
    "\n",
    "\t# sort array in descending order\n",
    "\teig_vals = np.sort(sp.linalg.eigvals(R).real)[::-1]\n",
    "\t# print('Eig_val descending order:', eig_vals)\n",
    "\n",
    "\tconcurrence = np.amax([ 0, (2*eig_vals[0] - np.sum(eig_vals)) ])\t\n",
    "\t# concurrence = 0 vs (2*eig_vals[0] - np.sum(eig_vals)) which is bigger?\n",
    "\t# print('np.amax:', -concurrence)\n",
    "\n",
    "\n",
    "\t# 1-concurrence = minimum => concurrence = max!!\n",
    "\treturn 1-concurrence"
   ]
  },
  {
   "cell_type": "code",
   "execution_count": 78,
   "metadata": {},
   "outputs": [
    {
     "data": {
      "text/plain": [
       "0.5336425994876177"
      ]
     },
     "execution_count": 78,
     "metadata": {},
     "output_type": "execute_result"
    },
    {
     "data": {
      "image/png": "[encoded data removed]",
      "text/plain": [
       "<Figure size 800x300 with 1 Axes>"
      ]
     },
     "metadata": {},
     "output_type": "display_data"
    }
   ],
   "source": [
    "# == Show circuit ==\n",
    "rho = (circuit(0, 1, 1))\n",
    "fig, ax = qml.draw_mpl(circuit)(0, 1, 1)\n",
    "\n",
    "para = 1,1,1\n",
    "concurrence_calculation(para)"
   ]
  },
  {
   "cell_type": "code",
   "execution_count": 79,
   "metadata": {},
   "outputs": [
    {
     "name": "stdout",
     "output_type": "stream",
     "text": [
      "\n",
      "\n",
      "concurrence_after_optimize(max):  0.9976959789772726\n"
     ]
    },
    {
     "data": {
      "text/plain": [
       " message: Optimization terminated successfully\n",
       " success: True\n",
       "  status: 0\n",
       "     fun: 0.0023040210227274205\n",
       "       x: [ 5.029e-01  1.572e+00  8.262e-01]\n",
       "     nit: 5\n",
       "     jac: [ 1.549e-01  1.775e-01  7.157e-01]\n",
       "    nfev: 36\n",
       "    njev: 5"
      ]
     },
     "execution_count": 79,
     "metadata": {},
     "output_type": "execute_result"
    }
   ],
   "source": [
    "# == Optimize begin from 0.5 ==\n",
    "\n",
    "# starts from 0.5\n",
    "# starts = 0.5, 0.5, 0.5\n",
    "Init_parameters = 1,1,1\n",
    "result = sp.optimize.minimize(concurrence_calculation, Init_parameters, method='SLSQP')\n",
    "\n",
    "# 1-concurrence = x => concurrence = -(x-1)\n",
    "# -1 * concurrence = x  => concurrence = -1 * (x)\n",
    "print('\\n\\nconcurrence_after_optimize(max): ', -1 * (concurrence_calculation(result.x)-1) )\n",
    "\n",
    "result"
   ]
  },
  {
   "cell_type": "code",
   "execution_count": 80,
   "metadata": {},
   "outputs": [
    {
     "name": "stdout",
     "output_type": "stream",
     "text": [
      "(Optimized) theta_init / tau_1 / tau_2 :  [0.50290761 1.57193978 0.82615675]\n",
      "\n",
      " [[ 1.80639825e-01 -4.24103005e-17  1.82302548e-17 -2.00539784e-01]\n",
      " [-4.24103005e-17  3.04138280e-01 -2.98308210e-01  4.37098586e-17]\n",
      " [ 1.82302548e-17 -2.98308210e-01  2.92589897e-01 -1.69306967e-17]\n",
      " [-2.00539784e-01  4.37098586e-17 -1.69306967e-17  2.22631998e-01]]\n"
     ]
    }
   ],
   "source": [
    "# == Put optimized paramter into circuit() and return density matrix ==\n",
    "rho = circuit(result.x[0], result.x[1], result.x[2]).numpy()\n",
    "\n",
    "rho_real = np.real(rho)\n",
    "rho_imag = np.imag(rho)\n",
    "\n",
    "# Density matrix after optimzed\n",
    "print('(Optimized) theta_init / tau_1 / tau_2 : ', result.x)\n",
    "print('\\n',rho_real)"
   ]
  },
  {
   "cell_type": "code",
   "execution_count": 81,
   "metadata": {},
   "outputs": [
    {
     "name": "stdout",
     "output_type": "stream",
     "text": [
      "test:\n",
      " [[ 1.00000000e+00-0.0000000e+00j  0.00000000e+00+1.2246468e-16j  0.00000000e+00+1.2246468e-16j -1.49975978e-32-0.0000000e+00j]\n",
      " [ 0.00000000e+00+1.2246468e-16j  1.00000000e+00-0.0000000e+00j -1.49975978e-32-0.0000000e+00j  0.00000000e+00+1.2246468e-16j]\n",
      " [ 0.00000000e+00+1.2246468e-16j -1.49975978e-32-0.0000000e+00j  1.00000000e+00-0.0000000e+00j  0.00000000e+00+1.2246468e-16j]\n",
      " [-1.49975978e-32-0.0000000e+00j  0.00000000e+00+1.2246468e-16j  0.00000000e+00+1.2246468e-16j  1.00000000e+00-0.0000000e+00j]]\n",
      "test:\n",
      " [[0 0 0 1]\n",
      " [0 0 1 0]\n",
      " [0 1 0 0]\n",
      " [1 0 0 0]]\n",
      "Optimized parameters:  [0.50290761 1.57193978 0.82615675]\n",
      "\n",
      "Layer matrix\n",
      " [[ 4.25017440e-01-7.47175388e-17j]\n",
      " [-3.27706644e-17+5.51487334e-01j]\n",
      " [-3.64784690e-17-5.40915795e-01j]\n",
      " [-4.71838954e-01-1.21501713e-18j]]\n",
      "\n",
      "From Q_node:\n",
      " [[ 1.80639825e-01+0.00000000e+00j -4.24103005e-17-2.34391735e-01j  1.82302548e-17+2.29898647e-01j -2.00539784e-01+2.59911611e-18j]\n",
      " [-4.24103005e-17+2.34391735e-01j  3.04138280e-01+0.00000000e+00j -2.98308210e-01-3.03202777e-17j  4.37098586e-17-2.60213207e-01j]\n",
      " [ 1.82302548e-17-2.29898647e-01j -2.98308210e-01+3.03202777e-17j  2.92589897e-01+0.00000000e+00j -1.69306967e-17+2.55225143e-01j]\n",
      " [-2.00539784e-01-2.59911611e-18j  4.37098586e-17+2.60213207e-01j -1.69306967e-17-2.55225143e-01j  2.22631998e-01+0.00000000e+00j]]\n",
      "\n",
      "Double check density matrix:\n",
      " [[ 1.80639825e-01+0.00000000e+00j -5.51338802e-17-2.34391735e-01j  2.49119114e-17+2.29898647e-01j -2.00539784e-01+3.57710488e-17j]\n",
      " [-5.51338802e-17+2.34391735e-01j  3.04138280e-01+0.00000000e+00j -2.98308210e-01-3.78435836e-17j  1.47924094e-17-2.60213207e-01j]\n",
      " [ 2.49119114e-17-2.29898647e-01j -2.98308210e-01+3.78435836e-17j  2.92589897e-01+0.00000000e+00j  1.78691846e-17+2.55225143e-01j]\n",
      " [-2.00539784e-01-3.57710488e-17j  1.47924094e-17+2.60213207e-01j  1.78691846e-17-2.55225143e-01j  2.22631998e-01+0.00000000e+00j]]\n"
     ]
    }
   ],
   "source": [
    "# == Double check the calculation ==\n",
    "\n",
    "sigma_x = np.array([ [0, 1], [1, 0] ])\n",
    "sigma_y = np.array([ [0, -1.j], [1.j, 0] ])\n",
    "sigma_z = np.array([ [1, 0], [0, -1] ])\n",
    "\n",
    "theta_init, tau_1, tau_2 = result.x\n",
    "\n",
    "Hamiltonian_new = 0.2*np.kron(sigma_x, sigma_z) -0.543*np.kron(sigma_z, sigma_x)\n",
    "\n",
    "# define rotation\n",
    "# why kron? : Multiple qubit\n",
    "def X_rot(theta):\n",
    "    return np.kron(sp.linalg.expm(-1j*sigma_x*theta/2), sp.linalg.expm(-1j*sigma_x*theta/2))\n",
    "\n",
    "def Y_rot(theta):\n",
    "    # return sp.linalg.expm(-1j*sigma_y*theta/2)\n",
    "    return np.kron(sp.linalg.expm(-1j*sigma_y*theta/2), sp.linalg.expm(-1j*sigma_y*theta/2))\n",
    "\n",
    "def time_evolve_new(tau):\n",
    "    return sp.linalg.expm(-1.j*Hamiltonian_new*tau)\n",
    "\n",
    "\n",
    "# State vector form(: 4*1 matrix)\n",
    "test = Y_rot(np.pi/2) @ time_evolve_new(tau_2) @ Y_rot(-np.pi/2) @ X_rot(theta_init) @ time_evolve_new(tau_1) @ np.array([1,0,0,0]).reshape(4,1)\n",
    "\n",
    "# state vector \n",
    "print('test:\\n',X_rot(2*np.pi))\n",
    "print('test:\\n',np.kron(sigma_x, sigma_x))\n",
    "\n",
    "# Unitary\n",
    "# Create density matrix\n",
    "result_after = np.kron(test, np.conj(test).T)\n",
    "\n",
    "\n",
    "\n",
    "print('Optimized parameters: ', result.x)\n",
    "\n",
    "print('\\nLayer matrix\\n',test)\n",
    "print('\\nFrom Q_node:\\n',rho)\n",
    "print('\\nDouble check density matrix:\\n', result_after)"
   ]
  },
  {
   "cell_type": "markdown",
   "metadata": {},
   "source": [
    "$$X = \n",
    "\\exp\\left(-i \\frac{\\sigma_x \\theta}{2}\\right) = \\cos\\left(\\frac{\\theta}{2}\\right)I - i\\sin\\left(\\frac{\\theta}{2}\\right)\\sigma_x $$\n"
   ]
  },
  {
   "cell_type": "code",
   "execution_count": 82,
   "metadata": {},
   "outputs": [
    {
     "data": {
      "text/plain": [
       "tensor([[ True,  True,  True,  True],\n",
       "        [ True,  True,  True,  True],\n",
       "        [ True,  True,  True,  True],\n",
       "        [ True,  True,  True,  True]], requires_grad=True)"
      ]
     },
     "execution_count": 82,
     "metadata": {},
     "output_type": "execute_result"
    }
   ],
   "source": [
    "np.isclose(result_after, rho)"
   ]
  },
  {
   "cell_type": "code",
   "execution_count": 83,
   "metadata": {},
   "outputs": [
    {
     "data": {
      "text/plain": [
       "(tensor([[ 1.80639825e-01, -4.24103005e-17,  1.82302548e-17, -2.00539784e-01],\n",
       "         [-4.24103005e-17,  3.04138280e-01, -2.98308210e-01,  4.37098586e-17],\n",
       "         [ 1.82302548e-17, -2.98308210e-01,  2.92589897e-01, -1.69306967e-17],\n",
       "         [-2.00539784e-01,  4.37098586e-17, -1.69306967e-17,  2.22631998e-01]], requires_grad=True),\n",
       " tensor([[ 0.00000000e+00, -2.34391735e-01,  2.29898647e-01,  2.59911611e-18],\n",
       "         [ 2.34391735e-01,  0.00000000e+00, -3.03202777e-17, -2.60213207e-01],\n",
       "         [-2.29898647e-01,  3.03202777e-17,  0.00000000e+00,  2.55225143e-01],\n",
       "         [-2.59911611e-18,  2.60213207e-01, -2.55225143e-01,  0.00000000e+00]], requires_grad=True))"
      ]
     },
     "execution_count": 83,
     "metadata": {},
     "output_type": "execute_result"
    }
   ],
   "source": [
    "rho_real, rho_imag"
   ]
  },
  {
   "cell_type": "code",
   "execution_count": 84,
   "metadata": {},
   "outputs": [
    {
     "name": "stderr",
     "output_type": "stream",
     "text": [
      "/var/folders/w1/ls_y8xbd21b7x0tbqwgfdcd00000gn/T/ipykernel_38709/3071425353.py:6: UserWarning: FixedFormatter should only be used together with FixedLocator\n",
      "  ax.set_xticklabels(state)\n",
      "/var/folders/w1/ls_y8xbd21b7x0tbqwgfdcd00000gn/T/ipykernel_38709/3071425353.py:7: UserWarning: FixedFormatter should only be used together with FixedLocator\n",
      "  ax.set_yticklabels(state)\n",
      "No artists with labels found to put in legend.  Note that artists whose label start with an underscore are ignored when legend() is called with no argument.\n"
     ]
    },
    {
     "data": {
      "image/png": "[encoded data removed]",
      "text/plain": [
       "<Figure size 640x480 with 2 Axes>"
      ]
     },
     "metadata": {},
     "output_type": "display_data"
    }
   ],
   "source": [
    "# fig, ax = plt.subplots()\n",
    "state = [\"\",'00',\"\",'01',\"\",'10',\"\",'11']\n",
    "fig, ax = plt.subplots()\n",
    "plt.imshow(rho_real, cmap=\"coolwarm\")\n",
    "plt.colorbar()\n",
    "ax.set_xticklabels(state)\n",
    "ax.set_yticklabels(state)\n",
    "# ax.set_ylabel(\"qubit 1\")\n",
    "# ax.set_xlabel(\"qubit 2\")\n",
    "# ax.set_title(r\"Target density matrix $\\rho_{3}$\")\n",
    "\n",
    "\n",
    "for (j,i),label in np.ndenumerate(rho_real):\n",
    "    ax.text(i,j, \"{:.3f}\".format(label),ha=\"center\", va=\"center\")\n",
    "ax.legend()\n",
    "plt.show()"
   ]
  }
 ],
 "metadata": {
  "kernelspec": {
   "display_name": "Python 3",
   "language": "python",
   "name": "python3"
  },
  "language_info": {
   "codemirror_mode": {
    "name": "ipython",
    "version": 3
   },
   "file_extension": ".py",
   "mimetype": "text/x-python",
   "name": "python",
   "nbconvert_exporter": "python",
   "pygments_lexer": "ipython3",
   "version": "3.11.4"
  },
  "orig_nbformat": 4
 },
 "nbformat": 4,
 "nbformat_minor": 2
}
