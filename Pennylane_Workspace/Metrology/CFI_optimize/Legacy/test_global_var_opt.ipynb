{
 "cells": [
  {
   "cell_type": "code",
   "execution_count": 7,
   "metadata": {},
   "outputs": [],
   "source": [
    "import pennylane as qml\n",
    "from pennylane import numpy as np\n",
    "\n",
    "import scipy as sp\n",
    "\n",
    "import matplotlib.pyplot as plt\n",
    "\n",
    "# 2-qubit\n",
    "dev = qml.device('default.mixed', wires= 2)\n",
    "\n",
    "# == Hamiltonian setup == \n",
    "coeffs = [1]\n",
    "obs = [qml.PauliZ(0) @ qml.PauliZ(1)]\n",
    "\n",
    "hamiltonian = qml.Hamiltonian(coeffs, obs)"
   ]
  },
  {
   "cell_type": "code",
   "execution_count": 8,
   "metadata": {},
   "outputs": [],
   "source": [
    "# == Generate circuit == \n",
    "\n",
    "# global var\n",
    "Paras_global = None\n",
    "\n",
    "# Entnalger \n",
    "@qml.qnode(dev)\n",
    "def circuit_1(paras):\n",
    "    theta_init, tau_1, tau_2 = paras\n",
    "    \n",
    "    # Stage_1: RY for pi/2\n",
    "    qml.RY(np.pi/2, wires=0)\n",
    "    qml.RY(np.pi/2, wires=1)\n",
    "    \n",
    "    # Stage_2: Entangler    \n",
    "    qml.ApproxTimeEvolution(hamiltonian, tau_1, 1)\n",
    "    qml.RX(theta_init, wires = 0)    \n",
    "    qml.RX(theta_init, wires = 1)    \n",
    "\n",
    "    qml.RY(-np.pi/2, wires = 0)    \n",
    "    qml.RY(-np.pi/2, wires = 1)   \n",
    "\n",
    "    qml.ApproxTimeEvolution(hamiltonian, tau_2, 1)\n",
    "\n",
    "    qml.RY(np.pi/2, wires = 0)    \n",
    "    qml.RY(np.pi/2, wires = 1) \n",
    "    \n",
    "    return qml.density_matrix(wires=[0, 1])\n",
    "\n",
    "@qml.qnode(dev)\n",
    "def circuit_2(phi):\n",
    "    global Paras_global\n",
    "    density_matrix = circuit_1(Paras_global)\n",
    "    qml.QubitDensityMatrix(density_matrix, wires=[0, 1])\n",
    "    \n",
    "    # Stage_3: Accumulate\n",
    "    qml.ApproxTimeEvolution(hamiltonian, phi, 1)\n",
    "    qml.RX(np.pi/2, wires=0)\n",
    "    qml.RX(np.pi/2, wires=1)\n",
    "    \n",
    "    return qml.density_matrix(wires=[0, 1])"
   ]
  },
  {
   "cell_type": "code",
   "execution_count": 9,
   "metadata": {},
   "outputs": [],
   "source": [
    "# == Cost_function #1 ==\n",
    "def Cost_function(paras):\n",
    "    global Paras_global\n",
    "    # expect: theta_init, tau_1, tau_2 = paras\n",
    "    Paras_global = paras\n",
    "    \n",
    "    phi = np.array([ 2 ])\n",
    "    \n",
    "    CFI = qml.qinfo.classical_fisher(circuit_2)(phi[0])\n",
    "    return -CFI * 1e+30"
   ]
  },
  {
   "cell_type": "code",
   "execution_count": 10,
   "metadata": {},
   "outputs": [
    {
     "name": "stdout",
     "output_type": "stream",
     "text": [
      "before_optimize:\n",
      "[[-0.52863403]]\n"
     ]
    },
    {
     "data": {
      "text/plain": [
       " message: Optimization terminated successfully\n",
       " success: True\n",
       "  status: 0\n",
       "     fun: -1.1541062235682689\n",
       "       x: [ 4.436e+06 -3.880e+06  1.018e+06]\n",
       "     nit: 18\n",
       "     jac: [ 1.912e+07  2.439e+07  1.431e+07]\n",
       "    nfev: 253\n",
       "    njev: 18"
      ]
     },
     "execution_count": 10,
     "metadata": {},
     "output_type": "execute_result"
    }
   ],
   "source": [
    "initial_guess = 1e+5, -1e+6, 1e+6\n",
    "\n",
    "print('before_optimize:')\n",
    "print(Cost_function(initial_guess))\n",
    "\n",
    "After_opt = sp.optimize.minimize(Cost_function, initial_guess, method='SLSQP')\n",
    "\n",
    "After_opt\n"
   ]
  },
  {
   "cell_type": "code",
   "execution_count": 11,
   "metadata": {},
   "outputs": [
    {
     "data": {
      "text/plain": [
       "float"
      ]
     },
     "execution_count": 11,
     "metadata": {},
     "output_type": "execute_result"
    }
   ],
   "source": [
    "type(After_opt.fun)"
   ]
  }
 ],
 "metadata": {
  "kernelspec": {
   "display_name": "Python 3",
   "language": "python",
   "name": "python3"
  },
  "language_info": {
   "codemirror_mode": {
    "name": "ipython",
    "version": 3
   },
   "file_extension": ".py",
   "mimetype": "text/x-python",
   "name": "python",
   "nbconvert_exporter": "python",
   "pygments_lexer": "ipython3",
   "version": "3.11.4"
  },
  "orig_nbformat": 4
 },
 "nbformat": 4,
 "nbformat_minor": 2
}
