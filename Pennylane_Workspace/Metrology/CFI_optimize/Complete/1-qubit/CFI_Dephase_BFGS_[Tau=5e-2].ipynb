{
 "cells": [
  {
   "cell_type": "code",
   "execution_count": 1,
   "metadata": {},
   "outputs": [],
   "source": [
    "import scipy as sp\n",
    "import numpy as np_\n",
    "import random\n",
    "\n",
    "import pennylane as qml\n",
    "from pennylane import numpy as np\n",
    "\n",
    "from IPython.display import display, Latex\n",
    "import matplotlib.pyplot as plt\n",
    "\n",
    "# qnode device\n",
    "dev = qml.device(\"default.mixed\", wires = 1)\n",
    "\n",
    "# == Hamiltonain setup == \n",
    "Coeff_ham = [1]\n",
    "Obs = [qml.PauliZ(0)]\n",
    "Hamiltonian = qml.Hamiltonian(Coeff_ham, Obs)"
   ]
  },
  {
   "cell_type": "code",
   "execution_count": 2,
   "metadata": {},
   "outputs": [],
   "source": [
    "# == Define global variables ==\n",
    "Gamma_ps = 0\n",
    "Tau_global = 5e-2\n",
    "\n",
    "def Dephase_factor(tau):\n",
    "    \"\"\" Take tau and return gamma based on the following relation.\"\"\"\n",
    "\n",
    "    Calculate_Gamma = 1 - np.exp(-2 * tau)\n",
    "    \n",
    "    return Calculate_Gamma    # Return gamma"
   ]
  },
  {
   "cell_type": "code",
   "execution_count": 3,
   "metadata": {},
   "outputs": [],
   "source": [
    "#  == Generate circuit ==\n",
    "# Stage_1: Generate dephase\n",
    "@qml.qnode(dev)\n",
    "def Dephase_circuit(phi):\n",
    "    \n",
    "    global Tau_global \n",
    "    \n",
    "    # Calculate dephase factor with fixed tau\n",
    "    gamma_dephase_in = Dephase_factor(Tau_global)\n",
    "    \n",
    "    qml.Hadamard(wires=0)\n",
    "    \n",
    "    # Time_evo t fixed as -phi/2\n",
    "    qml.ApproxTimeEvolution(Hamiltonian, -phi/2, 1)\n",
    "    \n",
    "    qml.PhaseDamping(gamma_dephase_in, wires = 0)\n",
    "    \n",
    "    qml.Hadamard(wires=0)\n",
    "    \n",
    "    return qml.density_matrix(wires=0)\n",
    "\n",
    "\n",
    "# Stage_2: Post-selection\n",
    "@qml.qnode(dev)\n",
    "def Post_selection(phi):\n",
    "    global Gamma_ps\n",
    "    gamma_ps = Gamma_ps\n",
    "    \n",
    "    rho_dephase = Dephase_circuit(phi)\n",
    "    Kraus_oper = np.array([ [np.sqrt(1-gamma_ps), 0], [0, 1] ])\n",
    "    \n",
    "    Num = Kraus_oper @ rho_dephase @ Kraus_oper.conj().T\n",
    "    Den = np.trace(Kraus_oper @ rho_dephase @ Kraus_oper.conj().T)\n",
    "    rho_ps = Num / (Den)\n",
    "    qml.QubitDensityMatrix(rho_ps, wires=0)\n",
    "    \n",
    "    return qml.density_matrix(wires=0)"
   ]
  },
  {
   "cell_type": "code",
   "execution_count": 4,
   "metadata": {},
   "outputs": [],
   "source": [
    "# == CFI; cost function to maximize ==\n",
    "def Cost_function(phi):\n",
    "    # Type casting for phi\n",
    "    para = np.array([phi], requires_grad = 'True')\n",
    "\n",
    "    Cost_function = qml.qinfo.classical_fisher(Post_selection)(para[0])\n",
    "    # Cost_function = round( np.array(Temp, requires_grad = False).numpy(),10)\n",
    "    \n",
    "    # Value-bound: 0 ~ 1\n",
    "    # if, 1 - cf = min -> then, cf = max\n",
    "    return -Cost_function"
   ]
  },
  {
   "cell_type": "code",
   "execution_count": 6,
   "metadata": {},
   "outputs": [],
   "source": [
    "def BFGS(Sweep_Data, paras, gamma_ps_select):\n",
    "    # Create Data array\n",
    "    PHI = np_.arange(Sweep_Data[0], Sweep_Data[1], Sweep_Data[2]).reshape(-1, 1)\n",
    "    Data = np_.zeros((len(PHI), 3))\n",
    "    \n",
    "    Data[:, 0] = PHI.squeeze()\n",
    "    \n",
    "    #INDEX CONSTANT\n",
    "    CFI_INDEX, PHI_INDEX, BEFORE_OPT_INDEX = 1, 0, 2\n",
    "    \n",
    "    # Set global variables \n",
    "    global Gamma_ps\n",
    "    Gamma_ps = gamma_ps_select\n",
    "    \n",
    "    # Before optimization; CFI DATA\n",
    "    for Phi_index in range(len(PHI)):\n",
    "        Data[Phi_index][BEFORE_OPT_INDEX] = -Cost_function(paras)\n",
    "        \n",
    "    # Set constraints for L-BFGS-B\n",
    "    Seacrh_bound = np.array([0, np.pi * 4]).numpy()\n",
    "    \n",
    "    # Optimize begin \n",
    "    for Phi_index in range(len(PHI)):\n",
    "        Constraints = sp.optimize.Bounds([Seacrh_bound[0]], [Seacrh_bound[1]])\n",
    "        \n",
    "        Result_BFGS = sp.optimize.minimize(Cost_function, paras, method = 'L-BFGS-B', bounds = Constraints)\n",
    "        Data[Phi_index][CFI_INDEX] = -Result_BFGS.fun\n",
    "        \n",
    "        \n",
    "    return Data"
   ]
  },
  {
   "cell_type": "code",
   "execution_count": 7,
   "metadata": {},
   "outputs": [],
   "source": [
    "# == Sweep for 0 ~ pi*3 == \n",
    "Step = np.pi / 25     #1e-1\n",
    "Sweep_data = np_.array([1e-4, np.pi * 3 + 1e-4, Step])\n",
    "\n",
    "Para_init = random.uniform(0, np.pi)\n",
    "\n",
    "Gamma_ps_preset = 0.8\n",
    "Optimized_Result = BFGS(Sweep_data, Para_init, Gamma_ps_preset)"
   ]
  },
  {
   "cell_type": "code",
   "execution_count": 9,
   "metadata": {},
   "outputs": [
    {
     "data": {
      "image/png": "[encoded data removed]",
      "text/plain": [
       "<Figure size 640x480 with 1 Axes>"
      ]
     },
     "metadata": {},
     "output_type": "display_data"
    }
   ],
   "source": [
    "plt.plot(Optimized_Result[:, 0], Optimized_Result[:, 2], label = 'Before_opt')\n",
    "plt.plot(Optimized_Result[:, 0], Optimized_Result[:, 1], label = 'After_opt')\n",
    "\n",
    "plt.title(f'L-BFGS-B at $\\gamma$ = {Gamma_ps}')\n",
    "plt.xlabel('Time')\n",
    "plt.ylabel('CFI')\n",
    "plt.legend()\n",
    "plt.grid() "
   ]
  }
 ],
 "metadata": {
  "kernelspec": {
   "display_name": "Python 3",
   "language": "python",
   "name": "python3"
  },
  "language_info": {
   "codemirror_mode": {
    "name": "ipython",
    "version": 3
   },
   "file_extension": ".py",
   "mimetype": "text/x-python",
   "name": "python",
   "nbconvert_exporter": "python",
   "pygments_lexer": "ipython3",
   "version": "3.11.4"
  },
  "orig_nbformat": 4
 },
 "nbformat": 4,
 "nbformat_minor": 2
}
