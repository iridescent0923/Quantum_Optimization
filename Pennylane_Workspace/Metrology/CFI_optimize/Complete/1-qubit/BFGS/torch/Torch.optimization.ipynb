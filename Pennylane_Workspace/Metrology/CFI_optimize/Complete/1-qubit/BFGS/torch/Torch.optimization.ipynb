{
 "cells": [
  {
   "cell_type": "code",
   "execution_count": 1157,
   "metadata": {},
   "outputs": [],
   "source": [
    "# ==============================\n",
    "# Standard Library Imports\n",
    "# ==============================\n",
    "from enum import Enum\n",
    "import random\n",
    "\n",
    "# ==============================\n",
    "# Third-party Library Imports\n",
    "# ==============================\n",
    "import matplotlib.pyplot as plt\n",
    "from IPython.display import display, Latex\n",
    "from matplotlib.ticker import MultipleLocator\n",
    "import numpy as np  # Original numpy\n",
    "import pennylane as qml\n",
    "import torch "
   ]
  },
  {
   "cell_type": "code",
   "execution_count": 1158,
   "metadata": {},
   "outputs": [],
   "source": [
    "# ==============================\n",
    "# Setup for Quantum Computations\n",
    "# ==============================\n",
    "\n",
    "# PennyLane settings\n",
    "dev = qml.device('default.mixed', wires=1)\n",
    "\n",
    "# Define Hamiltonian for quantum computations\n",
    "H = qml.Hamiltonian(coeffs = [-0.5], observables=[qml.PauliZ(0)])"
   ]
  },
  {
   "cell_type": "code",
   "execution_count": 1159,
   "metadata": {},
   "outputs": [],
   "source": [
    "# Global Parameters\n",
    "Tau_global = torch.tensor(0)   # Dephase tau\n",
    "Gamma_ps_global = torch.tensor(0)\n",
    "Paras_global = torch.tensor([0, 0], dtype=torch.float)\n",
    "Phi_global = torch.tensor(0, dtype=torch.float)\n",
    "\n",
    "def Dephase_factor(tau):\n",
    "    \"\"\" Take tau and return gamma based on the following relation.\"\"\"\n",
    "    \n",
    "    return 1 - torch.exp(-2 * tau)"
   ]
  },
  {
   "cell_type": "markdown",
   "metadata": {},
   "source": [
    "$$\n",
    "Let, e^{-t/T_2} = e^{-\\tau}\n",
    "$$\n",
    "\n",
    "$$\n",
    "\\frac{1}{2} \n",
    "\n",
    "\\begin{bmatrix}\n",
    "\n",
    "1 & e^{(i\\phi - \\tau)} \\\\\n",
    "e^{(-i\\phi - \\tau)} & 1\n",
    "\n",
    "\\end{bmatrix}\n",
    "\n",
    "=\n",
    "\n",
    "\\frac{1}{2} \n",
    "\n",
    "\\begin{bmatrix}\n",
    "\n",
    "1 & e^{i\\phi} \\sqrt{1 - \\gamma} \\\\\n",
    "e^{-i\\phi} \\sqrt{1 - \\gamma} & 1\n",
    "\n",
    "\\end{bmatrix}$$\n",
    "\n",
    "$$\n",
    "\n",
    "Then,\n",
    "\\quad \\gamma = \n",
    "1 - e^{-2 \\tau}\n",
    "$$\n",
    "\n",
    "$$ \n",
    "e^{-\\tau} = \\sqrt{1 - \\gamma}\n",
    "$$"
   ]
  },
  {
   "cell_type": "code",
   "execution_count": 1160,
   "metadata": {},
   "outputs": [],
   "source": [
    "@qml.qnode(dev, interface='torch', diff_method='backprop')\n",
    "def circuit(phi):\n",
    "    global Paras_global, Tau_global\n",
    "    theta_x = Paras_global[0]\n",
    "    phi_z = Paras_global[1]\n",
    "    \n",
    "    gamma_dephase = Dephase_factor(Tau_global)  \n",
    "\n",
    "    qml.RX(torch.pi/2, wires = 0)\n",
    "\n",
    "    qml.ApproxTimeEvolution(H, phi, 1)\n",
    "    qml.PhaseDamping(gamma_dephase, wires = 0) \n",
    "\n",
    "    qml.RZ(phi_z, wires = 0)  # phi_z\n",
    "    \n",
    "    qml.RX(theta_x, wires = 0)  # theta_x\n",
    "    \n",
    "    return qml.density_matrix(wires = 0)"
   ]
  },
  {
   "cell_type": "code",
   "execution_count": 1161,
   "metadata": {},
   "outputs": [
    {
     "data": {
      "image/png": "[encoded data removed]",
      "text/plain": [
       "<Figure size 800x200 with 1 Axes>"
      ]
     },
     "metadata": {},
     "output_type": "display_data"
    }
   ],
   "source": [
    "fig, ax = qml.draw_mpl(circuit)(1)"
   ]
  },
  {
   "cell_type": "code",
   "execution_count": 1162,
   "metadata": {},
   "outputs": [],
   "source": [
    "@qml.qnode(dev, interface='torch', diff_method='backprop')\n",
    "def Post_selection(phi):\n",
    "    \n",
    "    global Paras_global, Gamma_ps_global\n",
    "    \n",
    "    density_matrix = circuit(phi)\n",
    "    qml.QubitDensityMatrix(density_matrix, wires = 0)\n",
    "    \n",
    "    # Kraus operator for 2*2 matrix\n",
    "    K = torch.tensor([\n",
    "        [torch.sqrt(1 - Gamma_ps_global), 0],\n",
    "        [0, 1]\n",
    "    ], dtype=torch.complex128)\n",
    "    \n",
    "    Numerator = K @ density_matrix @ K.conj().T\n",
    "    Denominator = torch.trace(Numerator)\n",
    "    rho_ps = Numerator / Denominator\n",
    "\n",
    "    qml.QubitDensityMatrix(rho_ps, wires = 0)\n",
    "    \n",
    "    return qml.density_matrix(wires = 0) "
   ]
  },
  {
   "cell_type": "code",
   "execution_count": 1163,
   "metadata": {},
   "outputs": [],
   "source": [
    "def cost_function(paras):\n",
    "    \n",
    "    global Paras_global, Phi_global\n",
    "    Paras_global = paras\n",
    "\n",
    "    CFI = qml.qinfo.classical_fisher(circuit)(Phi_global)\n",
    "    \n",
    "    return -CFI"
   ]
  },
  {
   "cell_type": "code",
   "execution_count": 1164,
   "metadata": {},
   "outputs": [],
   "source": [
    "def set_circuit(desired_tau_dephase, desired_gamma_post_selection):\n",
    "    global Tau_global, Gamma_ps_global \n",
    "    \n",
    "    Tau_global = torch.tensor(desired_tau_dephase)\n",
    "    Gamma_ps_global = torch.tensor(desired_gamma_post_selection)"
   ]
  },
  {
   "cell_type": "code",
   "execution_count": 1165,
   "metadata": {},
   "outputs": [],
   "source": [
    "# def plot_optimization_result(sweep_range)\n",
    "\n"
   ]
  },
  {
   "cell_type": "code",
   "execution_count": 1166,
   "metadata": {},
   "outputs": [],
   "source": [
    "# phi = torch.arange(0,to)"
   ]
  },
  {
   "cell_type": "code",
   "execution_count": 1167,
   "metadata": {},
   "outputs": [],
   "source": [
    "def primative():\n",
    "    # device = torch.device(\"mps\" if torch.backends.mps.is_available() else \"cpu\")\n",
    "\n",
    "    # params_t = torch.tensor([np.pi/2, np.pi/3], requires_grad=True, device=device)\n",
    "    # params_t = torch.tensor(params, requires_grad=True, device=torch.device('mps'))\n",
    "\n",
    "    # params_t = params_t.detach().clone().requires_grad_(True)\n",
    "\n",
    "    # params_t = torch.tensor([np.pi/3, np.pi/3], requires_grad=True)\n",
    "\n",
    "    params_t = torch.tensor([1.0, torch.pi/2], requires_grad=True)\n",
    "\n",
    "    Circuit_select_global = Post_selection\n",
    "    Phi_global = torch.tensor([torch.pi*2])\n",
    "\n",
    "    # opt = torch.optim.LBFGS([params_t])\n",
    "    # opt = torch.optim.Adam([params_t])\n",
    "    opt = torch.optim.LBFGS(\n",
    "        [params_t], \n",
    "        lr=0.01,              # Learning rate\n",
    "        max_iter=20,          # Maximum number of iterations per optimization step\n",
    "        max_eval=None,        # Maximum number of function evaluations per optimization step\n",
    "        tolerance_grad=1e-7,  # Termination tolerance on the gradient norm\n",
    "        tolerance_change=1e-9,# Termination tolerance on the function value/parameter changes\n",
    "        history_size=100      # Update history size\n",
    "    )\n",
    "\n",
    "    steps = 500\n",
    "\n",
    "    f_logs = [cost_function(params_t).item()]\n",
    "    ftol = 1e-10\n",
    "\n",
    "    def closure():\n",
    "        opt.zero_grad()\n",
    "        loss = cost_function(params_t)\n",
    "        loss.backward()\n",
    "        return loss\n",
    "\n",
    "    for i in range(steps):\n",
    "        opt.step(closure)\n",
    "        fval = cost_function(opt.param_groups[0]['params'][0]).item()\n",
    "        print(f\"{i+1:03d}th iteration, CFI=\", fval)\n",
    "        f_logs.append(fval)\n",
    "        if np.abs((fval-f_logs[-2])/fval) < ftol:\n",
    "            break\n",
    "        \n",
    "    print(\"CFI=\", fval, \"Paras=\", opt.param_groups[0]['params'][0].detach().numpy())"
   ]
  },
  {
   "cell_type": "code",
   "execution_count": 1168,
   "metadata": {},
   "outputs": [],
   "source": [
    "def torch_optimization(sweep_range, initial_parameters, method):\n",
    "    Phi = torch.arange(sweep_range[0], sweep_range[1], sweep_range[2], dtype=torch.float32)\n",
    "    Data = torch.zeros((len(Phi), len(initial_parameters) + 2))\n",
    "    Data[:,0] = Phi\n",
    "    \n",
    "    global Phi_global\n",
    "    params_tensor = initial_parameters.clone().requires_grad_(True)\n",
    "    \n",
    "    if method == 'LBFGS':\n",
    "        opt = torch.optim.LBFGS(\n",
    "                [params_tensor], \n",
    "                lr=0.01,              # Learning rate\n",
    "                max_iter=20,          # Maximum number of iterations per optimization step\n",
    "                max_eval=None,        # Maximum number of function evaluations per optimization step\n",
    "                tolerance_grad=1e-7,  # Termination tolerance on the gradient norm\n",
    "                tolerance_change=1e-9,# Termination tolerance on the function value/parameter changes\n",
    "                history_size=100      # Update history size\n",
    "        )\n",
    "    elif method == 'Adam':\n",
    "        opt = torch.optim.Adam(\n",
    "            [params_tensor]\n",
    "        )\n",
    "    else:\n",
    "        raise ValueError(\"Invalid optimizer choice.\")\n",
    "    \n",
    "    def closure():\n",
    "        opt.zero_grad()\n",
    "        loss = cost_function(params_tensor)\n",
    "        loss.backward()\n",
    "        return loss\n",
    "       \n",
    "    steps = 500 \n",
    "    f_logs = [cost_function(params_tensor).item()]\n",
    "    ftol = 1e-10\n",
    "        \n",
    "    # Begin optimization\n",
    "    for phi_idx in range(len(Phi)):\n",
    "        Phi_global = Phi[phi_idx].clone().requires_grad_(True)\n",
    "\n",
    "        for i in range(steps):\n",
    "            opt.step(closure)\n",
    "\n",
    "            fval = cost_function(opt.param_groups[0]['params'][0]).item()\n",
    "            # print(f\"{i+1:03d}th iteration, CFI=\", fval)\n",
    "            f_logs.append(fval)\n",
    "            if np.abs((fval-f_logs[-2])/fval) < ftol:\n",
    "                break\n",
    "            \n",
    "        print(\"CFI =\", -fval, \"Paras =\", opt.param_groups[0]['params'][0].detach().numpy())\n",
    "        \n",
    "        Data[phi_idx, 1] = -fval\n",
    "        Data[phi_idx, 2:] = opt.param_groups[0]['params'][0]\n",
    "        \n",
    "        # torch.cat(([-fval], opt.param_groups[0]['params'][0].detach().numpy()))\n",
    "\n",
    "        \n",
    "    return Data"
   ]
  },
  {
   "cell_type": "code",
   "execution_count": 1169,
   "metadata": {},
   "outputs": [
    {
     "name": "stdout",
     "output_type": "stream",
     "text": [
      "CFI = 0.9999999439436149 Paras = [1.5706507 1.5707964]\n",
      "CFI = 1.0000000043387454 Paras = [1.5706773 1.5707964]\n",
      "CFI = 0.9999999613223961 Paras = [1.5706797 1.5707964]\n",
      "CFI = 0.9999999885892861 Paras = [1.570687  1.5707964]\n",
      "CFI = 0.9999998957656575 Paras = [1.5706992 1.5707964]\n",
      "CFI = 0.9999999609703611 Paras = [1.5707328 1.5707964]\n",
      "CFI = 1.0000000423778834 Paras = [1.570739  1.5707964]\n",
      "CFI = 0.9999999469501494 Paras = [1.5707496 1.5707964]\n",
      "CFI = 0.999999929573703 Paras = [1.5707717 1.5707964]\n",
      "CFI = 1.000000037035318 Paras = [1.5707848 1.5707964]\n",
      "CFI = 0.9999999810552949 Paras = [1.5707898 1.5707964]\n",
      "CFI = 1.0000001077479914 Paras = [1.5707918 1.5707964]\n",
      "CFI = 1.0000000105439304 Paras = [1.5707935 1.5707964]\n",
      "CFI = 0.9999999244817761 Paras = [1.5707947 1.5707964]\n",
      "CFI = 1.0000000074166646 Paras = [1.5707959 1.5707964]\n",
      "CFI = 0.9999999852434223 Paras = [1.5707967 1.5707964]\n",
      "CFI = 0.9999999737568889 Paras = [1.5707967 1.5707964]\n",
      "CFI = 0.9999999462351817 Paras = [1.5707967 1.5707964]\n",
      "CFI = 1.0000000262881767 Paras = [1.5707967 1.5707964]\n",
      "CFI = 1.0000000894664294 Paras = [1.5707967 1.5707964]\n",
      "CFI = 1.000000012317361 Paras = [1.5707967 1.5707964]\n",
      "CFI = 0.9999998526560757 Paras = [1.5707967 1.5707964]\n",
      "CFI = 1.000000014323516 Paras = [1.5707967 1.5707964]\n",
      "CFI = 1.000000100646232 Paras = [1.5707967 1.5707964]\n",
      "CFI = 0.9999999497921797 Paras = [1.5707967 1.5707964]\n",
      "CFI = 1.0000000658697903 Paras = [1.5707967 1.5707964]\n",
      "CFI = 1.0000000865694196 Paras = [1.5707967 1.5707964]\n",
      "CFI = 1.0000001543582107 Paras = [1.5707967 1.5707964]\n",
      "CFI = 0.9999999224190144 Paras = [1.5707967 1.5707964]\n",
      "CFI = 0.9999998802835479 Paras = [1.5707967 1.5707964]\n",
      "CFI = 1.0000000732758325 Paras = [1.5707967 1.5707964]\n",
      "CFI = 0.999999967637498 Paras = [1.5707967 1.5707964]\n"
     ]
    }
   ],
   "source": [
    "sweep_range = torch.tensor([0, 1*torch.pi, 1e-1], dtype=torch.float)\n",
    "init_par = torch.tensor([1, torch.pi/2], dtype=torch.float)\n",
    "result = torch_optimization(sweep_range, init_par, 'LBFGS')"
   ]
  },
  {
   "cell_type": "code",
   "execution_count": 1170,
   "metadata": {},
   "outputs": [],
   "source": [
    "# def torch_optimization(sweep_range, initial_parameters, method):\n",
    "#     Phi = torch.arange(sweep_range[0], sweep_range[1], sweep_range[2])\n",
    "#     Data = torch.tensor((len(Phi), len(initial_parameters) + 2))\n",
    "#     # Phi = np.arange(sweep_range[0], sweep_range[1], sweep_range[2])\n",
    "#     # Data = np.zeros((len(Phi), len(initial_parameters) + 2))\n",
    "#     Data[:,0] = Phi\n",
    "    \n",
    "#     global Phi_global\n",
    "    \n",
    "#     if method == 'LBFGS':\n",
    "#         opt = torch.optim.LBFGS(\n",
    "#                 [initial_parameters], \n",
    "#                 lr=0.01,              # Learning rate\n",
    "#                 max_iter=20,          # Maximum number of iterations per optimization step\n",
    "#                 max_eval=None,        # Maximum number of function evaluations per optimization step\n",
    "#                 tolerance_grad=1e-7,  # Termination tolerance on the gradient norm\n",
    "#                 tolerance_change=1e-9,# Termination tolerance on the function value/parameter changes\n",
    "#                 history_size=100      # Update history size\n",
    "#         )\n",
    "#     elif method == 'Adam':\n",
    "#         opt = torch.optim.Adam(\n",
    "#             [initial_parameters]\n",
    "#         )\n",
    "#     else:\n",
    "#         raise ValueError(\"Invalid optimizer choice.\")\n",
    "    \n",
    "#     def closure():\n",
    "#         opt.zero_grad()\n",
    "#         loss = cost_function(initial_parameters)\n",
    "#         loss.backward()\n",
    "#         return loss\n",
    "       \n",
    "#     steps = 500 \n",
    "#     f_logs = [cost_function(initial_parameters).item()]\n",
    "#     ftol = 1e-10\n",
    "        \n",
    "#     # Begin optimization\n",
    "#     for phi_idx in range(len(Phi)):\n",
    "#         Phi_global = torch.tensor(Phi[phi_idx])  \n",
    "\n",
    "#         for i in range(steps):\n",
    "#             opt.step(closure)\n",
    "\n",
    "#             fval = cost_function(opt.param_groups[0]['params'][0]).item()\n",
    "#             # print(f\"{i+1:03d}th iteration, CFI=\", fval)\n",
    "#             f_logs.append(fval)\n",
    "#             if np.abs((fval-f_logs[-2])/fval) < ftol:\n",
    "#                 break\n",
    "            \n",
    "#         print(\"CFI =\", -fval, \"Paras =\", opt.param_groups[0]['params'][0].detach().numpy())\n",
    "        \n",
    "#         Data[phi_idx, 1] = -fval\n",
    "#         Data[phi_idx, 2:] = opt.param_groups[0]['params'][0]\n",
    "#         # Data[phi_idx, 1] = -fval\n",
    "#         # Data[phi_idx, 2:] = opt.param_groups[0]['params'][0].detach().numpy()\n",
    "\n",
    "        \n",
    "#     return Data"
   ]
  },
  {
   "cell_type": "code",
   "execution_count": 1171,
   "metadata": {},
   "outputs": [],
   "source": [
    "# # set_circuit(0, 0)\n",
    "# sweep_range = torch.tensor([0, 1*torch.pi, 1e-1], dtype=torch.float)\n",
    "# init_par = torch.tensor([1, torch.pi/2], dtype=torch.float, requires_grad=True)\n",
    "# result = torch_optimization(sweep_range, init_par, 'LBFGS')"
   ]
  },
  {
   "cell_type": "code",
   "execution_count": 1172,
   "metadata": {},
   "outputs": [
    {
     "data": {
      "text/plain": [
       "tensor([[0.0000, 1.0000, 1.5707, 1.5708],\n",
       "        [0.1000, 1.0000, 1.5707, 1.5708],\n",
       "        [0.2000, 1.0000, 1.5707, 1.5708],\n",
       "        [0.3000, 1.0000, 1.5707, 1.5708],\n",
       "        [0.4000, 1.0000, 1.5707, 1.5708],\n",
       "        [0.5000, 1.0000, 1.5707, 1.5708],\n",
       "        [0.6000, 1.0000, 1.5707, 1.5708],\n",
       "        [0.7000, 1.0000, 1.5707, 1.5708],\n",
       "        [0.8000, 1.0000, 1.5708, 1.5708],\n",
       "        [0.9000, 1.0000, 1.5708, 1.5708],\n",
       "        [1.0000, 1.0000, 1.5708, 1.5708],\n",
       "        [1.1000, 1.0000, 1.5708, 1.5708],\n",
       "        [1.2000, 1.0000, 1.5708, 1.5708],\n",
       "        [1.3000, 1.0000, 1.5708, 1.5708],\n",
       "        [1.4000, 1.0000, 1.5708, 1.5708],\n",
       "        [1.5000, 1.0000, 1.5708, 1.5708],\n",
       "        [1.6000, 1.0000, 1.5708, 1.5708],\n",
       "        [1.7000, 1.0000, 1.5708, 1.5708],\n",
       "        [1.8000, 1.0000, 1.5708, 1.5708],\n",
       "        [1.9000, 1.0000, 1.5708, 1.5708],\n",
       "        [2.0000, 1.0000, 1.5708, 1.5708],\n",
       "        [2.1000, 1.0000, 1.5708, 1.5708],\n",
       "        [2.2000, 1.0000, 1.5708, 1.5708],\n",
       "        [2.3000, 1.0000, 1.5708, 1.5708],\n",
       "        [2.4000, 1.0000, 1.5708, 1.5708],\n",
       "        [2.5000, 1.0000, 1.5708, 1.5708],\n",
       "        [2.6000, 1.0000, 1.5708, 1.5708],\n",
       "        [2.7000, 1.0000, 1.5708, 1.5708],\n",
       "        [2.8000, 1.0000, 1.5708, 1.5708],\n",
       "        [2.9000, 1.0000, 1.5708, 1.5708],\n",
       "        [3.0000, 1.0000, 1.5708, 1.5708],\n",
       "        [3.1000, 1.0000, 1.5708, 1.5708]], grad_fn=<SliceBackward0>)"
      ]
     },
     "execution_count": 1172,
     "metadata": {},
     "output_type": "execute_result"
    }
   ],
   "source": [
    "result[:,:]"
   ]
  },
  {
   "cell_type": "code",
   "execution_count": 1173,
   "metadata": {},
   "outputs": [
    {
     "name": "stdout",
     "output_type": "stream",
     "text": [
      "2.0.1\n",
      "True\n",
      "True\n",
      "macOS-14.1-arm64-arm-64bit\n"
     ]
    }
   ],
   "source": [
    "print (torch.__version__) \n",
    "print(torch.backends.mps.is_built()) \n",
    "print(torch.backends.mps.is_available())\n",
    "!python -c 'import platform;print(platform.platform())'"
   ]
  }
 ],
 "metadata": {
  "kernelspec": {
   "display_name": "Python 3",
   "language": "python",
   "name": "python3"
  },
  "language_info": {
   "codemirror_mode": {
    "name": "ipython",
    "version": 3
   },
   "file_extension": ".py",
   "mimetype": "text/x-python",
   "name": "python",
   "nbconvert_exporter": "python",
   "pygments_lexer": "ipython3",
   "version": "3.11.4"
  }
 },
 "nbformat": 4,
 "nbformat_minor": 2
}
