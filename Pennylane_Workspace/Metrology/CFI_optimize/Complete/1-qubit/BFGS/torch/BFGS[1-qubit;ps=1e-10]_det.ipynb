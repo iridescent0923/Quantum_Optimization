{
 "cells": [
  {
   "cell_type": "code",
   "execution_count": 1134,
   "metadata": {},
   "outputs": [],
   "source": [
    "# ==============================\n",
    "# Standard Library Imports\n",
    "# ==============================\n",
    "from enum import Enum\n",
    "import random\n",
    "\n",
    "# ==============================\n",
    "# Third-party Library Imports\n",
    "# ==============================\n",
    "import matplotlib.pyplot as plt\n",
    "from IPython.display import display, Latex\n",
    "from matplotlib.ticker import MultipleLocator\n",
    "import numpy as np  # Original numpy\n",
    "import pennylane as qml\n",
    "import scipy as sp\n",
    "\n",
    "import torch\n",
    "\n",
    "# Pennylane numpy\n",
    "from pennylane import numpy as pnp "
   ]
  },
  {
   "cell_type": "code",
   "execution_count": 1135,
   "metadata": {},
   "outputs": [],
   "source": [
    "# ==============================\n",
    "# Setup for Quantum Computations\n",
    "# ==============================\n",
    "\n",
    "# PennyLane settings\n",
    "dev = qml.device('default.mixed', wires=1)\n",
    "\n",
    "# Define Hamiltonian for quantum computations\n",
    "coeffs = [-0.5]\n",
    "obs = [qml.PauliZ(0)]\n",
    "hamiltonian = qml.Hamiltonian(coeffs, obs)"
   ]
  },
  {
   "cell_type": "code",
   "execution_count": 1136,
   "metadata": {},
   "outputs": [],
   "source": [
    "Tau_global = 5e-2   # Dephase tau\n",
    "Paras_global = torch.zeros(2)\n",
    "Phi_global = 0  \n",
    "Gamma_ps = 0"
   ]
  },
  {
   "cell_type": "code",
   "execution_count": 1137,
   "metadata": {},
   "outputs": [],
   "source": [
    "# Phi_global"
   ]
  },
  {
   "cell_type": "markdown",
   "metadata": {},
   "source": [
    "$$\n",
    "Let, e^{-t/T_2} = e^{-\\tau}\n",
    "$$\n",
    "\n",
    "$$\n",
    "\\frac{1}{2} \n",
    "\n",
    "\\begin{bmatrix}\n",
    "\n",
    "1 & e^{(i\\phi - \\tau)} \\\\\n",
    "e^{(-i\\phi - \\tau)} & 1\n",
    "\n",
    "\\end{bmatrix}\n",
    "\n",
    "=\n",
    "\n",
    "\\frac{1}{2} \n",
    "\n",
    "\\begin{bmatrix}\n",
    "\n",
    "1 & e^{i\\phi} \\sqrt{1 - \\gamma} \\\\\n",
    "e^{-i\\phi} \\sqrt{1 - \\gamma} & 1\n",
    "\n",
    "\\end{bmatrix}$$\n",
    "\n",
    "$$\n",
    "\n",
    "Then,\n",
    "\\quad \\gamma = \n",
    "1 - e^{-2 \\tau}\n",
    "$$\n",
    "\n",
    "$$ \n",
    "e^{-\\tau} = \\sqrt{1 - \\gamma}\n",
    "$$"
   ]
  },
  {
   "cell_type": "code",
   "execution_count": 1138,
   "metadata": {},
   "outputs": [],
   "source": [
    "@qml.qnode(dev, interface='torch', diff_method='backprop')\n",
    "def circuit(paras):\n",
    "    global Phi_global\n",
    "    phi = Phi_global\n",
    "    \n",
    "    # Set dephase factor \n",
    "    theta_x, phi_z = paras\n",
    "\n",
    "    qml.RX(pnp.pi/2, wires = 0)\n",
    "    # qml.Hadamard(wires=0)\n",
    "\n",
    "    qml.ApproxTimeEvolution(hamiltonian, phi, 1)\n",
    "    \n",
    "    qml.RZ(phi_z, wires = 0)  # phi_z\n",
    "    \n",
    "    qml.RX(theta_x, wires = 0)  # theta_x\n",
    "    \n",
    "    # return qml.expval(hamiltonian)\n",
    "    return qml.density_matrix(wires = 0)"
   ]
  },
  {
   "cell_type": "code",
   "execution_count": 1139,
   "metadata": {},
   "outputs": [],
   "source": [
    "# paras = torch.tensor([np.pi/2, np.pi/2], dtype=torch.complex128)\n",
    "# Paras_global = paras\n",
    "\n",
    "# Phi_global = torch.tensor([np.pi*2])\n",
    "\n",
    "# circuit(paras)"
   ]
  },
  {
   "cell_type": "code",
   "execution_count": 1140,
   "metadata": {},
   "outputs": [],
   "source": [
    "# CFI = qml.qinfo.classical_fisher(circuit)(paras)\n",
    "\n",
    "# CFI"
   ]
  },
  {
   "cell_type": "code",
   "execution_count": 1141,
   "metadata": {},
   "outputs": [],
   "source": [
    "# PHI = torch.arange(0, np.pi/2, 1e-1)\n",
    "# for phi_idx, phi_current in enumerate(PHI):\n",
    "#     Paras_global = paras\n",
    "#     cal = qml.qinfo.classical_fisher(circuit)(phi_current)\n",
    "#     print(cal)"
   ]
  },
  {
   "cell_type": "code",
   "execution_count": 1142,
   "metadata": {},
   "outputs": [],
   "source": [
    "# @qml.qnode(dev, interface='torch', diff_method='backprop')\n",
    "# def circuit_test(paras):\n",
    "#     density_matrix = circuit(Paras_global)\n",
    "#     qml.QubitDensityMatrix(density_matrix, wires = 0)\n",
    "    \n",
    "#     return qml.density_matrix(wires=0)"
   ]
  },
  {
   "cell_type": "code",
   "execution_count": 1143,
   "metadata": {},
   "outputs": [],
   "source": [
    "# circuit_test(paras)"
   ]
  },
  {
   "cell_type": "code",
   "execution_count": 1144,
   "metadata": {},
   "outputs": [],
   "source": [
    "# CFI = qml.qinfo.classical_fisher(circuit)(paras)\n",
    "\n",
    "# CFI"
   ]
  },
  {
   "cell_type": "code",
   "execution_count": 1145,
   "metadata": {},
   "outputs": [],
   "source": [
    "@qml.qnode(dev, interface='torch', diff_method='backprop')\n",
    "def Post_selection_Dephase(phi):\n",
    "    \"\"\" Take qnode from circuit_1 and calculate decoherence using kraus operator.\n",
    "    \n",
    "    Args:\n",
    "        phi (float): Phi for Time-approximation. Pass by global variables:'Phi_global'\n",
    "\n",
    "    Returns:\n",
    "        qml.density_matrix: Density matrix of full qnode\n",
    "    \"\"\"\n",
    "    \n",
    "    global Paras_global, Phi_global, Gamma_ps\n",
    "    # Phi_global = torch.tensor([phi.item()])\n",
    "    Phi_global = phi\n",
    "    \n",
    "    # Get density matrix from circuit_1    \n",
    "    density_matrix = circuit(Paras_global)\n",
    "    # density_matrix = density_matrix.clone().detach().requires_grad_(True)\n",
    "    # density_matrix = torch.tensor(circuit(Paras_global), dtype=torch.complex128)\n",
    "    qml.QubitDensityMatrix(density_matrix, wires = 0)\n",
    "    \n",
    "    # Kraus operator for 2*2 matrix\n",
    "    K = torch.tensor([\n",
    "        [pnp.sqrt(1 - Gamma_ps), 0],\n",
    "        [0, 1]\n",
    "    ], dtype=torch.complex128)\n",
    "    \n",
    "    Numerator = K @ density_matrix @ K.conj().T\n",
    "    Denominator = torch.trace(Numerator)\n",
    "    rho_ps = Numerator / Denominator\n",
    "\n",
    "    qml.QubitDensityMatrix(rho_ps, wires = 0)\n",
    "    # return qml.expval(hamiltonian) \n",
    "    return qml.density_matrix(wires = 0) "
   ]
  },
  {
   "cell_type": "code",
   "execution_count": 1146,
   "metadata": {},
   "outputs": [
    {
     "data": {
      "text/plain": [
       "tensor([[0.2500+0.0000j, 0.3536+0.2500j],\n",
       "        [0.3536-0.2500j, 0.7500+0.0000j]], dtype=torch.complex128)"
      ]
     },
     "execution_count": 1146,
     "metadata": {},
     "output_type": "execute_result"
    }
   ],
   "source": [
    "paras = torch.tensor([np.pi/4, np.pi/4], dtype=torch.complex128)\n",
    "Paras_global = paras\n",
    "\n",
    "# phi = torch.tensor([np.pi*2])\n",
    "phi = pnp.array([np.pi*2])\n",
    "\n",
    "\n",
    "Post_selection_Dephase(phi)"
   ]
  },
  {
   "cell_type": "code",
   "execution_count": 1147,
   "metadata": {},
   "outputs": [
    {
     "data": {
      "text/plain": [
       "dtype('float64')"
      ]
     },
     "execution_count": 1147,
     "metadata": {},
     "output_type": "execute_result"
    }
   ],
   "source": [
    "Phi_global.dtype"
   ]
  },
  {
   "cell_type": "code",
   "execution_count": 1148,
   "metadata": {},
   "outputs": [
    {
     "data": {
      "text/plain": [
       "dtype('float64')"
      ]
     },
     "execution_count": 1148,
     "metadata": {},
     "output_type": "execute_result"
    }
   ],
   "source": [
    "PHI = pnp.arange(0, np.pi/2, 1e-1)\n",
    "\n",
    "PHI.dtype"
   ]
  },
  {
   "cell_type": "code",
   "execution_count": 1149,
   "metadata": {},
   "outputs": [
    {
     "ename": "TypeError",
     "evalue": "The inputs given to jacobian must be either a Tensor or a tuple of Tensors but the given inputs has type <class 'pennylane.numpy.tensor.tensor'>.",
     "output_type": "error",
     "traceback": [
      "\u001b[0;31m---------------------------------------------------------------------------\u001b[0m",
      "\u001b[0;31mTypeError\u001b[0m                                 Traceback (most recent call last)",
      "\u001b[1;32m/Users/dongukkim/Desktop/Quantum_Workspace/Pennylane_Workspace/Metrology/CFI_optimize/Complete/1-qubit/BFGS/torch/BFGS[1-qubit;ps=1e-10]_det.ipynb Cell 17\u001b[0m line \u001b[0;36m3\n\u001b[1;32m      <a href='vscode-notebook-cell:/Users/dongukkim/Desktop/Quantum_Workspace/Pennylane_Workspace/Metrology/CFI_optimize/Complete/1-qubit/BFGS/torch/BFGS%5B1-qubit%3Bps%3D1e-10%5D_det.ipynb#X55sZmlsZQ%3D%3D?line=0'>1</a>\u001b[0m phi_given \u001b[39m=\u001b[39m pnp\u001b[39m.\u001b[39marray([\u001b[39m0.5\u001b[39m], requires_grad \u001b[39m=\u001b[39m \u001b[39mTrue\u001b[39;00m)\n\u001b[0;32m----> <a href='vscode-notebook-cell:/Users/dongukkim/Desktop/Quantum_Workspace/Pennylane_Workspace/Metrology/CFI_optimize/Complete/1-qubit/BFGS/torch/BFGS%5B1-qubit%3Bps%3D1e-10%5D_det.ipynb#X55sZmlsZQ%3D%3D?line=2'>3</a>\u001b[0m qml\u001b[39m.\u001b[39;49mqinfo\u001b[39m.\u001b[39;49mclassical_fisher(Post_selection_Dephase)(phi_given)\n",
      "File \u001b[0;32m/Library/Frameworks/Python.framework/Versions/3.11/lib/python3.11/site-packages/pennylane/qinfo/transforms.py:513\u001b[0m, in \u001b[0;36mclassical_fisher.<locals>.wrapper\u001b[0;34m(*args, **kwargs)\u001b[0m\n\u001b[1;32m    510\u001b[0m \u001b[39mif\u001b[39;00m interface \u001b[39m==\u001b[39m \u001b[39m\"\u001b[39m\u001b[39mtf\u001b[39m\u001b[39m\"\u001b[39m:\n\u001b[1;32m    511\u001b[0m     jac \u001b[39m=\u001b[39m _tf_jac(new_qnode)\n\u001b[0;32m--> 513\u001b[0m j \u001b[39m=\u001b[39m jac(\u001b[39m*\u001b[39;49margs, \u001b[39m*\u001b[39;49m\u001b[39m*\u001b[39;49mkwargs)\n\u001b[1;32m    514\u001b[0m p \u001b[39m=\u001b[39m new_qnode(\u001b[39m*\u001b[39margs, \u001b[39m*\u001b[39m\u001b[39m*\u001b[39mkwargs)\n\u001b[1;32m    516\u001b[0m \u001b[39mif\u001b[39;00m old_interface \u001b[39m==\u001b[39m \u001b[39m\"\u001b[39m\u001b[39mauto\u001b[39m\u001b[39m\"\u001b[39m:\n",
      "File \u001b[0;32m/Library/Frameworks/Python.framework/Versions/3.11/lib/python3.11/site-packages/pennylane/qinfo/transforms.py:286\u001b[0m, in \u001b[0;36m_torch_jac.<locals>.wrapper\u001b[0;34m(*args, **kwargs)\u001b[0m\n\u001b[1;32m    284\u001b[0m \u001b[39mif\u001b[39;00m \u001b[39mlen\u001b[39m(args) \u001b[39m>\u001b[39m \u001b[39m1\u001b[39m:\n\u001b[1;32m    285\u001b[0m     \u001b[39mreturn\u001b[39;00m torch\u001b[39m.\u001b[39mautograd\u001b[39m.\u001b[39mfunctional\u001b[39m.\u001b[39mjacobian(loss, args, create_graph\u001b[39m=\u001b[39m\u001b[39mTrue\u001b[39;00m)\n\u001b[0;32m--> 286\u001b[0m \u001b[39mreturn\u001b[39;00m torch\u001b[39m.\u001b[39;49mautograd\u001b[39m.\u001b[39;49mfunctional\u001b[39m.\u001b[39;49mjacobian(loss, \u001b[39m*\u001b[39;49margs, create_graph\u001b[39m=\u001b[39;49m\u001b[39mTrue\u001b[39;49;00m)\n",
      "File \u001b[0;32m/Library/Frameworks/Python.framework/Versions/3.11/lib/python3.11/site-packages/torch/autograd/functional.py:588\u001b[0m, in \u001b[0;36mjacobian\u001b[0;34m(func, inputs, create_graph, strict, vectorize, strategy)\u001b[0m\n\u001b[1;32m    585\u001b[0m     \u001b[39mreturn\u001b[39;00m _jacfwd(func, inputs, strict, vectorize)\n\u001b[1;32m    587\u001b[0m \u001b[39mwith\u001b[39;00m torch\u001b[39m.\u001b[39menable_grad():\n\u001b[0;32m--> 588\u001b[0m     is_inputs_tuple, inputs \u001b[39m=\u001b[39m _as_tuple(inputs, \u001b[39m\"\u001b[39;49m\u001b[39minputs\u001b[39;49m\u001b[39m\"\u001b[39;49m, \u001b[39m\"\u001b[39;49m\u001b[39mjacobian\u001b[39;49m\u001b[39m\"\u001b[39;49m)\n\u001b[1;32m    589\u001b[0m     inputs \u001b[39m=\u001b[39m _grad_preprocess(inputs, create_graph\u001b[39m=\u001b[39mcreate_graph, need_graph\u001b[39m=\u001b[39m\u001b[39mTrue\u001b[39;00m)\n\u001b[1;32m    591\u001b[0m     outputs \u001b[39m=\u001b[39m func(\u001b[39m*\u001b[39minputs)\n",
      "File \u001b[0;32m/Library/Frameworks/Python.framework/Versions/3.11/lib/python3.11/site-packages/torch/autograd/functional.py:37\u001b[0m, in \u001b[0;36m_as_tuple\u001b[0;34m(inp, arg_name, fn_name)\u001b[0m\n\u001b[1;32m     34\u001b[0m             \u001b[39mraise\u001b[39;00m \u001b[39mTypeError\u001b[39;00m(\u001b[39m\"\u001b[39m\u001b[39mThe \u001b[39m\u001b[39m{}\u001b[39;00m\u001b[39m given to \u001b[39m\u001b[39m{}\u001b[39;00m\u001b[39m must be either a Tensor or a tuple of Tensors but the\u001b[39m\u001b[39m\"\u001b[39m\n\u001b[1;32m     35\u001b[0m                             \u001b[39m\"\u001b[39m\u001b[39m value at index \u001b[39m\u001b[39m{}\u001b[39;00m\u001b[39m has type \u001b[39m\u001b[39m{}\u001b[39;00m\u001b[39m.\u001b[39m\u001b[39m\"\u001b[39m\u001b[39m.\u001b[39mformat(arg_name, fn_name, i, \u001b[39mtype\u001b[39m(el)))\n\u001b[1;32m     36\u001b[0m         \u001b[39melse\u001b[39;00m:\n\u001b[0;32m---> 37\u001b[0m             \u001b[39mraise\u001b[39;00m \u001b[39mTypeError\u001b[39;00m(\u001b[39m\"\u001b[39m\u001b[39mThe \u001b[39m\u001b[39m{}\u001b[39;00m\u001b[39m given to \u001b[39m\u001b[39m{}\u001b[39;00m\u001b[39m must be either a Tensor or a tuple of Tensors but the\u001b[39m\u001b[39m\"\u001b[39m\n\u001b[1;32m     38\u001b[0m                             \u001b[39m\"\u001b[39m\u001b[39m given \u001b[39m\u001b[39m{}\u001b[39;00m\u001b[39m has type \u001b[39m\u001b[39m{}\u001b[39;00m\u001b[39m.\u001b[39m\u001b[39m\"\u001b[39m\u001b[39m.\u001b[39mformat(arg_name, fn_name, arg_name, \u001b[39mtype\u001b[39m(el)))\n\u001b[1;32m     40\u001b[0m \u001b[39mreturn\u001b[39;00m is_inp_tuple, inp\n",
      "\u001b[0;31mTypeError\u001b[0m: The inputs given to jacobian must be either a Tensor or a tuple of Tensors but the given inputs has type <class 'pennylane.numpy.tensor.tensor'>."
     ]
    }
   ],
   "source": [
    "phi_given = pnp.array([0.5], requires_grad = True)\n",
    "\n",
    "qml.qinfo.classical_fisher(Post_selection_Dephase)(phi_given)"
   ]
  },
  {
   "cell_type": "code",
   "execution_count": null,
   "metadata": {},
   "outputs": [
    {
     "ename": "TypeError",
     "evalue": "The inputs given to jacobian must be either a Tensor or a tuple of Tensors but the given inputs has type <class 'numpy.float64'>.",
     "output_type": "error",
     "traceback": [
      "\u001b[0;31m---------------------------------------------------------------------------\u001b[0m",
      "\u001b[0;31mTypeError\u001b[0m                                 Traceback (most recent call last)",
      "\u001b[1;32m/Users/dongukkim/Desktop/Quantum_Workspace/Pennylane_Workspace/Metrology/CFI_optimize/Complete/1-qubit/BFGS/torch/BFGS[1-qubit;ps=1e-10]_det.ipynb Cell 19\u001b[0m line \u001b[0;36m5\n\u001b[1;32m      <a href='vscode-notebook-cell:/Users/dongukkim/Desktop/Quantum_Workspace/Pennylane_Workspace/Metrology/CFI_optimize/Complete/1-qubit/BFGS/torch/BFGS%5B1-qubit%3Bps%3D1e-10%5D_det.ipynb#X54sZmlsZQ%3D%3D?line=0'>1</a>\u001b[0m \u001b[39m# PHI = np.arange(0, np.pi/2, 1e-1)\u001b[39;00m\n\u001b[1;32m      <a href='vscode-notebook-cell:/Users/dongukkim/Desktop/Quantum_Workspace/Pennylane_Workspace/Metrology/CFI_optimize/Complete/1-qubit/BFGS/torch/BFGS%5B1-qubit%3Bps%3D1e-10%5D_det.ipynb#X54sZmlsZQ%3D%3D?line=2'>3</a>\u001b[0m \u001b[39mfor\u001b[39;00m idx, phi_current \u001b[39min\u001b[39;00m \u001b[39menumerate\u001b[39m(PHI):\n\u001b[1;32m      <a href='vscode-notebook-cell:/Users/dongukkim/Desktop/Quantum_Workspace/Pennylane_Workspace/Metrology/CFI_optimize/Complete/1-qubit/BFGS/torch/BFGS%5B1-qubit%3Bps%3D1e-10%5D_det.ipynb#X54sZmlsZQ%3D%3D?line=3'>4</a>\u001b[0m     \u001b[39m# phi_in = pnp.array([phi_current])\u001b[39;00m\n\u001b[0;32m----> <a href='vscode-notebook-cell:/Users/dongukkim/Desktop/Quantum_Workspace/Pennylane_Workspace/Metrology/CFI_optimize/Complete/1-qubit/BFGS/torch/BFGS%5B1-qubit%3Bps%3D1e-10%5D_det.ipynb#X54sZmlsZQ%3D%3D?line=4'>5</a>\u001b[0m     cal \u001b[39m=\u001b[39m qml\u001b[39m.\u001b[39;49mqinfo\u001b[39m.\u001b[39;49mclassical_fisher(Post_selection_Dephase)(phi_current)\n\u001b[1;32m      <a href='vscode-notebook-cell:/Users/dongukkim/Desktop/Quantum_Workspace/Pennylane_Workspace/Metrology/CFI_optimize/Complete/1-qubit/BFGS/torch/BFGS%5B1-qubit%3Bps%3D1e-10%5D_det.ipynb#X54sZmlsZQ%3D%3D?line=6'>7</a>\u001b[0m     \u001b[39mprint\u001b[39m(cal)\n",
      "File \u001b[0;32m/Library/Frameworks/Python.framework/Versions/3.11/lib/python3.11/site-packages/pennylane/qinfo/transforms.py:513\u001b[0m, in \u001b[0;36mclassical_fisher.<locals>.wrapper\u001b[0;34m(*args, **kwargs)\u001b[0m\n\u001b[1;32m    510\u001b[0m \u001b[39mif\u001b[39;00m interface \u001b[39m==\u001b[39m \u001b[39m\"\u001b[39m\u001b[39mtf\u001b[39m\u001b[39m\"\u001b[39m:\n\u001b[1;32m    511\u001b[0m     jac \u001b[39m=\u001b[39m _tf_jac(new_qnode)\n\u001b[0;32m--> 513\u001b[0m j \u001b[39m=\u001b[39m jac(\u001b[39m*\u001b[39;49margs, \u001b[39m*\u001b[39;49m\u001b[39m*\u001b[39;49mkwargs)\n\u001b[1;32m    514\u001b[0m p \u001b[39m=\u001b[39m new_qnode(\u001b[39m*\u001b[39margs, \u001b[39m*\u001b[39m\u001b[39m*\u001b[39mkwargs)\n\u001b[1;32m    516\u001b[0m \u001b[39mif\u001b[39;00m old_interface \u001b[39m==\u001b[39m \u001b[39m\"\u001b[39m\u001b[39mauto\u001b[39m\u001b[39m\"\u001b[39m:\n",
      "File \u001b[0;32m/Library/Frameworks/Python.framework/Versions/3.11/lib/python3.11/site-packages/pennylane/qinfo/transforms.py:286\u001b[0m, in \u001b[0;36m_torch_jac.<locals>.wrapper\u001b[0;34m(*args, **kwargs)\u001b[0m\n\u001b[1;32m    284\u001b[0m \u001b[39mif\u001b[39;00m \u001b[39mlen\u001b[39m(args) \u001b[39m>\u001b[39m \u001b[39m1\u001b[39m:\n\u001b[1;32m    285\u001b[0m     \u001b[39mreturn\u001b[39;00m torch\u001b[39m.\u001b[39mautograd\u001b[39m.\u001b[39mfunctional\u001b[39m.\u001b[39mjacobian(loss, args, create_graph\u001b[39m=\u001b[39m\u001b[39mTrue\u001b[39;00m)\n\u001b[0;32m--> 286\u001b[0m \u001b[39mreturn\u001b[39;00m torch\u001b[39m.\u001b[39;49mautograd\u001b[39m.\u001b[39;49mfunctional\u001b[39m.\u001b[39;49mjacobian(loss, \u001b[39m*\u001b[39;49margs, create_graph\u001b[39m=\u001b[39;49m\u001b[39mTrue\u001b[39;49;00m)\n",
      "File \u001b[0;32m/Library/Frameworks/Python.framework/Versions/3.11/lib/python3.11/site-packages/torch/autograd/functional.py:588\u001b[0m, in \u001b[0;36mjacobian\u001b[0;34m(func, inputs, create_graph, strict, vectorize, strategy)\u001b[0m\n\u001b[1;32m    585\u001b[0m     \u001b[39mreturn\u001b[39;00m _jacfwd(func, inputs, strict, vectorize)\n\u001b[1;32m    587\u001b[0m \u001b[39mwith\u001b[39;00m torch\u001b[39m.\u001b[39menable_grad():\n\u001b[0;32m--> 588\u001b[0m     is_inputs_tuple, inputs \u001b[39m=\u001b[39m _as_tuple(inputs, \u001b[39m\"\u001b[39;49m\u001b[39minputs\u001b[39;49m\u001b[39m\"\u001b[39;49m, \u001b[39m\"\u001b[39;49m\u001b[39mjacobian\u001b[39;49m\u001b[39m\"\u001b[39;49m)\n\u001b[1;32m    589\u001b[0m     inputs \u001b[39m=\u001b[39m _grad_preprocess(inputs, create_graph\u001b[39m=\u001b[39mcreate_graph, need_graph\u001b[39m=\u001b[39m\u001b[39mTrue\u001b[39;00m)\n\u001b[1;32m    591\u001b[0m     outputs \u001b[39m=\u001b[39m func(\u001b[39m*\u001b[39minputs)\n",
      "File \u001b[0;32m/Library/Frameworks/Python.framework/Versions/3.11/lib/python3.11/site-packages/torch/autograd/functional.py:37\u001b[0m, in \u001b[0;36m_as_tuple\u001b[0;34m(inp, arg_name, fn_name)\u001b[0m\n\u001b[1;32m     34\u001b[0m             \u001b[39mraise\u001b[39;00m \u001b[39mTypeError\u001b[39;00m(\u001b[39m\"\u001b[39m\u001b[39mThe \u001b[39m\u001b[39m{}\u001b[39;00m\u001b[39m given to \u001b[39m\u001b[39m{}\u001b[39;00m\u001b[39m must be either a Tensor or a tuple of Tensors but the\u001b[39m\u001b[39m\"\u001b[39m\n\u001b[1;32m     35\u001b[0m                             \u001b[39m\"\u001b[39m\u001b[39m value at index \u001b[39m\u001b[39m{}\u001b[39;00m\u001b[39m has type \u001b[39m\u001b[39m{}\u001b[39;00m\u001b[39m.\u001b[39m\u001b[39m\"\u001b[39m\u001b[39m.\u001b[39mformat(arg_name, fn_name, i, \u001b[39mtype\u001b[39m(el)))\n\u001b[1;32m     36\u001b[0m         \u001b[39melse\u001b[39;00m:\n\u001b[0;32m---> 37\u001b[0m             \u001b[39mraise\u001b[39;00m \u001b[39mTypeError\u001b[39;00m(\u001b[39m\"\u001b[39m\u001b[39mThe \u001b[39m\u001b[39m{}\u001b[39;00m\u001b[39m given to \u001b[39m\u001b[39m{}\u001b[39;00m\u001b[39m must be either a Tensor or a tuple of Tensors but the\u001b[39m\u001b[39m\"\u001b[39m\n\u001b[1;32m     38\u001b[0m                             \u001b[39m\"\u001b[39m\u001b[39m given \u001b[39m\u001b[39m{}\u001b[39;00m\u001b[39m has type \u001b[39m\u001b[39m{}\u001b[39;00m\u001b[39m.\u001b[39m\u001b[39m\"\u001b[39m\u001b[39m.\u001b[39mformat(arg_name, fn_name, arg_name, \u001b[39mtype\u001b[39m(el)))\n\u001b[1;32m     40\u001b[0m \u001b[39mreturn\u001b[39;00m is_inp_tuple, inp\n",
      "\u001b[0;31mTypeError\u001b[0m: The inputs given to jacobian must be either a Tensor or a tuple of Tensors but the given inputs has type <class 'numpy.float64'>."
     ]
    }
   ],
   "source": [
    "# PHI = np.arange(0, np.pi/2, 1e-1)\n",
    "\n",
    "for idx, phi_current in enumerate(PHI):\n",
    "    # phi_in = pnp.array([phi_current])\n",
    "    cal = qml.qinfo.classical_fisher(Post_selection_Dephase)(phi_current)\n",
    "    \n",
    "    print(cal)"
   ]
  },
  {
   "cell_type": "code",
   "execution_count": null,
   "metadata": {},
   "outputs": [
    {
     "data": {
      "text/plain": [
       "tensor([[0.]], dtype=torch.float64, grad_fn=<MmBackward0>)"
      ]
     },
     "execution_count": 784,
     "metadata": {},
     "output_type": "execute_result"
    }
   ],
   "source": [
    "CFI = qml.qinfo.classical_fisher(Post_selection_Dephase)(phi)\n",
    "CFI"
   ]
  },
  {
   "cell_type": "code",
   "execution_count": null,
   "metadata": {},
   "outputs": [],
   "source": [
    "@qml.qnode(dev, interface='torch', diff_method='backprop')\n",
    "def circuit_test(phi):\n",
    "    global Paras_global, Phi_global, Gamma_ps\n",
    "    Phi_global = phi\n",
    "    \n",
    "    density_matrix = circuit(Paras_global)\n",
    "    density_matrix = density_matrix.clone().detach().requires_grad_(True)\n",
    "    qml.QubitDensityMatrix(density_matrix, wires = 0)\n",
    "    \n",
    "    return qml.density_matrix(wires=0)"
   ]
  },
  {
   "cell_type": "code",
   "execution_count": null,
   "metadata": {},
   "outputs": [],
   "source": [
    "# paras = torch.tensor([np.pi/2, np.pi/2], dtype=torch.complex128)\n",
    "# Paras_global = paras    # dtype=torch.complex128s\n",
    "\n",
    "# # float\n",
    "# phi = np.pi/2\n",
    "# Gamma_ps = 0.8\n",
    "\n",
    "# circuit_test(phi)"
   ]
  },
  {
   "cell_type": "code",
   "execution_count": null,
   "metadata": {},
   "outputs": [],
   "source": [
    "# paras = torch.tensor([np.pi/2, np.pi/2], dtype=torch.complex128)\n",
    "# Paras_global = paras    # dtype=torch.complex128s\n",
    "\n",
    "# # float\n",
    "# phi = np.pi/2\n",
    "# Gamma_ps = 0.8\n",
    "\n",
    "# Post_selection_Dephase(phi)"
   ]
  },
  {
   "cell_type": "code",
   "execution_count": null,
   "metadata": {},
   "outputs": [
    {
     "data": {
      "text/plain": [
       "tensor([[1.2326e-33+0.0000e+00j, 0.0000e+00+3.5108e-17j],\n",
       "        [0.0000e+00-4.9651e-17j, 1.0000e+00+0.0000e+00j]],\n",
       "       dtype=torch.complex128, grad_fn=<ReshapeAliasBackward0>)"
      ]
     },
     "execution_count": 788,
     "metadata": {},
     "output_type": "execute_result"
    }
   ],
   "source": [
    "paras = torch.tensor([np.pi/2, np.pi/2], dtype=torch.complex128)\n",
    "Paras_global = paras    # dtype=torch.complex128s\n",
    "\n",
    "# float\n",
    "phi = np.pi/2\n",
    "Gamma_ps = 0.8\n",
    " \n",
    "Post_selection_Dephase(phi)"
   ]
  },
  {
   "cell_type": "code",
   "execution_count": null,
   "metadata": {},
   "outputs": [
    {
     "ename": "ValueError",
     "evalue": "only one element tensors can be converted to Python scalars",
     "output_type": "error",
     "traceback": [
      "\u001b[0;31m---------------------------------------------------------------------------\u001b[0m",
      "\u001b[0;31mValueError\u001b[0m                                Traceback (most recent call last)",
      "\u001b[1;32m/Users/dongukkim/Desktop/Quantum_Workspace/Pennylane_Workspace/Metrology/CFI_optimize/Complete/1-qubit/BFGS/torch/BFGS[1-qubit;ps=1e-10]_det.ipynb Cell 20\u001b[0m line \u001b[0;36m1\n\u001b[0;32m----> <a href='vscode-notebook-cell:/Users/dongukkim/Desktop/Quantum_Workspace/Pennylane_Workspace/Metrology/CFI_optimize/Complete/1-qubit/BFGS/torch/BFGS%5B1-qubit%3Bps%3D1e-10%5D_det.ipynb#X12sZmlsZQ%3D%3D?line=0'>1</a>\u001b[0m qml\u001b[39m.\u001b[39;49mqinfo\u001b[39m.\u001b[39;49mclassical_fisher(Post_selection_Dephase)(paras)\n",
      "File \u001b[0;32m/Library/Frameworks/Python.framework/Versions/3.11/lib/python3.11/site-packages/pennylane/qinfo/transforms.py:513\u001b[0m, in \u001b[0;36mclassical_fisher.<locals>.wrapper\u001b[0;34m(*args, **kwargs)\u001b[0m\n\u001b[1;32m    510\u001b[0m \u001b[39mif\u001b[39;00m interface \u001b[39m==\u001b[39m \u001b[39m\"\u001b[39m\u001b[39mtf\u001b[39m\u001b[39m\"\u001b[39m:\n\u001b[1;32m    511\u001b[0m     jac \u001b[39m=\u001b[39m _tf_jac(new_qnode)\n\u001b[0;32m--> 513\u001b[0m j \u001b[39m=\u001b[39m jac(\u001b[39m*\u001b[39;49margs, \u001b[39m*\u001b[39;49m\u001b[39m*\u001b[39;49mkwargs)\n\u001b[1;32m    514\u001b[0m p \u001b[39m=\u001b[39m new_qnode(\u001b[39m*\u001b[39margs, \u001b[39m*\u001b[39m\u001b[39m*\u001b[39mkwargs)\n\u001b[1;32m    516\u001b[0m \u001b[39mif\u001b[39;00m old_interface \u001b[39m==\u001b[39m \u001b[39m\"\u001b[39m\u001b[39mauto\u001b[39m\u001b[39m\"\u001b[39m:\n",
      "File \u001b[0;32m/Library/Frameworks/Python.framework/Versions/3.11/lib/python3.11/site-packages/pennylane/qinfo/transforms.py:286\u001b[0m, in \u001b[0;36m_torch_jac.<locals>.wrapper\u001b[0;34m(*args, **kwargs)\u001b[0m\n\u001b[1;32m    284\u001b[0m \u001b[39mif\u001b[39;00m \u001b[39mlen\u001b[39m(args) \u001b[39m>\u001b[39m \u001b[39m1\u001b[39m:\n\u001b[1;32m    285\u001b[0m     \u001b[39mreturn\u001b[39;00m torch\u001b[39m.\u001b[39mautograd\u001b[39m.\u001b[39mfunctional\u001b[39m.\u001b[39mjacobian(loss, args, create_graph\u001b[39m=\u001b[39m\u001b[39mTrue\u001b[39;00m)\n\u001b[0;32m--> 286\u001b[0m \u001b[39mreturn\u001b[39;00m torch\u001b[39m.\u001b[39;49mautograd\u001b[39m.\u001b[39;49mfunctional\u001b[39m.\u001b[39;49mjacobian(loss, \u001b[39m*\u001b[39;49margs, create_graph\u001b[39m=\u001b[39;49m\u001b[39mTrue\u001b[39;49;00m)\n",
      "File \u001b[0;32m/Library/Frameworks/Python.framework/Versions/3.11/lib/python3.11/site-packages/torch/autograd/functional.py:591\u001b[0m, in \u001b[0;36mjacobian\u001b[0;34m(func, inputs, create_graph, strict, vectorize, strategy)\u001b[0m\n\u001b[1;32m    588\u001b[0m is_inputs_tuple, inputs \u001b[39m=\u001b[39m _as_tuple(inputs, \u001b[39m\"\u001b[39m\u001b[39minputs\u001b[39m\u001b[39m\"\u001b[39m, \u001b[39m\"\u001b[39m\u001b[39mjacobian\u001b[39m\u001b[39m\"\u001b[39m)\n\u001b[1;32m    589\u001b[0m inputs \u001b[39m=\u001b[39m _grad_preprocess(inputs, create_graph\u001b[39m=\u001b[39mcreate_graph, need_graph\u001b[39m=\u001b[39m\u001b[39mTrue\u001b[39;00m)\n\u001b[0;32m--> 591\u001b[0m outputs \u001b[39m=\u001b[39m func(\u001b[39m*\u001b[39;49minputs)\n\u001b[1;32m    592\u001b[0m is_outputs_tuple, outputs \u001b[39m=\u001b[39m _as_tuple(outputs,\n\u001b[1;32m    593\u001b[0m                                       \u001b[39m\"\u001b[39m\u001b[39moutputs of the user-provided function\u001b[39m\u001b[39m\"\u001b[39m,\n\u001b[1;32m    594\u001b[0m                                       \u001b[39m\"\u001b[39m\u001b[39mjacobian\u001b[39m\u001b[39m\"\u001b[39m)\n\u001b[1;32m    595\u001b[0m _check_requires_grad(outputs, \u001b[39m\"\u001b[39m\u001b[39moutputs\u001b[39m\u001b[39m\"\u001b[39m, strict\u001b[39m=\u001b[39mstrict)\n",
      "File \u001b[0;32m/Library/Frameworks/Python.framework/Versions/3.11/lib/python3.11/site-packages/pennylane/transforms/batch_transform.py:302\u001b[0m, in \u001b[0;36mbatch_transform.default_qnode_wrapper.<locals>._wrapper\u001b[0;34m(*args, **kwargs)\u001b[0m\n\u001b[1;32m    299\u001b[0m \u001b[39mif\u001b[39;00m old_interface \u001b[39m==\u001b[39m \u001b[39m\"\u001b[39m\u001b[39mauto\u001b[39m\u001b[39m\"\u001b[39m:\n\u001b[1;32m    300\u001b[0m     qnode\u001b[39m.\u001b[39minterface \u001b[39m=\u001b[39m qml\u001b[39m.\u001b[39mmath\u001b[39m.\u001b[39mget_interface(\u001b[39m*\u001b[39margs, \u001b[39m*\u001b[39m\u001b[39mlist\u001b[39m(kwargs\u001b[39m.\u001b[39mvalues()))\n\u001b[0;32m--> 302\u001b[0m qnode\u001b[39m.\u001b[39;49mconstruct(args, kwargs)\n\u001b[1;32m    303\u001b[0m tapes, processing_fn \u001b[39m=\u001b[39m \u001b[39mself\u001b[39m\u001b[39m.\u001b[39mconstruct(qnode\u001b[39m.\u001b[39mqtape, \u001b[39m*\u001b[39mtargs, \u001b[39m*\u001b[39m\u001b[39m*\u001b[39mtkwargs)\n\u001b[1;32m    305\u001b[0m interface \u001b[39m=\u001b[39m qnode\u001b[39m.\u001b[39minterface\n",
      "File \u001b[0;32m/Library/Frameworks/Python.framework/Versions/3.11/lib/python3.11/site-packages/pennylane/qnode.py:827\u001b[0m, in \u001b[0;36mQNode.construct\u001b[0;34m(self, args, kwargs)\u001b[0m\n\u001b[1;32m    824\u001b[0m \u001b[39mif\u001b[39;00m old_interface \u001b[39m==\u001b[39m \u001b[39m\"\u001b[39m\u001b[39mauto\u001b[39m\u001b[39m\"\u001b[39m:\n\u001b[1;32m    825\u001b[0m     \u001b[39mself\u001b[39m\u001b[39m.\u001b[39minterface \u001b[39m=\u001b[39m qml\u001b[39m.\u001b[39mmath\u001b[39m.\u001b[39mget_interface(\u001b[39m*\u001b[39margs, \u001b[39m*\u001b[39m\u001b[39mlist\u001b[39m(kwargs\u001b[39m.\u001b[39mvalues()))\n\u001b[0;32m--> 827\u001b[0m \u001b[39mself\u001b[39m\u001b[39m.\u001b[39m_tape \u001b[39m=\u001b[39m make_qscript(\u001b[39mself\u001b[39;49m\u001b[39m.\u001b[39;49mfunc, shots)(\u001b[39m*\u001b[39;49margs, \u001b[39m*\u001b[39;49m\u001b[39m*\u001b[39;49mkwargs)\n\u001b[1;32m    828\u001b[0m \u001b[39mself\u001b[39m\u001b[39m.\u001b[39m_qfunc_output \u001b[39m=\u001b[39m \u001b[39mself\u001b[39m\u001b[39m.\u001b[39mtape\u001b[39m.\u001b[39m_qfunc_output\n\u001b[1;32m    830\u001b[0m params \u001b[39m=\u001b[39m \u001b[39mself\u001b[39m\u001b[39m.\u001b[39mtape\u001b[39m.\u001b[39mget_parameters(trainable_only\u001b[39m=\u001b[39m\u001b[39mFalse\u001b[39;00m)\n",
      "File \u001b[0;32m/Library/Frameworks/Python.framework/Versions/3.11/lib/python3.11/site-packages/pennylane/tape/qscript.py:1482\u001b[0m, in \u001b[0;36mmake_qscript.<locals>.wrapper\u001b[0;34m(*args, **kwargs)\u001b[0m\n\u001b[1;32m   1480\u001b[0m \u001b[39mdef\u001b[39;00m \u001b[39mwrapper\u001b[39m(\u001b[39m*\u001b[39margs, \u001b[39m*\u001b[39m\u001b[39m*\u001b[39mkwargs):\n\u001b[1;32m   1481\u001b[0m     \u001b[39mwith\u001b[39;00m AnnotatedQueue() \u001b[39mas\u001b[39;00m q:\n\u001b[0;32m-> 1482\u001b[0m         result \u001b[39m=\u001b[39m fn(\u001b[39m*\u001b[39;49margs, \u001b[39m*\u001b[39;49m\u001b[39m*\u001b[39;49mkwargs)\n\u001b[1;32m   1484\u001b[0m     qscript \u001b[39m=\u001b[39m QuantumScript\u001b[39m.\u001b[39mfrom_queue(q, shots)\n\u001b[1;32m   1485\u001b[0m     qscript\u001b[39m.\u001b[39m_qfunc_output \u001b[39m=\u001b[39m result\n",
      "\u001b[1;32m/Users/dongukkim/Desktop/Quantum_Workspace/Pennylane_Workspace/Metrology/CFI_optimize/Complete/1-qubit/BFGS/torch/BFGS[1-qubit;ps=1e-10]_det.ipynb Cell 20\u001b[0m line \u001b[0;36m1\n\u001b[1;32m      <a href='vscode-notebook-cell:/Users/dongukkim/Desktop/Quantum_Workspace/Pennylane_Workspace/Metrology/CFI_optimize/Complete/1-qubit/BFGS/torch/BFGS%5B1-qubit%3Bps%3D1e-10%5D_det.ipynb#X12sZmlsZQ%3D%3D?line=2'>3</a>\u001b[0m \u001b[39m\u001b[39m\u001b[39m\"\"\" Take qnode from circuit_1 and calculate decoherence using kraus operator.\u001b[39;00m\n\u001b[1;32m      <a href='vscode-notebook-cell:/Users/dongukkim/Desktop/Quantum_Workspace/Pennylane_Workspace/Metrology/CFI_optimize/Complete/1-qubit/BFGS/torch/BFGS%5B1-qubit%3Bps%3D1e-10%5D_det.ipynb#X12sZmlsZQ%3D%3D?line=3'>4</a>\u001b[0m \u001b[39m\u001b[39;00m\n\u001b[1;32m      <a href='vscode-notebook-cell:/Users/dongukkim/Desktop/Quantum_Workspace/Pennylane_Workspace/Metrology/CFI_optimize/Complete/1-qubit/BFGS/torch/BFGS%5B1-qubit%3Bps%3D1e-10%5D_det.ipynb#X12sZmlsZQ%3D%3D?line=4'>5</a>\u001b[0m \u001b[39mArgs:\u001b[39;00m\n\u001b[0;32m   (...)\u001b[0m\n\u001b[1;32m      <a href='vscode-notebook-cell:/Users/dongukkim/Desktop/Quantum_Workspace/Pennylane_Workspace/Metrology/CFI_optimize/Complete/1-qubit/BFGS/torch/BFGS%5B1-qubit%3Bps%3D1e-10%5D_det.ipynb#X12sZmlsZQ%3D%3D?line=8'>9</a>\u001b[0m \u001b[39m    qml.density_matrix: Density matrix of full qnode\u001b[39;00m\n\u001b[1;32m     <a href='vscode-notebook-cell:/Users/dongukkim/Desktop/Quantum_Workspace/Pennylane_Workspace/Metrology/CFI_optimize/Complete/1-qubit/BFGS/torch/BFGS%5B1-qubit%3Bps%3D1e-10%5D_det.ipynb#X12sZmlsZQ%3D%3D?line=9'>10</a>\u001b[0m \u001b[39m\"\"\"\u001b[39;00m\n\u001b[1;32m     <a href='vscode-notebook-cell:/Users/dongukkim/Desktop/Quantum_Workspace/Pennylane_Workspace/Metrology/CFI_optimize/Complete/1-qubit/BFGS/torch/BFGS%5B1-qubit%3Bps%3D1e-10%5D_det.ipynb#X12sZmlsZQ%3D%3D?line=11'>12</a>\u001b[0m \u001b[39mglobal\u001b[39;00m Paras_global, Phi_global, Gamma_ps\n\u001b[0;32m---> <a href='vscode-notebook-cell:/Users/dongukkim/Desktop/Quantum_Workspace/Pennylane_Workspace/Metrology/CFI_optimize/Complete/1-qubit/BFGS/torch/BFGS%5B1-qubit%3Bps%3D1e-10%5D_det.ipynb#X12sZmlsZQ%3D%3D?line=12'>13</a>\u001b[0m Phi_global \u001b[39m=\u001b[39m torch\u001b[39m.\u001b[39;49mtensor([phi])\n\u001b[1;32m     <a href='vscode-notebook-cell:/Users/dongukkim/Desktop/Quantum_Workspace/Pennylane_Workspace/Metrology/CFI_optimize/Complete/1-qubit/BFGS/torch/BFGS%5B1-qubit%3Bps%3D1e-10%5D_det.ipynb#X12sZmlsZQ%3D%3D?line=14'>15</a>\u001b[0m \u001b[39m# Get density matrix from circuit_1    \u001b[39;00m\n\u001b[1;32m     <a href='vscode-notebook-cell:/Users/dongukkim/Desktop/Quantum_Workspace/Pennylane_Workspace/Metrology/CFI_optimize/Complete/1-qubit/BFGS/torch/BFGS%5B1-qubit%3Bps%3D1e-10%5D_det.ipynb#X12sZmlsZQ%3D%3D?line=15'>16</a>\u001b[0m density_matrix \u001b[39m=\u001b[39m circuit(Paras_global)\n",
      "\u001b[0;31mValueError\u001b[0m: only one element tensors can be converted to Python scalars"
     ]
    }
   ],
   "source": [
    "qml.qinfo.classical_fisher(Post_selection_Dephase)(paras)"
   ]
  },
  {
   "cell_type": "code",
   "execution_count": null,
   "metadata": {},
   "outputs": [
    {
     "data": {
      "text/plain": [
       "tensor([1.5708+0.j, 1.5708+0.j], dtype=torch.complex128)"
      ]
     },
     "execution_count": 11,
     "metadata": {},
     "output_type": "execute_result"
    }
   ],
   "source": [
    "Phi_global = np.pi/2\n",
    "paras = torch.tensor([np.pi/2, np.pi/2], dtype=torch.complex128)\n",
    "\n",
    "paras"
   ]
  },
  {
   "cell_type": "code",
   "execution_count": null,
   "metadata": {},
   "outputs": [
    {
     "name": "stderr",
     "output_type": "stream",
     "text": [
      "/Library/Frameworks/Python.framework/Versions/3.11/lib/python3.11/site-packages/autoray/autoray.py:1770: UserWarning: Casting complex values to real discards the imaginary part (Triggered internally at /Users/runner/work/pytorch/pytorch/pytorch/aten/src/ATen/native/Copy.cpp:276.)\n",
      "  return x.to(dtype=to_backend_dtype(dtype, like=x))\n"
     ]
    },
    {
     "data": {
      "text/plain": [
       "tensor([[ 3.5327e-16, -2.3551e-16],\n",
       "        [-2.3551e-16,  1.5701e-16]], dtype=torch.float64,\n",
       "       grad_fn=<MmBackward0>)"
      ]
     },
     "execution_count": 12,
     "metadata": {},
     "output_type": "execute_result"
    }
   ],
   "source": [
    "qml.qinfo.classical_fisher(circuit)(paras)"
   ]
  },
  {
   "cell_type": "code",
   "execution_count": null,
   "metadata": {},
   "outputs": [],
   "source": [
    "def Cost_function(paras):\n",
    "    \"\"\" Calculate Classical-Fisher-Information for qnode(=Post_selection_Dephase).\n",
    "    \n",
    "    Args:\n",
    "        paras (Numpy array): [theta_init, tau_1, tau_2, tau_d1, tau_d2, tau_d3]\n",
    "\n",
    "    Returns:\n",
    "        _type_: CFI with minus(-) sign.\n",
    "    \"\"\"\n",
    "    \n",
    "    global Paras_global, Phi_global\n",
    "    Paras_global = paras\n",
    "    phi = pnp.array([Phi_global])\n",
    "          \n",
    "    CFI = qml.qinfo.classical_fisher(Post_selection_Dephase)(phi[0])\n",
    "    \n",
    "    return -CFI"
   ]
  },
  {
   "cell_type": "code",
   "execution_count": null,
   "metadata": {},
   "outputs": [],
   "source": [
    "# paras = torch.zeros(2, dtype = torch.complex128)\n",
    "# paras[:2] = np.pi/2\n",
    "\n",
    "# paras"
   ]
  },
  {
   "cell_type": "code",
   "execution_count": null,
   "metadata": {},
   "outputs": [
    {
     "ename": "TypeError",
     "evalue": "The inputs given to jacobian must be either a Tensor or a tuple of Tensors but the given inputs has type <class 'pennylane.numpy.tensor.tensor'>.",
     "output_type": "error",
     "traceback": [
      "\u001b[0;31m---------------------------------------------------------------------------\u001b[0m",
      "\u001b[0;31mTypeError\u001b[0m                                 Traceback (most recent call last)",
      "\u001b[1;32m/Users/dongukkim/Desktop/Quantum_Workspace/Pennylane_Workspace/Metrology/CFI_optimize/Complete/1-qubit/BFGS/BFGS[1-qubit;ps=1e-10]_using_torch.ipynb Cell 13\u001b[0m line \u001b[0;36m8\n\u001b[1;32m      <a href='vscode-notebook-cell:/Users/dongukkim/Desktop/Quantum_Workspace/Pennylane_Workspace/Metrology/CFI_optimize/Complete/1-qubit/BFGS/BFGS%5B1-qubit%3Bps%3D1e-10%5D_using_torch.ipynb#X34sZmlsZQ%3D%3D?line=4'>5</a>\u001b[0m Phi_global \u001b[39m=\u001b[39m np\u001b[39m.\u001b[39mpi\u001b[39m*\u001b[39m\u001b[39m2\u001b[39m\n\u001b[1;32m      <a href='vscode-notebook-cell:/Users/dongukkim/Desktop/Quantum_Workspace/Pennylane_Workspace/Metrology/CFI_optimize/Complete/1-qubit/BFGS/BFGS%5B1-qubit%3Bps%3D1e-10%5D_using_torch.ipynb#X34sZmlsZQ%3D%3D?line=5'>6</a>\u001b[0m phi \u001b[39m=\u001b[39m pnp\u001b[39m.\u001b[39marray([Phi_global], requires_grad \u001b[39m=\u001b[39m \u001b[39mTrue\u001b[39;00m)\n\u001b[0;32m----> <a href='vscode-notebook-cell:/Users/dongukkim/Desktop/Quantum_Workspace/Pennylane_Workspace/Metrology/CFI_optimize/Complete/1-qubit/BFGS/BFGS%5B1-qubit%3Bps%3D1e-10%5D_using_torch.ipynb#X34sZmlsZQ%3D%3D?line=7'>8</a>\u001b[0m CFI \u001b[39m=\u001b[39m qml\u001b[39m.\u001b[39;49mqinfo\u001b[39m.\u001b[39;49mclassical_fisher(Post_selection_Dephase)(phi[\u001b[39m0\u001b[39;49m])\n\u001b[1;32m     <a href='vscode-notebook-cell:/Users/dongukkim/Desktop/Quantum_Workspace/Pennylane_Workspace/Metrology/CFI_optimize/Complete/1-qubit/BFGS/BFGS%5B1-qubit%3Bps%3D1e-10%5D_using_torch.ipynb#X34sZmlsZQ%3D%3D?line=9'>10</a>\u001b[0m CFI\n",
      "File \u001b[0;32m/Library/Frameworks/Python.framework/Versions/3.11/lib/python3.11/site-packages/pennylane/qinfo/transforms.py:513\u001b[0m, in \u001b[0;36mclassical_fisher.<locals>.wrapper\u001b[0;34m(*args, **kwargs)\u001b[0m\n\u001b[1;32m    510\u001b[0m \u001b[39mif\u001b[39;00m interface \u001b[39m==\u001b[39m \u001b[39m\"\u001b[39m\u001b[39mtf\u001b[39m\u001b[39m\"\u001b[39m:\n\u001b[1;32m    511\u001b[0m     jac \u001b[39m=\u001b[39m _tf_jac(new_qnode)\n\u001b[0;32m--> 513\u001b[0m j \u001b[39m=\u001b[39m jac(\u001b[39m*\u001b[39;49margs, \u001b[39m*\u001b[39;49m\u001b[39m*\u001b[39;49mkwargs)\n\u001b[1;32m    514\u001b[0m p \u001b[39m=\u001b[39m new_qnode(\u001b[39m*\u001b[39margs, \u001b[39m*\u001b[39m\u001b[39m*\u001b[39mkwargs)\n\u001b[1;32m    516\u001b[0m \u001b[39mif\u001b[39;00m old_interface \u001b[39m==\u001b[39m \u001b[39m\"\u001b[39m\u001b[39mauto\u001b[39m\u001b[39m\"\u001b[39m:\n",
      "File \u001b[0;32m/Library/Frameworks/Python.framework/Versions/3.11/lib/python3.11/site-packages/pennylane/qinfo/transforms.py:286\u001b[0m, in \u001b[0;36m_torch_jac.<locals>.wrapper\u001b[0;34m(*args, **kwargs)\u001b[0m\n\u001b[1;32m    284\u001b[0m \u001b[39mif\u001b[39;00m \u001b[39mlen\u001b[39m(args) \u001b[39m>\u001b[39m \u001b[39m1\u001b[39m:\n\u001b[1;32m    285\u001b[0m     \u001b[39mreturn\u001b[39;00m torch\u001b[39m.\u001b[39mautograd\u001b[39m.\u001b[39mfunctional\u001b[39m.\u001b[39mjacobian(loss, args, create_graph\u001b[39m=\u001b[39m\u001b[39mTrue\u001b[39;00m)\n\u001b[0;32m--> 286\u001b[0m \u001b[39mreturn\u001b[39;00m torch\u001b[39m.\u001b[39;49mautograd\u001b[39m.\u001b[39;49mfunctional\u001b[39m.\u001b[39;49mjacobian(loss, \u001b[39m*\u001b[39;49margs, create_graph\u001b[39m=\u001b[39;49m\u001b[39mTrue\u001b[39;49;00m)\n",
      "File \u001b[0;32m/Library/Frameworks/Python.framework/Versions/3.11/lib/python3.11/site-packages/torch/autograd/functional.py:588\u001b[0m, in \u001b[0;36mjacobian\u001b[0;34m(func, inputs, create_graph, strict, vectorize, strategy)\u001b[0m\n\u001b[1;32m    585\u001b[0m     \u001b[39mreturn\u001b[39;00m _jacfwd(func, inputs, strict, vectorize)\n\u001b[1;32m    587\u001b[0m \u001b[39mwith\u001b[39;00m torch\u001b[39m.\u001b[39menable_grad():\n\u001b[0;32m--> 588\u001b[0m     is_inputs_tuple, inputs \u001b[39m=\u001b[39m _as_tuple(inputs, \u001b[39m\"\u001b[39;49m\u001b[39minputs\u001b[39;49m\u001b[39m\"\u001b[39;49m, \u001b[39m\"\u001b[39;49m\u001b[39mjacobian\u001b[39;49m\u001b[39m\"\u001b[39;49m)\n\u001b[1;32m    589\u001b[0m     inputs \u001b[39m=\u001b[39m _grad_preprocess(inputs, create_graph\u001b[39m=\u001b[39mcreate_graph, need_graph\u001b[39m=\u001b[39m\u001b[39mTrue\u001b[39;00m)\n\u001b[1;32m    591\u001b[0m     outputs \u001b[39m=\u001b[39m func(\u001b[39m*\u001b[39minputs)\n",
      "File \u001b[0;32m/Library/Frameworks/Python.framework/Versions/3.11/lib/python3.11/site-packages/torch/autograd/functional.py:37\u001b[0m, in \u001b[0;36m_as_tuple\u001b[0;34m(inp, arg_name, fn_name)\u001b[0m\n\u001b[1;32m     34\u001b[0m             \u001b[39mraise\u001b[39;00m \u001b[39mTypeError\u001b[39;00m(\u001b[39m\"\u001b[39m\u001b[39mThe \u001b[39m\u001b[39m{}\u001b[39;00m\u001b[39m given to \u001b[39m\u001b[39m{}\u001b[39;00m\u001b[39m must be either a Tensor or a tuple of Tensors but the\u001b[39m\u001b[39m\"\u001b[39m\n\u001b[1;32m     35\u001b[0m                             \u001b[39m\"\u001b[39m\u001b[39m value at index \u001b[39m\u001b[39m{}\u001b[39;00m\u001b[39m has type \u001b[39m\u001b[39m{}\u001b[39;00m\u001b[39m.\u001b[39m\u001b[39m\"\u001b[39m\u001b[39m.\u001b[39mformat(arg_name, fn_name, i, \u001b[39mtype\u001b[39m(el)))\n\u001b[1;32m     36\u001b[0m         \u001b[39melse\u001b[39;00m:\n\u001b[0;32m---> 37\u001b[0m             \u001b[39mraise\u001b[39;00m \u001b[39mTypeError\u001b[39;00m(\u001b[39m\"\u001b[39m\u001b[39mThe \u001b[39m\u001b[39m{}\u001b[39;00m\u001b[39m given to \u001b[39m\u001b[39m{}\u001b[39;00m\u001b[39m must be either a Tensor or a tuple of Tensors but the\u001b[39m\u001b[39m\"\u001b[39m\n\u001b[1;32m     38\u001b[0m                             \u001b[39m\"\u001b[39m\u001b[39m given \u001b[39m\u001b[39m{}\u001b[39;00m\u001b[39m has type \u001b[39m\u001b[39m{}\u001b[39;00m\u001b[39m.\u001b[39m\u001b[39m\"\u001b[39m\u001b[39m.\u001b[39mformat(arg_name, fn_name, arg_name, \u001b[39mtype\u001b[39m(el)))\n\u001b[1;32m     40\u001b[0m \u001b[39mreturn\u001b[39;00m is_inp_tuple, inp\n",
      "\u001b[0;31mTypeError\u001b[0m: The inputs given to jacobian must be either a Tensor or a tuple of Tensors but the given inputs has type <class 'pennylane.numpy.tensor.tensor'>."
     ]
    }
   ],
   "source": [
    "paras = np.zeros(2)\n",
    "paras[:2] = np.pi/2\n",
    "Paras_global = paras\n",
    "\n",
    "Phi_global = np.pi*2\n",
    "phi = pnp.array([Phi_global], requires_grad = True)\n",
    "\n",
    "CFI = qml.qinfo.classical_fisher(Post_selection_Dephase)(phi[0])\n",
    "\n",
    "CFI\n"
   ]
  }
 ],
 "metadata": {
  "kernelspec": {
   "display_name": "Python 3",
   "language": "python",
   "name": "python3"
  },
  "language_info": {
   "codemirror_mode": {
    "name": "ipython",
    "version": 3
   },
   "file_extension": ".py",
   "mimetype": "text/x-python",
   "name": "python",
   "nbconvert_exporter": "python",
   "pygments_lexer": "ipython3",
   "version": "3.11.4"
  }
 },
 "nbformat": 4,
 "nbformat_minor": 2
}
