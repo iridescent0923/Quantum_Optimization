{
 "cells": [
  {
   "cell_type": "code",
   "execution_count": 1,
   "metadata": {},
   "outputs": [],
   "source": [
    "# ==============================\n",
    "# Standard Library Imports\n",
    "# ==============================\n",
    "from enum import Enum\n",
    "import random\n",
    "\n",
    "# ==============================\n",
    "# Third-party Library Imports\n",
    "# ==============================\n",
    "import matplotlib.pyplot as plt\n",
    "from IPython.display import display, Latex\n",
    "from matplotlib.ticker import MultipleLocator\n",
    "import numpy as np  # Original numpy\n",
    "import pennylane as qml\n",
    "import scipy as sp\n",
    "\n",
    "# Pennylane numpy\n",
    "from pennylane import numpy as pnp "
   ]
  },
  {
   "cell_type": "code",
   "execution_count": 2,
   "metadata": {},
   "outputs": [],
   "source": [
    "# ==============================\n",
    "# Setup for Quantum Computations\n",
    "# ==============================\n",
    "\n",
    "# PennyLane settings\n",
    "dev = qml.device('default.mixed', wires=1)\n",
    "\n",
    "# Define Hamiltonian for quantum computations\n",
    "coeffs = [-0.5]\n",
    "obs = [qml.PauliZ(0)]\n",
    "hamiltonian = qml.Hamiltonian(coeffs, obs)"
   ]
  },
  {
   "cell_type": "code",
   "execution_count": 3,
   "metadata": {},
   "outputs": [],
   "source": [
    "# Global Parameters\n",
    "Tau_global = 5e-2   # Dephase tau\n",
    "Paras_global = pnp.zeros(2)\n",
    "Phi_global = 0\n",
    "Gamma_ps = 0\n",
    "\n",
    "def Dephase_factor(tau):\n",
    "    \"\"\"\n",
    "    Calculate the dephasing factor (gamma) based on the provided tau value.\n",
    "\n",
    "    Args:\n",
    "        tau (float): Dephasing time constant.\n",
    "\n",
    "    Returns:\n",
    "        float: Calculated dephasing factor (gamma).\n",
    "    \"\"\"\n",
    "    return 1 - pnp.exp(-2 * tau)"
   ]
  },
  {
   "cell_type": "markdown",
   "metadata": {},
   "source": [
    "$$\n",
    "Let, e^{-t/T_2} = e^{-\\tau}\n",
    "$$\n",
    "\n",
    "$$\n",
    "\\frac{1}{2} \n",
    "\n",
    "\\begin{bmatrix}\n",
    "\n",
    "1 & e^{(i\\phi - \\tau)} \\\\\n",
    "e^{(-i\\phi - \\tau)} & 1\n",
    "\n",
    "\\end{bmatrix}\n",
    "\n",
    "=\n",
    "\n",
    "\\frac{1}{2} \n",
    "\n",
    "\\begin{bmatrix}\n",
    "\n",
    "1 & e^{i\\phi} \\sqrt{1 - \\gamma} \\\\\n",
    "e^{-i\\phi} \\sqrt{1 - \\gamma} & 1\n",
    "\n",
    "\\end{bmatrix}$$\n",
    "\n",
    "$$\n",
    "\n",
    "Then,\n",
    "\\quad \\gamma = \n",
    "1 - e^{-2 \\tau}\n",
    "$$\n",
    "\n",
    "$$ \n",
    "e^{-\\tau} = \\sqrt{1 - \\gamma}\n",
    "$$"
   ]
  },
  {
   "cell_type": "code",
   "execution_count": 4,
   "metadata": {},
   "outputs": [],
   "source": [
    "@qml.qnode(dev)\n",
    "def circuit(paras):\n",
    "    global Phi_global, Tau_global\n",
    "    phi = Phi_global\n",
    "    \n",
    "    # Set dephase factor \n",
    "    gamma_dephase_in = Dephase_factor(Tau_global)  \n",
    "\n",
    "    theta_x, phi_z = paras\n",
    "\n",
    "    qml.RX(pnp.pi/2, wires = 0)\n",
    "\n",
    "    qml.ApproxTimeEvolution(hamiltonian, phi, 1)\n",
    "    qml.PhaseDamping(gamma_dephase_in, wires = 0) \n",
    "\n",
    "    qml.RZ(phi_z, wires = 0)  # phi_z\n",
    "    \n",
    "    qml.RX(theta_x, wires = 0)  # theta_x\n",
    "    \n",
    "    # return qml.expval(hamiltonian)\n",
    "    return qml.density_matrix(wires = 0)"
   ]
  },
  {
   "cell_type": "code",
   "execution_count": 5,
   "metadata": {},
   "outputs": [],
   "source": [
    "@qml.qnode(dev)\n",
    "def Post_selection_Dephase(phi):\n",
    "    \"\"\" Take qnode from circuit_1 and calculate decoherence using kraus operator.\n",
    "    \n",
    "    Args:\n",
    "        phi (float): Phi for Time-approximation. Pass by global variables:'Phi_global'\n",
    "\n",
    "    Returns:\n",
    "        qml.density_matrix: Density matrix of full qnode\n",
    "    \"\"\"\n",
    "    \n",
    "    global Paras_global, Phi_global, Gamma_ps\n",
    "    Phi_global = phi\n",
    "    # Phi_global = pnp.array([phi], requires_grad = True)\n",
    "    \n",
    "    # Get density matrix from circuit_1\n",
    "    density_matrix = circuit(Paras_global)\n",
    "    qml.QubitDensityMatrix(density_matrix, wires = 0)\n",
    "    \n",
    "    # Kraus operator for 2*2 matrix\n",
    "    K = pnp.array([\n",
    "        [pnp.sqrt(1 - Gamma_ps), 0],\n",
    "        [0, 1]\n",
    "    ])\n",
    "    Numerator = K @ density_matrix @ K.conj().T\n",
    "    Denominator = pnp.trace(Numerator)\n",
    "    rho_ps = Numerator / Denominator\n",
    "\n",
    "    qml.QubitDensityMatrix(rho_ps, wires = 0)\n",
    "    # return qml.expval(hamiltonian) \n",
    "    return qml.density_matrix(wires = 0) "
   ]
  },
  {
   "cell_type": "code",
   "execution_count": 6,
   "metadata": {},
   "outputs": [
    {
     "data": {
      "image/png": "[encoded data removed]",
      "text/plain": [
       "<Figure size 800x200 with 1 Axes>"
      ]
     },
     "metadata": {},
     "output_type": "display_data"
    }
   ],
   "source": [
    "paras_plot = 1,1\n",
    "fig, ax = qml.draw_mpl(circuit)(paras_plot)"
   ]
  },
  {
   "cell_type": "code",
   "execution_count": 7,
   "metadata": {},
   "outputs": [],
   "source": [
    "def Cost_function(paras):\n",
    "    \"\"\" Calculate Classical-Fisher-Information for qnode(=Post_selection_Dephase).\n",
    "    \n",
    "    Args:\n",
    "        paras (Numpy array): [theta_init, tau_1, tau_2, tau_d1, tau_d2, tau_d3]\n",
    "\n",
    "    Returns:\n",
    "        _type_: CFI with minus(-) sign.\n",
    "    \"\"\"\n",
    "    \n",
    "    global Paras_global, Phi_global\n",
    "    Paras_global = paras\n",
    "    phi = pnp.array([Phi_global], requires_grad = True)\n",
    "          \n",
    "    CFI = qml.qinfo.classical_fisher(Post_selection_Dephase)(phi[0])\n",
    "    \n",
    "    return -CFI"
   ]
  },
  {
   "cell_type": "code",
   "execution_count": 8,
   "metadata": {},
   "outputs": [],
   "source": [
    "class DataIndex(Enum):\n",
    "    BEFORE = 0\n",
    "    PHI = 0\n",
    "    CFI = 1\n",
    "    PARAS = 2\n",
    "    THETA_X = 2\n",
    "    PHI_Z = 3\n",
    "\n",
    "# == BFGS -> Return Data_set:[phi, CFI, 6-Paras] ==\n",
    "def BFGS(sweep_data, initial_parameters, gamma_ps, iterations):\n",
    "    \"\"\" \n",
    "    Perform maximum optimization using the L-BFGS-B algorithm.\n",
    "\n",
    "    Args:\n",
    "        sweep_data (tuple): (start, end, step) values for the sweep.\n",
    "        initial_parameters (numpy_array): Array of parameters for the qnode.\n",
    "        gamma_ps (int): The Gamma value for post-selection.\n",
    "        iterations (int): Number of iterations for the optimization.\n",
    "\n",
    "    Returns:\n",
    "        Numpy array: 3-Dimension Data array containing phi, CFI, and optimized parameters.\n",
    "    \"\"\"\n",
    "    \n",
    "    # Create Data array\n",
    "    PHI = np.arange(sweep_data[0], sweep_data[1], sweep_data[2])\n",
    "    Data = np.zeros((iterations + 1, len(PHI), len(initial_parameters) + 2)) \n",
    "    Data[:, :, DataIndex.PHI.value] = PHI.squeeze() # Append PHI in to 0th col\n",
    "    \n",
    "    # Set global variables\n",
    "    global Gamma_ps, Phi_global, Paras_global\n",
    "    Gamma_ps = gamma_ps \n",
    "    \n",
    "    # Declare Paras temp \n",
    "    Paras_Temporary = 0\n",
    "    \n",
    "    # Store initial CFI data and parameters\n",
    "    for idx, phi in enumerate(PHI):\n",
    "        Data[DataIndex.BEFORE.value][idx][DataIndex.CFI.value] = -Cost_function(initial_parameters)\n",
    "        Data[DataIndex.BEFORE.value][idx][DataIndex.PARAS.value:] = initial_parameters\n",
    "        \n",
    "    # Optimize begin\n",
    "    for iteration in range(1, iterations + 1):\n",
    "        for phi_idx, phi_current in enumerate(PHI):\n",
    "            # Determine initial parameters based on the iteration\n",
    "            if iteration == 1:\n",
    "                Paras_Temporary = initial_parameters\n",
    "            else:\n",
    "                Paras_Temporary = Data[iteration][phi_idx][DataIndex.PARAS.value:]\n",
    "            \n",
    "            # Update the global Phi value\n",
    "            Phi_global = phi_current\n",
    "            \n",
    "            # Determine constraints\n",
    "            N = int(phi_current / pnp.pi) + 1            \n",
    "            Constraints = get_constraints(N, phi_current)\n",
    "                \n",
    "            # Optimize the data\n",
    "            Paras_global = Paras_Temporary\n",
    "            Result_BFGS = sp.optimize.minimize(\n",
    "                Cost_function, \n",
    "                Paras_Temporary, \n",
    "                method = 'L-BFGS-B', \n",
    "                bounds = Constraints,\n",
    "                \n",
    "                tol=1e-12,\n",
    "                options={\n",
    "                    'ftol': 1e-12, \n",
    "                    'gtol': 1e-12\n",
    "                }\n",
    "            )\n",
    "            Data[iteration][phi_idx][DataIndex.CFI.value] = -Result_BFGS.fun\n",
    "            Data[iteration][phi_idx][DataIndex.PARAS.value:] = Result_BFGS.x\n",
    "            \n",
    "            # cfi_formatted = \"{:.3f}\".format(-Result_BFGS.fun)\n",
    "            # paras_formatted = \", \".join([\"{:.3f}\".format(x) for x in Result_BFGS.x])\n",
    "            \n",
    "            # print(\"CFI={}, Paras=[{}]\".format(cfi_formatted, paras_formatted))\n",
    "\n",
    "            \n",
    "    return Data\n",
    "\n",
    "def get_constraints(N, phi_current):\n",
    "    if ((phi_current < 1.4 * N) or (phi_current > 1.7 * N)):\n",
    "        return [(0, pnp.pi)] * 2\n",
    "    else:\n",
    "        # Constraints = [(-float('inf'), float('inf'))] * 2 \n",
    "        return [(-pnp.pi/2, (3*pnp.pi)/2)] * 2 "
   ]
  },
  {
   "cell_type": "code",
   "execution_count": 9,
   "metadata": {},
   "outputs": [
    {
     "data": {
      "text/plain": [
       "<matplotlib.legend.Legend at 0x17e2ce7d0>"
      ]
     },
     "execution_count": 9,
     "metadata": {},
     "output_type": "execute_result"
    },
    {
     "data": {
      "image/png": "[encoded data removed]",
      "text/plain": [
       "<Figure size 640x480 with 1 Axes>"
      ]
     },
     "metadata": {},
     "output_type": "display_data"
    }
   ],
   "source": [
    "# tau_plot = 0, 5e-2, 2e-1, 5e-1, 1, 2, 3, 4\n",
    "tau_plot = 0,\n",
    "\n",
    "Sweep_data = np.array([0, pnp.pi*4,  1e-2])  #1e-2 ~ (4pi + 1e-2)\n",
    "Sweep_data_arange = np.arange(Sweep_data[0], Sweep_data[1], Sweep_data[2])\n",
    "\n",
    "Para_store = pnp.zeros((len(tau_plot), len(Sweep_data_arange), 2))\n",
    "\n",
    "for idx, tau_current in enumerate(tau_plot):\n",
    "    Tau_global = tau_current\n",
    "    \n",
    "    Paras_init = pnp.zeros(2)\n",
    "    Paras_init[:2] = pnp.pi/2\n",
    "\n",
    "    Gamma_ps_preset = 1e-10\n",
    "    Set_Iterations = 1\n",
    "\n",
    "    Optimized_Result = BFGS(Sweep_data, Paras_init, Gamma_ps_preset, Set_Iterations)\n",
    "\n",
    "    Para_store[idx][:, 0] = Optimized_Result[Set_Iterations][:,DataIndex.THETA_X.value]\n",
    "    Para_store[idx][:, 1] = Optimized_Result[Set_Iterations][:,DataIndex.PHI_Z.value]\n",
    "\n",
    "    plt.plot(Sweep_data_arange, Optimized_Result[1][:, DataIndex.CFI.value], label = f'$\\\\tau$ = {tau_current}')\n",
    "\n",
    "plt.title(f'[1-qubit] AFter BFGS_Without post-selection')\n",
    "plt.xlabel('Time')\n",
    "plt.ylabel('CFI')\n",
    "plt.grid()\n",
    "plt.legend()"
   ]
  },
  {
   "cell_type": "code",
   "execution_count": 10,
   "metadata": {},
   "outputs": [
    {
     "data": {
      "image/png": "[encoded data removed]",
      "text/plain": [
       "<Figure size 640x480 with 1 Axes>"
      ]
     },
     "metadata": {},
     "output_type": "display_data"
    }
   ],
   "source": [
    "for idx, tau in enumerate(tau_plot):\n",
    "    # if idx, tau != 4:\n",
    "        plt.plot(Sweep_data_arange, Para_store[idx][:, 1], label = f'$\\\\tau$ = {tau}')\n",
    "\n",
    "# Set the yticks to be at -2π, -π, 0, π, and 2π\n",
    "# plt.yticks([-pnp.pi, 0, pnp.pi, 2*pnp.pi], ['$-\\pi$', '0', '$\\pi$', '$2\\pi$'])\n",
    "plt.yticks([-pnp.pi, -pnp.pi/2, 0, pnp.pi/2, pnp.pi, (3*pnp.pi)/2, 2*pnp.pi], ['$-\\pi$', '$-\\pi/2$', '0', '$\\pi/2$', '$\\pi$', '$3\\pi/2$', '$2\\pi$'])\n",
    "plt.ylim(0, pnp.pi)\n",
    "\n",
    "plt.title(f'Optimized $\\\\phi_{{z}}$')\n",
    "plt.xlabel('Time')\n",
    "plt.ylabel('Rad')\n",
    "plt.grid()\n",
    "plt.legend()\n",
    "\n",
    "plt.show()"
   ]
  },
  {
   "cell_type": "code",
   "execution_count": 11,
   "metadata": {},
   "outputs": [
    {
     "ename": "IndexError",
     "evalue": "index 1 is out of bounds for axis 0 with size 1",
     "output_type": "error",
     "traceback": [
      "\u001b[0;31m---------------------------------------------------------------------------\u001b[0m",
      "\u001b[0;31mIndexError\u001b[0m                                Traceback (most recent call last)",
      "\u001b[1;32m/Users/dongukkim/Desktop/Quantum_Workspace/Pennylane_Workspace/Metrology/CFI_optimize/Complete/1-qubit/BFGS/BFGS[1-qubit;ps=1e-10].ipynb Cell 12\u001b[0m line \u001b[0;36m6\n\u001b[1;32m      <a href='vscode-notebook-cell:/Users/dongukkim/Desktop/Quantum_Workspace/Pennylane_Workspace/Metrology/CFI_optimize/Complete/1-qubit/BFGS/BFGS%5B1-qubit%3Bps%3D1e-10%5D.ipynb#X14sZmlsZQ%3D%3D?line=2'>3</a>\u001b[0m tau_order \u001b[39m=\u001b[39m \u001b[39m1\u001b[39m, \u001b[39m5\u001b[39m, \u001b[39m6\u001b[39m\n\u001b[1;32m      <a href='vscode-notebook-cell:/Users/dongukkim/Desktop/Quantum_Workspace/Pennylane_Workspace/Metrology/CFI_optimize/Complete/1-qubit/BFGS/BFGS%5B1-qubit%3Bps%3D1e-10%5D.ipynb#X14sZmlsZQ%3D%3D?line=4'>5</a>\u001b[0m \u001b[39mfor\u001b[39;00m idx, tau \u001b[39min\u001b[39;00m \u001b[39menumerate\u001b[39m(tau_order):\n\u001b[0;32m----> <a href='vscode-notebook-cell:/Users/dongukkim/Desktop/Quantum_Workspace/Pennylane_Workspace/Metrology/CFI_optimize/Complete/1-qubit/BFGS/BFGS%5B1-qubit%3Bps%3D1e-10%5D.ipynb#X14sZmlsZQ%3D%3D?line=5'>6</a>\u001b[0m     plt\u001b[39m.\u001b[39mplot(Sweep_data_arange[:\u001b[39mslice\u001b[39m], Para_store[tau][:\u001b[39mslice\u001b[39m, \u001b[39m1\u001b[39m], label \u001b[39m=\u001b[39m \u001b[39mf\u001b[39m\u001b[39m'\u001b[39m\u001b[39m$\u001b[39m\u001b[39m\\\\\u001b[39;00m\u001b[39mtau$ = \u001b[39m\u001b[39m{\u001b[39;00mtau_plot[tau]\u001b[39m}\u001b[39;00m\u001b[39m'\u001b[39m)\n\u001b[1;32m      <a href='vscode-notebook-cell:/Users/dongukkim/Desktop/Quantum_Workspace/Pennylane_Workspace/Metrology/CFI_optimize/Complete/1-qubit/BFGS/BFGS%5B1-qubit%3Bps%3D1e-10%5D.ipynb#X14sZmlsZQ%3D%3D?line=7'>8</a>\u001b[0m \u001b[39m# Set the yticks to be at -2π, -π, 0, π, and 2π\u001b[39;00m\n\u001b[1;32m      <a href='vscode-notebook-cell:/Users/dongukkim/Desktop/Quantum_Workspace/Pennylane_Workspace/Metrology/CFI_optimize/Complete/1-qubit/BFGS/BFGS%5B1-qubit%3Bps%3D1e-10%5D.ipynb#X14sZmlsZQ%3D%3D?line=8'>9</a>\u001b[0m plt\u001b[39m.\u001b[39myticks([\u001b[39m-\u001b[39mpnp\u001b[39m.\u001b[39mpi, \u001b[39m-\u001b[39mpnp\u001b[39m.\u001b[39mpi\u001b[39m/\u001b[39m\u001b[39m2\u001b[39m, \u001b[39m0\u001b[39m, pnp\u001b[39m.\u001b[39mpi\u001b[39m/\u001b[39m\u001b[39m2\u001b[39m, pnp\u001b[39m.\u001b[39mpi, (\u001b[39m3\u001b[39m\u001b[39m*\u001b[39mpnp\u001b[39m.\u001b[39mpi)\u001b[39m/\u001b[39m\u001b[39m2\u001b[39m, \u001b[39m2\u001b[39m\u001b[39m*\u001b[39mpnp\u001b[39m.\u001b[39mpi], [\u001b[39m'\u001b[39m\u001b[39m$-\u001b[39m\u001b[39m\\\u001b[39m\u001b[39mpi$\u001b[39m\u001b[39m'\u001b[39m, \u001b[39m'\u001b[39m\u001b[39m$-\u001b[39m\u001b[39m\\\u001b[39m\u001b[39mpi/2$\u001b[39m\u001b[39m'\u001b[39m, \u001b[39m'\u001b[39m\u001b[39m0\u001b[39m\u001b[39m'\u001b[39m, \u001b[39m'\u001b[39m\u001b[39m$\u001b[39m\u001b[39m\\\u001b[39m\u001b[39mpi/2$\u001b[39m\u001b[39m'\u001b[39m, \u001b[39m'\u001b[39m\u001b[39m$\u001b[39m\u001b[39m\\\u001b[39m\u001b[39mpi$\u001b[39m\u001b[39m'\u001b[39m, \u001b[39m'\u001b[39m\u001b[39m$3\u001b[39m\u001b[39m\\\u001b[39m\u001b[39mpi/2$\u001b[39m\u001b[39m'\u001b[39m, \u001b[39m'\u001b[39m\u001b[39m$2\u001b[39m\u001b[39m\\\u001b[39m\u001b[39mpi$\u001b[39m\u001b[39m'\u001b[39m])\n",
      "File \u001b[0;32m/Library/Frameworks/Python.framework/Versions/3.11/lib/python3.11/site-packages/pennylane/numpy/tensor.py:187\u001b[0m, in \u001b[0;36mtensor.__getitem__\u001b[0;34m(self, *args, **kwargs)\u001b[0m\n\u001b[1;32m    186\u001b[0m \u001b[39mdef\u001b[39;00m \u001b[39m__getitem__\u001b[39m(\u001b[39mself\u001b[39m, \u001b[39m*\u001b[39margs, \u001b[39m*\u001b[39m\u001b[39m*\u001b[39mkwargs):\n\u001b[0;32m--> 187\u001b[0m     item \u001b[39m=\u001b[39m \u001b[39msuper\u001b[39;49m()\u001b[39m.\u001b[39;49m\u001b[39m__getitem__\u001b[39;49m(\u001b[39m*\u001b[39;49margs, \u001b[39m*\u001b[39;49m\u001b[39m*\u001b[39;49mkwargs)\n\u001b[1;32m    189\u001b[0m     \u001b[39mif\u001b[39;00m \u001b[39mnot\u001b[39;00m \u001b[39misinstance\u001b[39m(item, tensor):\n\u001b[1;32m    190\u001b[0m         item \u001b[39m=\u001b[39m tensor(item, requires_grad\u001b[39m=\u001b[39m\u001b[39mself\u001b[39m\u001b[39m.\u001b[39mrequires_grad)\n",
      "\u001b[0;31mIndexError\u001b[0m: index 1 is out of bounds for axis 0 with size 1"
     ]
    }
   ],
   "source": [
    "slice = int(len(Sweep_data_arange) / 2)\n",
    "\n",
    "tau_order = 1, 5, 6\n",
    "\n",
    "for idx, tau in enumerate(tau_order):\n",
    "    plt.plot(Sweep_data_arange[:slice], Para_store[tau][:slice, 1], label = f'$\\\\tau$ = {tau_plot[tau]}')\n",
    "\n",
    "# Set the yticks to be at -2π, -π, 0, π, and 2π\n",
    "plt.yticks([-pnp.pi, -pnp.pi/2, 0, pnp.pi/2, pnp.pi, (3*pnp.pi)/2, 2*pnp.pi], ['$-\\pi$', '$-\\pi/2$', '0', '$\\pi/2$', '$\\pi$', '$3\\pi/2$', '$2\\pi$'])\n",
    "plt.ylim(0, 1*pnp.pi)\n",
    "\n",
    "plt.title(f'Optimized $\\\\phi_{{z}}$')\n",
    "plt.xlabel('Time')\n",
    "plt.ylabel('Rad')\n",
    "plt.grid()\n",
    "plt.legend()\n",
    "\n",
    "plt.show()"
   ]
  },
  {
   "cell_type": "code",
   "execution_count": null,
   "metadata": {},
   "outputs": [
    {
     "data": {
      "image/png": "[encoded data removed]",
      "text/plain": [
       "<Figure size 640x480 with 1 Axes>"
      ]
     },
     "metadata": {},
     "output_type": "display_data"
    }
   ],
   "source": [
    "for idx, tau in enumerate(tau_plot):\n",
    "    plt.plot(Sweep_data_arange, Para_store[idx][:, 0], label = f'$\\\\tau$ = {tau}')\n",
    "\n",
    "# Set the yticks to be at π/4, π/2, and 3π/4\n",
    "plt.yticks([pnp.pi/4, pnp.pi/2, 3*pnp.pi/4], ['$\\pi/4$', '$\\pi/2$', '$3\\pi/4$'])\n",
    "\n",
    "plt.title(f'Optimized $\\\\theta_{{x}}$')\n",
    "plt.xlabel('Time')\n",
    "plt.ylabel('Rad')\n",
    "plt.grid()\n",
    "plt.legend()\n",
    "\n",
    "plt.show()"
   ]
  }
 ],
 "metadata": {
  "kernelspec": {
   "display_name": "Python 3",
   "language": "python",
   "name": "python3"
  },
  "language_info": {
   "codemirror_mode": {
    "name": "ipython",
    "version": 3
   },
   "file_extension": ".py",
   "mimetype": "text/x-python",
   "name": "python",
   "nbconvert_exporter": "python",
   "pygments_lexer": "ipython3",
   "version": "3.11.4"
  }
 },
 "nbformat": 4,
 "nbformat_minor": 2
}
