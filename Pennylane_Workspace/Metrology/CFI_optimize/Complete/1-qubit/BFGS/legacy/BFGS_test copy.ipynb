{
 "cells": [
  {
   "cell_type": "code",
   "execution_count": 2,
   "metadata": {},
   "outputs": [],
   "source": [
    "import numpy as np \n",
    "import scipy as sp"
   ]
  },
  {
   "cell_type": "code",
   "execution_count": null,
   "metadata": {},
   "outputs": [],
   "source": [
    "def Cost_functions(x):\n",
    "    func = -0.00125*np.sin(2*x) + 0.00125\n",
    "    return -func"
   ]
  },
  {
   "cell_type": "code",
   "execution_count": null,
   "metadata": {},
   "outputs": [],
   "source": [
    "class Data_Index:\n",
    "    PHI = 0\n",
    "    CF = 1  # Cost-funcitons value \n",
    "    PARAS = 2"
   ]
  },
  {
   "cell_type": "code",
   "execution_count": null,
   "metadata": {},
   "outputs": [],
   "source": [
    "def BFGS(sweep_data, initial_guess):\n",
    "    PHI = np.arange(sweep_data[0], sweep_data[1], sweep_data[2])\n",
    "    Data = np.zeros((len(PHI), 3)) \n",
    "    Data[:, Data_Index.PHI.value] = PHI.squeeze() # Append PHI in to 0th col\n",
    "    \n",
    "    for phi_idx, phi in enumerate(PHI):\n",
    "        \n",
    "        Result_BFGS = sp.optimize.minimize(\n",
    "            fun = Cost_functions, \n",
    "            x0 = initial_guess, \n",
    "            method = 'L-BFGS-B', \n",
    "            # bounds = Constraints,\n",
    "            # options={'maxiter': 16000*10}\n",
    "            # options={'gtol': 1e-7}\n",
    "        )\n",
    "        \n",
    "        Data[phi_idx][Data_Index.CF.value] = -Result_BFGS.fun\n",
    "        Data[phi_idx][Data_Index.PARAS.value:] = Result_BFGS.x\n",
    "        \n",
    "    return Data"
   ]
  },
  {
   "cell_type": "code",
   "execution_count": null,
   "metadata": {},
   "outputs": [],
   "source": [
    "Sweep_data = np.array([0, np.pi*2,  1e-2])  #1e-2 ~ (4pi + 1e-2)\n",
    "Sweep_data_arange = np.arange(Sweep_data[0], Sweep_data[1], Sweep_data[2])\n",
    "\n",
    "Paras_init = np.zeros(2)\n",
    "    Paras_init[:2] = (3*np.pi)/4\n",
    "\n",
    "    Gamma_ps_preset = 8e-1\n",
    "    Set_Iterations = 1\n",
    "\n",
    "    Optimized_Result = BFGS(Sweep_data, Paras_init, Gamma_ps_preset, Set_Iterations)\n",
    "    \n",
    "    Para_store[idx][:, 0] = Optimized_Result[Set_Iterations][:,DataIndex.THETA_X.value]\n",
    "    Para_store[idx][:, 1] = Optimized_Result[Set_Iterations][:,DataIndex.PHI_Z.value]\n",
    "    \n",
    "    plt.plot(Sweep_data_arange, Optimized_Result[1][:, DataIndex.CFI.value], label = f'$\\\\tau$ = {tau_current}')\n",
    "    \n",
    "plt.title(f'[1-qubit] AFter BFGS_Without post-selection')\n",
    "plt.xlabel('Time')\n",
    "plt.ylabel('CFI')\n",
    "plt.grid()\n",
    "plt.legend()\n",
    "\n",
    "\n"
   ]
  },
  {
   "cell_type": "code",
   "execution_count": 11,
   "metadata": {},
   "outputs": [
    {
     "name": "stdout",
     "output_type": "stream",
     "text": [
      "  message: CONVERGENCE: NORM_OF_PROJECTED_GRADIENT_<=_PGTOL\n",
      "  success: True\n",
      "   status: 0\n",
      "      fun: -8.0\n",
      "        x: [-2.000e+00 -2.000e+00]\n",
      "      nit: 1\n",
      "      jac: [ 4.000e+00  4.000e+00]\n",
      "     nfev: 6\n",
      "     njev: 2\n",
      " hess_inv: <2x2 LbfgsInvHessProduct with dtype=float64>\n"
     ]
    }
   ],
   "source": [
    "from scipy.optimize import minimize\n",
    "\n",
    "# Define your objective function\n",
    "def objective_function(x):\n",
    "    res = x[0]**2 + x[1]**2\n",
    "\n",
    "    return -res\n",
    "\n",
    "\n",
    "# Initial guess\n",
    "initial_guess = [-1, -1]\n",
    "\n",
    "# Set bounds\n",
    "bounds = [(-2, 1), (-2, 1)]\n",
    "\n",
    "# Optimize using L-BFGS-B with specified options\n",
    "result = minimize(\n",
    "    objective_function, \n",
    "    initial_guess, \n",
    "    method='L-BFGS-B', \n",
    "    bounds=bounds, \n",
    "    options={\n",
    "        'ftol': 1e-6,    # Set your desired value for ftol\n",
    "        'maxls': 30      # Set your desired value for maxls\n",
    "    }\n",
    ")\n",
    "\n",
    "print(result)\n"
   ]
  },
  {
   "cell_type": "code",
   "execution_count": 7,
   "metadata": {},
   "outputs": [
    {
     "data": {
      "text/plain": [
       "5.0320512e-17"
      ]
     },
     "execution_count": 7,
     "metadata": {},
     "output_type": "execute_result"
    }
   ],
   "source": [
    "a = -5.016e-9 \n",
    "\n",
    "res = a**2 + a**2\n",
    "\n",
    "res"
   ]
  }
 ],
 "metadata": {
  "kernelspec": {
   "display_name": "Python 3",
   "language": "python",
   "name": "python3"
  },
  "language_info": {
   "codemirror_mode": {
    "name": "ipython",
    "version": 3
   },
   "file_extension": ".py",
   "mimetype": "text/x-python",
   "name": "python",
   "nbconvert_exporter": "python",
   "pygments_lexer": "ipython3",
   "version": "3.11.4"
  }
 },
 "nbformat": 4,
 "nbformat_minor": 2
}
