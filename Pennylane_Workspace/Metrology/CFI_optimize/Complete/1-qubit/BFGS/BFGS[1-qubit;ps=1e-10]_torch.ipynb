{
 "cells": [
  {
   "cell_type": "code",
   "execution_count": 102,
   "metadata": {},
   "outputs": [],
   "source": [
    "# ==============================\n",
    "# Standard Library Imports\n",
    "# ==============================\n",
    "from enum import Enum\n",
    "import random\n",
    "\n",
    "# ==============================\n",
    "# Third-party Library Imports\n",
    "# ==============================\n",
    "import matplotlib.pyplot as plt\n",
    "from IPython.display import display, Latex\n",
    "from matplotlib.ticker import MultipleLocator\n",
    "import numpy as np_  # Original numpy\n",
    "import pennylane as qml\n",
    "import scipy as sp\n",
    "\n",
    "import torch\n",
    "\n",
    "# Pennylane numpy\n",
    "from pennylane import numpy as np "
   ]
  },
  {
   "cell_type": "code",
   "execution_count": 103,
   "metadata": {},
   "outputs": [],
   "source": [
    "# ==============================\n",
    "# Setup for Quantum Computations\n",
    "# ==============================\n",
    "\n",
    "# PennyLane settings\n",
    "dev = qml.device('default.mixed', wires=1)\n",
    "\n",
    "# Define Hamiltonian for quantum computations\n",
    "hamiltonian = qml.Hamiltonian(coeffs = [-0.5], observables = [qml.PauliZ(0)])"
   ]
  },
  {
   "cell_type": "code",
   "execution_count": 104,
   "metadata": {},
   "outputs": [],
   "source": [
    "# Global Parameters\n",
    "Tau_global = 5e-2   # Dephase tau\n",
    "Paras_global = np.zeros(2)\n",
    "Phi_global = 0\n",
    "Gamma_ps = 0\n",
    "\n",
    "def Dephase_factor(tau):\n",
    "    \"\"\"\n",
    "    Calculate the dephasing factor (gamma) based on the provided tau value.\n",
    "\n",
    "    Args:\n",
    "        tau (float): Dephasing time constant.\n",
    "\n",
    "    Returns:\n",
    "        float: Calculated dephasing factor (gamma).\n",
    "    \"\"\"\n",
    "    \n",
    "    return 1 - np.exp(-2 * tau)"
   ]
  },
  {
   "cell_type": "markdown",
   "metadata": {},
   "source": [
    "$$\n",
    "Let, e^{-t/T_2} = e^{-\\tau}\n",
    "$$\n",
    "\n",
    "$$\n",
    "\\frac{1}{2} \n",
    "\n",
    "\\begin{bmatrix}\n",
    "\n",
    "1 & e^{(i\\phi - \\tau)} \\\\\n",
    "e^{(-i\\phi - \\tau)} & 1\n",
    "\n",
    "\\end{bmatrix}\n",
    "\n",
    "=\n",
    "\n",
    "\\frac{1}{2} \n",
    "\n",
    "\\begin{bmatrix}\n",
    "\n",
    "1 & e^{i\\phi} \\sqrt{1 - \\gamma} \\\\\n",
    "e^{-i\\phi} \\sqrt{1 - \\gamma} & 1\n",
    "\n",
    "\\end{bmatrix}$$\n",
    "\n",
    "$$\n",
    "\n",
    "Then,\n",
    "\\quad \\gamma = \n",
    "1 - e^{-2 \\tau}\n",
    "$$\n",
    "\n",
    "$$ \n",
    "e^{-\\tau} = \\sqrt{1 - \\gamma}\n",
    "$$"
   ]
  },
  {
   "cell_type": "code",
   "execution_count": 105,
   "metadata": {},
   "outputs": [
    {
     "data": {
      "image/png": "[encoded data removed]",
      "text/plain": [
       "<Figure size 800x200 with 1 Axes>"
      ]
     },
     "metadata": {},
     "output_type": "display_data"
    }
   ],
   "source": [
    "@qml.qnode(dev, interface='torch', diff_method='backprop')\n",
    "def circuit(paras):\n",
    "    global Phi_global, Tau_global\n",
    "    phi = Phi_global\n",
    "    \n",
    "    # Set dephase factor \n",
    "    gamma_dephase_in = Dephase_factor(Tau_global)  \n",
    "\n",
    "    theta_x, phi_z = paras\n",
    "\n",
    "    qml.RX(np.pi/2, wires = 0)\n",
    "    # qml.Hadamard(wires=0)\n",
    "\n",
    "    qml.ApproxTimeEvolution(hamiltonian, phi, 1)\n",
    "    qml.PhaseDamping(gamma_dephase_in, wires = 0)\n",
    "\n",
    "    qml.RZ(phi_z, wires = 0)  # phi_z\n",
    "    \n",
    "    qml.RX(theta_x, wires = 0)  # theta_x\n",
    "    \n",
    "    return qml.density_matrix(wires = 0)\n",
    "\n",
    "@qml.qnode(dev, interface='torch', diff_method='backprop')\n",
    "def Post_selection_Dephase(phi):\n",
    "    \"\"\" Take qnode from circuit_1 and calculate decoherence using kraus operator.\n",
    "    \n",
    "    Args:\n",
    "        phi (float): Phi for Time-approximation. Pass by global variables:'Phi_global'\n",
    "\n",
    "    Returns:\n",
    "        qml.density_matrix: Density matrix of full qnode\n",
    "    \"\"\"\n",
    "    \n",
    "    global Paras_global, Phi_global, Gamma_ps\n",
    "    Phi_global = phi\n",
    "    \n",
    "    # Get density matrix from circuit_1\n",
    "    density_matrix = circuit(Paras_global)\n",
    "    qml.QubitDensityMatrix(density_matrix, wires = 0)\n",
    "    \n",
    "    # Kraus operator for 2*2 matrix\n",
    "    K = np.array([\n",
    "        [np.sqrt(1 - Gamma_ps), 0],\n",
    "        [0, 1]\n",
    "    ])\n",
    "    Numerator = K @ density_matrix @ K.conj().T\n",
    "    Denominator = np.trace(Numerator)\n",
    "    rho_ps = Numerator / Denominator\n",
    "\n",
    "    qml.QubitDensityMatrix(rho_ps, wires = 0)\n",
    "    return qml.density_matrix(wires = 0) \n",
    "\n",
    "paras_plot = 1,1\n",
    "fig, ax = qml.draw_mpl(circuit)(paras_plot)"
   ]
  },
  {
   "cell_type": "code",
   "execution_count": 121,
   "metadata": {},
   "outputs": [
    {
     "data": {
      "text/plain": [
       "torch.Tensor"
      ]
     },
     "execution_count": 121,
     "metadata": {},
     "output_type": "execute_result"
    }
   ],
   "source": [
    "paras = torch.tensor([np.pi/2, np.pi/2])\n",
    "\n",
    "density_matrix = (circuit(paras))\n",
    "\n",
    "type(density_matrix)"
   ]
  },
  {
   "cell_type": "code",
   "execution_count": 122,
   "metadata": {},
   "outputs": [
    {
     "data": {
      "text/plain": [
       "tensor([[0.4472136, 0.       ],\n",
       "        [0.       , 1.       ]], requires_grad=True)"
      ]
     },
     "execution_count": 122,
     "metadata": {},
     "output_type": "execute_result"
    }
   ],
   "source": [
    "Gamma_ps = 0.8\n",
    "K = np.array([\n",
    "    [np.sqrt(1 - Gamma_ps), 0],\n",
    "    [0, 1]\n",
    "])\n",
    "\n",
    "K"
   ]
  },
  {
   "cell_type": "code",
   "execution_count": 124,
   "metadata": {},
   "outputs": [
    {
     "name": "stderr",
     "output_type": "stream",
     "text": [
      "/var/folders/w1/ls_y8xbd21b7x0tbqwgfdcd00000gn/T/ipykernel_81656/2676095398.py:1: UserWarning: To copy construct from a tensor, it is recommended to use sourceTensor.clone().detach() or sourceTensor.clone().detach().requires_grad_(True), rather than torch.tensor(sourceTensor).\n",
      "  K = torch.tensor(K)\n"
     ]
    },
    {
     "data": {
      "text/plain": [
       "tensor([[0.4472, 0.0000],\n",
       "        [0.0000, 1.0000]], dtype=torch.float64)"
      ]
     },
     "execution_count": 124,
     "metadata": {},
     "output_type": "execute_result"
    }
   ],
   "source": [
    "K = torch.tensor(K)\n",
    "\n",
    "K"
   ]
  },
  {
   "cell_type": "code",
   "execution_count": null,
   "metadata": {},
   "outputs": [],
   "source": []
  },
  {
   "cell_type": "code",
   "execution_count": 108,
   "metadata": {},
   "outputs": [
    {
     "data": {
      "text/plain": [
       "tensor([[0.5000+2.7756e-17j, 0.4756-4.8850e-15j],\n",
       "        [0.4756+4.8850e-15j, 0.5000+2.7756e-17j]], dtype=torch.complex128)"
      ]
     },
     "execution_count": 108,
     "metadata": {},
     "output_type": "execute_result"
    }
   ],
   "source": [
    "density_matrix"
   ]
  },
  {
   "cell_type": "code",
   "execution_count": 107,
   "metadata": {},
   "outputs": [
    {
     "ename": "RuntimeError",
     "evalue": "expected scalar type Double but found ComplexDouble",
     "output_type": "error",
     "traceback": [
      "\u001b[0;31m---------------------------------------------------------------------------\u001b[0m",
      "\u001b[0;31mRuntimeError\u001b[0m                              Traceback (most recent call last)",
      "\u001b[1;32m/Users/dongukkim/Desktop/Quantum_Workspace/Pennylane_Workspace/Metrology/CFI_optimize/Complete/1-qubit/BFGS/BFGS[1-qubit;ps=1e-10]_torch.ipynb Cell 7\u001b[0m line \u001b[0;36m1\n\u001b[0;32m----> <a href='vscode-notebook-cell:/Users/dongukkim/Desktop/Quantum_Workspace/Pennylane_Workspace/Metrology/CFI_optimize/Complete/1-qubit/BFGS/BFGS%5B1-qubit%3Bps%3D1e-10%5D_torch.ipynb#X25sZmlsZQ%3D%3D?line=0'>1</a>\u001b[0m K \u001b[39m@\u001b[39;49m density_matrix \u001b[39m@\u001b[39m K\n",
      "\u001b[0;31mRuntimeError\u001b[0m: expected scalar type Double but found ComplexDouble"
     ]
    }
   ],
   "source": [
    "K @ density_matrix @ K\n"
   ]
  },
  {
   "cell_type": "code",
   "execution_count": null,
   "metadata": {},
   "outputs": [
    {
     "data": {
      "text/plain": [
       "torch.Tensor"
      ]
     },
     "execution_count": 93,
     "metadata": {},
     "output_type": "execute_result"
    }
   ],
   "source": [
    "\n",
    "# Gamma_ps = torch.tensor(0.8)\n",
    "Gamma_ps = 0.8\n",
    "\n",
    "K = np.array([\n",
    "    [np.sqrt(1 - Gamma_ps), 0],\n",
    "    [0, 1]\n",
    "])\n",
    "\n",
    "K = torch.tensor(K)\n",
    "type(K)"
   ]
  },
  {
   "cell_type": "code",
   "execution_count": null,
   "metadata": {},
   "outputs": [
    {
     "ename": "TypeError",
     "evalue": "unsupported operand type(s) for @: 'tensor' and 'Tensor'",
     "output_type": "error",
     "traceback": [
      "\u001b[0;31m---------------------------------------------------------------------------\u001b[0m",
      "\u001b[0;31mTypeError\u001b[0m                                 Traceback (most recent call last)",
      "\u001b[1;32m/Users/dongukkim/Desktop/Quantum_Workspace/Pennylane_Workspace/Metrology/CFI_optimize/Complete/1-qubit/BFGS/BFGS[1-qubit;ps=1e-10]_torch.ipynb Cell 8\u001b[0m line \u001b[0;36m5\n\u001b[1;32m      <a href='vscode-notebook-cell:/Users/dongukkim/Desktop/Quantum_Workspace/Pennylane_Workspace/Metrology/CFI_optimize/Complete/1-qubit/BFGS/BFGS%5B1-qubit%3Bps%3D1e-10%5D_torch.ipynb#X21sZmlsZQ%3D%3D?line=1'>2</a>\u001b[0m paras \u001b[39m=\u001b[39m torch\u001b[39m.\u001b[39mtensor([np\u001b[39m.\u001b[39mpi\u001b[39m/\u001b[39m\u001b[39m2\u001b[39m, np\u001b[39m.\u001b[39mpi\u001b[39m/\u001b[39m\u001b[39m2\u001b[39m])\n\u001b[1;32m      <a href='vscode-notebook-cell:/Users/dongukkim/Desktop/Quantum_Workspace/Pennylane_Workspace/Metrology/CFI_optimize/Complete/1-qubit/BFGS/BFGS%5B1-qubit%3Bps%3D1e-10%5D_torch.ipynb#X21sZmlsZQ%3D%3D?line=2'>3</a>\u001b[0m Paras_global \u001b[39m=\u001b[39m paras\n\u001b[0;32m----> <a href='vscode-notebook-cell:/Users/dongukkim/Desktop/Quantum_Workspace/Pennylane_Workspace/Metrology/CFI_optimize/Complete/1-qubit/BFGS/BFGS%5B1-qubit%3Bps%3D1e-10%5D_torch.ipynb#X21sZmlsZQ%3D%3D?line=4'>5</a>\u001b[0m Post_selection_Dephase(phi_temp)\n",
      "File \u001b[0;32m/Library/Frameworks/Python.framework/Versions/3.11/lib/python3.11/site-packages/pennylane/qnode.py:936\u001b[0m, in \u001b[0;36mQNode.__call__\u001b[0;34m(self, *args, **kwargs)\u001b[0m\n\u001b[1;32m    933\u001b[0m             kwargs[\u001b[39m\"\u001b[39m\u001b[39mshots\u001b[39m\u001b[39m\"\u001b[39m] \u001b[39m=\u001b[39m \u001b[39mNone\u001b[39;00m\n\u001b[1;32m    935\u001b[0m \u001b[39m# construct the tape\u001b[39;00m\n\u001b[0;32m--> 936\u001b[0m \u001b[39mself\u001b[39;49m\u001b[39m.\u001b[39;49mconstruct(args, kwargs)\n\u001b[1;32m    938\u001b[0m cache \u001b[39m=\u001b[39m \u001b[39mself\u001b[39m\u001b[39m.\u001b[39mexecute_kwargs\u001b[39m.\u001b[39mget(\u001b[39m\"\u001b[39m\u001b[39mcache\u001b[39m\u001b[39m\"\u001b[39m, \u001b[39mFalse\u001b[39;00m)\n\u001b[1;32m    939\u001b[0m using_custom_cache \u001b[39m=\u001b[39m (\n\u001b[1;32m    940\u001b[0m     \u001b[39mhasattr\u001b[39m(cache, \u001b[39m\"\u001b[39m\u001b[39m__getitem__\u001b[39m\u001b[39m\"\u001b[39m)\n\u001b[1;32m    941\u001b[0m     \u001b[39mand\u001b[39;00m \u001b[39mhasattr\u001b[39m(cache, \u001b[39m\"\u001b[39m\u001b[39m__setitem__\u001b[39m\u001b[39m\"\u001b[39m)\n\u001b[1;32m    942\u001b[0m     \u001b[39mand\u001b[39;00m \u001b[39mhasattr\u001b[39m(cache, \u001b[39m\"\u001b[39m\u001b[39m__delitem__\u001b[39m\u001b[39m\"\u001b[39m)\n\u001b[1;32m    943\u001b[0m )\n",
      "File \u001b[0;32m/Library/Frameworks/Python.framework/Versions/3.11/lib/python3.11/site-packages/pennylane/qnode.py:827\u001b[0m, in \u001b[0;36mQNode.construct\u001b[0;34m(self, args, kwargs)\u001b[0m\n\u001b[1;32m    824\u001b[0m \u001b[39mif\u001b[39;00m old_interface \u001b[39m==\u001b[39m \u001b[39m\"\u001b[39m\u001b[39mauto\u001b[39m\u001b[39m\"\u001b[39m:\n\u001b[1;32m    825\u001b[0m     \u001b[39mself\u001b[39m\u001b[39m.\u001b[39minterface \u001b[39m=\u001b[39m qml\u001b[39m.\u001b[39mmath\u001b[39m.\u001b[39mget_interface(\u001b[39m*\u001b[39margs, \u001b[39m*\u001b[39m\u001b[39mlist\u001b[39m(kwargs\u001b[39m.\u001b[39mvalues()))\n\u001b[0;32m--> 827\u001b[0m \u001b[39mself\u001b[39m\u001b[39m.\u001b[39m_tape \u001b[39m=\u001b[39m make_qscript(\u001b[39mself\u001b[39;49m\u001b[39m.\u001b[39;49mfunc, shots)(\u001b[39m*\u001b[39;49margs, \u001b[39m*\u001b[39;49m\u001b[39m*\u001b[39;49mkwargs)\n\u001b[1;32m    828\u001b[0m \u001b[39mself\u001b[39m\u001b[39m.\u001b[39m_qfunc_output \u001b[39m=\u001b[39m \u001b[39mself\u001b[39m\u001b[39m.\u001b[39mtape\u001b[39m.\u001b[39m_qfunc_output\n\u001b[1;32m    830\u001b[0m params \u001b[39m=\u001b[39m \u001b[39mself\u001b[39m\u001b[39m.\u001b[39mtape\u001b[39m.\u001b[39mget_parameters(trainable_only\u001b[39m=\u001b[39m\u001b[39mFalse\u001b[39;00m)\n",
      "File \u001b[0;32m/Library/Frameworks/Python.framework/Versions/3.11/lib/python3.11/site-packages/pennylane/tape/qscript.py:1482\u001b[0m, in \u001b[0;36mmake_qscript.<locals>.wrapper\u001b[0;34m(*args, **kwargs)\u001b[0m\n\u001b[1;32m   1480\u001b[0m \u001b[39mdef\u001b[39;00m \u001b[39mwrapper\u001b[39m(\u001b[39m*\u001b[39margs, \u001b[39m*\u001b[39m\u001b[39m*\u001b[39mkwargs):\n\u001b[1;32m   1481\u001b[0m     \u001b[39mwith\u001b[39;00m AnnotatedQueue() \u001b[39mas\u001b[39;00m q:\n\u001b[0;32m-> 1482\u001b[0m         result \u001b[39m=\u001b[39m fn(\u001b[39m*\u001b[39;49margs, \u001b[39m*\u001b[39;49m\u001b[39m*\u001b[39;49mkwargs)\n\u001b[1;32m   1484\u001b[0m     qscript \u001b[39m=\u001b[39m QuantumScript\u001b[39m.\u001b[39mfrom_queue(q, shots)\n\u001b[1;32m   1485\u001b[0m     qscript\u001b[39m.\u001b[39m_qfunc_output \u001b[39m=\u001b[39m result\n",
      "\u001b[1;32m/Users/dongukkim/Desktop/Quantum_Workspace/Pennylane_Workspace/Metrology/CFI_optimize/Complete/1-qubit/BFGS/BFGS[1-qubit;ps=1e-10]_torch.ipynb Cell 8\u001b[0m line \u001b[0;36m4\n\u001b[1;32m     <a href='vscode-notebook-cell:/Users/dongukkim/Desktop/Quantum_Workspace/Pennylane_Workspace/Metrology/CFI_optimize/Complete/1-qubit/BFGS/BFGS%5B1-qubit%3Bps%3D1e-10%5D_torch.ipynb#X21sZmlsZQ%3D%3D?line=40'>41</a>\u001b[0m \u001b[39m# Kraus operator for 2*2 matrix\u001b[39;00m\n\u001b[1;32m     <a href='vscode-notebook-cell:/Users/dongukkim/Desktop/Quantum_Workspace/Pennylane_Workspace/Metrology/CFI_optimize/Complete/1-qubit/BFGS/BFGS%5B1-qubit%3Bps%3D1e-10%5D_torch.ipynb#X21sZmlsZQ%3D%3D?line=41'>42</a>\u001b[0m K \u001b[39m=\u001b[39m np\u001b[39m.\u001b[39marray([\n\u001b[1;32m     <a href='vscode-notebook-cell:/Users/dongukkim/Desktop/Quantum_Workspace/Pennylane_Workspace/Metrology/CFI_optimize/Complete/1-qubit/BFGS/BFGS%5B1-qubit%3Bps%3D1e-10%5D_torch.ipynb#X21sZmlsZQ%3D%3D?line=42'>43</a>\u001b[0m     [np\u001b[39m.\u001b[39msqrt(\u001b[39m1\u001b[39m \u001b[39m-\u001b[39m Gamma_ps), \u001b[39m0\u001b[39m],\n\u001b[1;32m     <a href='vscode-notebook-cell:/Users/dongukkim/Desktop/Quantum_Workspace/Pennylane_Workspace/Metrology/CFI_optimize/Complete/1-qubit/BFGS/BFGS%5B1-qubit%3Bps%3D1e-10%5D_torch.ipynb#X21sZmlsZQ%3D%3D?line=43'>44</a>\u001b[0m     [\u001b[39m0\u001b[39m, \u001b[39m1\u001b[39m]\n\u001b[1;32m     <a href='vscode-notebook-cell:/Users/dongukkim/Desktop/Quantum_Workspace/Pennylane_Workspace/Metrology/CFI_optimize/Complete/1-qubit/BFGS/BFGS%5B1-qubit%3Bps%3D1e-10%5D_torch.ipynb#X21sZmlsZQ%3D%3D?line=44'>45</a>\u001b[0m ])\n\u001b[0;32m---> <a href='vscode-notebook-cell:/Users/dongukkim/Desktop/Quantum_Workspace/Pennylane_Workspace/Metrology/CFI_optimize/Complete/1-qubit/BFGS/BFGS%5B1-qubit%3Bps%3D1e-10%5D_torch.ipynb#X21sZmlsZQ%3D%3D?line=45'>46</a>\u001b[0m Numerator \u001b[39m=\u001b[39m K \u001b[39m@\u001b[39;49m density_matrix \u001b[39m@\u001b[39m K\u001b[39m.\u001b[39mconj()\u001b[39m.\u001b[39mT\n\u001b[1;32m     <a href='vscode-notebook-cell:/Users/dongukkim/Desktop/Quantum_Workspace/Pennylane_Workspace/Metrology/CFI_optimize/Complete/1-qubit/BFGS/BFGS%5B1-qubit%3Bps%3D1e-10%5D_torch.ipynb#X21sZmlsZQ%3D%3D?line=46'>47</a>\u001b[0m Denominator \u001b[39m=\u001b[39m np\u001b[39m.\u001b[39mtrace(Numerator)\n\u001b[1;32m     <a href='vscode-notebook-cell:/Users/dongukkim/Desktop/Quantum_Workspace/Pennylane_Workspace/Metrology/CFI_optimize/Complete/1-qubit/BFGS/BFGS%5B1-qubit%3Bps%3D1e-10%5D_torch.ipynb#X21sZmlsZQ%3D%3D?line=47'>48</a>\u001b[0m rho_ps \u001b[39m=\u001b[39m Numerator \u001b[39m/\u001b[39m Denominator\n",
      "\u001b[0;31mTypeError\u001b[0m: unsupported operand type(s) for @: 'tensor' and 'Tensor'"
     ]
    }
   ],
   "source": [
    "phi_temp = torch.tensor(np.pi/2)\n",
    "paras = torch.tensor([np.pi/2, np.pi/2])\n",
    "Paras_global = paras\n",
    "\n",
    "Post_selection_Dephase(phi_temp)"
   ]
  },
  {
   "cell_type": "code",
   "execution_count": null,
   "metadata": {},
   "outputs": [
    {
     "data": {
      "text/plain": [
       "torch.Tensor"
      ]
     },
     "execution_count": 91,
     "metadata": {},
     "output_type": "execute_result"
    }
   ],
   "source": [
    "# Step1: clarify circuit_1 \n",
    "\n",
    "paras = torch.tensor([np.pi/2, np.pi/2])\n",
    "Paras_global = paras\n",
    "\n",
    "type(circuit(paras))"
   ]
  },
  {
   "cell_type": "code",
   "execution_count": null,
   "metadata": {},
   "outputs": [],
   "source": [
    "def Cost_function(paras):\n",
    "    \"\"\" Calculate Classical-Fisher-Information for qnode(=Post_selection_Dephase).\n",
    "    \n",
    "    Args:\n",
    "        paras (Numpy array): [theta_init, tau_1, tau_2, tau_d1, tau_d2, tau_d3]\n",
    "\n",
    "    Returns:\n",
    "        _type_: CFI with minus(-) sign.\n",
    "    \"\"\"\n",
    "    \n",
    "    global Paras_global, Phi_global\n",
    "    Paras_global = paras\n",
    "    phi = np.array([Phi_global])\n",
    "\n",
    "    CFI = qml.qinfo.classical_fisher(Post_selection_Dephase)(phi[0])\n",
    "    \n",
    "    return -CFI"
   ]
  },
  {
   "cell_type": "code",
   "execution_count": null,
   "metadata": {},
   "outputs": [],
   "source": [
    "cselect = None\n",
    "def cost(paras):\n",
    "    return torch.real(Cost_function(paras, cselect))"
   ]
  },
  {
   "cell_type": "code",
   "execution_count": null,
   "metadata": {},
   "outputs": [
    {
     "ename": "TypeError",
     "evalue": "Cost_function() takes 1 positional argument but 2 were given",
     "output_type": "error",
     "traceback": [
      "\u001b[0;31m---------------------------------------------------------------------------\u001b[0m",
      "\u001b[0;31mTypeError\u001b[0m                                 Traceback (most recent call last)",
      "\u001b[1;32m/Users/dongukkim/Desktop/Quantum_Workspace/Pennylane_Workspace/Metrology/CFI_optimize/Complete/1-qubit/BFGS/BFGS[1-qubit;ps=1e-10]_torch.ipynb Cell 9\u001b[0m line \u001b[0;36m6\n\u001b[1;32m      <a href='vscode-notebook-cell:/Users/dongukkim/Desktop/Quantum_Workspace/Pennylane_Workspace/Metrology/CFI_optimize/Complete/1-qubit/BFGS/BFGS%5B1-qubit%3Bps%3D1e-10%5D_torch.ipynb#X15sZmlsZQ%3D%3D?line=1'>2</a>\u001b[0m Paras_init[:\u001b[39m2\u001b[39m] \u001b[39m=\u001b[39m np\u001b[39m.\u001b[39mpi\u001b[39m/\u001b[39m\u001b[39m2\u001b[39m\n\u001b[1;32m      <a href='vscode-notebook-cell:/Users/dongukkim/Desktop/Quantum_Workspace/Pennylane_Workspace/Metrology/CFI_optimize/Complete/1-qubit/BFGS/BFGS%5B1-qubit%3Bps%3D1e-10%5D_torch.ipynb#X15sZmlsZQ%3D%3D?line=3'>4</a>\u001b[0m \u001b[39m# torch.real(Cost_function(Paras_init))\u001b[39;00m\n\u001b[0;32m----> <a href='vscode-notebook-cell:/Users/dongukkim/Desktop/Quantum_Workspace/Pennylane_Workspace/Metrology/CFI_optimize/Complete/1-qubit/BFGS/BFGS%5B1-qubit%3Bps%3D1e-10%5D_torch.ipynb#X15sZmlsZQ%3D%3D?line=5'>6</a>\u001b[0m cost(Paras_init)\n",
      "\u001b[1;32m/Users/dongukkim/Desktop/Quantum_Workspace/Pennylane_Workspace/Metrology/CFI_optimize/Complete/1-qubit/BFGS/BFGS[1-qubit;ps=1e-10]_torch.ipynb Cell 9\u001b[0m line \u001b[0;36m3\n\u001b[1;32m      <a href='vscode-notebook-cell:/Users/dongukkim/Desktop/Quantum_Workspace/Pennylane_Workspace/Metrology/CFI_optimize/Complete/1-qubit/BFGS/BFGS%5B1-qubit%3Bps%3D1e-10%5D_torch.ipynb#X15sZmlsZQ%3D%3D?line=1'>2</a>\u001b[0m \u001b[39mdef\u001b[39;00m \u001b[39mcost\u001b[39m(paras):\n\u001b[0;32m----> <a href='vscode-notebook-cell:/Users/dongukkim/Desktop/Quantum_Workspace/Pennylane_Workspace/Metrology/CFI_optimize/Complete/1-qubit/BFGS/BFGS%5B1-qubit%3Bps%3D1e-10%5D_torch.ipynb#X15sZmlsZQ%3D%3D?line=2'>3</a>\u001b[0m     \u001b[39mreturn\u001b[39;00m torch\u001b[39m.\u001b[39mreal(Cost_function(paras, cselect))\n",
      "\u001b[0;31mTypeError\u001b[0m: Cost_function() takes 1 positional argument but 2 were given"
     ]
    }
   ],
   "source": [
    "Paras_init = np.zeros(2)\n",
    "Paras_init[:2] = np.pi/2\n",
    "\n",
    "# torch.real(Cost_function(Paras_init))\n",
    "\n",
    "cost(Paras_init)"
   ]
  },
  {
   "cell_type": "code",
   "execution_count": null,
   "metadata": {},
   "outputs": [],
   "source": [
    "class DataIndex(Enum):\n",
    "    BEFORE = 0\n",
    "    PHI = 0\n",
    "    CFI = 1\n",
    "    PARAS = 2\n",
    "    THETA_X = 2\n",
    "    PHI_Z = 3\n",
    "\n",
    "# == BFGS -> Return Data_set:[phi, CFI, 6-Paras] ==\n",
    "def BFGS(sweep_data, initial_parameters, gamma_ps, iterations):\n",
    "    \"\"\" \n",
    "    Perform maximum optimization using the L-BFGS-B algorithm.\n",
    "\n",
    "    Args:\n",
    "        sweep_data (tuple): (start, end, step) values for the sweep.\n",
    "        initial_parameters (numpy_array): Array of parameters for the qnode.\n",
    "        gamma_ps (int): The Gamma value for post-selection.\n",
    "        iterations (int): Number of iterations for the optimization.\n",
    "\n",
    "    Returns:\n",
    "        Numpy array: 3-Dimension Data array containing phi, CFI, and optimized parameters.\n",
    "    \"\"\"\n",
    "    \n",
    "    # Create Data array\n",
    "    PHI = np_.arange(sweep_data[0], sweep_data[1], sweep_data[2])\n",
    "    Data = np_.zeros((iterations + 1, len(PHI), len(initial_parameters) + 2)) \n",
    "    Data[:, :, DataIndex.PHI.value] = PHI.squeeze() # Append PHI in to 0th col\n",
    "    \n",
    "    # Set global variables\n",
    "    global Gamma_ps, Phi_global, Paras_global\n",
    "    Gamma_ps = gamma_ps \n",
    "    \n",
    "    # Declare Paras temp \n",
    "    Paras_Temporary = 0\n",
    "    \n",
    "    # Store initial CFI data and parameters\n",
    "    for idx, phi in enumerate(PHI):\n",
    "        Data[DataIndex.BEFORE.value][idx][DataIndex.CFI.value] = -Cost_function(initial_parameters)\n",
    "        Data[DataIndex.BEFORE.value][idx][DataIndex.PARAS.value:] = initial_parameters\n",
    "        \n",
    "    # Optimize begin\n",
    "    for iteration in range(1, iterations + 1):\n",
    "        for phi_idx, phi_current in enumerate(PHI):\n",
    "            # Determine initial parameters based on the iteration\n",
    "            if iteration == 1:\n",
    "                Paras_Temporary = initial_parameters\n",
    "            else:\n",
    "                Paras_Temporary = Data[iteration][phi_idx][DataIndex.PARAS.value:]\n",
    "            \n",
    "            # Update the global Phi value\n",
    "            Phi_global = phi_current\n",
    "            \n",
    "            # Determine constraints\n",
    "            N = int(phi_current / np.pi) + 1            \n",
    "            Constraints = get_constraints(N, phi_current)\n",
    "                \n",
    "            # Optimize the data\n",
    "            Paras_global = Paras_Temporary\n",
    "            Result_BFGS = sp.optimize.minimize(\n",
    "                Cost_function, \n",
    "                Paras_Temporary, \n",
    "                method = 'L-BFGS-B', \n",
    "                bounds = Constraints,\n",
    "                \n",
    "                tol=1e-12,\n",
    "                options={\n",
    "                    'ftol': 1e-12, \n",
    "                    'gtol': 1e-12\n",
    "                }\n",
    "            )\n",
    "            \n",
    "            Data[iteration][phi_idx][DataIndex.CFI.value] = -Result_BFGS.fun\n",
    "            Data[iteration][phi_idx][DataIndex.PARAS.value:] = Result_BFGS.x\n",
    "            \n",
    "    return Data\n",
    "\n",
    "def get_constraints(N, phi_current):\n",
    "    if ((phi_current < 1.4 * N) or (phi_current > 1.7 * N)):\n",
    "        return [(0, np.pi)] * 2\n",
    "    else:\n",
    "        # Constraints = [(-float('inf'), float('inf'))] * 2 \n",
    "        return [(-np.pi/2, (3*np.pi)/2)] * 2 "
   ]
  },
  {
   "cell_type": "code",
   "execution_count": null,
   "metadata": {},
   "outputs": [],
   "source": [
    "# tau_plot = 0, 5e-2, 2e-1, 5e-1, 1, 2, 3, 4\n",
    "\n",
    "# Sweep_data = np_.array([0, np.pi*4,  1e-2])  #1e-2 ~ (4pi + 1e-2)\n",
    "# Sweep_data_arange = np_.arange(Sweep_data[0], Sweep_data[1], Sweep_data[2])\n",
    "\n",
    "# Para_store = np.zeros((len(tau_plot), len(Sweep_data_arange), 2))\n",
    "\n",
    "# for idx, tau_current in enumerate(tau_plot):\n",
    "#     Tau_global = tau_current\n",
    "    \n",
    "#     Paras_init = np.zeros(2)\n",
    "#     Paras_init[:2] = np.pi/2\n",
    "\n",
    "#     Gamma_ps_preset = 1e-10\n",
    "#     Set_Iterations = 1\n",
    "\n",
    "#     Optimized_Result = BFGS(Sweep_data, Paras_init, Gamma_ps_preset, Set_Iterations)\n",
    "\n",
    "#     Para_store[idx][:, 0] = Optimized_Result[Set_Iterations][:,DataIndex.THETA_X.value]\n",
    "#     Para_store[idx][:, 1] = Optimized_Result[Set_Iterations][:,DataIndex.PHI_Z.value]\n",
    "\n",
    "#     plt.plot(Sweep_data_arange, Optimized_Result[1][:, DataIndex.CFI.value], label = f'$\\\\tau$ = {tau_current}')\n",
    "\n",
    "# plt.title(f'[1-qubit] AFter BFGS_Without post-selection')\n",
    "# plt.xlabel('Time')\n",
    "# plt.ylabel('CFI')\n",
    "# plt.grid()\n",
    "# plt.legend()"
   ]
  },
  {
   "cell_type": "code",
   "execution_count": null,
   "metadata": {},
   "outputs": [
    {
     "ename": "NameError",
     "evalue": "name 'tau_plot' is not defined",
     "output_type": "error",
     "traceback": [
      "\u001b[0;31m---------------------------------------------------------------------------\u001b[0m",
      "\u001b[0;31mNameError\u001b[0m                                 Traceback (most recent call last)",
      "\u001b[1;32m/Users/dongukkim/Desktop/Quantum_Workspace/Pennylane_Workspace/Metrology/CFI_optimize/Complete/1-qubit/BFGS/BFGS[1-qubit;ps=1e-10]_torch.ipynb Cell 11\u001b[0m line \u001b[0;36m1\n\u001b[0;32m----> <a href='vscode-notebook-cell:/Users/dongukkim/Desktop/Quantum_Workspace/Pennylane_Workspace/Metrology/CFI_optimize/Complete/1-qubit/BFGS/BFGS%5B1-qubit%3Bps%3D1e-10%5D_torch.ipynb#X11sZmlsZQ%3D%3D?line=0'>1</a>\u001b[0m \u001b[39mfor\u001b[39;00m idx, tau \u001b[39min\u001b[39;00m \u001b[39menumerate\u001b[39m(tau_plot):\n\u001b[1;32m      <a href='vscode-notebook-cell:/Users/dongukkim/Desktop/Quantum_Workspace/Pennylane_Workspace/Metrology/CFI_optimize/Complete/1-qubit/BFGS/BFGS%5B1-qubit%3Bps%3D1e-10%5D_torch.ipynb#X11sZmlsZQ%3D%3D?line=1'>2</a>\u001b[0m     \u001b[39m# if idx, tau != 4:\u001b[39;00m\n\u001b[1;32m      <a href='vscode-notebook-cell:/Users/dongukkim/Desktop/Quantum_Workspace/Pennylane_Workspace/Metrology/CFI_optimize/Complete/1-qubit/BFGS/BFGS%5B1-qubit%3Bps%3D1e-10%5D_torch.ipynb#X11sZmlsZQ%3D%3D?line=2'>3</a>\u001b[0m         plt\u001b[39m.\u001b[39mplot(Sweep_data_arange, Para_store[idx][:, \u001b[39m1\u001b[39m], label \u001b[39m=\u001b[39m \u001b[39mf\u001b[39m\u001b[39m'\u001b[39m\u001b[39m$\u001b[39m\u001b[39m\\\\\u001b[39;00m\u001b[39mtau$ = \u001b[39m\u001b[39m{\u001b[39;00mtau\u001b[39m}\u001b[39;00m\u001b[39m'\u001b[39m)\n\u001b[1;32m      <a href='vscode-notebook-cell:/Users/dongukkim/Desktop/Quantum_Workspace/Pennylane_Workspace/Metrology/CFI_optimize/Complete/1-qubit/BFGS/BFGS%5B1-qubit%3Bps%3D1e-10%5D_torch.ipynb#X11sZmlsZQ%3D%3D?line=4'>5</a>\u001b[0m \u001b[39m# Set the yticks to be at -2π, -π, 0, π, and 2π\u001b[39;00m\n\u001b[1;32m      <a href='vscode-notebook-cell:/Users/dongukkim/Desktop/Quantum_Workspace/Pennylane_Workspace/Metrology/CFI_optimize/Complete/1-qubit/BFGS/BFGS%5B1-qubit%3Bps%3D1e-10%5D_torch.ipynb#X11sZmlsZQ%3D%3D?line=5'>6</a>\u001b[0m \u001b[39m# plt.yticks([-np.pi, 0, np.pi, 2*np.pi], ['$-\\pi$', '0', '$\\pi$', '$2\\pi$'])\u001b[39;00m\n",
      "\u001b[0;31mNameError\u001b[0m: name 'tau_plot' is not defined"
     ]
    }
   ],
   "source": [
    "for idx, tau in enumerate(tau_plot):\n",
    "    # if idx, tau != 4:\n",
    "        plt.plot(Sweep_data_arange, Para_store[idx][:, 1], label = f'$\\\\tau$ = {tau}')\n",
    "\n",
    "# Set the yticks to be at -2π, -π, 0, π, and 2π\n",
    "# plt.yticks([-np.pi, 0, np.pi, 2*np.pi], ['$-\\pi$', '0', '$\\pi$', '$2\\pi$'])\n",
    "plt.yticks([-np.pi, -np.pi/2, 0, np.pi/2, np.pi, (3*np.pi)/2, 2*np.pi], ['$-\\pi$', '$-\\pi/2$', '0', '$\\pi/2$', '$\\pi$', '$3\\pi/2$', '$2\\pi$'])\n",
    "plt.ylim(0, np.pi)\n",
    "\n",
    "plt.title(f'Optimized $\\\\phi_{{z}}$')\n",
    "plt.xlabel('Time')\n",
    "plt.ylabel('Rad')\n",
    "plt.grid()\n",
    "plt.legend()\n",
    "\n",
    "plt.show()"
   ]
  },
  {
   "cell_type": "code",
   "execution_count": null,
   "metadata": {},
   "outputs": [
    {
     "data": {
      "image/png": "[encoded data removed]",
      "text/plain": [
       "<Figure size 640x480 with 1 Axes>"
      ]
     },
     "metadata": {},
     "output_type": "display_data"
    }
   ],
   "source": [
    "slice = int(len(Sweep_data_arange) / 2)\n",
    "\n",
    "tau_order = 1, 5, 6\n",
    "\n",
    "for idx, tau in enumerate(tau_order):\n",
    "    plt.plot(Sweep_data_arange[:slice], Para_store[tau][:slice, 1], label = f'$\\\\tau$ = {tau_plot[tau]}')\n",
    "\n",
    "# Set the yticks to be at -2π, -π, 0, π, and 2π\n",
    "plt.yticks([-np.pi, -np.pi/2, 0, np.pi/2, np.pi, (3*np.pi)/2, 2*np.pi], ['$-\\pi$', '$-\\pi/2$', '0', '$\\pi/2$', '$\\pi$', '$3\\pi/2$', '$2\\pi$'])\n",
    "plt.ylim(0, 1*np.pi)\n",
    "\n",
    "plt.title(f'Optimized $\\\\phi_{{z}}$')\n",
    "plt.xlabel('Time')\n",
    "plt.ylabel('Rad')\n",
    "plt.grid()\n",
    "plt.legend()\n",
    "\n",
    "plt.show()"
   ]
  },
  {
   "cell_type": "code",
   "execution_count": null,
   "metadata": {},
   "outputs": [
    {
     "data": {
      "image/png": "[encoded data removed]",
      "text/plain": [
       "<Figure size 640x480 with 1 Axes>"
      ]
     },
     "metadata": {},
     "output_type": "display_data"
    }
   ],
   "source": [
    "for idx, tau in enumerate(tau_plot):\n",
    "    plt.plot(Sweep_data_arange, Para_store[idx][:, 0], label = f'$\\\\tau$ = {tau}')\n",
    "\n",
    "# Set the yticks to be at π/4, π/2, and 3π/4\n",
    "plt.yticks([np.pi/4, np.pi/2, 3*np.pi/4], ['$\\pi/4$', '$\\pi/2$', '$3\\pi/4$'])\n",
    "\n",
    "plt.title(f'Optimized $\\\\theta_{{x}}$')\n",
    "plt.xlabel('Time')\n",
    "plt.ylabel('Rad')\n",
    "plt.grid()\n",
    "plt.legend()\n",
    "\n",
    "plt.show()"
   ]
  }
 ],
 "metadata": {
  "kernelspec": {
   "display_name": "Python 3",
   "language": "python",
   "name": "python3"
  },
  "language_info": {
   "codemirror_mode": {
    "name": "ipython",
    "version": 3
   },
   "file_extension": ".py",
   "mimetype": "text/x-python",
   "name": "python",
   "nbconvert_exporter": "python",
   "pygments_lexer": "ipython3",
   "version": "3.11.4"
  }
 },
 "nbformat": 4,
 "nbformat_minor": 2
}
