{
 "cells": [
  {
   "cell_type": "code",
   "execution_count": 7,
   "metadata": {},
   "outputs": [],
   "source": [
    "import numpy as np_ # Original numpy \n",
    "import scipy as sp\n",
    "\n",
    "import random\n",
    "\n",
    "# Plot\n",
    "from IPython.display import display, Latex\n",
    "import matplotlib.pyplot as plt\n",
    "\n",
    "# PennyLane\n",
    "import pennylane as qml\n",
    "from pennylane import numpy as np\n",
    "\n",
    "# qnode device\n",
    "dev = qml.device('default.mixed', wires = 2)\n",
    "\n",
    "coeffs = [-0.5]\n",
    "obs = [qml.PauliZ(0) @ qml.PauliZ(1)]\n",
    "hamiltonian = qml.Hamiltonian(coeffs, obs)  # Define Hamiltonian"
   ]
  },
  {
   "cell_type": "code",
   "execution_count": 8,
   "metadata": {},
   "outputs": [],
   "source": [
    "Paras_global, Phi_global = np_.zeros(3), 0"
   ]
  },
  {
   "cell_type": "code",
   "execution_count": 9,
   "metadata": {},
   "outputs": [],
   "source": [
    "@qml.qnode(dev)\n",
    "def circuit(phi):\n",
    "    \"\"\" Include the entangler stage and the phase accumulator stage for a 2-qubit system.\n",
    "    \n",
    "    Args:\n",
    "        paras (Numpy array): [theta_init, tau_1, tau_2] as a paramters.\n",
    "        Set 'phi' from the 'Cost_function' using global variables.\n",
    "        Dephase_factors = fixed as Tau_global.\n",
    "\n",
    "    Returns:\n",
    "        qml.density_matrix: Density matrix of qnode\n",
    "    \"\"\"\n",
    "    \n",
    "    # Call global\n",
    "    global Paras_global\n",
    "\n",
    "    # Assign paras\n",
    "    theta_init, tau_1, tau_2 = Paras_global[0], Paras_global[1], Paras_global[2]\n",
    "    \n",
    "    # Stage_1: RY for pi/2\n",
    "    qml.RY(np.pi/2, wires = 0)\n",
    "    qml.RY(np.pi/2, wires = 1)\n",
    "    \n",
    "    # Stage_2: Entangler    \n",
    "    qml.ApproxTimeEvolution(hamiltonian, tau_1, 1)\n",
    "\n",
    "    qml.RX(theta_init, wires = 0)    \n",
    "    qml.RX(theta_init, wires = 1)    \n",
    "\n",
    "    qml.RY(-np.pi/2, wires = 0)    \n",
    "    qml.RY(-np.pi/2, wires = 1)   \n",
    "\n",
    "    qml.ApproxTimeEvolution(hamiltonian, tau_2, 1)\n",
    "\n",
    "    qml.RY(np.pi/2, wires = 0)    \n",
    "    qml.RY(np.pi/2, wires = 1) \n",
    "    \n",
    "    # Stage_3: Accumulator\n",
    "    qml.ApproxTimeEvolution(hamiltonian, phi, 1)\n",
    "    \n",
    "    qml.RY(-np.pi/(2+1e-6), wires = 0)   # 8 4dd 3 2ss\n",
    "    qml.RY(-np.pi/(2+1e-6), wires = 1)\n",
    "    \n",
    "    return qml.density_matrix(wires=[0, 1])"
   ]
  },
  {
   "cell_type": "code",
   "execution_count": 10,
   "metadata": {},
   "outputs": [],
   "source": [
    "def Cost_function(paras):\n",
    "    \"\"\" Calculate Classical-Fisher-Information for qnode(=Post_selection_Dephase).\n",
    "    \n",
    "    Args:\n",
    "        paras (Numpy array): [theta_init, tau_1, tau_2, tau_d1, tau_d2, tau_d3]\n",
    "\n",
    "    Returns:\n",
    "        _type_: CFI with minus(-) sign.\n",
    "    \"\"\"\n",
    "    \n",
    "    global Paras_global, Phi_global\n",
    "    Paras_global, phi = paras, np.array([Phi_global])\n",
    "          \n",
    "    CFI = qml.qinfo.classical_fisher(circuit)(phi[0])\n",
    "    \n",
    "    return -CFI"
   ]
  },
  {
   "cell_type": "code",
   "execution_count": 11,
   "metadata": {},
   "outputs": [],
   "source": [
    "def BFGS(Sweep_Data, Paras):\n",
    "    PHI = np_.arange(Sweep_Data[0], Sweep_Data[1], Sweep_Data[2]).reshape(-1, 1)\n",
    "    Data = np_.zeros((len(PHI), len(Paras) + 2)) \n",
    "    \n",
    "    Data[:, 0] = PHI.squeeze() # Append PHI in to 0th col\n",
    "    \n",
    "    CFI_INDEX, PARAS_INDEX, = 1, 2\n",
    "    global Phi_global\n",
    "\n",
    "    \n",
    "    for Phi_Index in range(len(PHI)):\n",
    "        # Set Phi(Currently sweeping)\n",
    "        Phi_global = Data[Phi_Index][0]\n",
    "            \n",
    "        # Constraints(gamma = 0.99..) \n",
    "        tau_upper = 18\n",
    "        Constraints = [(-float('inf'), float('inf'))] * len(Paras)\n",
    "        \n",
    "        # Push paras to global var\n",
    "        Result_BFGS = sp.optimize.minimize(Cost_function, Paras, method = 'L-BFGS-B', bounds = Constraints)\n",
    "        Data[Phi_Index][CFI_INDEX] = -Result_BFGS.fun\n",
    "        \n",
    "        # Store data in array\n",
    "        for Paras_Index_Array in range(len(Paras)):\n",
    "            Data[Phi_Index][PARAS_INDEX + Paras_Index_Array] = Result_BFGS.x[Paras_Index_Array]\n",
    "            \n",
    "    return Data"
   ]
  },
  {
   "cell_type": "code",
   "execution_count": 12,
   "metadata": {},
   "outputs": [
    {
     "name": "stderr",
     "output_type": "stream",
     "text": [
      "No artists with labels found to put in legend.  Note that artists whose label start with an underscore are ignored when legend() is called with no argument.\n"
     ]
    },
    {
     "data": {
      "text/plain": [
       "<matplotlib.legend.Legend at 0x16d2f0690>"
      ]
     },
     "execution_count": 12,
     "metadata": {},
     "output_type": "execute_result"
    },
    {
     "data": {
      "image/png": "[encoded data removed]",
      "text/plain": [
       "<Figure size 640x480 with 1 Axes>"
      ]
     },
     "metadata": {},
     "output_type": "display_data"
    }
   ],
   "source": [
    "Sweep_data = np_.array([1e-4, np.pi * 2 + 1e-4, 5e-1])\n",
    "\n",
    "Para_init = np_.zeros(3)\n",
    "Para_init[:4] = random.uniform(0, 1)\n",
    "\n",
    "Optimized_Result = BFGS(Sweep_data, Para_init)\n",
    "\n",
    "plt.plot(Optimized_Result[:, 0], Optimized_Result[:, 1])\n",
    "plt.xlabel('Time')\n",
    "plt.ylabel('CFI')\n",
    "plt.grid()\n",
    "plt.legend()"
   ]
  }
 ],
 "metadata": {
  "kernelspec": {
   "display_name": "Python 3",
   "language": "python",
   "name": "python3"
  },
  "language_info": {
   "codemirror_mode": {
    "name": "ipython",
    "version": 3
   },
   "file_extension": ".py",
   "mimetype": "text/x-python",
   "name": "python",
   "nbconvert_exporter": "python",
   "pygments_lexer": "ipython3",
   "version": "3.11.4"
  }
 },
 "nbformat": 4,
 "nbformat_minor": 2
}
