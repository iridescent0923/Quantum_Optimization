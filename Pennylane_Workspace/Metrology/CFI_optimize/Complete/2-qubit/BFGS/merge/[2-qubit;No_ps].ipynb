{
 "cells": [
  {
   "cell_type": "code",
   "execution_count": 6,
   "metadata": {},
   "outputs": [],
   "source": [
    "# ==============================\n",
    "# Standard Library Imports\n",
    "# ==============================\n",
    "from enum import Enum\n",
    "import random\n",
    "\n",
    "# ==============================\n",
    "# Third-party Library Imports\n",
    "# ==============================\n",
    "import matplotlib.pyplot as plt\n",
    "from IPython.display import display, Latex\n",
    "from matplotlib.ticker import MultipleLocator\n",
    "import numpy as np  # Original numpy\n",
    "import pennylane as qml\n",
    "import scipy as sp\n",
    "from autograd import grad, jacobian\n",
    "\n",
    "# Pennylane numpy\n",
    "from pennylane import numpy as pnp \n",
    "\n",
    "# ==============================\n",
    "# Import files\n",
    "# ==============================\n",
    "import BFGS as BFGS\n",
    "import config"
   ]
  },
  {
   "cell_type": "code",
   "execution_count": 7,
   "metadata": {},
   "outputs": [],
   "source": [
    "# ==============================\n",
    "# Setup for Quantum Computations\n",
    "# ==============================\n",
    "\n",
    "# PennyLane settings\n",
    "dev = qml.device('default.qubit', wires=2)\n",
    "\n",
    "# Define Hamiltonian for quantum computations\n",
    "H = qml.Hamiltonian(coeffs=[-0.5, -0.5], observables=[qml.PauliZ(0), qml.PauliZ(1)])"
   ]
  },
  {
   "cell_type": "markdown",
   "metadata": {},
   "source": [
    "$$\n",
    "H = -0.5 \\cdot Z_0 - 0.5 \\cdot Z_1 \n",
    "$$\n",
    "\n",
    "$$\n",
    "= -0.5 \\cdot (Z \\otimes I) - 0.5 \\cdot (I \\otimes Z)\n",
    "$$\n",
    "\n",
    "$$\n",
    "where,\n",
    "Z = \\begin{pmatrix} 1 & 0 \\\\ 0 & -1 \\end{pmatrix}\n",
    "$$"
   ]
  },
  {
   "cell_type": "code",
   "execution_count": 8,
   "metadata": {},
   "outputs": [],
   "source": [
    "def Dephase_factor(tau):\n",
    "    \"\"\" Take tau and return gamma based on the following relation.\"\"\"\n",
    "\n",
    "    Calculate_Gamma = 1 - np.exp(-2 * tau)\n",
    "    \n",
    "    return Calculate_Gamma    # Return gamma"
   ]
  },
  {
   "cell_type": "markdown",
   "metadata": {},
   "source": [
    "$$\n",
    "Let, e^{-t/T_2} = e^{-\\tau}\n",
    "$$\n",
    "\n",
    "$$\n",
    "\\frac{1}{2} \n",
    "\n",
    "\\begin{bmatrix}\n",
    "\n",
    "1 & e^{(i\\phi - \\tau)} \\\\\n",
    "e^{(-i\\phi - \\tau)} & 1\n",
    "\n",
    "\\end{bmatrix}\n",
    "\n",
    "=\n",
    "\n",
    "\\frac{1}{2} \n",
    "\n",
    "\\begin{bmatrix}\n",
    "\n",
    "1 & e^{i\\phi} \\sqrt{1 - \\gamma} \\\\\n",
    "e^{-i\\phi} \\sqrt{1 - \\gamma} & 1\n",
    "\n",
    "\\end{bmatrix}\n",
    "$$\n",
    "\n",
    "$$\n",
    "\n",
    "$$\n",
    "\n",
    "$$\n",
    "Then,\n",
    "\\quad \\gamma = \n",
    "1 - e^{-2 \\tau}\n",
    "$$\n",
    "\n",
    "$$ \n",
    "e^{-\\tau} = \\sqrt{1 - \\gamma}\n",
    "$$"
   ]
  },
  {
   "cell_type": "code",
   "execution_count": 9,
   "metadata": {},
   "outputs": [],
   "source": [
    "@qml.qnode(dev, interface='autograd')\n",
    "def circuit(paras):\n",
    "    \n",
    "    # Assign paras\n",
    "    theta_x, tau_1, tau_2 = paras[0], paras[1], paras[2]\n",
    "    phi = config.PHI_GLOBAL\n",
    "\n",
    "    # Stage_1: RY for pi/2\n",
    "    qml.RY(np.pi/2, wires=0)\n",
    "    qml.RY(np.pi/2, wires=1)\n",
    "    \n",
    "    # Stage_2: Entangler    \n",
    "    qml.ApproxTimeEvolution(H, tau_1, 1)\n",
    "    \n",
    "    qml.RX(theta_x, wires = 0)    \n",
    "    qml.RX(theta_x, wires = 1)    \n",
    "\n",
    "    qml.RY(-np.pi/2, wires = 0)    \n",
    "    qml.RY(-np.pi/2, wires = 1)   \n",
    "\n",
    "    qml.ApproxTimeEvolution(H, tau_2, 1)\n",
    "\n",
    "    qml.RY(np.pi/2, wires = 0)    \n",
    "    qml.RY(np.pi/2, wires = 1) \n",
    "    \n",
    "    # Stage_3: Accumulator\n",
    "    qml.ApproxTimeEvolution(H, phi, 1)\n",
    "    \n",
    "    qml.RX(np.pi/(2), wires=0)\n",
    "    qml.RX(np.pi/(2), wires=1)\n",
    "    # qml.RY(-np.pi/(2+1e-6), wires=0)\n",
    "    # qml.RY(-np.pi/(2+1e-6), wires=1)\n",
    "    \n",
    "    return qml.state()"
   ]
  },
  {
   "cell_type": "code",
   "execution_count": 10,
   "metadata": {},
   "outputs": [
    {
     "ename": "IndexError",
     "evalue": "too many indices for array: array is 0-dimensional, but 1 were indexed",
     "output_type": "error",
     "traceback": [
      "\u001b[0;31m---------------------------------------------------------------------------\u001b[0m",
      "\u001b[0;31mIndexError\u001b[0m                                Traceback (most recent call last)",
      "\u001b[1;32m/Users/dongukkim/Desktop/Quantum_Workspace/Pennylane_Workspace/Metrology/CFI_optimize/Complete/2-qubit/BFGS/[2-qubit;No_ps].ipynb Cell 7\u001b[0m line \u001b[0;36m4\n\u001b[1;32m      <a href='vscode-notebook-cell:/Users/dongukkim/Desktop/Quantum_Workspace/Pennylane_Workspace/Metrology/CFI_optimize/Complete/2-qubit/BFGS/%5B2-qubit%3BNo_ps%5D.ipynb#W6sZmlsZQ%3D%3D?line=0'>1</a>\u001b[0m Sweep_data \u001b[39m=\u001b[39m np\u001b[39m.\u001b[39marray([\u001b[39m0\u001b[39m, pnp\u001b[39m.\u001b[39mpi\u001b[39m*\u001b[39m\u001b[39m2\u001b[39m,  \u001b[39m1e-2\u001b[39m])  \u001b[39m#1e-2 ~ (4pi + 1e-2)\u001b[39;00m\n\u001b[1;32m      <a href='vscode-notebook-cell:/Users/dongukkim/Desktop/Quantum_Workspace/Pennylane_Workspace/Metrology/CFI_optimize/Complete/2-qubit/BFGS/%5B2-qubit%3BNo_ps%5D.ipynb#W6sZmlsZQ%3D%3D?line=1'>2</a>\u001b[0m paras_init \u001b[39m=\u001b[39m pnp\u001b[39m.\u001b[39marray([np\u001b[39m.\u001b[39mpi\u001b[39m/\u001b[39m\u001b[39m2\u001b[39m, np\u001b[39m.\u001b[39mpi\u001b[39m/\u001b[39m\u001b[39m2\u001b[39m, np\u001b[39m.\u001b[39mpi\u001b[39m/\u001b[39m\u001b[39m2\u001b[39m])\n\u001b[0;32m----> <a href='vscode-notebook-cell:/Users/dongukkim/Desktop/Quantum_Workspace/Pennylane_Workspace/Metrology/CFI_optimize/Complete/2-qubit/BFGS/%5B2-qubit%3BNo_ps%5D.ipynb#W6sZmlsZQ%3D%3D?line=3'>4</a>\u001b[0m Optimized_Result \u001b[39m=\u001b[39m BFGS\u001b[39m.\u001b[39;49mrun_optimization(Sweep_data, paras_init, \u001b[39m0\u001b[39;49m, \u001b[39m1\u001b[39;49m, circuit)\n\u001b[1;32m      <a href='vscode-notebook-cell:/Users/dongukkim/Desktop/Quantum_Workspace/Pennylane_Workspace/Metrology/CFI_optimize/Complete/2-qubit/BFGS/%5B2-qubit%3BNo_ps%5D.ipynb#W6sZmlsZQ%3D%3D?line=4'>5</a>\u001b[0m plt\u001b[39m.\u001b[39mplot(Optimized_Result[\u001b[39m1\u001b[39m][:, config\u001b[39m.\u001b[39mDataIndex\u001b[39m.\u001b[39mPHI\u001b[39m.\u001b[39mvalue], Optimized_Result[\u001b[39m1\u001b[39m][:, config\u001b[39m.\u001b[39mDataIndex\u001b[39m.\u001b[39mCFI\u001b[39m.\u001b[39mvalue])\n\u001b[1;32m      <a href='vscode-notebook-cell:/Users/dongukkim/Desktop/Quantum_Workspace/Pennylane_Workspace/Metrology/CFI_optimize/Complete/2-qubit/BFGS/%5B2-qubit%3BNo_ps%5D.ipynb#W6sZmlsZQ%3D%3D?line=6'>7</a>\u001b[0m plt\u001b[39m.\u001b[39mtitle(\u001b[39mf\u001b[39m\u001b[39m'\u001b[39m\u001b[39m[2-qubit] After BFGS\u001b[39m\u001b[39m'\u001b[39m)\n",
      "File \u001b[0;32m~/Desktop/Quantum_Workspace/Pennylane_Workspace/Metrology/CFI_optimize/Complete/2-qubit/BFGS/BFGS.py:65\u001b[0m, in \u001b[0;36mrun_optimization\u001b[0;34m(sweep_data, initial_parameters, gamma_ps, iterations, circuit_select)\u001b[0m\n\u001b[1;32m     63\u001b[0m \u001b[39m# Store initial CFI data and parameters\u001b[39;00m\n\u001b[1;32m     64\u001b[0m \u001b[39mfor\u001b[39;00m idx, phi \u001b[39min\u001b[39;00m \u001b[39menumerate\u001b[39m(PHI):\n\u001b[0;32m---> 65\u001b[0m     Data[config\u001b[39m.\u001b[39mDataIndex\u001b[39m.\u001b[39mBEFORE\u001b[39m.\u001b[39mvalue][idx][config\u001b[39m.\u001b[39mDataIndex\u001b[39m.\u001b[39mCFI\u001b[39m.\u001b[39mvalue] \u001b[39m=\u001b[39m \u001b[39m-\u001b[39mCost_function(circuit_select)\n\u001b[1;32m     66\u001b[0m     Data[config\u001b[39m.\u001b[39mDataIndex\u001b[39m.\u001b[39mBEFORE\u001b[39m.\u001b[39mvalue][idx][config\u001b[39m.\u001b[39mDataIndex\u001b[39m.\u001b[39mPARAS\u001b[39m.\u001b[39mvalue:] \u001b[39m=\u001b[39m initial_parameters\n\u001b[1;32m     68\u001b[0m \u001b[39m# Optimize begin\u001b[39;00m\n",
      "File \u001b[0;32m~/Desktop/Quantum_Workspace/Pennylane_Workspace/Metrology/CFI_optimize/Complete/2-qubit/BFGS/BFGS.py:36\u001b[0m, in \u001b[0;36mCost_function\u001b[0;34m(circuit_select)\u001b[0m\n\u001b[1;32m     25\u001b[0m \u001b[39m\u001b[39m\u001b[39m\"\"\" Calculate Classical-Fisher-Information for qnode(=Post_selection_Dephase).\u001b[39;00m\n\u001b[1;32m     26\u001b[0m \u001b[39m\u001b[39;00m\n\u001b[1;32m     27\u001b[0m \u001b[39mArgs:\u001b[39;00m\n\u001b[0;32m   (...)\u001b[0m\n\u001b[1;32m     31\u001b[0m \u001b[39m    _type_: CFI with minus(-) sign.\u001b[39;00m\n\u001b[1;32m     32\u001b[0m \u001b[39m\"\"\"\u001b[39;00m\n\u001b[1;32m     34\u001b[0m phi \u001b[39m=\u001b[39m pnp\u001b[39m.\u001b[39marray([config\u001b[39m.\u001b[39mPHI_GLOBAL], requires_grad \u001b[39m=\u001b[39m \u001b[39m'\u001b[39m\u001b[39mTrue\u001b[39m\u001b[39m'\u001b[39m)\n\u001b[0;32m---> 36\u001b[0m CFI \u001b[39m=\u001b[39m qml\u001b[39m.\u001b[39;49mqinfo\u001b[39m.\u001b[39;49mclassical_fisher(circuit_select)(phi[\u001b[39m0\u001b[39;49m])\n\u001b[1;32m     38\u001b[0m \u001b[39mreturn\u001b[39;00m \u001b[39m-\u001b[39mCFI\n",
      "File \u001b[0;32m/Library/Frameworks/Python.framework/Versions/3.11/lib/python3.11/site-packages/pennylane/qinfo/transforms.py:513\u001b[0m, in \u001b[0;36mclassical_fisher.<locals>.wrapper\u001b[0;34m(*args, **kwargs)\u001b[0m\n\u001b[1;32m    510\u001b[0m \u001b[39mif\u001b[39;00m interface \u001b[39m==\u001b[39m \u001b[39m\"\u001b[39m\u001b[39mtf\u001b[39m\u001b[39m\"\u001b[39m:\n\u001b[1;32m    511\u001b[0m     jac \u001b[39m=\u001b[39m _tf_jac(new_qnode)\n\u001b[0;32m--> 513\u001b[0m j \u001b[39m=\u001b[39m jac(\u001b[39m*\u001b[39;49margs, \u001b[39m*\u001b[39;49m\u001b[39m*\u001b[39;49mkwargs)\n\u001b[1;32m    514\u001b[0m p \u001b[39m=\u001b[39m new_qnode(\u001b[39m*\u001b[39margs, \u001b[39m*\u001b[39m\u001b[39m*\u001b[39mkwargs)\n\u001b[1;32m    516\u001b[0m \u001b[39mif\u001b[39;00m old_interface \u001b[39m==\u001b[39m \u001b[39m\"\u001b[39m\u001b[39mauto\u001b[39m\u001b[39m\"\u001b[39m:\n",
      "File \u001b[0;32m/Library/Frameworks/Python.framework/Versions/3.11/lib/python3.11/site-packages/pennylane/_grad.py:333\u001b[0m, in \u001b[0;36mjacobian.<locals>._jacobian_function\u001b[0;34m(*args, **kwargs)\u001b[0m\n\u001b[1;32m    327\u001b[0m     warnings\u001b[39m.\u001b[39mwarn(\n\u001b[1;32m    328\u001b[0m         \u001b[39m\"\u001b[39m\u001b[39mAttempted to differentiate a function with no trainable parameters. \u001b[39m\u001b[39m\"\u001b[39m\n\u001b[1;32m    329\u001b[0m         \u001b[39m\"\u001b[39m\u001b[39mIf this is unintended, please add trainable parameters via the \u001b[39m\u001b[39m\"\u001b[39m\n\u001b[1;32m    330\u001b[0m         \u001b[39m\"\u001b[39m\u001b[39m'\u001b[39m\u001b[39mrequires_grad\u001b[39m\u001b[39m'\u001b[39m\u001b[39m attribute or \u001b[39m\u001b[39m'\u001b[39m\u001b[39margnum\u001b[39m\u001b[39m'\u001b[39m\u001b[39m keyword.\u001b[39m\u001b[39m\"\u001b[39m\n\u001b[1;32m    331\u001b[0m     )\n\u001b[1;32m    332\u001b[0m \u001b[39mtry\u001b[39;00m:\n\u001b[0;32m--> 333\u001b[0m     jac \u001b[39m=\u001b[39m \u001b[39mtuple\u001b[39;49m(_jacobian(func, arg)(\u001b[39m*\u001b[39;49margs, \u001b[39m*\u001b[39;49m\u001b[39m*\u001b[39;49mkwargs) \u001b[39mfor\u001b[39;49;00m arg \u001b[39min\u001b[39;49;00m _argnum)\n\u001b[1;32m    334\u001b[0m \u001b[39mexcept\u001b[39;00m \u001b[39mTypeError\u001b[39;00m \u001b[39mas\u001b[39;00m e:\n\u001b[1;32m    335\u001b[0m     \u001b[39mif\u001b[39;00m active_return():\n",
      "File \u001b[0;32m/Library/Frameworks/Python.framework/Versions/3.11/lib/python3.11/site-packages/pennylane/_grad.py:333\u001b[0m, in \u001b[0;36m<genexpr>\u001b[0;34m(.0)\u001b[0m\n\u001b[1;32m    327\u001b[0m     warnings\u001b[39m.\u001b[39mwarn(\n\u001b[1;32m    328\u001b[0m         \u001b[39m\"\u001b[39m\u001b[39mAttempted to differentiate a function with no trainable parameters. \u001b[39m\u001b[39m\"\u001b[39m\n\u001b[1;32m    329\u001b[0m         \u001b[39m\"\u001b[39m\u001b[39mIf this is unintended, please add trainable parameters via the \u001b[39m\u001b[39m\"\u001b[39m\n\u001b[1;32m    330\u001b[0m         \u001b[39m\"\u001b[39m\u001b[39m'\u001b[39m\u001b[39mrequires_grad\u001b[39m\u001b[39m'\u001b[39m\u001b[39m attribute or \u001b[39m\u001b[39m'\u001b[39m\u001b[39margnum\u001b[39m\u001b[39m'\u001b[39m\u001b[39m keyword.\u001b[39m\u001b[39m\"\u001b[39m\n\u001b[1;32m    331\u001b[0m     )\n\u001b[1;32m    332\u001b[0m \u001b[39mtry\u001b[39;00m:\n\u001b[0;32m--> 333\u001b[0m     jac \u001b[39m=\u001b[39m \u001b[39mtuple\u001b[39m(_jacobian(func, arg)(\u001b[39m*\u001b[39;49margs, \u001b[39m*\u001b[39;49m\u001b[39m*\u001b[39;49mkwargs) \u001b[39mfor\u001b[39;00m arg \u001b[39min\u001b[39;00m _argnum)\n\u001b[1;32m    334\u001b[0m \u001b[39mexcept\u001b[39;00m \u001b[39mTypeError\u001b[39;00m \u001b[39mas\u001b[39;00m e:\n\u001b[1;32m    335\u001b[0m     \u001b[39mif\u001b[39;00m active_return():\n",
      "File \u001b[0;32m/Library/Frameworks/Python.framework/Versions/3.11/lib/python3.11/site-packages/autograd/wrap_util.py:20\u001b[0m, in \u001b[0;36munary_to_nary.<locals>.nary_operator.<locals>.nary_f\u001b[0;34m(*args, **kwargs)\u001b[0m\n\u001b[1;32m     18\u001b[0m \u001b[39melse\u001b[39;00m:\n\u001b[1;32m     19\u001b[0m     x \u001b[39m=\u001b[39m \u001b[39mtuple\u001b[39m(args[i] \u001b[39mfor\u001b[39;00m i \u001b[39min\u001b[39;00m argnum)\n\u001b[0;32m---> 20\u001b[0m \u001b[39mreturn\u001b[39;00m unary_operator(unary_f, x, \u001b[39m*\u001b[39;49mnary_op_args, \u001b[39m*\u001b[39;49m\u001b[39m*\u001b[39;49mnary_op_kwargs)\n",
      "File \u001b[0;32m/Library/Frameworks/Python.framework/Versions/3.11/lib/python3.11/site-packages/autograd/differential_operators.py:60\u001b[0m, in \u001b[0;36mjacobian\u001b[0;34m(fun, x)\u001b[0m\n\u001b[1;32m     50\u001b[0m \u001b[39m@unary_to_nary\u001b[39m\n\u001b[1;32m     51\u001b[0m \u001b[39mdef\u001b[39;00m \u001b[39mjacobian\u001b[39m(fun, x):\n\u001b[1;32m     52\u001b[0m \u001b[39m    \u001b[39m\u001b[39m\"\"\"\u001b[39;00m\n\u001b[1;32m     53\u001b[0m \u001b[39m    Returns a function which computes the Jacobian of `fun` with respect to\u001b[39;00m\n\u001b[1;32m     54\u001b[0m \u001b[39m    positional argument number `argnum`, which must be a scalar or array. Unlike\u001b[39;00m\n\u001b[0;32m   (...)\u001b[0m\n\u001b[1;32m     58\u001b[0m \u001b[39m    (out1, out2, ...) then the Jacobian has shape (out1, out2, ..., in1, in2, ...).\u001b[39;00m\n\u001b[1;32m     59\u001b[0m \u001b[39m    \"\"\"\u001b[39;00m\n\u001b[0;32m---> 60\u001b[0m     vjp, ans \u001b[39m=\u001b[39m _make_vjp(fun, x)\n\u001b[1;32m     61\u001b[0m     ans_vspace \u001b[39m=\u001b[39m vspace(ans)\n\u001b[1;32m     62\u001b[0m     jacobian_shape \u001b[39m=\u001b[39m ans_vspace\u001b[39m.\u001b[39mshape \u001b[39m+\u001b[39m vspace(x)\u001b[39m.\u001b[39mshape\n",
      "File \u001b[0;32m/Library/Frameworks/Python.framework/Versions/3.11/lib/python3.11/site-packages/autograd/core.py:10\u001b[0m, in \u001b[0;36mmake_vjp\u001b[0;34m(fun, x)\u001b[0m\n\u001b[1;32m      8\u001b[0m \u001b[39mdef\u001b[39;00m \u001b[39mmake_vjp\u001b[39m(fun, x):\n\u001b[1;32m      9\u001b[0m     start_node \u001b[39m=\u001b[39m VJPNode\u001b[39m.\u001b[39mnew_root()\n\u001b[0;32m---> 10\u001b[0m     end_value, end_node \u001b[39m=\u001b[39m  trace(start_node, fun, x)\n\u001b[1;32m     11\u001b[0m     \u001b[39mif\u001b[39;00m end_node \u001b[39mis\u001b[39;00m \u001b[39mNone\u001b[39;00m:\n\u001b[1;32m     12\u001b[0m         \u001b[39mdef\u001b[39;00m \u001b[39mvjp\u001b[39m(g): \u001b[39mreturn\u001b[39;00m vspace(x)\u001b[39m.\u001b[39mzeros()\n",
      "File \u001b[0;32m/Library/Frameworks/Python.framework/Versions/3.11/lib/python3.11/site-packages/autograd/tracer.py:10\u001b[0m, in \u001b[0;36mtrace\u001b[0;34m(start_node, fun, x)\u001b[0m\n\u001b[1;32m      8\u001b[0m \u001b[39mwith\u001b[39;00m trace_stack\u001b[39m.\u001b[39mnew_trace() \u001b[39mas\u001b[39;00m t:\n\u001b[1;32m      9\u001b[0m     start_box \u001b[39m=\u001b[39m new_box(x, t, start_node)\n\u001b[0;32m---> 10\u001b[0m     end_box \u001b[39m=\u001b[39m fun(start_box)\n\u001b[1;32m     11\u001b[0m     \u001b[39mif\u001b[39;00m isbox(end_box) \u001b[39mand\u001b[39;00m end_box\u001b[39m.\u001b[39m_trace \u001b[39m==\u001b[39m start_box\u001b[39m.\u001b[39m_trace:\n\u001b[1;32m     12\u001b[0m         \u001b[39mreturn\u001b[39;00m end_box\u001b[39m.\u001b[39m_value, end_box\u001b[39m.\u001b[39m_node\n",
      "File \u001b[0;32m/Library/Frameworks/Python.framework/Versions/3.11/lib/python3.11/site-packages/autograd/wrap_util.py:15\u001b[0m, in \u001b[0;36munary_to_nary.<locals>.nary_operator.<locals>.nary_f.<locals>.unary_f\u001b[0;34m(x)\u001b[0m\n\u001b[1;32m     13\u001b[0m \u001b[39melse\u001b[39;00m:\n\u001b[1;32m     14\u001b[0m     subargs \u001b[39m=\u001b[39m subvals(args, \u001b[39mzip\u001b[39m(argnum, x))\n\u001b[0;32m---> 15\u001b[0m \u001b[39mreturn\u001b[39;00m fun(\u001b[39m*\u001b[39;49msubargs, \u001b[39m*\u001b[39;49m\u001b[39m*\u001b[39;49mkwargs)\n",
      "File \u001b[0;32m/Library/Frameworks/Python.framework/Versions/3.11/lib/python3.11/site-packages/pennylane/transforms/batch_transform.py:302\u001b[0m, in \u001b[0;36mbatch_transform.default_qnode_wrapper.<locals>._wrapper\u001b[0;34m(*args, **kwargs)\u001b[0m\n\u001b[1;32m    299\u001b[0m \u001b[39mif\u001b[39;00m old_interface \u001b[39m==\u001b[39m \u001b[39m\"\u001b[39m\u001b[39mauto\u001b[39m\u001b[39m\"\u001b[39m:\n\u001b[1;32m    300\u001b[0m     qnode\u001b[39m.\u001b[39minterface \u001b[39m=\u001b[39m qml\u001b[39m.\u001b[39mmath\u001b[39m.\u001b[39mget_interface(\u001b[39m*\u001b[39margs, \u001b[39m*\u001b[39m\u001b[39mlist\u001b[39m(kwargs\u001b[39m.\u001b[39mvalues()))\n\u001b[0;32m--> 302\u001b[0m qnode\u001b[39m.\u001b[39;49mconstruct(args, kwargs)\n\u001b[1;32m    303\u001b[0m tapes, processing_fn \u001b[39m=\u001b[39m \u001b[39mself\u001b[39m\u001b[39m.\u001b[39mconstruct(qnode\u001b[39m.\u001b[39mqtape, \u001b[39m*\u001b[39mtargs, \u001b[39m*\u001b[39m\u001b[39m*\u001b[39mtkwargs)\n\u001b[1;32m    305\u001b[0m interface \u001b[39m=\u001b[39m qnode\u001b[39m.\u001b[39minterface\n",
      "File \u001b[0;32m/Library/Frameworks/Python.framework/Versions/3.11/lib/python3.11/site-packages/pennylane/qnode.py:827\u001b[0m, in \u001b[0;36mQNode.construct\u001b[0;34m(self, args, kwargs)\u001b[0m\n\u001b[1;32m    824\u001b[0m \u001b[39mif\u001b[39;00m old_interface \u001b[39m==\u001b[39m \u001b[39m\"\u001b[39m\u001b[39mauto\u001b[39m\u001b[39m\"\u001b[39m:\n\u001b[1;32m    825\u001b[0m     \u001b[39mself\u001b[39m\u001b[39m.\u001b[39minterface \u001b[39m=\u001b[39m qml\u001b[39m.\u001b[39mmath\u001b[39m.\u001b[39mget_interface(\u001b[39m*\u001b[39margs, \u001b[39m*\u001b[39m\u001b[39mlist\u001b[39m(kwargs\u001b[39m.\u001b[39mvalues()))\n\u001b[0;32m--> 827\u001b[0m \u001b[39mself\u001b[39m\u001b[39m.\u001b[39m_tape \u001b[39m=\u001b[39m make_qscript(\u001b[39mself\u001b[39;49m\u001b[39m.\u001b[39;49mfunc, shots)(\u001b[39m*\u001b[39;49margs, \u001b[39m*\u001b[39;49m\u001b[39m*\u001b[39;49mkwargs)\n\u001b[1;32m    828\u001b[0m \u001b[39mself\u001b[39m\u001b[39m.\u001b[39m_qfunc_output \u001b[39m=\u001b[39m \u001b[39mself\u001b[39m\u001b[39m.\u001b[39mtape\u001b[39m.\u001b[39m_qfunc_output\n\u001b[1;32m    830\u001b[0m params \u001b[39m=\u001b[39m \u001b[39mself\u001b[39m\u001b[39m.\u001b[39mtape\u001b[39m.\u001b[39mget_parameters(trainable_only\u001b[39m=\u001b[39m\u001b[39mFalse\u001b[39;00m)\n",
      "File \u001b[0;32m/Library/Frameworks/Python.framework/Versions/3.11/lib/python3.11/site-packages/pennylane/tape/qscript.py:1482\u001b[0m, in \u001b[0;36mmake_qscript.<locals>.wrapper\u001b[0;34m(*args, **kwargs)\u001b[0m\n\u001b[1;32m   1480\u001b[0m \u001b[39mdef\u001b[39;00m \u001b[39mwrapper\u001b[39m(\u001b[39m*\u001b[39margs, \u001b[39m*\u001b[39m\u001b[39m*\u001b[39mkwargs):\n\u001b[1;32m   1481\u001b[0m     \u001b[39mwith\u001b[39;00m AnnotatedQueue() \u001b[39mas\u001b[39;00m q:\n\u001b[0;32m-> 1482\u001b[0m         result \u001b[39m=\u001b[39m fn(\u001b[39m*\u001b[39;49margs, \u001b[39m*\u001b[39;49m\u001b[39m*\u001b[39;49mkwargs)\n\u001b[1;32m   1484\u001b[0m     qscript \u001b[39m=\u001b[39m QuantumScript\u001b[39m.\u001b[39mfrom_queue(q, shots)\n\u001b[1;32m   1485\u001b[0m     qscript\u001b[39m.\u001b[39m_qfunc_output \u001b[39m=\u001b[39m result\n",
      "\u001b[1;32m/Users/dongukkim/Desktop/Quantum_Workspace/Pennylane_Workspace/Metrology/CFI_optimize/Complete/2-qubit/BFGS/[2-qubit;No_ps].ipynb Cell 7\u001b[0m line \u001b[0;36m5\n\u001b[1;32m      <a href='vscode-notebook-cell:/Users/dongukkim/Desktop/Quantum_Workspace/Pennylane_Workspace/Metrology/CFI_optimize/Complete/2-qubit/BFGS/%5B2-qubit%3BNo_ps%5D.ipynb#W6sZmlsZQ%3D%3D?line=0'>1</a>\u001b[0m \u001b[39m@qml\u001b[39m\u001b[39m.\u001b[39mqnode(dev, interface\u001b[39m=\u001b[39m\u001b[39m'\u001b[39m\u001b[39mautograd\u001b[39m\u001b[39m'\u001b[39m)\n\u001b[1;32m      <a href='vscode-notebook-cell:/Users/dongukkim/Desktop/Quantum_Workspace/Pennylane_Workspace/Metrology/CFI_optimize/Complete/2-qubit/BFGS/%5B2-qubit%3BNo_ps%5D.ipynb#W6sZmlsZQ%3D%3D?line=1'>2</a>\u001b[0m \u001b[39mdef\u001b[39;00m \u001b[39mcircuit\u001b[39m(paras):\n\u001b[1;32m      <a href='vscode-notebook-cell:/Users/dongukkim/Desktop/Quantum_Workspace/Pennylane_Workspace/Metrology/CFI_optimize/Complete/2-qubit/BFGS/%5B2-qubit%3BNo_ps%5D.ipynb#W6sZmlsZQ%3D%3D?line=2'>3</a>\u001b[0m     \n\u001b[1;32m      <a href='vscode-notebook-cell:/Users/dongukkim/Desktop/Quantum_Workspace/Pennylane_Workspace/Metrology/CFI_optimize/Complete/2-qubit/BFGS/%5B2-qubit%3BNo_ps%5D.ipynb#W6sZmlsZQ%3D%3D?line=3'>4</a>\u001b[0m     \u001b[39m# Assign paras\u001b[39;00m\n\u001b[0;32m----> <a href='vscode-notebook-cell:/Users/dongukkim/Desktop/Quantum_Workspace/Pennylane_Workspace/Metrology/CFI_optimize/Complete/2-qubit/BFGS/%5B2-qubit%3BNo_ps%5D.ipynb#W6sZmlsZQ%3D%3D?line=4'>5</a>\u001b[0m     theta_x, tau_1, tau_2 \u001b[39m=\u001b[39m paras[\u001b[39m0\u001b[39;49m], paras[\u001b[39m1\u001b[39m], paras[\u001b[39m2\u001b[39m]\n\u001b[1;32m      <a href='vscode-notebook-cell:/Users/dongukkim/Desktop/Quantum_Workspace/Pennylane_Workspace/Metrology/CFI_optimize/Complete/2-qubit/BFGS/%5B2-qubit%3BNo_ps%5D.ipynb#W6sZmlsZQ%3D%3D?line=5'>6</a>\u001b[0m     phi \u001b[39m=\u001b[39m config\u001b[39m.\u001b[39mPHI_GLOBAL\n\u001b[1;32m      <a href='vscode-notebook-cell:/Users/dongukkim/Desktop/Quantum_Workspace/Pennylane_Workspace/Metrology/CFI_optimize/Complete/2-qubit/BFGS/%5B2-qubit%3BNo_ps%5D.ipynb#W6sZmlsZQ%3D%3D?line=7'>8</a>\u001b[0m     \u001b[39m# Stage_1: RY for pi/2\u001b[39;00m\n",
      "File \u001b[0;32m/Library/Frameworks/Python.framework/Versions/3.11/lib/python3.11/site-packages/autograd/tracer.py:44\u001b[0m, in \u001b[0;36mprimitive.<locals>.f_wrapped\u001b[0;34m(*args, **kwargs)\u001b[0m\n\u001b[1;32m     42\u001b[0m parents \u001b[39m=\u001b[39m \u001b[39mtuple\u001b[39m(box\u001b[39m.\u001b[39m_node \u001b[39mfor\u001b[39;00m _     , box \u001b[39min\u001b[39;00m boxed_args)\n\u001b[1;32m     43\u001b[0m argnums \u001b[39m=\u001b[39m \u001b[39mtuple\u001b[39m(argnum    \u001b[39mfor\u001b[39;00m argnum, _   \u001b[39min\u001b[39;00m boxed_args)\n\u001b[0;32m---> 44\u001b[0m ans \u001b[39m=\u001b[39m f_wrapped(\u001b[39m*\u001b[39;49margvals, \u001b[39m*\u001b[39;49m\u001b[39m*\u001b[39;49mkwargs)\n\u001b[1;32m     45\u001b[0m node \u001b[39m=\u001b[39m node_constructor(ans, f_wrapped, argvals, kwargs, argnums, parents)\n\u001b[1;32m     46\u001b[0m \u001b[39mreturn\u001b[39;00m new_box(ans, trace, node)\n",
      "File \u001b[0;32m/Library/Frameworks/Python.framework/Versions/3.11/lib/python3.11/site-packages/autograd/tracer.py:48\u001b[0m, in \u001b[0;36mprimitive.<locals>.f_wrapped\u001b[0;34m(*args, **kwargs)\u001b[0m\n\u001b[1;32m     46\u001b[0m     \u001b[39mreturn\u001b[39;00m new_box(ans, trace, node)\n\u001b[1;32m     47\u001b[0m \u001b[39melse\u001b[39;00m:\n\u001b[0;32m---> 48\u001b[0m     \u001b[39mreturn\u001b[39;00m f_raw(\u001b[39m*\u001b[39;49margs, \u001b[39m*\u001b[39;49m\u001b[39m*\u001b[39;49mkwargs)\n",
      "File \u001b[0;32m/Library/Frameworks/Python.framework/Versions/3.11/lib/python3.11/site-packages/autograd/numpy/numpy_boxes.py:13\u001b[0m, in \u001b[0;36mArrayBox.__getitem__\u001b[0;34m(A, idx)\u001b[0m\n\u001b[1;32m     12\u001b[0m primitive\n\u001b[0;32m---> 13\u001b[0m \u001b[39mdef\u001b[39;00m \u001b[39m__getitem__\u001b[39m(A, idx): \u001b[39mreturn\u001b[39;00m A[idx]\n",
      "File \u001b[0;32m/Library/Frameworks/Python.framework/Versions/3.11/lib/python3.11/site-packages/pennylane/numpy/tensor.py:187\u001b[0m, in \u001b[0;36mtensor.__getitem__\u001b[0;34m(self, *args, **kwargs)\u001b[0m\n\u001b[1;32m    186\u001b[0m \u001b[39mdef\u001b[39;00m \u001b[39m__getitem__\u001b[39m(\u001b[39mself\u001b[39m, \u001b[39m*\u001b[39margs, \u001b[39m*\u001b[39m\u001b[39m*\u001b[39mkwargs):\n\u001b[0;32m--> 187\u001b[0m     item \u001b[39m=\u001b[39m \u001b[39msuper\u001b[39;49m()\u001b[39m.\u001b[39;49m\u001b[39m__getitem__\u001b[39;49m(\u001b[39m*\u001b[39;49margs, \u001b[39m*\u001b[39;49m\u001b[39m*\u001b[39;49mkwargs)\n\u001b[1;32m    189\u001b[0m     \u001b[39mif\u001b[39;00m \u001b[39mnot\u001b[39;00m \u001b[39misinstance\u001b[39m(item, tensor):\n\u001b[1;32m    190\u001b[0m         item \u001b[39m=\u001b[39m tensor(item, requires_grad\u001b[39m=\u001b[39m\u001b[39mself\u001b[39m\u001b[39m.\u001b[39mrequires_grad)\n",
      "\u001b[0;31mIndexError\u001b[0m: too many indices for array: array is 0-dimensional, but 1 were indexed"
     ]
    }
   ],
   "source": [
    "Sweep_data = np.array([0, pnp.pi*2,  1e-2])  #1e-2 ~ (4pi + 1e-2)\n",
    "paras_init = pnp.array([np.pi/2, np.pi/2, np.pi/2])\n",
    "\n",
    "Optimized_Result = BFGS.run_optimization(Sweep_data, paras_init, 0, 1, circuit)\n",
    "plt.plot(Optimized_Result[1][:, config.DataIndex.PHI.value], Optimized_Result[1][:, config.DataIndex.CFI.value])\n",
    "\n",
    "plt.title(f'[2-qubit] After BFGS')\n",
    "plt.xlabel('Time')\n",
    "plt.ylabel('CFI')\n",
    "plt.grid()\n",
    "plt.legend()"
   ]
  },
  {
   "cell_type": "code",
   "execution_count": null,
   "metadata": {},
   "outputs": [
    {
     "ename": "NameError",
     "evalue": "name 'Phi_global' is not defined",
     "output_type": "error",
     "traceback": [
      "\u001b[0;31m---------------------------------------------------------------------------\u001b[0m",
      "\u001b[0;31mNameError\u001b[0m                                 Traceback (most recent call last)",
      "\u001b[1;32m/Users/dongukkim/Desktop/Quantum_Workspace/Pennylane_Workspace/Metrology/CFI_optimize/Complete/2-qubit/BFGS/[2-qubit;No_ps].ipynb Cell 7\u001b[0m line \u001b[0;36m8\n\u001b[1;32m      <a href='vscode-notebook-cell:/Users/dongukkim/Desktop/Quantum_Workspace/Pennylane_Workspace/Metrology/CFI_optimize/Complete/2-qubit/BFGS/%5B2-qubit%3BNo_ps%5D.ipynb#X10sZmlsZQ%3D%3D?line=4'>5</a>\u001b[0m Data[:, \u001b[39m0\u001b[39m] \u001b[39m=\u001b[39m PHI\u001b[39m.\u001b[39msqueeze()\n\u001b[1;32m      <a href='vscode-notebook-cell:/Users/dongukkim/Desktop/Quantum_Workspace/Pennylane_Workspace/Metrology/CFI_optimize/Complete/2-qubit/BFGS/%5B2-qubit%3BNo_ps%5D.ipynb#X10sZmlsZQ%3D%3D?line=6'>7</a>\u001b[0m \u001b[39mfor\u001b[39;00m phi_idx, phi \u001b[39min\u001b[39;00m \u001b[39menumerate\u001b[39m(PHI):\n\u001b[0;32m----> <a href='vscode-notebook-cell:/Users/dongukkim/Desktop/Quantum_Workspace/Pennylane_Workspace/Metrology/CFI_optimize/Complete/2-qubit/BFGS/%5B2-qubit%3BNo_ps%5D.ipynb#X10sZmlsZQ%3D%3D?line=7'>8</a>\u001b[0m     Data[phi_idx, \u001b[39m1\u001b[39m] \u001b[39m=\u001b[39m BFGS\u001b[39m.\u001b[39;49mCost_function(paras_init, circuit)\n",
      "File \u001b[0;32m~/Desktop/Quantum_Workspace/Pennylane_Workspace/Metrology/CFI_optimize/Complete/2-qubit/BFGS/BFGS.py:41\u001b[0m, in \u001b[0;36mCost_function\u001b[0;34m(paras, circuit_select)\u001b[0m\n\u001b[1;32m     31\u001b[0m \u001b[39m\u001b[39m\u001b[39m\"\"\" Calculate Classical-Fisher-Information for qnode(=Post_selection_Dephase).\u001b[39;00m\n\u001b[1;32m     32\u001b[0m \u001b[39m\u001b[39;00m\n\u001b[1;32m     33\u001b[0m \u001b[39mArgs:\u001b[39;00m\n\u001b[0;32m   (...)\u001b[0m\n\u001b[1;32m     37\u001b[0m \u001b[39m    _type_: CFI with minus(-) sign.\u001b[39;00m\n\u001b[1;32m     38\u001b[0m \u001b[39m\"\"\"\u001b[39;00m\n\u001b[1;32m     40\u001b[0m \u001b[39mglobal\u001b[39;00m Paras_global, Phi_global\n\u001b[0;32m---> 41\u001b[0m Paras_global, phi \u001b[39m=\u001b[39m paras, pnp\u001b[39m.\u001b[39marray([Phi_global], requires_grad \u001b[39m=\u001b[39m \u001b[39m'\u001b[39m\u001b[39mTrue\u001b[39m\u001b[39m'\u001b[39m)\n\u001b[1;32m     43\u001b[0m CFI \u001b[39m=\u001b[39m qml\u001b[39m.\u001b[39mqinfo\u001b[39m.\u001b[39mclassical_fisher(circuit_select)(phi[\u001b[39m0\u001b[39m])\n\u001b[1;32m     45\u001b[0m \u001b[39mreturn\u001b[39;00m \u001b[39m-\u001b[39mCFI\n",
      "\u001b[0;31mNameError\u001b[0m: name 'Phi_global' is not defined"
     ]
    }
   ],
   "source": [
    "# paras_init = pnp.array([np.pi/2, np.pi/2, np.pi/2])\n",
    "\n",
    "# PHI = np.arange(0, 3*np.pi, 1e-2)\n",
    "# Data = np.zeros((len(PHI), 2))\n",
    "# Data[:, 0] = PHI.squeeze()\n",
    "\n",
    "# for phi_idx, phi in enumerate(PHI):\n",
    "#     Data[phi_idx, 1] = BFGS.Cost_function(paras_init, circuit)"
   ]
  },
  {
   "cell_type": "code",
   "execution_count": null,
   "metadata": {},
   "outputs": [
    {
     "name": "stderr",
     "output_type": "stream",
     "text": [
      "No artists with labels found to put in legend.  Note that artists whose label start with an underscore are ignored when legend() is called with no argument.\n"
     ]
    },
    {
     "data": {
      "text/plain": [
       "<matplotlib.legend.Legend at 0x17ea84e10>"
      ]
     },
     "execution_count": 7,
     "metadata": {},
     "output_type": "execute_result"
    },
    {
     "data": {
      "image/png": "[encoded data removed]",
      "text/plain": [
       "<Figure size 640x480 with 1 Axes>"
      ]
     },
     "metadata": {},
     "output_type": "display_data"
    }
   ],
   "source": [
    "\n",
    "plt.plot(Data[:,0], Data[:, 1])\n",
    "plt.xlabel('Time')\n",
    "plt.ylabel('CFI')\n",
    "plt.grid()\n",
    "plt.legend()"
   ]
  }
 ],
 "metadata": {
  "kernelspec": {
   "display_name": "Python 3",
   "language": "python",
   "name": "python3"
  },
  "language_info": {
   "codemirror_mode": {
    "name": "ipython",
    "version": 3
   },
   "file_extension": ".py",
   "mimetype": "text/x-python",
   "name": "python",
   "nbconvert_exporter": "python",
   "pygments_lexer": "ipython3",
   "version": "3.11.4"
  }
 },
 "nbformat": 4,
 "nbformat_minor": 2
}
