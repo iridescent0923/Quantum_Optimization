{
 "cells": [
  {
   "cell_type": "code",
   "execution_count": null,
   "metadata": {},
   "outputs": [],
   "source": [
    "# ==============================\n",
    "# Third-party Library Imports\n",
    "# ==============================\n",
    "import matplotlib.pyplot as plt\n",
    "from IPython.display import display, Latex\n",
    "from matplotlib.ticker import MultipleLocator\n",
    "import numpy as np  # Original numpy\n",
    "import pennylane as qml\n",
    "import scipy as sp\n",
    "from autograd import grad, jacobian\n",
    "\n",
    "# Pennylane numpy\n",
    "from pennylane import numpy as pnp "
   ]
  },
  {
   "cell_type": "code",
   "execution_count": null,
   "metadata": {},
   "outputs": [],
   "source": [
    "def fisher_information(phi, type, circuit):\n",
    "    phi_current = pnp.array([phi], requires_grad = True)\n",
    "    \n",
    "    if type == 'classical':\n",
    "            return qml.qinfo.classical_fisher(circuit)(phi_current[0])\n",
    "        \n",
    "    else:\n",
    "            return qml.qinfo.quantum_fisher(circuit)(phi_current[0]) \n",
    "        "
   ]
  },
  {
   "cell_type": "code",
   "execution_count": null,
   "metadata": {},
   "outputs": [],
   "source": [
    "def plot_fisher(type, num_qubit, circuit):\n",
    "    PHI = np.arange(1e-2, 3*np.pi + 1e-2, 1e-2)\n",
    "    Data = np.zeros((len(PHI), 2))\n",
    "    Data[:,0] = PHI.squeeze()\n",
    "\n",
    "    for phi_idx, phi in enumerate(PHI):\n",
    "        Data[phi_idx, 1] = fisher_information(phi, type, circuit)\n",
    "\n",
    "    plt.plot(Data[:, 0], Data[:,1], label = f'{num_qubit}-qubit')\n",
    "    plt.title(f'Bell state')\n",
    "    plt.xlabel('Time')\n",
    "    if type == 'classical':\n",
    "        plt.ylabel('CFI')\n",
    "    else:\n",
    "        plt.ylabel('QFI')\n",
    "\n",
    "    plt.grid()\n",
    "    plt.legend()"
   ]
  }
 ],
 "metadata": {
  "language_info": {
   "name": "python"
  }
 },
 "nbformat": 4,
 "nbformat_minor": 2
}
