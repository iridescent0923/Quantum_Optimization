{
 "cells": [
  {
   "cell_type": "code",
   "execution_count": 1,
   "metadata": {},
   "outputs": [],
   "source": [
    "import pennylane as qml\n",
    "from pennylane import numpy as np\n",
    "from IPython.display import display, Latex\n",
    "\n",
    "# from numba import jit\n",
    "\n",
    "# numpy \n",
    "import numpy as np_\n",
    "import scipy as sp\n",
    "\n",
    "import random\n",
    "\n",
    "import matplotlib.pyplot as plt\n",
    "\n",
    "# 2-qubit\n",
    "dev = qml.device('default.mixed', wires = 2)\n",
    "\n",
    "# == Hamiltonian setup == \n",
    "coeffs = [1]\n",
    "obs = [qml.PauliZ(0) @ qml.PauliZ(1)]\n",
    "\n",
    "hamiltonian = qml.Hamiltonian(coeffs, obs)"
   ]
  },
  {
   "cell_type": "code",
   "execution_count": 2,
   "metadata": {},
   "outputs": [],
   "source": [
    "# == Global paras ==\n",
    "Paras_global, Phi_global, Gamma_ps  = np_.zeros(6), 0, 0\n",
    "\n",
    "# Return one by one\n",
    "def Dephase_factor(tau):\n",
    "    Calculate_Dephase = 1 - np.exp(-2 * tau)\n",
    "    \n",
    "    return Calculate_Dephase"
   ]
  },
  {
   "cell_type": "markdown",
   "metadata": {},
   "source": [
    "$$\n",
    "\\rho_{After-Hadamard} = \n",
    "\n",
    "\\frac{1}{2} \n",
    "\n",
    "\\begin{bmatrix}\n",
    "\n",
    "1 & e^{(i\\phi - \\tau)} \\\\\n",
    "e^{(-i\\phi - \\tau)} & 1\n",
    "\n",
    "\\end{bmatrix}\n",
    "\n",
    "=\n",
    "\n",
    "\\frac{1}{2} \n",
    "\n",
    "\\begin{bmatrix}\n",
    "\n",
    "1 & e^{i\\phi} \\sqrt{1 - \\gamma} \\\\\n",
    "e^{-i\\phi} \\sqrt{1 - \\gamma} & 1\n",
    "\n",
    "\\end{bmatrix}$$\n",
    "\n",
    "$$\n",
    "\n",
    "where,\n",
    "\\quad \\gamma = \n",
    "1 - e^{-2 \\tau}\n",
    "$$"
   ]
  },
  {
   "cell_type": "markdown",
   "metadata": {},
   "source": [
    "\n",
    "$$ \n",
    "e^{-\\tau} = \\sqrt{1 - \\gamma}\n",
    "$$"
   ]
  },
  {
   "cell_type": "code",
   "execution_count": 3,
   "metadata": {},
   "outputs": [],
   "source": [
    "# == Generate circuit ==\n",
    "\n",
    "# circuit_1\n",
    "@qml.qnode(dev)\n",
    "def circuit_1(paras):\n",
    "    # Call global phi\n",
    "    global Phi_global\n",
    "    phi = Phi_global\n",
    "    \n",
    "    # Assign paras\n",
    "    theta_init, tau_1, tau_2 = paras[0], paras[1], paras[2]\n",
    "    \n",
    "    # Calculate dephase factor with given paras\n",
    "    gamma_dephase_in = np_.zeros(3)\n",
    "    for i in range(3):\n",
    "        gamma_dephase_in[i] = Dephase_factor(paras[i+3])\n",
    "        \n",
    "    \n",
    "    # Stage_1: RY for pi/2\n",
    "    qml.RY(np.pi/2, wires=0)\n",
    "    qml.RY(np.pi/2, wires=1)\n",
    "    \n",
    "    # Stage_2: Entangler    \n",
    "    qml.ApproxTimeEvolution(hamiltonian, -tau_1/2, 1)\n",
    "    qml.PhaseDamping(gamma_dephase_in[0], wires = 0)\n",
    "    qml.PhaseDamping(gamma_dephase_in[0], wires = 1)\n",
    "    \n",
    "    qml.RX(theta_init, wires = 0)    \n",
    "    qml.RX(theta_init, wires = 1)    \n",
    "\n",
    "    qml.RY(-np.pi/2, wires = 0)    \n",
    "    qml.RY(-np.pi/2, wires = 1)   \n",
    "\n",
    "    qml.ApproxTimeEvolution(hamiltonian, -tau_2/2, 1)\n",
    "    qml.PhaseDamping(gamma_dephase_in[1], wires = 0)\n",
    "    qml.PhaseDamping(gamma_dephase_in[1], wires = 1)\n",
    "\n",
    "    qml.RY(np.pi/2, wires = 0)    \n",
    "    qml.RY(np.pi/2, wires = 1) \n",
    "    \n",
    "    # Stage_3: Accumulater\n",
    "    qml.ApproxTimeEvolution(hamiltonian, -phi/2, 1)\n",
    "    qml.PhaseDamping(gamma_dephase_in[2], wires = 0)\n",
    "    qml.PhaseDamping(gamma_dephase_in[2], wires = 1)\n",
    "    \n",
    "    qml.RY(-np.pi/(2 + 1e-6), wires=0)\n",
    "    qml.RY(-np.pi/(2 + 1e-6), wires=1)\n",
    "    # qml.RX(np.pi/2, wires=0)\n",
    "    # qml.RX(np.pi/2, wires=1)\n",
    "    \n",
    "    return qml.density_matrix(wires=[0, 1])\n",
    "\n",
    "\n",
    "# Circuit_2: Calculate decoherence by using [tau -> gamma_dephase_in] conversion\n",
    "@qml.qnode(dev)\n",
    "def Post_selection_Dephase(phi):\n",
    "    \n",
    "    # theta_init, tau_1, tau_2, gamma_1, gamma_2, gamma_3 = paras[0], paras[1], paras[2], paras[3], paras[4], paras[5]\n",
    "    global Paras_global, Phi_global, Gamma_ps\n",
    "    Phi_global = phi\n",
    "    \n",
    "    # Get density matrix from circuit_1\n",
    "    density_matrix = circuit_1(Paras_global)\n",
    "    qml.QubitDensityMatrix(density_matrix, wires=[0, 1])\n",
    "    \n",
    "    # Kraus operator for 2*2 matrix\n",
    "    K = np.array([ [np.sqrt(1 - Gamma_ps), 0], [0, 1] ])\n",
    "    K_H = K.conj().T\n",
    "    \n",
    "    Numerator = np.kron(K, np.eye(2)) @ density_matrix @ np.kron(K, np.eye(2)).conj().T\n",
    "    Denominator = np.trace(Numerator)\n",
    "    \n",
    "    rho_ps = Numerator / Denominator\n",
    "    \n",
    "    qml.QubitDensityMatrix(rho_ps, wires=[0, 1])\n",
    "    \n",
    "    return qml.density_matrix(wires=[0, 1])  "
   ]
  },
  {
   "cell_type": "markdown",
   "metadata": {},
   "source": [
    "$$ K =  \\begin{bmatrix}\n",
    "\\sqrt{1-\\gamma} & 0 \\\\\n",
    "0 & 1 \n",
    "\\end{bmatrix}  $$\n",
    "\n",
    "\n",
    "$$\n",
    "\\rho_{ps} = \n",
    "\\frac{(K \\otimes K) \\rho (K^{\\dagger} \\otimes K ^{\\dagger})}\n",
    "\n",
    "{Tr[(K \\otimes K) \\rho (K^{\\dagger} \\otimes K ^{\\dagger})]}\n",
    "$$"
   ]
  },
  {
   "cell_type": "markdown",
   "metadata": {},
   "source": [
    "![Alt text](image-1.png)"
   ]
  },
  {
   "cell_type": "code",
   "execution_count": 4,
   "metadata": {},
   "outputs": [],
   "source": [
    "# == Cost function ==\n",
    "def Cost_function(paras):\n",
    "    # expect: theta_init, tau_1, tau_2, tau_d1, tau_d2, tau_d3 = paras[0], paras[1], paras[2], paras[3], paras[4], paras[5]\n",
    "    global Paras_global, Phi_global\n",
    "    Paras_global, phi = paras, np.array([Phi_global])\n",
    "          \n",
    "    CFI = qml.qinfo.classical_fisher(Post_selection_Dephase)(phi[0])\n",
    "    \n",
    "    return -CFI"
   ]
  },
  {
   "cell_type": "code",
   "execution_count": 5,
   "metadata": {},
   "outputs": [
    {
     "name": "stdout",
     "output_type": "stream",
     "text": [
      "Gamma = 0.9999999999999998 , [ at tau = 18 ]\n"
     ]
    }
   ],
   "source": [
    "# == Check for maximum tau <-> gamma ==\n",
    "tau_test = 18\n",
    "\n",
    "print('Gamma =', Dephase_factor(tau_test), ', [ at tau =',tau_test,']' )"
   ]
  },
  {
   "cell_type": "code",
   "execution_count": 6,
   "metadata": {},
   "outputs": [],
   "source": [
    "# == BFGS -> Return Data_set:[phi, CFI, 6-Paras] ==\n",
    "def BFGS(Sweep_Data, paras, gamma_ps_select, Iterations):\n",
    "    # Create Data array\n",
    "    PHI = np_.arange(Sweep_Data[0], Sweep_Data[1], Sweep_Data[2]).reshape(-1, 1)\n",
    "    Data = np_.zeros((Iterations + 1, len(PHI), len(paras) + 2)) \n",
    "    \n",
    "    Data[:, :, 0] = PHI.squeeze() # Append PHI in to 0th col\n",
    "    \n",
    "    # Set Data index\n",
    "    CFI_INDEX, PARAS_INDEX, BEFORE_OPT_LAYER_INDEX = 1, 2, 0\n",
    "    \n",
    "    # Set global variables\n",
    "    global Gamma_ps, Phi_global, Paras_global\n",
    "    Gamma_ps = gamma_ps_select \n",
    "    \n",
    "    # Declare Paras temp \n",
    "    Paras_Temporary = 0\n",
    "    \n",
    "    for Phi_Index in range(len(PHI)):\n",
    "        Data[BEFORE_OPT_LAYER_INDEX][Phi_Index][CFI_INDEX] = -Cost_function(paras)\n",
    "        \n",
    "    for Layer_Index in range(1, Iterations + 1):\n",
    "        for Phi_Index in range(len(PHI)):\n",
    "            # Load previous paras\n",
    "            Paras_Temporary = paras if Layer_Index == 1 else Data[Layer_Index][Phi_Index][PARAS_INDEX:]\n",
    "            \n",
    "            # Set Phi(Currently sweeping)\n",
    "            Phi_global = Data[Layer_Index][Phi_Index][0]\n",
    "            \n",
    "            # Constraints(gamma = 0.99..) \n",
    "            tau_upper = 18\n",
    "            Constraints = [(-float('inf'), float('inf'))] * 3 + [(1e-100, tau_upper)] * 3\n",
    "            \n",
    "            # Push paras to global var\n",
    "            Paras_global = Paras_Temporary\n",
    "            Result_BFGS = sp.optimize.minimize(Cost_function, Paras_Temporary, method = 'L-BFGS-B', bounds = Constraints)\n",
    "            Data[Layer_Index][Phi_Index][CFI_INDEX] = -Result_BFGS.fun\n",
    "            \n",
    "            # Store data in array\n",
    "            for Paras_Index_Array in range(len(Paras_Temporary)):\n",
    "                Data[Layer_Index][Phi_Index][PARAS_INDEX + Paras_Index_Array] = Result_BFGS.x[Paras_Index_Array]\n",
    "            \n",
    "    return Data"
   ]
  },
  {
   "cell_type": "markdown",
   "metadata": {},
   "source": [
    "Data = \n",
    "\n",
    "array([ [PHI_0, CFI_0, theta_0, tau_1, tau_2, tau_d1, tau_d2, tau_d3], \n",
    "\n",
    "..."
   ]
  },
  {
   "cell_type": "code",
   "execution_count": 7,
   "metadata": {},
   "outputs": [],
   "source": [
    "# == Fixed to gamma_ps = 0.8 ==\n",
    "\n",
    "# == Sweep for 0 ~ pi*3 == \n",
    "Step = 1e-2     #1e-1\n",
    "Sweep_data = np_.array([1e-4, np.pi * 6 + 1e-4, Step])\n",
    "\n",
    "Para_init = np_.zeros(6)\n",
    "Para_init[:3], Para_init[3:] = random.uniform(0, 1), random.uniform(1e-2, 0)\n",
    "\n",
    "Gamma_ps_preset = 0.8\n",
    "Set_Iterations = 3\n",
    "\n",
    "Optimized_Result = BFGS(Sweep_data, Para_init, Gamma_ps_preset, Set_Iterations)"
   ]
  },
  {
   "cell_type": "code",
   "execution_count": 8,
   "metadata": {},
   "outputs": [
    {
     "data": {
      "text/plain": [
       "array([3.01000000e-002, 4.99999059e+000, 1.57079482e+000, 2.91317466e-002,\n",
       "       9.64104961e-001, 1.00000000e-100, 1.00000000e-100, 1.00000000e-100])"
      ]
     },
     "execution_count": 8,
     "metadata": {},
     "output_type": "execute_result"
    }
   ],
   "source": [
    "# Optimized_Result[:, 0]\n",
    "\n",
    "# layer = 0 & test_case = 3.01000000e-01\n",
    "Current_Layer = 1\n",
    "Optimized_Result[Current_Layer][3, :]\n",
    "\n",
    "# Optimized_Result[0][:,:]"
   ]
  },
  {
   "cell_type": "code",
   "execution_count": 9,
   "metadata": {},
   "outputs": [
    {
     "data": {
      "image/png": "[encoded data removed]",
      "text/plain": [
       "<Figure size 640x480 with 1 Axes>"
      ]
     },
     "metadata": {},
     "output_type": "display_data"
    }
   ],
   "source": [
    "plt.plot(Optimized_Result[0, : ,0], Optimized_Result[0, : ,1], label = 'Before_opt')\n",
    "for i in range(1, Set_Iterations + 1):\n",
    "    plt.plot(Optimized_Result[0, :, 0], Optimized_Result[i, :, 1], label = f'Iterations = {i}')\n",
    "    \n",
    "plt.title('CFI After L-BFGS-B')\n",
    "plt.xlabel('Time')\n",
    "plt.ylabel('CFI')\n",
    "plt.legend()\n",
    "plt.grid() "
   ]
  },
  {
   "cell_type": "code",
   "execution_count": 10,
   "metadata": {},
   "outputs": [
    {
     "data": {
      "text/plain": [
       "array([[ 1.00000000e-004,  4.99992839e+000,  1.56826429e+000,\n",
       "        -2.84098009e-004,  9.64105010e-001,  1.00000000e-100,\n",
       "         1.00000000e-100,  1.00000000e-100],\n",
       "       [ 1.01000000e-002,  4.99898024e+000,  1.15635829e+000,\n",
       "         2.48363294e-006,  9.64104444e-001,  1.00000000e-100,\n",
       "         1.38825003e-007,  1.00000000e-100],\n",
       "       [ 2.01000000e-002,  4.99597329e+000,  1.82090379e+000,\n",
       "         6.12086541e-005,  9.64104852e-001,  1.00000000e-100,\n",
       "         1.00000000e-100,  1.00000000e-100]])"
      ]
     },
     "execution_count": 10,
     "metadata": {},
     "output_type": "execute_result"
    }
   ],
   "source": [
    "Optimized_Result[1][0:3, :]"
   ]
  },
  {
   "cell_type": "code",
   "execution_count": 11,
   "metadata": {},
   "outputs": [
    {
     "data": {
      "image/png": "[encoded data removed]",
      "text/plain": [
       "<Figure size 640x480 with 1 Axes>"
      ]
     },
     "metadata": {},
     "output_type": "display_data"
    }
   ],
   "source": [
    "Target_Layer = 1, 2\n",
    "plt.plot(Optimized_Result[Target_Layer[0], :, 0], Optimized_Result[Target_Layer[0], :, 1], label = f'Iterations = {Target_Layer[0]}')\n",
    "plt.plot(Optimized_Result[Target_Layer[1], :, 0], Optimized_Result[Target_Layer[1], :, 1], label = f'Iterations = {Target_Layer[1]}')\n",
    "\n",
    "plt.title('CFI After L-BFGS-B')\n",
    "plt.xlabel('Time')\n",
    "plt.ylabel('CFI')\n",
    "\n",
    "plt.legend()\n",
    "plt.grid() "
   ]
  },
  {
   "cell_type": "code",
   "execution_count": 12,
   "metadata": {},
   "outputs": [
    {
     "data": {
      "image/png": "[encoded data removed]",
      "text/plain": [
       "<Figure size 640x480 with 1 Axes>"
      ]
     },
     "metadata": {},
     "output_type": "display_data"
    }
   ],
   "source": [
    "plt.plot(Optimized_Result[1, :, 0], Optimized_Result[Target_Layer[1], :, 1], label = f'Iterations = {Target_Layer[1]}')\n",
    "\n",
    "plt.title('CFI After L-BFGS-B')\n",
    "plt.xlabel('Time')\n",
    "plt.ylabel('CFI')\n",
    "\n",
    "plt.legend()\n",
    "plt.grid() "
   ]
  },
  {
   "cell_type": "code",
   "execution_count": 13,
   "metadata": {},
   "outputs": [
    {
     "data": {
      "text/plain": [
       "array([[1.01000000e-002, 4.99898024e+000, 1.15635829e+000,\n",
       "        2.48363294e-006, 9.64104444e-001, 1.00000000e-100,\n",
       "        1.38825003e-007, 1.00000000e-100],\n",
       "       [2.01000000e-002, 4.99597329e+000, 1.82090379e+000,\n",
       "        6.12086541e-005, 9.64104852e-001, 1.00000000e-100,\n",
       "        1.00000000e-100, 1.00000000e-100]])"
      ]
     },
     "execution_count": 13,
     "metadata": {},
     "output_type": "execute_result"
    }
   ],
   "source": [
    "Optimized_Result[1, 1:3, :]"
   ]
  },
  {
   "cell_type": "markdown",
   "metadata": {},
   "source": [
    "Each row of 6-paras => Corresponds to phi\n",
    "\n",
    "func(phi, paras, gamma_ps)\n",
    "=> Implement on SLSQP \n",
    "\n",
    "Data = [[phi, CFI, theata_init, tau_1, tau_2, tau_d1, tau_d2, tau_d3] ... N]"
   ]
  },
  {
   "cell_type": "code",
   "execution_count": 14,
   "metadata": {},
   "outputs": [
    {
     "name": "stdout",
     "output_type": "stream",
     "text": [
      "Index:\n",
      " [   0    1    2 ... 1882 1883 1884]\n",
      "\n",
      "\n",
      "PHI:\n",
      " [1.00000e-04 1.01000e-02 2.01000e-02 ... 1.88201e+01 1.88301e+01\n",
      " 1.88401e+01] \n",
      "\n",
      "CFI\n",
      " [4.99992839 4.99898024 4.99597329 ... 4.99998853 4.99622276 4.99910624] \n",
      "\n",
      "Paras\n",
      " [[ 1.56826429e+000 -2.84098009e-004  9.64105010e-001  1.00000000e-100\n",
      "   1.00000000e-100  1.00000000e-100]\n",
      " [ 1.15635829e+000  2.48363294e-006  9.64104444e-001  1.00000000e-100\n",
      "   1.38825003e-007  1.00000000e-100]\n",
      " [ 1.82090379e+000  6.12086541e-005  9.64104852e-001  1.00000000e-100\n",
      "   1.00000000e-100  1.00000000e-100]\n",
      " ...\n",
      " [ 1.57078611e+000 -2.98982965e-002  9.64105775e-001  1.00000000e-100\n",
      "   1.00000000e-100  1.00000000e-100]\n",
      " [ 1.87582049e+000 -3.63779877e-005  9.64104865e-001  1.00000000e-100\n",
      "   1.00000000e-100  1.00000000e-100]\n",
      " [ 1.90297842e+000 -3.69362898e-006  9.64104872e-001  1.00000000e-100\n",
      "   1.00000000e-100  1.00000000e-100]]\n"
     ]
    }
   ],
   "source": [
    "# Bad case after optimization\n",
    "# \n",
    "\n",
    "Num_of_Layer = 1\n",
    "Condition = np_.where(Optimized_Result[Num_of_Layer][:, 1] < 98)\n",
    "\n",
    "print('Index:\\n', Condition[0])\n",
    "\n",
    "print('\\n')\n",
    "\n",
    "Optimized_Result[Num_of_Layer, Condition[0], 1]\n",
    "\n",
    "print('PHI:\\n', Optimized_Result[Num_of_Layer, Condition[0], 0], '\\n\\nCFI\\n', Optimized_Result[Num_of_Layer, Condition[0], 1], '\\n\\nParas\\n', Optimized_Result[Num_of_Layer, Condition[0], 2:])"
   ]
  }
 ],
 "metadata": {
  "kernelspec": {
   "display_name": "Python 3",
   "language": "python",
   "name": "python3"
  },
  "language_info": {
   "codemirror_mode": {
    "name": "ipython",
    "version": 3
   },
   "file_extension": ".py",
   "mimetype": "text/x-python",
   "name": "python",
   "nbconvert_exporter": "python",
   "pygments_lexer": "ipython3",
   "version": "3.11.4"
  },
  "orig_nbformat": 4
 },
 "nbformat": 4,
 "nbformat_minor": 2
}
