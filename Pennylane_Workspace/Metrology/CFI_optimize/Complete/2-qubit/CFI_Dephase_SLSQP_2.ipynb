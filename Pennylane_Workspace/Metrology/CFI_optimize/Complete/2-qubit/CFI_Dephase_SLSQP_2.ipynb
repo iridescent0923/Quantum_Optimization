{
 "cells": [
  {
   "cell_type": "code",
   "execution_count": 381,
   "metadata": {},
   "outputs": [],
   "source": [
    "import pennylane as qml\n",
    "from pennylane import numpy as np\n",
    "from IPython.display import display, Latex\n",
    "\n",
    "# from numba import jit\n",
    "\n",
    "# numpy \n",
    "import numpy as np_\n",
    "import scipy as sp\n",
    "\n",
    "import matplotlib.pyplot as plt\n",
    "\n",
    "# 2-qubit\n",
    "dev = qml.device('default.mixed', wires= 2)\n",
    "\n",
    "# == Hamiltonian setup == \n",
    "coeffs = [1]\n",
    "obs = [qml.PauliZ(0) @ qml.PauliZ(1)]\n",
    "\n",
    "hamiltonian = qml.Hamiltonian(coeffs, obs)"
   ]
  },
  {
   "cell_type": "code",
   "execution_count": 382,
   "metadata": {},
   "outputs": [],
   "source": [
    "# Global para\n",
    "Paras_global, Phi_global, Gamma_ps  = np_.zeros(6), 0, 0\n",
    "\n",
    "# Return one by one\n",
    "def Dephase_factor(tau):\n",
    "    Cal_dephase = 1 - np.exp(-2 * tau)\n",
    "    return Cal_dephase"
   ]
  },
  {
   "cell_type": "code",
   "execution_count": 383,
   "metadata": {},
   "outputs": [],
   "source": [
    "# paras = np_.array([0,0,0,0.1,0.1,0.1])\n",
    "# gamma = np_.zeros(3)\n",
    "# for i in range(3):\n",
    "#     gamma[i] = Dephase_factor(paras[i+3])\n",
    "    \n",
    "# gamma"
   ]
  },
  {
   "cell_type": "code",
   "execution_count": 384,
   "metadata": {},
   "outputs": [],
   "source": [
    "# Generate circuit\n",
    "\n",
    "# circuit_1\n",
    "@qml.qnode(dev)\n",
    "def circuit_1(paras):\n",
    "    # Call global phi\n",
    "    global Phi_global\n",
    "    phi = Phi_global\n",
    "    \n",
    "    theta_init, tau_1, tau_2 = paras[0], paras[1], paras[2]\n",
    "    \n",
    "    # Calculate dephase factor with given paras\n",
    "    gamma_dephase_in = np_.zeros(3)\n",
    "    for i in range(3):\n",
    "        gamma_dephase_in[i] = Dephase_factor(paras[i+3])\n",
    "        \n",
    "    # Stage_1: RY for pi/2\n",
    "    qml.RY(np.pi/2, wires=0)\n",
    "    qml.RY(np.pi/2, wires=1)\n",
    "    \n",
    "    # Stage_2: Entangler    \n",
    "    qml.ApproxTimeEvolution(hamiltonian, tau_1, 1)\n",
    "    qml.PhaseDamping(gamma_dephase_in[0], wires = 0)\n",
    "    qml.PhaseDamping(gamma_dephase_in[0], wires = 1)\n",
    "    \n",
    "    qml.RX(theta_init, wires = 0)    \n",
    "    qml.RX(theta_init, wires = 1)    \n",
    "\n",
    "    qml.RY(-np.pi/2, wires = 0)    \n",
    "    qml.RY(-np.pi/2, wires = 1)   \n",
    "\n",
    "    qml.ApproxTimeEvolution(hamiltonian, tau_2, 1)\n",
    "    qml.PhaseDamping(gamma_dephase_in[1], wires = 0)\n",
    "    qml.PhaseDamping(gamma_dephase_in[1], wires = 1)\n",
    "\n",
    "    qml.RY(np.pi/2, wires = 0)    \n",
    "    qml.RY(np.pi/2, wires = 1) \n",
    "    \n",
    "    # Stage_3: Accumulater\n",
    "    qml.ApproxTimeEvolution(hamiltonian, phi, 1)\n",
    "    qml.PhaseDamping(gamma_dephase_in[2], wires = 0)\n",
    "    qml.PhaseDamping(gamma_dephase_in[2], wires = 1)\n",
    "    \n",
    "    qml.RY(-np.pi/2, wires=0)\n",
    "    qml.RY(-np.pi/2, wires=1)\n",
    "    \n",
    "    return qml.density_matrix(wires=[0, 1])\n",
    "\n",
    "# Circuit_2: Calculate decoherence by using [tau -> gamma_dephase_in] conversion\n",
    "@qml.qnode(dev)\n",
    "def Post_selection_Dephase(phi):\n",
    "    \n",
    "    # theta_init, tau_1, tau_2, gamma_1, gamma_2, gamma_3 = paras[0], paras[1], paras[2], paras[3], paras[4], paras[5]\n",
    "    global Paras_global, Phi_global, Gamma_ps\n",
    "    Phi_global = phi\n",
    "    \n",
    "    # Get density matrix from circuit_1\n",
    "    density_matrix = circuit_1(Paras_global)\n",
    "    qml.QubitDensityMatrix(density_matrix, wires=[0, 1])\n",
    "    \n",
    "    # Kraus operator for 2*2 matrix\n",
    "    K = np.array([ [np.sqrt(1 - Gamma_ps), 0], [0, 1] ])\n",
    "    K_H = K.conj().T\n",
    "    \n",
    "    Numerator = sp.linalg.kron(K, K) @ density_matrix @ sp.linalg.kron(K_H, K_H)\n",
    "    Denominator = np.trace(sp.linalg.kron(K, K) @ density_matrix @ sp.linalg.kron(K_H, K_H))\n",
    "    \n",
    "    rho_ps = Numerator / Denominator\n",
    "    \n",
    "    qml.QubitDensityMatrix(rho_ps, wires=[0, 1])\n",
    "    \n",
    "    return qml.density_matrix(wires=[0, 1])  "
   ]
  },
  {
   "cell_type": "code",
   "execution_count": 385,
   "metadata": {},
   "outputs": [],
   "source": [
    "def Cost_function(paras):\n",
    "    # expect: theta_init, tau_1, tau_2, tau_d1, tau_d2, tau_d3 = paras[0], paras[1], paras[2], paras[3], paras[4], paras[5]\n",
    "    global Paras_global\n",
    "    Paras_global = paras\n",
    "    \n",
    "    global Phi_global\n",
    "    phi = Phi_global\n",
    "    phi = np.array([ phi ])\n",
    "    \n",
    "    CFI = qml.qinfo.classical_fisher(Post_selection_Dephase)(phi[0])\n",
    "    \n",
    "    \n",
    "    return -CFI"
   ]
  },
  {
   "cell_type": "code",
   "execution_count": 386,
   "metadata": {},
   "outputs": [
    {
     "data": {
      "text/plain": [
       "0.9999999979388464"
      ]
     },
     "execution_count": 386,
     "metadata": {},
     "output_type": "execute_result"
    }
   ],
   "source": [
    "Dephase_factor(10)"
   ]
  },
  {
   "cell_type": "code",
   "execution_count": 387,
   "metadata": {},
   "outputs": [],
   "source": [
    "# Phi_global = np.pi/4\n",
    "# Init = np.ones(6)/10\n",
    "\n",
    "# print(Cost_function(Init))\n",
    "\n",
    "# bounds = [(-float('inf'), float('inf'))] * 3 + [(1e-100, 10), (1e-100, 10), (1e-100, 10)]\n",
    "\n",
    "\n",
    "# Result = sp.optimize.minimize(Cost_function, Init, method = 'SLSQP', bounds = bounds)\n",
    "\n",
    "# # Result\n",
    "# # Cost_function(Init)\n"
   ]
  },
  {
   "cell_type": "code",
   "execution_count": 388,
   "metadata": {},
   "outputs": [],
   "source": [
    "# Result"
   ]
  },
  {
   "cell_type": "code",
   "execution_count": 389,
   "metadata": {},
   "outputs": [
    {
     "data": {
      "text/plain": [
       "array([[ 0.00000000e+000,  9.99989273e+001,  1.56936082e+000,\n",
       "         3.62261358e-005,  1.00353099e+000,  2.13502951e-008,\n",
       "         5.84940942e-007,  3.46414889e-009],\n",
       "       [ 1.00000000e-001,  1.63244786e-001, -2.18984035e+001,\n",
       "         7.85808910e+000,  1.02163674e+000,  1.00000000e-100,\n",
       "         8.43612812e-002,  6.99319143e-018]])"
      ]
     },
     "execution_count": 389,
     "metadata": {},
     "output_type": "execute_result"
    }
   ],
   "source": [
    "def SLSQP(Sweep_Data, paras, gamma_ps_select):\n",
    "    # Create Data array\n",
    "    PHI_generated = np_.arange(Sweep_Data[0], Sweep_Data[1], Sweep_Data[2])\n",
    "    PHI = PHI_generated.reshape(len(PHI_generated), 1)\n",
    "    \n",
    "    Data = np_.zeros((len(PHI), len(paras) + 1))\n",
    "    Data = np_.hstack((PHI, Data))\n",
    "    \n",
    "    # Set Data index\n",
    "    CFI_INDEX, PARAS_INDEX = 1, 2\n",
    "    \n",
    "    # Set global variables\n",
    "    global Gamma_ps, Phi_global, Paras_global\n",
    "    Gamma_ps = gamma_ps_select\n",
    "    \n",
    "    \n",
    "    # Optimize begin\n",
    "    for i in range(len(PHI)):\n",
    "        # Assign global phi from Generated PHI array\n",
    "        Phi_global = Data[i][0]\n",
    "        \n",
    "        # Assign global paras for each phi\n",
    "        bounds = [(-float('inf'), float('inf'))] * 3 + [(1e-100, 10), (1e-100, 10), (1e-100, 10)]\n",
    "        \n",
    "        Paras_global = paras \n",
    "        Result_SLSQP = sp.optimize.minimize(Cost_function, np_.array([1,1,1,0.1,0.1,0.1]), method = 'SLSQP', bounds = bounds)\n",
    "        Data[i][CFI_INDEX] = -Result_SLSQP.fun\n",
    "        \n",
    "        for j in range(len(paras)):\n",
    "            Data[i][PARAS_INDEX + j] = Result_SLSQP.x[j]\n",
    "                \n",
    "    return Data\n",
    "\n",
    "Sweep = np_.array([0, 0.2, 0.1])\n",
    "para_in = np_.array([1,1,1,1e-1,1e-1,1e-1])\n",
    "\n",
    "Sweep[2]\n",
    "SLSQP(Sweep, para_in, 0.8)"
   ]
  },
  {
   "cell_type": "code",
   "execution_count": 390,
   "metadata": {},
   "outputs": [
    {
     "data": {
      "text/plain": [
       "3"
      ]
     },
     "execution_count": 390,
     "metadata": {},
     "output_type": "execute_result"
    }
   ],
   "source": [
    "array = np_.arange(0, 3, 1).reshape(3,1)\n",
    "b = np_.array([[1,2], [3,4], [5,6]])\n",
    "\n",
    "res = np_.hstack((array, b))\n",
    "\n",
    "res\n",
    "\n",
    "len(array)"
   ]
  },
  {
   "cell_type": "code",
   "execution_count": 391,
   "metadata": {},
   "outputs": [
    {
     "data": {
      "text/plain": [
       "(1, 2, 3, 4, 5, 6, 7, 8, 9)"
      ]
     },
     "execution_count": 391,
     "metadata": {},
     "output_type": "execute_result"
    }
   ],
   "source": [
    "array = np_.arange(1,10,1)\n",
    "\n",
    "tuple(array)"
   ]
  },
  {
   "cell_type": "code",
   "execution_count": 392,
   "metadata": {},
   "outputs": [
    {
     "data": {
      "text/plain": [
       "tuple"
      ]
     },
     "execution_count": 392,
     "metadata": {},
     "output_type": "execute_result"
    }
   ],
   "source": [
    "test = 1,2,3,4\n",
    "\n",
    "type(test)"
   ]
  },
  {
   "cell_type": "code",
   "execution_count": 393,
   "metadata": {},
   "outputs": [
    {
     "data": {
      "text/plain": [
       "95"
      ]
     },
     "execution_count": 393,
     "metadata": {},
     "output_type": "execute_result"
    }
   ],
   "source": [
    "dd = np.arange(0, np.pi*3, 0.1)\n",
    "\n",
    "len(dd)"
   ]
  }
 ],
 "metadata": {
  "kernelspec": {
   "display_name": "Python 3",
   "language": "python",
   "name": "python3"
  },
  "language_info": {
   "codemirror_mode": {
    "name": "ipython",
    "version": 3
   },
   "file_extension": ".py",
   "mimetype": "text/x-python",
   "name": "python",
   "nbconvert_exporter": "python",
   "pygments_lexer": "ipython3",
   "version": "3.11.4"
  },
  "orig_nbformat": 4
 },
 "nbformat": 4,
 "nbformat_minor": 2
}
