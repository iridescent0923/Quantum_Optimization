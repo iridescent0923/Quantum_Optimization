{
 "cells": [
  {
   "cell_type": "code",
   "execution_count": 44,
   "metadata": {},
   "outputs": [],
   "source": [
    "import pennylane as qml\n",
    "from pennylane import numpy as np\n",
    "from IPython.display import display, Latex\n",
    "\n",
    "# from numba import jit\n",
    "\n",
    "# numpy \n",
    "import numpy as np_\n",
    "import scipy as sp\n",
    "\n",
    "import matplotlib.pyplot as plt\n",
    "\n",
    "# 2-qubit\n",
    "dev = qml.device('default.mixed', wires = 2)\n",
    "\n",
    "# == Hamiltonian setup == \n",
    "coeffs = [1]\n",
    "obs = [qml.PauliZ(0) @ qml.PauliZ(1)]\n",
    "\n",
    "hamiltonian = qml.Hamiltonian(coeffs, obs)"
   ]
  },
  {
   "cell_type": "code",
   "execution_count": 45,
   "metadata": {},
   "outputs": [],
   "source": [
    "# == Global paras ==\n",
    "Paras_global, Phi_global, Gamma_ps  = np_.zeros(6), 0, 0\n",
    "\n",
    "# Return one by one\n",
    "def Dephase_factor(tau):\n",
    "    Calculate_Dephase = 1 - np.exp(-2 * tau)\n",
    "    \n",
    "    return Calculate_Dephase"
   ]
  },
  {
   "cell_type": "markdown",
   "metadata": {},
   "source": [
    "$$\n",
    "\\rho_{After-Hadamard} = \n",
    "\n",
    "\\frac{1}{2} \n",
    "\n",
    "\\begin{bmatrix}\n",
    "\n",
    "1 & e^{(i\\phi - \\tau)} \\\\\n",
    "e^{(-i\\phi - \\tau)} & 1\n",
    "\n",
    "\\end{bmatrix}\n",
    "\n",
    "=\n",
    "\n",
    "\\frac{1}{2} \n",
    "\n",
    "\\begin{bmatrix}\n",
    "\n",
    "1 & e^{i\\phi} \\sqrt{1 - \\gamma} \\\\\n",
    "e^{-i\\phi} \\sqrt{1 - \\gamma} & 1\n",
    "\n",
    "\\end{bmatrix}$$\n",
    "\n",
    "$$\n",
    "\n",
    "where,\n",
    "\\quad \\gamma = \n",
    "1 - e^{-2 \\tau}\n",
    "$$"
   ]
  },
  {
   "cell_type": "markdown",
   "metadata": {},
   "source": [
    "\n",
    "$$ \n",
    "e^{-\\tau} = \\sqrt{1 - \\gamma}\n",
    "$$"
   ]
  },
  {
   "cell_type": "code",
   "execution_count": 46,
   "metadata": {},
   "outputs": [],
   "source": [
    "# == Generate circuit ==\n",
    "\n",
    "# circuit_1\n",
    "@qml.qnode(dev)\n",
    "def circuit_1(paras):\n",
    "    # Call global phi\n",
    "    global Phi_global\n",
    "    phi = Phi_global\n",
    "    \n",
    "    # Assign paras\n",
    "    theta_init, tau_1, tau_2 = paras[0], paras[1], paras[2]\n",
    "    \n",
    "    # Calculate dephase factor with given paras\n",
    "    gamma_dephase_in = np_.zeros(3)\n",
    "    for i in range(3):\n",
    "        gamma_dephase_in[i] = Dephase_factor(paras[i+3])\n",
    "        \n",
    "        \n",
    "    # Stage_1: RY for pi/2\n",
    "    qml.RY(np.pi/2, wires=0)\n",
    "    qml.RY(np.pi/2, wires=1)\n",
    "    \n",
    "    # Stage_2: Entangler    \n",
    "    qml.ApproxTimeEvolution(hamiltonian, tau_1, 1)\n",
    "    qml.PhaseDamping(gamma_dephase_in[0], wires = 0)\n",
    "    qml.PhaseDamping(gamma_dephase_in[0], wires = 1)\n",
    "    \n",
    "    qml.RX(theta_init, wires = 0)    \n",
    "    qml.RX(theta_init, wires = 1)    \n",
    "\n",
    "    qml.RY(-np.pi/2, wires = 0)    \n",
    "    qml.RY(-np.pi/2, wires = 1)   \n",
    "\n",
    "    qml.ApproxTimeEvolution(hamiltonian, tau_2, 1)\n",
    "    qml.PhaseDamping(gamma_dephase_in[1], wires = 0)\n",
    "    qml.PhaseDamping(gamma_dephase_in[1], wires = 1)\n",
    "\n",
    "    qml.RY(np.pi/2, wires = 0)    \n",
    "    qml.RY(np.pi/2, wires = 1) \n",
    "    \n",
    "    # Stage_3: Accumulater\n",
    "    qml.ApproxTimeEvolution(hamiltonian, phi, 1)\n",
    "    qml.PhaseDamping(gamma_dephase_in[2], wires = 0)\n",
    "    qml.PhaseDamping(gamma_dephase_in[2], wires = 1)\n",
    "    \n",
    "    qml.RY(-np.pi/2, wires=0)\n",
    "    qml.RY(-np.pi/2, wires=1)\n",
    "    \n",
    "    return qml.density_matrix(wires=[0, 1])\n",
    "\n",
    "\n",
    "# Circuit_2: Calculate decoherence by using [tau -> gamma_dephase_in] conversion\n",
    "@qml.qnode(dev)\n",
    "def Post_selection_Dephase(phi):\n",
    "    \n",
    "    # theta_init, tau_1, tau_2, gamma_1, gamma_2, gamma_3 = paras[0], paras[1], paras[2], paras[3], paras[4], paras[5]\n",
    "    global Paras_global, Phi_global, Gamma_ps\n",
    "    Phi_global = phi\n",
    "    \n",
    "    # Get density matrix from circuit_1\n",
    "    density_matrix = circuit_1(Paras_global)\n",
    "    qml.QubitDensityMatrix(density_matrix, wires=[0, 1])\n",
    "    \n",
    "    # Kraus operator for 2*2 matrix\n",
    "    K = np.array([ [np.sqrt(1 - Gamma_ps), 0], [0, 1] ])\n",
    "    K_H = K.conj().T\n",
    "    \n",
    "    Numerator = sp.linalg.kron(K, K) @ density_matrix @ sp.linalg.kron(K_H, K_H)\n",
    "    Denominator = np.trace(sp.linalg.kron(K, K) @ density_matrix @ sp.linalg.kron(K_H, K_H))\n",
    "    \n",
    "    rho_ps = Numerator / Denominator\n",
    "    \n",
    "    qml.QubitDensityMatrix(rho_ps, wires=[0, 1])\n",
    "    \n",
    "    return qml.density_matrix(wires=[0, 1])  "
   ]
  },
  {
   "cell_type": "markdown",
   "metadata": {},
   "source": [
    "$$ K =  \\begin{bmatrix}\n",
    "\\sqrt{1-\\gamma} & 0 \\\\\n",
    "0 & 1 \n",
    "\\end{bmatrix}  $$\n",
    "\n",
    "\n",
    "$$\n",
    "\\rho_{ps} = \n",
    "\\frac{(K \\otimes K) \\rho (K^{\\dagger} \\otimes K ^{\\dagger})}\n",
    "\n",
    "{Tr[(K \\otimes K) \\rho (K^{\\dagger} \\otimes K ^{\\dagger})]}\n",
    "$$"
   ]
  },
  {
   "cell_type": "markdown",
   "metadata": {},
   "source": [
    "![Alt text](image-1.png)"
   ]
  },
  {
   "cell_type": "code",
   "execution_count": 47,
   "metadata": {},
   "outputs": [],
   "source": [
    "# == Cost function ==\n",
    "def Cost_function(paras):\n",
    "    # expect: theta_init, tau_1, tau_2, tau_d1, tau_d2, tau_d3 = paras[0], paras[1], paras[2], paras[3], paras[4], paras[5]\n",
    "    global Paras_global, Phi_global\n",
    "    Paras_global, phi = paras, np.array([Phi_global])\n",
    "          \n",
    "    CFI = qml.qinfo.classical_fisher(Post_selection_Dephase)(phi[0])\n",
    "    \n",
    "    return -CFI"
   ]
  },
  {
   "cell_type": "code",
   "execution_count": 48,
   "metadata": {},
   "outputs": [
    {
     "name": "stdout",
     "output_type": "stream",
     "text": [
      "Gamma = 0.9999999999999998 , [ at tau = 18 ]\n"
     ]
    }
   ],
   "source": [
    "# == Check for maximum tau <-> gamma ==\n",
    "tau_test = 18\n",
    "\n",
    "print('Gamma =', Dephase_factor(tau_test), ', [ at tau =',tau_test,']' )"
   ]
  },
  {
   "cell_type": "code",
   "execution_count": 49,
   "metadata": {},
   "outputs": [],
   "source": [
    "# == SLSQP -> Return Data_set:[phi, CFI, 6-Paras] ==\n",
    "def SLSQP(Sweep_Data, paras, gamma_ps_select):\n",
    "    # Create Data array\n",
    "    PHI = np_.arange(Sweep_Data[0], Sweep_Data[1], Sweep_Data[2]).reshape(-1, 1)\n",
    "    \n",
    "    Data = np_.zeros((len(PHI), len(paras) + 1))\n",
    "    Data = np_.hstack((PHI, Data))\n",
    "    \n",
    "    # Set Data index\n",
    "    CFI_INDEX, PARAS_INDEX = 1, 2\n",
    "    \n",
    "    # Set global variables\n",
    "    global Gamma_ps, Phi_global, Paras_global\n",
    "    Gamma_ps = gamma_ps_select\n",
    "    \n",
    "    # Optimize begin\n",
    "    for i in range(len(PHI)):\n",
    "        # Assign global phi from Generated PHI array\n",
    "        Phi_global = Data[i][0]\n",
    "        \n",
    "        # Assign global paras for each phi\n",
    "        \n",
    "        # Set constraints for gamma_from_tau\n",
    "        tau_upper = 18\n",
    "        Constraints = [(-float('inf'), float('inf'))] * 3 + [(1e-100, tau_upper)] * 3\n",
    "        \n",
    "        Paras_global = paras \n",
    "        Result_SLSQP = sp.optimize.minimize(Cost_function, np_.array([1, 1, 1, 0.1, 0.1, 0.1]), method = 'SLSQP', bounds = Constraints)\n",
    "        Data[i][CFI_INDEX] = -Result_SLSQP.fun\n",
    "        \n",
    "        # Store data in array\n",
    "        for j in range(len(paras)):\n",
    "            Data[i][PARAS_INDEX + j] = Result_SLSQP.x[j]\n",
    "                \n",
    "    return Data"
   ]
  },
  {
   "cell_type": "markdown",
   "metadata": {},
   "source": [
    "Data = \n",
    "\n",
    "array([ [PHI_0, CFI_0, theta_0, tau_1, tau_2, tau_d1, tau_d2, tau_d3], \n",
    "\n",
    "..."
   ]
  },
  {
   "cell_type": "code",
   "execution_count": 50,
   "metadata": {},
   "outputs": [],
   "source": [
    "# == Fixed to gamma_ps = 0.8 ==\n",
    "# == Sweep for 0 ~ pi*3 == \n",
    "Sweep_data = np_.array([1e-3, np.pi * 3 + 1e-3, 1e-1])\n",
    "Para_init = np_.array([1, 1, 1, 1e-1, 1e-1, 1e-1])\n",
    "Gamma_ps_preset = 0.8\n",
    "\n",
    "Optimized_Result = SLSQP(Sweep_data, Para_init, Gamma_ps_preset)"
   ]
  },
  {
   "cell_type": "code",
   "execution_count": 51,
   "metadata": {},
   "outputs": [
    {
     "data": {
      "text/plain": [
       "array([99.99602265, 96.75609591, 86.47273972, 10.78058296, 99.69129666,\n",
       "       73.93744692, 83.9333765 , 94.58129294, 76.40619106, 99.97723262,\n",
       "       98.23664836, 99.87952122, 86.27372049, 99.5648002 , 96.83198312,\n",
       "       99.86590464, 99.96976751, 50.68870929, 91.17182135,  8.58000566,\n",
       "       99.55416674, 99.77450608, 98.019887  ,  0.96344859, 97.64808839,\n",
       "       98.43473615, 88.23947248, 98.95782134, 90.77895845, 98.68841148,\n",
       "       60.70049157, 99.96058401, 99.89539114, 38.83359448, 98.49942576,\n",
       "       74.3380569 ,  0.16050473, 99.12549714, 77.59479747,  0.93116982,\n",
       "       97.68388486,  1.95218937, 24.1478869 , 88.18248067, 98.83731882,\n",
       "       99.79019188, 95.37043167, 99.95757092, 85.24229897, 99.81180627,\n",
       "       99.64969658, 98.70315837, 89.77927828, 77.31786468, 99.31858359,\n",
       "       60.87547443, 97.89277953, 96.13815543, 99.82732059, 99.03043603,\n",
       "       73.5451436 , 98.3105955 , 98.77483501, 99.95418141, 99.5512845 ,\n",
       "       22.23666195, 93.92266572, 86.06863372, 98.17542287, 97.98952708,\n",
       "       98.28782313, 95.44184664,  1.41252943, 99.85875848, 94.70379611,\n",
       "        7.22960831, 99.02969733, 97.77006581, 99.61948899, 99.66940223,\n",
       "       99.6815851 , 96.6329439 , 99.63847362, 99.60729183,  3.20071545,\n",
       "       98.837538  , 98.8586519 , 99.50228049, 99.87982086, 16.98907194,\n",
       "       99.8009208 , 19.03413404, 26.48998822, 99.4965238 , 99.96722603])"
      ]
     },
     "execution_count": 51,
     "metadata": {},
     "output_type": "execute_result"
    }
   ],
   "source": [
    "# Optimized_Result[:, 0]\n",
    "\n",
    "Optimized_Result[:, 1]"
   ]
  },
  {
   "cell_type": "code",
   "execution_count": 52,
   "metadata": {},
   "outputs": [
    {
     "data": {
      "image/png": "[encoded data removed]",
      "text/plain": [
       "<Figure size 640x480 with 1 Axes>"
      ]
     },
     "metadata": {},
     "output_type": "display_data"
    }
   ],
   "source": [
    "# == Temporary Plot for gamma_ps = 0.8\n",
    "plt.plot(Optimized_Result[:, 0], Optimized_Result[:, 1], label = f'$\\gamma$ = {Gamma_ps_preset}')\n",
    "plt.title('CFI After 1st Optimization')\n",
    "plt.xlabel('Time')\n",
    "plt.ylabel('CFI')\n",
    "plt.legend()\n",
    "plt.grid() "
   ]
  },
  {
   "cell_type": "code",
   "execution_count": 53,
   "metadata": {},
   "outputs": [
    {
     "name": "stdout",
     "output_type": "stream",
     "text": [
      "[1.000e-03 1.010e-01 2.010e-01 3.010e-01 4.010e-01 5.010e-01 6.010e-01\n",
      " 7.010e-01 8.010e-01 9.010e-01 1.001e+00 1.101e+00 1.201e+00 1.301e+00\n",
      " 1.401e+00 1.501e+00 1.601e+00 1.701e+00 1.801e+00 1.901e+00 2.001e+00\n",
      " 2.101e+00 2.201e+00 2.301e+00 2.401e+00 2.501e+00 2.601e+00 2.701e+00\n",
      " 2.801e+00 2.901e+00 3.001e+00 3.101e+00 3.201e+00 3.301e+00 3.401e+00\n",
      " 3.501e+00 3.601e+00 3.701e+00 3.801e+00 3.901e+00 4.001e+00 4.101e+00\n",
      " 4.201e+00 4.301e+00 4.401e+00 4.501e+00 4.601e+00 4.701e+00 4.801e+00\n",
      " 4.901e+00 5.001e+00 5.101e+00 5.201e+00 5.301e+00 5.401e+00 5.501e+00\n",
      " 5.601e+00 5.701e+00 5.801e+00 5.901e+00 6.001e+00 6.101e+00 6.201e+00\n",
      " 6.301e+00 6.401e+00 6.501e+00 6.601e+00 6.701e+00 6.801e+00 6.901e+00\n",
      " 7.001e+00 7.101e+00 7.201e+00 7.301e+00 7.401e+00 7.501e+00 7.601e+00\n",
      " 7.701e+00 7.801e+00 7.901e+00 8.001e+00 8.101e+00 8.201e+00 8.301e+00\n",
      " 8.401e+00 8.501e+00 8.601e+00 8.701e+00 8.801e+00 8.901e+00 9.001e+00\n",
      " 9.101e+00 9.201e+00 9.301e+00 9.401e+00]\n"
     ]
    }
   ],
   "source": [
    "Temp_PHI_CFI = np_.stack((Optimized_Result[:,0], Optimized_Result[:,1]))\n",
    "\n",
    "print(Temp_PHI_CFI[0][:])"
   ]
  },
  {
   "cell_type": "markdown",
   "metadata": {},
   "source": [
    "Each row of 6-paras => Corresponds to phi\n",
    "\n",
    "func(phi, paras, gamma_ps)\n",
    "=> Implement on SLSQP \n",
    "\n",
    "Data = [[phi, CFI, theata_init, tau_1, tau_2, tau_d1, tau_d2, tau_d3] ... N]"
   ]
  },
  {
   "cell_type": "code",
   "execution_count": 54,
   "metadata": {},
   "outputs": [
    {
     "data": {
      "text/plain": [
       "array([[0, 2, 3],\n",
       "       [1, 4, 5],\n",
       "       [2, 6, 7]])"
      ]
     },
     "execution_count": 54,
     "metadata": {},
     "output_type": "execute_result"
    }
   ],
   "source": [
    "array = np_.arange(0, 3, 1).reshape(3,1)\n",
    "b = np_.array([[2,3], [4,5], [6,7]])\n",
    "\n",
    "res = np_.hstack((array, b))\n",
    "\n",
    "res"
   ]
  },
  {
   "cell_type": "code",
   "execution_count": 55,
   "metadata": {},
   "outputs": [
    {
     "data": {
      "text/plain": [
       "array([0, 2, 3])"
      ]
     },
     "execution_count": 55,
     "metadata": {},
     "output_type": "execute_result"
    }
   ],
   "source": [
    "res[:][0]"
   ]
  },
  {
   "cell_type": "code",
   "execution_count": 56,
   "metadata": {},
   "outputs": [
    {
     "data": {
      "text/plain": [
       "(1, 2, 3, 4, 5, 6, 7, 8, 9)"
      ]
     },
     "execution_count": 56,
     "metadata": {},
     "output_type": "execute_result"
    }
   ],
   "source": [
    "array = np_.arange(1,10,1)\n",
    "\n",
    "tuple(array)"
   ]
  },
  {
   "cell_type": "code",
   "execution_count": 57,
   "metadata": {},
   "outputs": [
    {
     "data": {
      "text/plain": [
       "tuple"
      ]
     },
     "execution_count": 57,
     "metadata": {},
     "output_type": "execute_result"
    }
   ],
   "source": [
    "test = 1,2,3,4\n",
    "\n",
    "type(test)"
   ]
  },
  {
   "cell_type": "code",
   "execution_count": 58,
   "metadata": {},
   "outputs": [
    {
     "data": {
      "text/plain": [
       "95"
      ]
     },
     "execution_count": 58,
     "metadata": {},
     "output_type": "execute_result"
    }
   ],
   "source": [
    "dd = np.arange(0, np.pi*3, 0.1)\n",
    "\n",
    "len(dd)"
   ]
  }
 ],
 "metadata": {
  "kernelspec": {
   "display_name": "Python 3",
   "language": "python",
   "name": "python3"
  },
  "language_info": {
   "codemirror_mode": {
    "name": "ipython",
    "version": 3
   },
   "file_extension": ".py",
   "mimetype": "text/x-python",
   "name": "python",
   "nbconvert_exporter": "python",
   "pygments_lexer": "ipython3",
   "version": "3.11.4"
  },
  "orig_nbformat": 4
 },
 "nbformat": 4,
 "nbformat_minor": 2
}
