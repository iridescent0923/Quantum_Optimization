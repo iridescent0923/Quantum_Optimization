{
 "cells": [
  {
   "cell_type": "code",
   "execution_count": 15,
   "metadata": {},
   "outputs": [],
   "source": [
    "import pennylane as qml\n",
    "from pennylane import numpy as np\n",
    "\n",
    "# == Hamiltonain setup == \n",
    "Coeff_ham = [1]\n",
    "Obs = [qml.PauliZ(0)]\n",
    "Hamiltonian = qml.Hamiltonian(Coeff_ham, Obs)\n",
    "\n",
    "dev = qml.device(\"default.mixed\", wires = 1)\n",
    "\n",
    "gamma_dephase = 0\n",
    "@qml.qnode(dev)\n",
    "def Dephase_circuit(phi):\n",
    "    qml.Hadamard(wires=0)\n",
    "    \n",
    "    # Time_evo t fixed as -phi/2\n",
    "    qml.ApproxTimeEvolution(Hamiltonian, -phi/2, 1)\n",
    "    \n",
    "    qml.PhaseDamping(gamma_dephase, wires = 0)\n",
    "    \n",
    "    qml.Hadamard(wires=0)\n",
    "    \n",
    "    return qml.density_matrix(wires=0)"
   ]
  },
  {
   "cell_type": "markdown",
   "metadata": {},
   "source": [
    "== After dephase ==\n",
    "\n",
    "Hada -> Time_eco -> dephase"
   ]
  },
  {
   "cell_type": "code",
   "execution_count": 16,
   "metadata": {},
   "outputs": [
    {
     "name": "stdout",
     "output_type": "stream",
     "text": [
      "[[ 2.49800181e-15+0.000000e+00j -4.94049246e-15-6.123234e-17j]\n",
      " [-4.91273688e-15+6.123234e-17j  1.00000000e+00+0.000000e+00j]]\n",
      "\n",
      "[[ 2.24820162e-15+0.00000000e+00j -4.68696268e-15-5.80900982e-17j]\n",
      " [-4.66063143e-15+5.80900982e-17j  1.00000000e+00+0.00000000e+00j]]\n"
     ]
    }
   ],
   "source": [
    "@qml.qnode(dev)\n",
    "def Post_selection(gamma_ps):\n",
    "    rho_dephase = Dephase_circuit(phi)\n",
    "    Kraus_oper = np.array([ [np.sqrt(1-gamma_ps), 0], [0, 1] ])\n",
    "    \n",
    "    rho_ps = (Kraus_oper @ rho_dephase @ Kraus_oper.conj().T) / (np.trace(Kraus_oper @ rho_dephase @ Kraus_oper.conj().T))\n",
    "    qml.QubitDensityMatrix(rho_ps, wires=0)\n",
    "    \n",
    "    return qml.density_matrix(wires=0)\n",
    "\n",
    "phi = np.pi\n",
    "print(Dephase_circuit(phi))\n",
    "print()\n",
    "print(Post_selection(0.1))"
   ]
  },
  {
   "cell_type": "code",
   "execution_count": 17,
   "metadata": {},
   "outputs": [
    {
     "data": {
      "text/plain": [
       "tensor([[ 0.29373815-0.00000000e+00j, -0.        -2.20676228e-17j],\n",
       "        [-0.        +2.20676228e-17j,  0.70626185-0.00000000e+00j]], requires_grad=True)"
      ]
     },
     "execution_count": 17,
     "metadata": {},
     "output_type": "execute_result"
    }
   ],
   "source": [
    "t = 1\n",
    "\n",
    "def rho_ps_cmp(gamma_ps):\n",
    "    rho_ps = np.array([ [((gamma_ps-1)*(np.exp(t)+np.cos(phi))), (1.j*np.sqrt(1-gamma_ps)*np.sin(phi))], \n",
    "                       [(-1.j*np.sqrt(1-gamma_ps)*np.sin(phi)), (np.cos(phi) - np.exp(t))] ]) / (gamma_ps * np.cos(phi) + (gamma_ps-2) * np.exp(t))\n",
    "    \n",
    "    return rho_ps\n",
    "\n",
    "rho_ps_cmp(0.1)"
   ]
  },
  {
   "cell_type": "code",
   "execution_count": 18,
   "metadata": {},
   "outputs": [
    {
     "name": "stdout",
     "output_type": "stream",
     "text": [
      "[[ 1.25423566e-02+0.00000000e+00j -1.74844542e-15-1.66918814e-17j]\n",
      " [-1.74844542e-15+1.66918814e-17j  9.87457643e-01+0.00000000e+00j]]\n",
      "\n",
      "[[ 0.01254236-0.00000000e+00j -0.        -1.66918814e-17j]\n",
      " [-0.        +1.66918814e-17j  0.98745764-0.00000000e+00j]]\n"
     ]
    }
   ],
   "source": [
    "gamma_dephase = 0.4\n",
    "t = -np.log( np.sqrt(1 - gamma_dephase))\n",
    "\n",
    "\n",
    "gamma_ps = 0.9\n",
    "print(Post_selection(gamma_ps))\n",
    "print()\n",
    "print(rho_ps_cmp(gamma_ps))"
   ]
  },
  {
   "cell_type": "code",
   "execution_count": 19,
   "metadata": {},
   "outputs": [
    {
     "data": {
      "text/plain": [
       "tensor([[ True,  True],\n",
       "        [ True,  True]], requires_grad=True)"
      ]
     },
     "execution_count": 19,
     "metadata": {},
     "output_type": "execute_result"
    }
   ],
   "source": [
    "np.isclose(Post_selection(gamma_ps), rho_ps_cmp(gamma_ps))"
   ]
  },
  {
   "cell_type": "code",
   "execution_count": 20,
   "metadata": {},
   "outputs": [],
   "source": [
    "# # Set gamma first, calculate t after\n",
    "# gamma = 0.5\n",
    "# t = -np.log( np.sqrt(1 - gamma))\n",
    "\n",
    "# Set t first, calculate gamma after\n",
    "t = 0.052\n",
    "gamma_dephase = 1 - np.exp(-2 * t)\n",
    "\n",
    "phi = np.pi\n",
    "\n",
    "Hadamard = np.array([ [1, 1], [1, -1]]) / np.sqrt(2)\n",
    "\n",
    "def density_cmp(phi):\n",
    "    rho = np.array([ [1, np.exp(1.j * phi - t)], [np.exp(-1.j * phi - t), 1] ]) / 2\n",
    "    \n",
    "    After_hada = Hadamard @ rho @ Hadamard.conj().T\n",
    "    \n",
    "    return After_hada"
   ]
  },
  {
   "cell_type": "code",
   "execution_count": 21,
   "metadata": {},
   "outputs": [
    {
     "name": "stdout",
     "output_type": "stream",
     "text": [
      "gamma: 0.09877470257879517   phi: 3.141592653589793\n",
      "from qnode:\n",
      "[[ 2.53355666e-02+0.00000000e+00j -4.94049246e-15-5.81296279e-17j]\n",
      " [-4.96824804e-15+5.81296279e-17j  9.74664433e-01+0.00000000e+00j]]\n",
      "\n",
      "from equ:\n",
      "[[ 2.53355666e-02+1.88021817e-33j -1.73654644e-17-5.81296279e-17j]\n",
      " [ 6.02674849e-17+5.81296279e-17j  9.74664433e-01-1.88021817e-33j]]\n"
     ]
    },
    {
     "data": {
      "text/plain": [
       "tensor([[ True,  True],\n",
       "        [ True,  True]], requires_grad=True)"
      ]
     },
     "execution_count": 21,
     "metadata": {},
     "output_type": "execute_result"
    }
   ],
   "source": [
    "# CMP the density matrix\n",
    "\n",
    "print('gamma:', gamma_dephase, '  phi:', phi )\n",
    "print('from qnode:')\n",
    "print(Dephase_circuit(phi))\n",
    "print()\n",
    "print('from equ:')\n",
    "print(density_cmp(phi))\n",
    "\n",
    "np.isclose(Dephase_circuit(phi), density_cmp(phi))"
   ]
  },
  {
   "cell_type": "code",
   "execution_count": 22,
   "metadata": {},
   "outputs": [],
   "source": [
    "def after_hada(phi):\n",
    "    \n",
    "    rho = np.array([ [(1 + np.cos(phi) * np.exp(-t) ) , (-1.j * np.sin(phi) * np.exp(-t))],\n",
    "                    [ (1.j * np.sin(phi) * np.exp(-t)), (1 - np.cos(phi) * np.exp(-t)) ] ]) / 2\n",
    "    \n",
    "    \n",
    "    return rho"
   ]
  },
  {
   "cell_type": "code",
   "execution_count": 23,
   "metadata": {},
   "outputs": [
    {
     "data": {
      "text/plain": [
       "tensor([[ True,  True],\n",
       "        [ True,  True]], requires_grad=True)"
      ]
     },
     "execution_count": 23,
     "metadata": {},
     "output_type": "execute_result"
    }
   ],
   "source": [
    "np.isclose(density_cmp(phi), after_hada(phi))"
   ]
  },
  {
   "cell_type": "code",
   "execution_count": 24,
   "metadata": {},
   "outputs": [
    {
     "name": "stdout",
     "output_type": "stream",
     "text": [
      "<class 'list'>\n"
     ]
    },
    {
     "data": {
      "text/plain": [
       "tensor([[[1.        , 0.        ],\n",
       "         [0.        , 0.        ]],\n",
       "\n",
       "        [[0.29835928, 0.        ],\n",
       "         [0.        , 0.        ]]], requires_grad=True)"
      ]
     },
     "execution_count": 24,
     "metadata": {},
     "output_type": "execute_result"
    }
   ],
   "source": [
    "U = qml.AmplitudeDamping(gamma_dephase, wires=0).kraus_matrices()\n",
    "\n",
    "print( type(U))\n",
    "\n",
    "temp = np.array(U)\n",
    "\n",
    "\n",
    "temp @ temp.conj().T\n"
   ]
  }
 ],
 "metadata": {
  "kernelspec": {
   "display_name": "Python 3",
   "language": "python",
   "name": "python3"
  },
  "language_info": {
   "codemirror_mode": {
    "name": "ipython",
    "version": 3
   },
   "file_extension": ".py",
   "mimetype": "text/x-python",
   "name": "python",
   "nbconvert_exporter": "python",
   "pygments_lexer": "ipython3",
   "version": "3.11.4"
  },
  "orig_nbformat": 4
 },
 "nbformat": 4,
 "nbformat_minor": 2
}
