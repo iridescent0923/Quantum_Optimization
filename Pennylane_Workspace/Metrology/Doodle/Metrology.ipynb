{
 "cells": [
  {
   "cell_type": "code",
   "execution_count": 1,
   "metadata": {},
   "outputs": [
    {
     "name": "stdout",
     "output_type": "stream",
     "text": [
      "[[ 1.00000000e+00+0.00000000e+00j  0.00000000e+00-2.22044605e-16j\n",
      "   1.81792223e-32-2.74766180e-16j -3.92523115e-17-5.55111512e-17j]\n",
      " [ 0.00000000e+00+2.22044605e-16j  4.93038066e-32+0.00000000e+00j\n",
      "   6.10103479e-32+4.03659824e-48j  1.23259516e-32-8.71576399e-33j]\n",
      " [ 1.81792223e-32+2.74766180e-16j  6.10103479e-32-4.03659824e-48j\n",
      "   7.54964538e-32+0.00000000e+00j  1.52525870e-32-1.07852077e-32j]\n",
      " [-3.92523115e-17+5.55111512e-17j  1.23259516e-32+8.71576399e-33j\n",
      "   1.52525870e-32+1.07852077e-32j  4.62223187e-33+0.00000000e+00j]]\n"
     ]
    }
   ],
   "source": [
    "import matplotlib.pyplot as plt\n",
    "import pennylane as qml\n",
    "from pennylane import numpy as np\n",
    "from pennylane.templates import ApproxTimeEvolution\n",
    "\n",
    "\n",
    "dev = qml.device('default.qubit', wires= 2)\n",
    "\n",
    "coeffs = [1, 1]\n",
    "obs = [qml.PauliZ(0), qml.PauliZ(1)]\n",
    "hamiltonian = qml.Hamiltonian(coeffs, obs)\n",
    "\n",
    "@qml.qnode(dev)\n",
    "def circuit(theta_init, tau_1, tau_2):\n",
    "    \n",
    "    qml.RX(np.pi/2, wires = 0)    \n",
    "    qml.RX(np.pi/2, wires = 1)    \n",
    "    \n",
    "    ApproxTimeEvolution(hamiltonian, tau_1, 1)\n",
    "    \n",
    "    qml.RX(np.pi, wires = 0)    \n",
    "    qml.RX(np.pi, wires = 1)   \n",
    "    \n",
    "    ApproxTimeEvolution(hamiltonian, tau_2, 1)\n",
    "    \n",
    "    qml.RX(np.pi/2, wires = 0)    \n",
    "    qml.RX(np.pi/2, wires = 1) \n",
    "    \n",
    "    \n",
    "    return qml.density_matrix(wires=[0, 1])\n",
    "\n",
    "rho = np.array(circuit(0, 1, 1))\n",
    "\n",
    "print(rho)"
   ]
  }
 ],
 "metadata": {
  "kernelspec": {
   "display_name": "Python 3",
   "language": "python",
   "name": "python3"
  },
  "language_info": {
   "codemirror_mode": {
    "name": "ipython",
    "version": 3
   },
   "file_extension": ".py",
   "mimetype": "text/x-python",
   "name": "python",
   "nbconvert_exporter": "python",
   "pygments_lexer": "ipython3",
   "version": "3.11.4"
  },
  "orig_nbformat": 4
 },
 "nbformat": 4,
 "nbformat_minor": 2
}
