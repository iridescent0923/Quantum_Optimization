{
 "cells": [
  {
   "cell_type": "code",
   "execution_count": 169,
   "metadata": {},
   "outputs": [],
   "source": [
    "import pennylane as qml\n",
    "from pennylane import numpy as np\n",
    "\n",
    "import scipy as sp\n",
    "\n",
    "import matplotlib.pyplot as plt\n",
    "\n",
    "# 2-qubit\n",
    "dev = qml.device('default.mixed', wires= 2)\n",
    "# dev_1 = qml.device('default.mixed', wires= 2)\n",
    "\n",
    "# == Hamiltonian setup == \n",
    "coeffs = [1]\n",
    "obs = [qml.PauliZ(0) @ qml.PauliZ(1)]\n",
    "\n",
    "hamiltonian = qml.Hamiltonian(coeffs, obs)"
   ]
  },
  {
   "cell_type": "code",
   "execution_count": 170,
   "metadata": {},
   "outputs": [],
   "source": [
    "# == Generate circuit == \n",
    "\n",
    "# global var\n",
    "Paras_global = None\n",
    "Phi_global = None\n",
    "\n",
    "@qml.qnode(dev)\n",
    "def circuit_1(tau_2):\n",
    "    # == set var ==\n",
    "    # theta_init, tau_1 = np.pi/8, np.pi/2\n",
    "    theta_init, tau_1 = np.pi/8, np.pi/2\n",
    "    \n",
    "    # Stage_1: Ry for pi/2\n",
    "    qml.RY(np.pi/2, wires=0)\n",
    "    qml.RY(np.pi/2, wires=1)\n",
    "    \n",
    "    \n",
    "    # Stage_2: Entangler\n",
    "    qml.ApproxTimeEvolution(hamiltonian, tau_1, 1)\n",
    "    \n",
    "    qml.RX(theta_init, wires = 0)\n",
    "    qml.RX(theta_init, wires = 1)\n",
    "    \n",
    "    # qml.RY(-np.pi/2, wires=0)\n",
    "    # qml.RY(-np.pi/2, wires=1)\n",
    "    \n",
    "    qml.ApproxTimeEvolution(hamiltonian, tau_2, 1)\n",
    "    \n",
    "    qml.RY(-np.pi/2, wires=0)\n",
    "    qml.RY(-np.pi/2, wires=1)\n",
    "    \n",
    "    return qml.density_matrix(wires=[0, 1]) \n",
    "\n",
    "@qml.qnode(dev)\n",
    "def circuit_2(phi):\n",
    "    # global Paras_global\n",
    "    # density_matrix = circuit_1(Paras_global)\n",
    "    # qml.QubitDensityMatrix(density_matrix, wires=[0, 1])\n",
    "    \n",
    "    qml.RY(np.pi/2, wires=0)\n",
    "    qml.RY(np.pi/2, wires=1)\n",
    "    \n",
    "    # Stage_3: Phase accu\n",
    "    qml.ApproxTimeEvolution(hamiltonian, phi, 1)\n",
    "    \n",
    "    qml.RX(np.pi/2, wires=0)\n",
    "    qml.RX(np.pi/2, wires=1)\n",
    "    \n",
    "    qml.RY(-np.pi/2, wires=0)\n",
    "    qml.RY(-np.pi/2, wires=1)\n",
    "    \n",
    "    \n",
    "    \n",
    "    return qml.probs(wires=[0, 1])"
   ]
  },
  {
   "cell_type": "code",
   "execution_count": 171,
   "metadata": {},
   "outputs": [
    {
     "data": {
      "text/plain": [
       "array([[4.00022728]])"
      ]
     },
     "execution_count": 171,
     "metadata": {},
     "output_type": "execute_result"
    }
   ],
   "source": [
    "# test tau_2\n",
    "\n",
    "CFI_para = np.array([1e-6])\n",
    "\n",
    "mem = qml.qinfo.classical_fisher(circuit_1)(CFI_para)\n",
    "\n",
    "mem"
   ]
  },
  {
   "cell_type": "code",
   "execution_count": 172,
   "metadata": {},
   "outputs": [],
   "source": [
    "# # test circuit_2 without_front density matrix\n",
    "\n",
    "# CFI_para = np.array([1e-6])\n",
    "\n",
    "# mem = qml.qinfo.classical_fisher(circuit_2)(CFI_para)\n",
    "\n",
    "# mem"
   ]
  },
  {
   "cell_type": "code",
   "execution_count": 173,
   "metadata": {},
   "outputs": [
    {
     "data": {
      "text/plain": [
       "array([[4.000144]])"
      ]
     },
     "execution_count": 173,
     "metadata": {},
     "output_type": "execute_result"
    }
   ],
   "source": [
    "CFI_para = np.array([1e-6])\n",
    "\n",
    "Paras_global = np.pi / 2\n",
    "\n",
    "mem = qml.qinfo.classical_fisher(circuit_2)(CFI_para)\n",
    "\n",
    "mem"
   ]
  },
  {
   "cell_type": "code",
   "execution_count": 174,
   "metadata": {},
   "outputs": [
    {
     "data": {
      "text/plain": [
       "array([[4.00022728]])"
      ]
     },
     "execution_count": 174,
     "metadata": {},
     "output_type": "execute_result"
    }
   ],
   "source": [
    "# CFI_para = np.array([np.pi/2])\n",
    "CFI_para = np.array([1e-6])\n",
    "\n",
    "\n",
    "\n",
    "mem = qml.qinfo.classical_fisher(circuit_1)(CFI_para)\n",
    "\n",
    "mem"
   ]
  },
  {
   "cell_type": "code",
   "execution_count": 175,
   "metadata": {},
   "outputs": [
    {
     "data": {
      "text/plain": [
       "tensor([[4.]], requires_grad=True)"
      ]
     },
     "execution_count": 175,
     "metadata": {},
     "output_type": "execute_result"
    }
   ],
   "source": [
    "Paras_global = 0.1\n",
    "phi_test = np.array([ 2 ])\n",
    "\n",
    "temp = qml.qinfo.classical_fisher(circuit_2)(phi_test[0])\n",
    "\n",
    "temp"
   ]
  }
 ],
 "metadata": {
  "kernelspec": {
   "display_name": "Python 3",
   "language": "python",
   "name": "python3"
  },
  "language_info": {
   "codemirror_mode": {
    "name": "ipython",
    "version": 3
   },
   "file_extension": ".py",
   "mimetype": "text/x-python",
   "name": "python",
   "nbconvert_exporter": "python",
   "pygments_lexer": "ipython3",
   "version": "3.11.4"
  },
  "orig_nbformat": 4
 },
 "nbformat": 4,
 "nbformat_minor": 2
}
