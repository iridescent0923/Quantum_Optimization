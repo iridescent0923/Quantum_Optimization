{
 "cells": [
  {
   "cell_type": "code",
   "execution_count": 1,
   "metadata": {},
   "outputs": [
    {
     "name": "stdout",
     "output_type": "stream",
     "text": [
      "[[ 1  2  3  4  5]\n",
      " [ 6  7  8  9 10]] \n",
      "\n",
      " == \n",
      "\n",
      "[[[ 1  2  3  4  5]\n",
      "  [ 6  7  8  9 10]]\n",
      "\n",
      " [[11 12 13 14 15]\n",
      "  [16 17 18 19 20]]] \n",
      "\n",
      " == \n",
      "\n",
      "[3.5 4.5 5.5 6.5 7.5] \n",
      "\n",
      "[[ 6.  7.  8.  9. 10.]\n",
      " [11. 12. 13. 14. 15.]] \n",
      "\n"
     ]
    }
   ],
   "source": [
    "import numpy as np\n",
    "\n",
    "# z,y,x\n",
    "array_2d = np.arange(1,11).reshape(2,5)\n",
    "array_3d = np.arange(1,21).reshape(2,2,5)\n",
    "\n",
    "\n",
    "print(array_2d,'\\n\\n == \\n')\n",
    "print(array_3d,'\\n\\n == \\n')\n",
    "\n",
    "# 가장 상위 axis \n",
    "print( np.mean(array_2d,axis = 0), '\\n' )\n",
    "print( np.mean(array_3d,axis = 0) ,'\\n'  )\n",
    "#  z axis\n"
   ]
  }
 ],
 "metadata": {
  "kernelspec": {
   "display_name": "Python 3",
   "language": "python",
   "name": "python3"
  },
  "language_info": {
   "codemirror_mode": {
    "name": "ipython",
    "version": 3
   },
   "file_extension": ".py",
   "mimetype": "text/x-python",
   "name": "python",
   "nbconvert_exporter": "python",
   "pygments_lexer": "ipython3",
   "version": "3.11.4"
  },
  "orig_nbformat": 4
 },
 "nbformat": 4,
 "nbformat_minor": 2
}
