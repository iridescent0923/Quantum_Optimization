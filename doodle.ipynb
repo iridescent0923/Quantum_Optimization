{
 "cells": [
  {
   "cell_type": "code",
   "execution_count": 107,
   "metadata": {},
   "outputs": [],
   "source": [
    "import numpy as np\n"
   ]
  },
  {
   "cell_type": "code",
   "execution_count": 108,
   "metadata": {},
   "outputs": [],
   "source": [
    "import numpy as np\n",
    "\n",
    "# Create the 3D array filled with zeros\n",
    "array = np.zeros((2, 2, 2))\n",
    "\n",
    "# Create array_1\n",
    "array_1 = np.array([1, 1]).reshape(-1, 1)\n",
    "\n",
    "# # Reshape array_1 to match the shape of array\n",
    "# array_1_reshaped = array_1.reshape(2, 1, 1)\n",
    "\n",
    "# # Stack array and array_1 horizontally\n",
    "# result = np.hstack((array, array_1_reshaped))\n",
    "\n",
    "# # Print the result\n",
    "# print(result)\n"
   ]
  },
  {
   "cell_type": "code",
   "execution_count": 109,
   "metadata": {},
   "outputs": [
    {
     "name": "stdout",
     "output_type": "stream",
     "text": [
      "dd\n",
      "dd\n",
      "dd\n"
     ]
    }
   ],
   "source": [
    "data = 0\n",
    "for i in range(3):\n",
    "    data = 4 if i == 2 else 1\n",
    "    print('dd')\n"
   ]
  },
  {
   "cell_type": "code",
   "execution_count": 110,
   "metadata": {},
   "outputs": [
    {
     "data": {
      "text/plain": [
       "array([[[1., 0.],\n",
       "        [1., 0.]],\n",
       "\n",
       "       [[1., 0.],\n",
       "        [1., 0.]]])"
      ]
     },
     "execution_count": 110,
     "metadata": {},
     "output_type": "execute_result"
    }
   ],
   "source": [
    "array[:, :, 0] = array_1\n",
    "\n",
    "array"
   ]
  },
  {
   "cell_type": "code",
   "execution_count": 111,
   "metadata": {},
   "outputs": [
    {
     "data": {
      "text/plain": [
       "array([1, 2, 3, 4, 5, 6])"
      ]
     },
     "execution_count": 111,
     "metadata": {},
     "output_type": "execute_result"
    }
   ],
   "source": [
    "tt = np.array([1,2,3,4,5,6])\n",
    "\n",
    "tt"
   ]
  },
  {
   "cell_type": "code",
   "execution_count": 114,
   "metadata": {},
   "outputs": [],
   "source": [
    "def SLSQP(Sweep_Data, paras, gamma_ps_select, Iterations):\n",
    "    # Create Data array\n",
    "    PHI = np.arange(Sweep_Data[0], Sweep_Data[1], Sweep_Data[2]).reshape(-1, 1)\n",
    "    \n",
    "    # PHI = 95,1\n",
    "    \n",
    "    # Before append with PHI col = 7-col\n",
    "    Data = np.zeros((Iterations, len(PHI), len(paras) + 1))\n",
    "    \n",
    "    # 0_col => PHI\n",
    "    # Data[:][:, 0] = PHI\n",
    "    \n",
    "    return Data\n",
    "\n",
    "\n",
    "# == Fixed to gamma_ps = 0.8 ==\n",
    "# == Sweep for 0 ~ pi*3 == \n",
    "Sweep_data = np.array([1e-3, np.pi * 1/2 + 1e-3, 1e-1])\n",
    "Para_init = np.array([1, 1, 1, 1e-1, 1e-1, 1e-1])\n",
    "Gamma_ps_preset = 0.8\n",
    "Iterations_set = 2\n",
    "\n",
    "Optimized_Result = SLSQP(Sweep_data, Para_init, Gamma_ps_preset, Iterations_set)"
   ]
  },
  {
   "cell_type": "code",
   "execution_count": 134,
   "metadata": {},
   "outputs": [
    {
     "data": {
      "text/plain": [
       "array([[1., 0., 0., 0.],\n",
       "       [1., 0., 0., 0.],\n",
       "       [1., 0., 0., 0.]])"
      ]
     },
     "execution_count": 134,
     "metadata": {},
     "output_type": "execute_result"
    }
   ],
   "source": [
    "temp_11 = np.zeros((3,3))\n",
    "\n",
    "temp_11\n",
    "\n",
    "test_3 = np.ones((3,1))\n",
    "\n",
    "test_3\n",
    "\n",
    "np.concatenate((test_3, temp_11), axis=1)"
   ]
  },
  {
   "cell_type": "code",
   "execution_count": 147,
   "metadata": {},
   "outputs": [
    {
     "data": {
      "text/plain": [
       "array([[1.000e-03],\n",
       "       [1.010e-01],\n",
       "       [2.010e-01],\n",
       "       [3.010e-01],\n",
       "       [4.010e-01],\n",
       "       [5.010e-01],\n",
       "       [6.010e-01],\n",
       "       [7.010e-01],\n",
       "       [8.010e-01],\n",
       "       [9.010e-01],\n",
       "       [1.001e+00],\n",
       "       [1.101e+00],\n",
       "       [1.201e+00],\n",
       "       [1.301e+00],\n",
       "       [1.401e+00],\n",
       "       [1.501e+00],\n",
       "       [1.601e+00],\n",
       "       [1.701e+00],\n",
       "       [1.801e+00],\n",
       "       [1.901e+00],\n",
       "       [2.001e+00],\n",
       "       [2.101e+00],\n",
       "       [2.201e+00],\n",
       "       [2.301e+00],\n",
       "       [2.401e+00],\n",
       "       [2.501e+00],\n",
       "       [2.601e+00],\n",
       "       [2.701e+00],\n",
       "       [2.801e+00],\n",
       "       [2.901e+00],\n",
       "       [3.001e+00],\n",
       "       [3.101e+00],\n",
       "       [3.201e+00],\n",
       "       [3.301e+00],\n",
       "       [3.401e+00],\n",
       "       [3.501e+00],\n",
       "       [3.601e+00],\n",
       "       [3.701e+00],\n",
       "       [3.801e+00],\n",
       "       [3.901e+00],\n",
       "       [4.001e+00],\n",
       "       [4.101e+00],\n",
       "       [4.201e+00],\n",
       "       [4.301e+00],\n",
       "       [4.401e+00],\n",
       "       [4.501e+00],\n",
       "       [4.601e+00],\n",
       "       [4.701e+00],\n",
       "       [4.801e+00],\n",
       "       [4.901e+00],\n",
       "       [5.001e+00],\n",
       "       [5.101e+00],\n",
       "       [5.201e+00],\n",
       "       [5.301e+00],\n",
       "       [5.401e+00],\n",
       "       [5.501e+00],\n",
       "       [5.601e+00],\n",
       "       [5.701e+00],\n",
       "       [5.801e+00],\n",
       "       [5.901e+00],\n",
       "       [6.001e+00],\n",
       "       [6.101e+00],\n",
       "       [6.201e+00],\n",
       "       [6.301e+00],\n",
       "       [6.401e+00],\n",
       "       [6.501e+00],\n",
       "       [6.601e+00],\n",
       "       [6.701e+00],\n",
       "       [6.801e+00],\n",
       "       [6.901e+00],\n",
       "       [7.001e+00],\n",
       "       [7.101e+00],\n",
       "       [7.201e+00],\n",
       "       [7.301e+00],\n",
       "       [7.401e+00],\n",
       "       [7.501e+00],\n",
       "       [7.601e+00],\n",
       "       [7.701e+00],\n",
       "       [7.801e+00],\n",
       "       [7.901e+00],\n",
       "       [8.001e+00],\n",
       "       [8.101e+00],\n",
       "       [8.201e+00],\n",
       "       [8.301e+00],\n",
       "       [8.401e+00],\n",
       "       [8.501e+00],\n",
       "       [8.601e+00],\n",
       "       [8.701e+00],\n",
       "       [8.801e+00],\n",
       "       [8.901e+00],\n",
       "       [9.001e+00],\n",
       "       [9.101e+00],\n",
       "       [9.201e+00],\n",
       "       [9.301e+00],\n",
       "       [9.401e+00]])"
      ]
     },
     "execution_count": 147,
     "metadata": {},
     "output_type": "execute_result"
    }
   ],
   "source": [
    "# == SLSQP -> Return Data_set:[phi, CFI, 6-Paras] ==\n",
    "def SLSQP(Sweep_Data, paras, gamma_ps_select, Iterations):\n",
    "    # Create Data array\n",
    "    PHI = np.arange(Sweep_Data[0], Sweep_Data[1], Sweep_Data[2]).reshape(-1, 1)\n",
    "    \n",
    "    # Before append with PHI col = 7-col\n",
    "    #  fixed 1 -> 2\n",
    "    Data = np.zeros((Iterations, len(PHI), len(paras) + 2))\n",
    "    # 0_col => PHI\n",
    "    # Data[:, :, 0] = PHI\n",
    "    # Data[:][:,0] = PHI\n",
    "    \n",
    "    Data[:, :, 0] = PHI.squeeze()\n",
    "    \n",
    "    \n",
    "    return Data\n",
    "\n",
    "\n",
    "# == Fixed to gamma_ps = 0.8 ==\n",
    "# == Sweep for 0 ~ pi*3 == \n",
    "Sweep_data = np.array([1e-3, np.pi * 3 + 1e-3, 1e-1])\n",
    "Para_init = np.array([1, 1, 1, 1e-1, 1e-1, 1e-1])\n",
    "Gamma_ps_preset = 0.8\n",
    "Iterations_set = 2\n",
    "\n",
    "Optimized_Result = SLSQP(Sweep_data, Para_init, Gamma_ps_preset, Iterations_set)\n",
    "\n",
    "Optimized_Result[1][:, 0].reshape(-1,1)"
   ]
  },
  {
   "cell_type": "code",
   "execution_count": 146,
   "metadata": {},
   "outputs": [
    {
     "data": {
      "text/plain": [
       "array([[1.000e-03],\n",
       "       [1.010e-01],\n",
       "       [2.010e-01],\n",
       "       [3.010e-01],\n",
       "       [4.010e-01],\n",
       "       [5.010e-01],\n",
       "       [6.010e-01],\n",
       "       [7.010e-01],\n",
       "       [8.010e-01],\n",
       "       [9.010e-01],\n",
       "       [1.001e+00],\n",
       "       [1.101e+00],\n",
       "       [1.201e+00],\n",
       "       [1.301e+00],\n",
       "       [1.401e+00],\n",
       "       [1.501e+00],\n",
       "       [1.601e+00],\n",
       "       [1.701e+00],\n",
       "       [1.801e+00],\n",
       "       [1.901e+00],\n",
       "       [2.001e+00],\n",
       "       [2.101e+00],\n",
       "       [2.201e+00],\n",
       "       [2.301e+00],\n",
       "       [2.401e+00],\n",
       "       [2.501e+00],\n",
       "       [2.601e+00],\n",
       "       [2.701e+00],\n",
       "       [2.801e+00],\n",
       "       [2.901e+00],\n",
       "       [3.001e+00],\n",
       "       [3.101e+00],\n",
       "       [3.201e+00],\n",
       "       [3.301e+00],\n",
       "       [3.401e+00],\n",
       "       [3.501e+00],\n",
       "       [3.601e+00],\n",
       "       [3.701e+00],\n",
       "       [3.801e+00],\n",
       "       [3.901e+00],\n",
       "       [4.001e+00],\n",
       "       [4.101e+00],\n",
       "       [4.201e+00],\n",
       "       [4.301e+00],\n",
       "       [4.401e+00],\n",
       "       [4.501e+00],\n",
       "       [4.601e+00],\n",
       "       [4.701e+00],\n",
       "       [4.801e+00],\n",
       "       [4.901e+00],\n",
       "       [5.001e+00],\n",
       "       [5.101e+00],\n",
       "       [5.201e+00],\n",
       "       [5.301e+00],\n",
       "       [5.401e+00],\n",
       "       [5.501e+00],\n",
       "       [5.601e+00],\n",
       "       [5.701e+00],\n",
       "       [5.801e+00],\n",
       "       [5.901e+00],\n",
       "       [6.001e+00],\n",
       "       [6.101e+00],\n",
       "       [6.201e+00],\n",
       "       [6.301e+00],\n",
       "       [6.401e+00],\n",
       "       [6.501e+00],\n",
       "       [6.601e+00],\n",
       "       [6.701e+00],\n",
       "       [6.801e+00],\n",
       "       [6.901e+00],\n",
       "       [7.001e+00],\n",
       "       [7.101e+00],\n",
       "       [7.201e+00],\n",
       "       [7.301e+00],\n",
       "       [7.401e+00],\n",
       "       [7.501e+00],\n",
       "       [7.601e+00],\n",
       "       [7.701e+00],\n",
       "       [7.801e+00],\n",
       "       [7.901e+00],\n",
       "       [8.001e+00],\n",
       "       [8.101e+00],\n",
       "       [8.201e+00],\n",
       "       [8.301e+00],\n",
       "       [8.401e+00],\n",
       "       [8.501e+00],\n",
       "       [8.601e+00],\n",
       "       [8.701e+00],\n",
       "       [8.801e+00],\n",
       "       [8.901e+00],\n",
       "       [9.001e+00],\n",
       "       [9.101e+00],\n",
       "       [9.201e+00],\n",
       "       [9.301e+00],\n",
       "       [9.401e+00]])"
      ]
     },
     "execution_count": 146,
     "metadata": {},
     "output_type": "execute_result"
    }
   ],
   "source": [
    "PHI = np.arange(1e-3, np.pi * 3 + 1e-3, 1e-1).reshape(-1, 1)\n",
    "\n",
    "PHI"
   ]
  },
  {
   "cell_type": "code",
   "execution_count": 148,
   "metadata": {},
   "outputs": [],
   "source": [
    "paras = np.array([1,1,1,1,1,1])\n"
   ]
  }
 ],
 "metadata": {
  "kernelspec": {
   "display_name": "Python 3",
   "language": "python",
   "name": "python3"
  },
  "language_info": {
   "codemirror_mode": {
    "name": "ipython",
    "version": 3
   },
   "file_extension": ".py",
   "mimetype": "text/x-python",
   "name": "python",
   "nbconvert_exporter": "python",
   "pygments_lexer": "ipython3",
   "version": "3.11.4"
  },
  "orig_nbformat": 4
 },
 "nbformat": 4,
 "nbformat_minor": 2
}
