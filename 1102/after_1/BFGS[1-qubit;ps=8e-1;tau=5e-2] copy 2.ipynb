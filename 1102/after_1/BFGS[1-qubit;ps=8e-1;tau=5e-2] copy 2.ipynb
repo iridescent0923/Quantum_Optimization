{
 "cells": [
  {
   "cell_type": "markdown",
   "metadata": {},
   "source": [
    "init value 중간에 놔줘"
   ]
  },
  {
   "cell_type": "code",
   "execution_count": 1,
   "metadata": {},
   "outputs": [],
   "source": [
    "# ==============================\n",
    "# Standard Library Imports\n",
    "# ==============================\n",
    "from enum import Enum\n",
    "import random\n",
    "\n",
    "# ==============================\n",
    "# Third-party Library Imports\n",
    "# ==============================\n",
    "import matplotlib.pyplot as plt\n",
    "from IPython.display import display, Latex\n",
    "from matplotlib.ticker import MultipleLocator\n",
    "import numpy as np_  # Original numpy\n",
    "import pennylane as qml\n",
    "import scipy as sp\n",
    "from autograd import grad, jacobian\n",
    "\n",
    "# Pennylane numpy\n",
    "from pennylane import numpy as np "
   ]
  },
  {
   "cell_type": "code",
   "execution_count": 2,
   "metadata": {},
   "outputs": [],
   "source": [
    "# ==============================\n",
    "# Setup for Quantum Computations\n",
    "# ==============================\n",
    "\n",
    "# PennyLane settings\n",
    "dev = qml.device('default.mixed', wires=1)\n",
    "\n",
    "# Define Hamiltonian for quantum computations\n",
    "coeffs = [-0.5]\n",
    "obs = [qml.PauliZ(0)]\n",
    "hamiltonian = qml.Hamiltonian(coeffs, obs)"
   ]
  },
  {
   "cell_type": "code",
   "execution_count": 3,
   "metadata": {},
   "outputs": [],
   "source": [
    "# Global Parameters\n",
    "Tau_global = 5e-2   # Dephase tau\n",
    "Paras_global = np.zeros(2)\n",
    "Phi_global = 0\n",
    "Gamma_ps = 0\n",
    "\n",
    "def Dephase_factor(tau):\n",
    "    \"\"\"\n",
    "    Calculate the dephasing factor (gamma) based on the provided tau value.\n",
    "\n",
    "    Args:\n",
    "        tau (float): Dephasing time constant.\n",
    "\n",
    "    Returns:\n",
    "        float: Calculated dephasing factor (gamma).\n",
    "    \"\"\"\n",
    "    return 1 - np.exp(-2 * tau)"
   ]
  },
  {
   "cell_type": "markdown",
   "metadata": {},
   "source": [
    "$$\n",
    "\\rho_{After_Hadamard} = \n",
    "\n",
    "\\frac{1}{2} \n",
    "\n",
    "\\begin{bmatrix}\n",
    "\n",
    "1 & e^{(i\\phi - \\tau)} \\\\\n",
    "e^{(-i\\phi - \\tau)} & 1\n",
    "\n",
    "\\end{bmatrix}\n",
    "\n",
    "=\n",
    "\n",
    "\\frac{1}{2} \n",
    "\n",
    "\\begin{bmatrix}\n",
    "\n",
    "1 & e^{i\\phi} \\sqrt{1 - \\gamma} \\\\\n",
    "e^{-i\\phi} \\sqrt{1 - \\gamma} & 1\n",
    "\n",
    "\\end{bmatrix}$$\n",
    "\n",
    "$$\n",
    "\n",
    "where,\n",
    "\\quad \\gamma = \n",
    "1 - e^{-2 \\tau}\n",
    "$$\n",
    "\n",
    "$$ \n",
    "e^{-t} = \\sqrt{1 - \\gamma}\n",
    "$$"
   ]
  },
  {
   "cell_type": "code",
   "execution_count": 4,
   "metadata": {},
   "outputs": [
    {
     "data": {
      "image/png": "[encoded data removed]",
      "text/plain": [
       "<Figure size 800x200 with 1 Axes>"
      ]
     },
     "metadata": {},
     "output_type": "display_data"
    }
   ],
   "source": [
    "@qml.qnode(dev)\n",
    "def circuit(paras):\n",
    "    global Phi_global, Tau_global\n",
    "    phi = Phi_global\n",
    "    \n",
    "    # Set dephase factor \n",
    "    gamma_dephase_in = Dephase_factor(Tau_global)  \n",
    "\n",
    "    theta_x, phi_z = paras\n",
    "\n",
    "    qml.RX(np.pi/2, wires = 0)\n",
    "    # qml.Hadamard(wires=0)\n",
    "\n",
    "    qml.ApproxTimeEvolution(hamiltonian, phi, 1)\n",
    "    qml.PhaseDamping(gamma_dephase_in, wires = 0)\n",
    "\n",
    "    qml.RZ(phi_z, wires = 0)  # phi_z\n",
    "    \n",
    "    qml.RX(theta_x, wires = 0)  # theta_x\n",
    "    \n",
    "    return qml.density_matrix(wires = 0)\n",
    "\n",
    "\n",
    "@qml.qnode(dev)\n",
    "def Post_selection_Dephase(phi):\n",
    "    \"\"\" Take qnode from circuit_1 and calculate decoherence using kraus operator.\n",
    "    \n",
    "    Args:\n",
    "        phi (float): Phi for Time-approximation. Pass by global variables:'Phi_global'\n",
    "\n",
    "    Returns:\n",
    "        qml.density_matrix: Density matrix of full qnode\n",
    "    \"\"\"\n",
    "    \n",
    "    global Paras_global, Phi_global, Gamma_ps\n",
    "    Phi_global = phi\n",
    "    \n",
    "    # Get density matrix from circuit_1\n",
    "    density_matrix = circuit(Paras_global)\n",
    "    qml.QubitDensityMatrix(density_matrix, wires = 0)\n",
    "    \n",
    "    # Kraus operator for 2*2 matrix\n",
    "    K = np.array([\n",
    "        [np.sqrt(1 - Gamma_ps), 0],\n",
    "        [0, 1]\n",
    "    ])\n",
    "    \n",
    "    Numerator = K @ density_matrix @ K.conj().T\n",
    "    Denominator = np.trace(Numerator)\n",
    "    \n",
    "    rho_ps = Numerator / Denominator\n",
    "    \n",
    "    qml.QubitDensityMatrix(rho_ps, wires = 0)\n",
    "    \n",
    "    return qml.density_matrix(wires = 0) \n",
    "\n",
    "paras_plot = 1,1\n",
    "fig, ax = qml.draw_mpl(circuit)(paras_plot)"
   ]
  },
  {
   "cell_type": "code",
   "execution_count": 5,
   "metadata": {},
   "outputs": [],
   "source": [
    "def Cost_function(paras):\n",
    "    \"\"\" Calculate Classical-Fisher-Information for qnode(=Post_selection_Dephase).\n",
    "    \n",
    "    Args:\n",
    "        paras (Numpy array): [theta_init, tau_1, tau_2, tau_d1, tau_d2, tau_d3]\n",
    "\n",
    "    Returns:\n",
    "        _type_: CFI with minus(-) sign.\n",
    "    \"\"\"\n",
    "    \n",
    "    global Paras_global, Phi_global\n",
    "    Paras_global, phi = paras, np.array([Phi_global])\n",
    "          \n",
    "    CFI = qml.qinfo.classical_fisher(Post_selection_Dephase)(phi[0])\n",
    "    \n",
    "    return -CFI"
   ]
  },
  {
   "cell_type": "code",
   "execution_count": 6,
   "metadata": {},
   "outputs": [],
   "source": [
    "gradient = grad(Cost_function)\n",
    "hessian = jacobian(gradient)"
   ]
  },
  {
   "cell_type": "code",
   "execution_count": 7,
   "metadata": {},
   "outputs": [],
   "source": [
    "class DataIndex(Enum):\n",
    "    BEFORE = 0\n",
    "    PHI = 0\n",
    "    CFI = 1\n",
    "    PARAS = 2\n",
    "    THETA_X = 2\n",
    "    PHI_Z = 3\n",
    "\n",
    "# == BFGS -> Return Data_set:[phi, CFI, 6-Paras] ==\n",
    "def BFGS(sweep_data, initial_parameters, gamma_ps, iterations):\n",
    "    \"\"\" \n",
    "    Perform maximum optimization using the L-BFGS-B algorithm.\n",
    "\n",
    "    Args:\n",
    "        sweep_data (tuple): (start, end, step) values for the sweep.\n",
    "        initial_parameters (numpy_array): Array of parameters for the qnode.\n",
    "        gamma_ps (int): The Gamma value for post-selection.\n",
    "        iterations (int): Number of iterations for the optimization.\n",
    "\n",
    "    Returns:\n",
    "        Numpy array: 3-Dimension Data array containing phi, CFI, and optimized parameters.\n",
    "    \"\"\"\n",
    "    \n",
    "    # Create Data array\n",
    "    PHI = np_.arange(sweep_data[0], sweep_data[1], sweep_data[2])\n",
    "    Data = np_.zeros((iterations + 1, len(PHI), len(initial_parameters) + 2)) \n",
    "    Data[:, :, DataIndex.PHI.value] = PHI.squeeze() # Append PHI in to 0th col\n",
    "    \n",
    "    # Set global variables\n",
    "    global Gamma_ps, Phi_global, Paras_global\n",
    "    Gamma_ps = gamma_ps \n",
    "    \n",
    "    # Declare Paras temp \n",
    "    Paras_Temporary = 0\n",
    "    \n",
    "    # Store initial CFI data and parameters\n",
    "    for idx, phi in enumerate(PHI):\n",
    "        Data[DataIndex.BEFORE.value][idx][DataIndex.CFI.value] = -Cost_function(initial_parameters)\n",
    "        Data[DataIndex.BEFORE.value][idx][DataIndex.PARAS.value:] = initial_parameters\n",
    "        \n",
    "    # Optimize begin\n",
    "    for iteration in range(1, iterations + 1):\n",
    "        for phi_idx, phi_current in enumerate(PHI):\n",
    "            # Determine initial parameters based on the iteration\n",
    "            if iteration == 1:\n",
    "                Paras_Temporary = initial_parameters\n",
    "                \n",
    "            else:\n",
    "                Paras_Temporary = Data[iteration][phi_idx][DataIndex.PARAS.value:]\n",
    "            \n",
    "            # Update the global Phi value\n",
    "            Phi_global = phi_current\n",
    "            \n",
    "            # Determine constraints\n",
    "            Constraints = get_constraints(phi_current, gamma_ps)\n",
    "                \n",
    "            # Optimize the data\n",
    "            N = int(phi_current / 2*np.pi) * 2*np.pi\n",
    "            slope = 1\n",
    "            preset = 2.67, 1.09\n",
    "            if Gamma_ps == 8e-1:\n",
    "                if phi_current <= (1.581 + 0.2) + N:\n",
    "                    Paras_Temporary = np.array([np.pi/2, -0.9])\n",
    "\n",
    "            Paras_global = Paras_Temporary\n",
    "            Result_BFGS = sp.optimize.minimize(\n",
    "                fun = Cost_function, \n",
    "                x0 = Paras_Temporary, \n",
    "                jac = gradient,\n",
    "                hess = hessian,\n",
    "                method = 'L-BFGS-B', \n",
    "                bounds = Constraints,\n",
    "                \n",
    "                tol = 1e-20,\n",
    "                options={\n",
    "                    # 'ftol': 1e-20, \n",
    "                    'gtol': 1e-20\n",
    "                }\n",
    "            )\n",
    "            Data[iteration][phi_idx][DataIndex.CFI.value] = -Result_BFGS.fun\n",
    "            Data[iteration][phi_idx][DataIndex.PARAS.value:] = Result_BFGS.x\n",
    "            \n",
    "    return Data\n",
    "    \n",
    "    \n",
    "def get_constraints(phi_current, gamma_ps):\n",
    "    N = int(phi_current / 2*np.pi) * 2*np.pi\n",
    "    slope = 1\n",
    "    preset = np.array([2.67, -1.09, 1.1])\n",
    "    offset = 4e-1\n",
    "    \n",
    "    if Gamma_ps == 8e-1:\n",
    "        if Tau_global == 0:\n",
    "            return [(-float('inf'), float('inf'))] * 2\n",
    "        \n",
    "        # Dynamic constraints for tau = 5e-2\n",
    "        elif Tau_global == 5e-2:\n",
    "            if phi_current <= 4 + N:   # pi/2 + N\n",
    "                return [\n",
    "                    # Constraints for theta_X\n",
    "                    (np.pi/2 , np.pi/2), \n",
    "                    \n",
    "                    # Constraints for phi_z\n",
    "                    (-1.2, np.pi/2)\n",
    "                    # (-float('inf'), float('inf'))\n",
    "                ]\n",
    "                \n",
    "            else:\n",
    "                return [(-float('inf'), float('inf'))] * 2\n",
    "        \n",
    "        elif 1 <= Tau_global <= 4:\n",
    "            return [(-5e-1, np.pi + 15e-1)] * 2"
   ]
  },
  {
   "cell_type": "code",
   "execution_count": 8,
   "metadata": {},
   "outputs": [
    {
     "name": "stderr",
     "output_type": "stream",
     "text": [
      "/Library/Frameworks/Python.framework/Versions/3.11/lib/python3.11/site-packages/scipy/optimize/_minimize.py:565: RuntimeWarning: Method L-BFGS-B does not use Hessian information (hess).\n",
      "  warn('Method %s does not use Hessian information (hess).' % method,\n"
     ]
    },
    {
     "data": {
      "text/plain": [
       "<matplotlib.legend.Legend at 0x16d5c0a50>"
      ]
     },
     "execution_count": 8,
     "metadata": {},
     "output_type": "execute_result"
    },
    {
     "data": {
      "image/png": "[encoded data removed]",
      "text/plain": [
       "<Figure size 640x480 with 1 Axes>"
      ]
     },
     "metadata": {},
     "output_type": "display_data"
    }
   ],
   "source": [
    "tau_plot = 5e-2,\n",
    "\n",
    "Sweep_data = np_.array([1.581, 4,  1e-2])  #1e-2 ~ (4pi + 1e-2)\n",
    "Sweep_data_arange = np_.arange(Sweep_data[0], Sweep_data[1], Sweep_data[2])\n",
    "\n",
    "Para_store = np.zeros((len(tau_plot), len(Sweep_data_arange), 2))\n",
    "\n",
    "for idx,tau_current in enumerate(tau_plot):\n",
    "    Tau_global = tau_current\n",
    "    \n",
    "    Paras_init = np.zeros(2)\n",
    "    Paras_init[:2] = (1.1*np.pi)/2    # 1.1pi/2\n",
    "    # Paras_init = np.array([np.pi/2, 2.67])\n",
    "\n",
    "    Gamma_ps_preset = 8e-1\n",
    "    Set_Iterations = 1\n",
    "\n",
    "    Optimized_Result = BFGS(Sweep_data, Paras_init, Gamma_ps_preset, Set_Iterations)\n",
    "    \n",
    "    Para_store[idx][:, 0] = Optimized_Result[Set_Iterations][:,DataIndex.THETA_X.value]\n",
    "    Para_store[idx][:, 1] = Optimized_Result[Set_Iterations][:,DataIndex.PHI_Z.value]\n",
    "\n",
    "    plt.plot(Sweep_data_arange, Optimized_Result[1][:, DataIndex.CFI.value], label = f'$\\\\tau$ = {tau_current}')\n",
    "\n",
    "plt.title(f'[1-qubit] After TRUST at $\\gamma_{{ps}} = {Gamma_ps_preset}$')\n",
    "plt.xlabel('Time')\n",
    "plt.ylabel('CFI')\n",
    "plt.grid()\n",
    "plt.legend()"
   ]
  },
  {
   "cell_type": "code",
   "execution_count": 9,
   "metadata": {},
   "outputs": [
    {
     "data": {
      "image/png": "[encoded data removed]",
      "text/plain": [
       "<Figure size 640x480 with 1 Axes>"
      ]
     },
     "metadata": {},
     "output_type": "display_data"
    }
   ],
   "source": [
    "for idx, tau in enumerate(tau_plot):\n",
    "    # if idx, tau != 4:\n",
    "        plt.plot(Sweep_data_arange, Para_store[idx][:, 1], label = f'$\\\\tau$ = {tau}')\n",
    "\n",
    "# Set the yticks to be at -2π, -π, 0, π, and 2π\n",
    "plt.yticks([-np.pi/2, 0, np.pi/2, np.pi, (3*np.pi)/2, 4*np.pi/2, 5*np.pi/2], ['$-\\pi/2$', '0', '$\\pi/2$', '$\\pi$', '$3\\pi/2$', '$2\\pi$', '$5\\pi/2$'])\n",
    "# plt.ylim(-np.pi, 3*np.pi/2)\n",
    "\n",
    "plt.title(f'Optimized $\\\\phi_{{z}}$')\n",
    "plt.xlabel('Time')\n",
    "plt.ylabel('Rad')\n",
    "plt.grid()\n",
    "plt.legend()\n",
    "\n",
    "plt.show()"
   ]
  },
  {
   "cell_type": "code",
   "execution_count": 10,
   "metadata": {},
   "outputs": [
    {
     "data": {
      "text/plain": [
       "(array([], dtype=int64),)"
      ]
     },
     "execution_count": 10,
     "metadata": {},
     "output_type": "execute_result"
    }
   ],
   "source": [
    "# indices = np_.where(Para_store[1][:, 1] <= 2e-1)\n",
    "indices = np_.where((1.3*np.pi <= Para_store[0][:, 1]) & (Para_store[0][:, 1] <= 1.5*np.pi))\n",
    "\n",
    "indices"
   ]
  },
  {
   "cell_type": "code",
   "execution_count": 11,
   "metadata": {},
   "outputs": [],
   "source": [
    "# Para_store[0][173+314, 1]\n",
    "# Para_store[0][158+316, 1]\n",
    "\n",
    "# 4.24006637 / np.pi"
   ]
  },
  {
   "cell_type": "code",
   "execution_count": 12,
   "metadata": {},
   "outputs": [
    {
     "data": {
      "image/png": "[encoded data removed]",
      "text/plain": [
       "<Figure size 640x480 with 1 Axes>"
      ]
     },
     "metadata": {},
     "output_type": "display_data"
    }
   ],
   "source": [
    "slice = int(len(Sweep_data_arange) / 1)\n",
    "\n",
    "tau_order = 0,\n",
    "\n",
    "for idx, tau in enumerate(tau_order):\n",
    "    plt.plot(Sweep_data_arange[:slice], Para_store[tau][:slice, 1], label = f'$\\\\tau$ = {tau_plot[tau]}')\n",
    "\n",
    "# Set the yticks to be at -2π, -π, 0, π, and 2π\n",
    "plt.yticks([-np.pi, -np.pi/2, 0, np.pi/2, np.pi, (3*np.pi)/2, 2*np.pi], ['$-\\pi$', '$-\\pi/2$', '0', '$\\pi/2$', '$\\pi$', '$3\\pi/2$', '$2\\pi$'])\n",
    "plt.ylim(-2*np.pi, 2*np.pi)\n",
    "\n",
    "plt.title(f'Optimized $\\\\phi_{{z}}$')\n",
    "plt.xlabel('Time')\n",
    "plt.ylabel('Rad')\n",
    "plt.grid()\n",
    "plt.legend()\n",
    "\n",
    "plt.show()"
   ]
  },
  {
   "cell_type": "code",
   "execution_count": 13,
   "metadata": {},
   "outputs": [
    {
     "data": {
      "text/plain": [
       "tensor(-1.08906637, requires_grad=True)"
      ]
     },
     "execution_count": 13,
     "metadata": {},
     "output_type": "execute_result"
    }
   ],
   "source": [
    "Para_store[0][0, 1]"
   ]
  },
  {
   "cell_type": "code",
   "execution_count": 14,
   "metadata": {},
   "outputs": [
    {
     "data": {
      "text/plain": [
       "(array([], dtype=int64),)"
      ]
     },
     "execution_count": 14,
     "metadata": {},
     "output_type": "execute_result"
    }
   ],
   "source": [
    "# indices = np_.where(Para_store[1][:, 1] <= 2e-1)\n",
    "indices = np_.where(Para_store[0][:, 1] > 2*np.pi)\n",
    "\n",
    "indices"
   ]
  },
  {
   "cell_type": "code",
   "execution_count": 15,
   "metadata": {},
   "outputs": [
    {
     "data": {
      "image/png": "[encoded data removed]",
      "text/plain": [
       "<Figure size 640x480 with 1 Axes>"
      ]
     },
     "metadata": {},
     "output_type": "display_data"
    }
   ],
   "source": [
    "for idx, tau in enumerate(tau_plot):\n",
    "    plt.plot(Sweep_data_arange, Para_store[idx][:, 0], label = f'$\\\\tau$ = {tau}')\n",
    "\n",
    "# Set the yticks to be at π/4, π/2, and 3π/4\n",
    "plt.yticks([np.pi/4, np.pi/2, 3*np.pi/4], ['$\\pi/4$', '$\\pi/2$', '$3\\pi/4$'])\n",
    "\n",
    "plt.title(f'Optimized $\\\\theta_{{x}}$')\n",
    "plt.xlabel('Time')\n",
    "plt.ylabel('Rad')\n",
    "plt.grid()\n",
    "plt.legend()\n",
    "\n",
    "plt.show()"
   ]
  }
 ],
 "metadata": {
  "kernelspec": {
   "display_name": "Python 3",
   "language": "python",
   "name": "python3"
  },
  "language_info": {
   "codemirror_mode": {
    "name": "ipython",
    "version": 3
   },
   "file_extension": ".py",
   "mimetype": "text/x-python",
   "name": "python",
   "nbconvert_exporter": "python",
   "pygments_lexer": "ipython3",
   "version": "3.11.4"
  }
 },
 "nbformat": 4,
 "nbformat_minor": 2
}
