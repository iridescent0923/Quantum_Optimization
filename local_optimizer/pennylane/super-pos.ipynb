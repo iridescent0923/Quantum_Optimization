{
 "cells": [
  {
   "cell_type": "code",
   "execution_count": 1,
   "metadata": {},
   "outputs": [],
   "source": [
    "# ==============================\n",
    "# Standard Library Imports\n",
    "# ==============================\n",
    "from enum import Enum\n",
    "import random\n",
    "\n",
    "# ==============================\n",
    "# Third-party Library Imports\n",
    "# ==============================\n",
    "import numpy as np  # Original numpy\n",
    "import pennylane as qml\n",
    "import scipy as sp\n",
    "\n",
    "# Pennylane numpy\n",
    "from pennylane import numpy as pnp "
   ]
  },
  {
   "cell_type": "code",
   "execution_count": 2,
   "metadata": {},
   "outputs": [],
   "source": [
    "# ==============================\n",
    "# Setup for Quantum Computations\n",
    "# ==============================\n",
    "\n",
    "# PennyLane settings\n",
    "dev = qml.device('default.mixed', wires=1)"
   ]
  },
  {
   "cell_type": "code",
   "execution_count": 3,
   "metadata": {},
   "outputs": [],
   "source": [
    "# ==============================\n",
    "# Global Variables\n",
    "# ==============================\n",
    "NUM_EVO = 0"
   ]
  },
  {
   "cell_type": "code",
   "execution_count": 4,
   "metadata": {},
   "outputs": [],
   "source": [
    "def hamiltonian(coeff_x, coeff_y):\n",
    "    coeffs = [coeff_x, coeff_y, 1]\n",
    "    rot = [qml.PauliX(0), qml.PauliY(0), qml.PauliZ(0)]\n",
    "    \n",
    "    return qml.Hamiltonian(coeffs = coeffs, observables = rot)"
   ]
  },
  {
   "cell_type": "markdown",
   "metadata": {},
   "source": [
    "$$\n",
    "H = \n",
    "coeff_{x} \\cdot(X_0) + coeff_{y} \\cdot(Y_0) + 1 \\cdot(Z_0)\n",
    "$$"
   ]
  },
  {
   "cell_type": "code",
   "execution_count": 5,
   "metadata": {},
   "outputs": [],
   "source": [
    "@qml.qnode(dev)\n",
    "def circuit(paras):\n",
    "    global NUM_EVO\n",
    "    for evo_idx in range(NUM_EVO):\n",
    "        coeff_x = paras[0 + evo_idx * 3]\n",
    "        coeff_y = paras[1 + evo_idx * 3]\n",
    "        get_hamiltonian = hamiltonian(coeff_x, coeff_y)\n",
    "        \n",
    "        qml.ApproxTimeEvolution(get_hamiltonian, paras[2 + evo_idx * 3], 1)\n",
    "    \n",
    "    return qml.density_matrix(wires=0)"
   ]
  },
  {
   "cell_type": "code",
   "execution_count": 6,
   "metadata": {},
   "outputs": [],
   "source": [
    "@qml.qnode(dev)\n",
    "def hadamard_test():\n",
    "    qml.Hadamard(wires=0)\n",
    "    \n",
    "    return qml.density_matrix(wires=0)"
   ]
  },
  {
   "cell_type": "code",
   "execution_count": 7,
   "metadata": {},
   "outputs": [],
   "source": [
    "def fidelity(rho_1, rho_2):\n",
    "    stage_1 = sp.linalg.sqrtm(\n",
    "        sp.linalg.sqrtm(rho_1) @ rho_2 @ sp.linalg.sqrtm(rho_1)\n",
    "    )\n",
    "    \n",
    "    return np.trace(stage_1)"
   ]
  },
  {
   "cell_type": "code",
   "execution_count": 8,
   "metadata": {},
   "outputs": [],
   "source": [
    "def cost_function(paras):\n",
    "    rho_1 = circuit(paras)\n",
    "    rho_2 = hadamard_test().numpy()\n",
    "    \n",
    "    cal_fidelity = fidelity(rho_1, rho_2).real\n",
    "    \n",
    "    return -cal_fidelity"
   ]
  },
  {
   "cell_type": "code",
   "execution_count": 9,
   "metadata": {},
   "outputs": [],
   "source": [
    "def get_prev_sequence_len():\n",
    "    # gets a sequence obtained from a*\n",
    "    example_sequence = np.zeros(4)\n",
    "    \n",
    "    return len(example_sequence)"
   ]
  },
  {
   "cell_type": "code",
   "execution_count": 10,
   "metadata": {},
   "outputs": [],
   "source": [
    "NUM_EVO = get_prev_sequence_len()   # set number of time-evo\n",
    "initial_paras = (1,2,3) * NUM_EVO # coeff_x, coeff_y, dt\n",
    "\n",
    "constraints = [\n",
    "    # coeff_x\n",
    "    (-float('inf'), float('inf')),\n",
    "    # coeff_y\n",
    "    (-float('inf'), float('inf')),\n",
    "    # dt\n",
    "    (-float('inf'), float('inf')),\n",
    "] * NUM_EVO\n",
    "\n",
    "result = sp.optimize.minimize(\n",
    "    fun = cost_function, \n",
    "    x0 = initial_paras,\n",
    "    method = 'L-BFGS-B',\n",
    "    bounds = constraints,\n",
    "    tol = 1e-12,\n",
    "    options={\n",
    "        'ftol': 1e-12, \n",
    "        'gtol': 1e-12\n",
    "        }\n",
    "    )"
   ]
  },
  {
   "cell_type": "code",
   "execution_count": 11,
   "metadata": {},
   "outputs": [],
   "source": [
    "def print_result(result):\n",
    "    global NUM_EVO\n",
    "    print(\"Optimized_fidelity =\", f\"{-result.fun:.4f}\",'\\n')\n",
    "\n",
    "    for i in range(NUM_EVO):\n",
    "        print(f\"num_evo: {i+1}\")\n",
    "        print(f\"[coeff_x, coeff_y, dt] = [{result.x[0 +i*3]:.4f}, {result.x[1 +i*3]:.4f}, {result.x[0 +i*3]:.4f}]\\n\")\n",
    "        # print(f\"[dt] = {result.x[0 +i*3]:.4f}\\n\")"
   ]
  },
  {
   "cell_type": "code",
   "execution_count": 12,
   "metadata": {},
   "outputs": [
    {
     "data": {
      "image/png": "[encoded data removed]",
      "text/plain": [
       "<Figure size 700x200 with 1 Axes>"
      ]
     },
     "metadata": {},
     "output_type": "display_data"
    }
   ],
   "source": [
    "null = (1,1,1) * NUM_EVO\n",
    "fig, ax = qml.draw_mpl(circuit)(null)"
   ]
  },
  {
   "cell_type": "code",
   "execution_count": 13,
   "metadata": {},
   "outputs": [
    {
     "name": "stdout",
     "output_type": "stream",
     "text": [
      "Optimized_fidelity = 0.9993 \n",
      "\n",
      "num_evo: 1\n",
      "[coeff_x, coeff_y, dt] = [0.9724, 1.9734, 0.9724]\n",
      "\n",
      "num_evo: 2\n",
      "[coeff_x, coeff_y, dt] = [0.9595, 1.9890, 0.9595]\n",
      "\n",
      "num_evo: 3\n",
      "[coeff_x, coeff_y, dt] = [0.9826, 1.9852, 0.9826]\n",
      "\n",
      "num_evo: 4\n",
      "[coeff_x, coeff_y, dt] = [0.9853, 1.9700, 0.9853]\n",
      "\n"
     ]
    }
   ],
   "source": [
    "print_result(result)"
   ]
  }
 ],
 "metadata": {
  "kernelspec": {
   "display_name": "Python 3",
   "language": "python",
   "name": "python3"
  },
  "language_info": {
   "codemirror_mode": {
    "name": "ipython",
    "version": 3
   },
   "file_extension": ".py",
   "mimetype": "text/x-python",
   "name": "python",
   "nbconvert_exporter": "python",
   "pygments_lexer": "ipython3",
   "version": "3.11.4"
  }
 },
 "nbformat": 4,
 "nbformat_minor": 2
}
