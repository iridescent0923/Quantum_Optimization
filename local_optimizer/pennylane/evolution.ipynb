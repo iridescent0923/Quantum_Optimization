{
 "cells": [
  {
   "cell_type": "code",
   "execution_count": 33,
   "metadata": {},
   "outputs": [],
   "source": [
    "# ==============================\n",
    "# Standard Library Imports\n",
    "# ==============================\n",
    "from enum import Enum\n",
    "import random\n",
    "\n",
    "# ==============================\n",
    "# Third-party Library Imports\n",
    "# ==============================\n",
    "import matplotlib.pyplot as plt\n",
    "from IPython.display import display, Latex\n",
    "from matplotlib.ticker import MultipleLocator\n",
    "import numpy as np  # Original numpy\n",
    "import pennylane as qml\n",
    "import scipy as sp\n",
    "from autograd import grad, jacobian\n",
    "\n",
    "# Pennylane numpy\n",
    "from pennylane import numpy as pnp "
   ]
  },
  {
   "cell_type": "code",
   "execution_count": 34,
   "metadata": {},
   "outputs": [],
   "source": [
    "# ==============================\n",
    "# Setup for Quantum Computations\n",
    "# ==============================\n",
    "\n",
    "# PennyLane settings\n",
    "dev = qml.device('default.mixed', wires=1)\n",
    "\n",
    "# Define Hamiltonian for quantum computations"
   ]
  },
  {
   "cell_type": "code",
   "execution_count": 35,
   "metadata": {},
   "outputs": [],
   "source": [
    "class INDEX(Enum):\n",
    "    OFF = 0\n",
    "    POSTIVE = 1\n",
    "    NEGATIVE = -1"
   ]
  },
  {
   "cell_type": "code",
   "execution_count": 36,
   "metadata": {},
   "outputs": [],
   "source": [
    "control_x = 0, 1, -1\n",
    "control_y = 0, 1, -1\n",
    "\n",
    "coeff_z = 1\n",
    "\n",
    "coeffs_1 = [\n",
    "    1 * control_x[0], \n",
    "    1 * control_y[0], \n",
    "    coeff_z\n",
    "]\n",
    "\n",
    "coeffs_2 = [\n",
    "    1 * control_x[0], \n",
    "    1 * control_y[0], \n",
    "    coeff_z\n",
    "]\n",
    "\n",
    "rot = [\n",
    "    qml.PauliX(0), \n",
    "    qml.PauliY(0), \n",
    "    qml.PauliZ(0)\n",
    "]\n",
    "\n",
    "hamiltonian_1 = qml.Hamiltonian(coeffs_1, rot)\n",
    "hamiltonian_2 = qml.Hamiltonian(coeffs_2, rot)\n",
    "\n",
    "hamiltonian_full = hamiltonian_1 + hamiltonian_2"
   ]
  },
  {
   "cell_type": "code",
   "execution_count": null,
   "metadata": {},
   "outputs": [],
   "source": [
    "def get_hamiltonian(x1, x2, y1, y2):\n",
    "    control_x = 0, 1, -1\n",
    "    control_y = 0, 1, -1\n",
    "\n",
    "    coeff_z = 1\n",
    "\n",
    "    coeffs_1 = [\n",
    "        1 * control_x[0], \n",
    "        1 * control_y[0], \n",
    "        coeff_z\n",
    "    ]\n",
    "\n",
    "    coeffs_2 = [\n",
    "        1 * control_x[0], \n",
    "        1 * control_y[0], \n",
    "        coeff_z\n",
    "    ]\n",
    "\n",
    "    rot = [\n",
    "        qml.PauliX(0), \n",
    "        qml.PauliY(0), \n",
    "        qml.PauliZ(0)\n",
    "    ]\n",
    "\n",
    "    hamiltonian_1 = qml.Hamiltonian(coeffs_1, rot)\n",
    "    hamiltonian_2 = qml.Hamiltonian(coeffs_2, rot)"
   ]
  },
  {
   "cell_type": "code",
   "execution_count": 37,
   "metadata": {},
   "outputs": [],
   "source": [
    "@qml.qnode(dev)\n",
    "def circuit(paras):\n",
    "    dt = 1\n",
    "    qml.ApproxTimeEvolution(hamiltonian_1, dt, 1)\n",
    "    qml.ApproxTimeEvolution(hamiltonian_2, dt, 1)\n",
    "    \n",
    "    return qml.density_matrix(wires=0)"
   ]
  },
  {
   "cell_type": "code",
   "execution_count": 38,
   "metadata": {},
   "outputs": [
    {
     "data": {
      "image/png": "[encoded data removed]",
      "text/plain": [
       "<Figure size 500x200 with 1 Axes>"
      ]
     },
     "metadata": {},
     "output_type": "display_data"
    }
   ],
   "source": [
    "fig, ax = qml.draw_mpl(circuit)(0)"
   ]
  },
  {
   "cell_type": "code",
   "execution_count": null,
   "metadata": {},
   "outputs": [],
   "source": [
    "def cost_function(parameters):\n",
    "    \n",
    "   "
   ]
  }
 ],
 "metadata": {
  "kernelspec": {
   "display_name": "Python 3",
   "language": "python",
   "name": "python3"
  },
  "language_info": {
   "codemirror_mode": {
    "name": "ipython",
    "version": 3
   },
   "file_extension": ".py",
   "mimetype": "text/x-python",
   "name": "python",
   "nbconvert_exporter": "python",
   "pygments_lexer": "ipython3",
   "version": "3.11.4"
  }
 },
 "nbformat": 4,
 "nbformat_minor": 2
}
