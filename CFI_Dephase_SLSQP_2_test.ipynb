{
 "cells": [
  {
   "cell_type": "code",
   "execution_count": 62,
   "metadata": {},
   "outputs": [],
   "source": [
    "import pennylane as qml\n",
    "from pennylane import numpy as np\n",
    "from IPython.display import display, Latex\n",
    "\n",
    "# from numba import jit\n",
    "\n",
    "# numpy \n",
    "import numpy as np_\n",
    "import scipy as sp\n",
    "\n",
    "import matplotlib.pyplot as plt\n",
    "\n",
    "# 2-qubit\n",
    "dev = qml.device('default.mixed', wires = 2)\n",
    "\n",
    "# == Hamiltonian setup == \n",
    "coeffs = [1]\n",
    "obs = [qml.PauliZ(0) @ qml.PauliZ(1)]\n",
    "\n",
    "hamiltonian = qml.Hamiltonian(coeffs, obs)"
   ]
  },
  {
   "cell_type": "code",
   "execution_count": 63,
   "metadata": {},
   "outputs": [],
   "source": [
    "# == Global paras ==\n",
    "Paras_global, Phi_global, Gamma_ps  = np_.zeros(6), 0, 0\n",
    "\n",
    "# Return one by one\n",
    "def Dephase_factor(tau):\n",
    "    Calculate_Dephase = 1 - np.exp(-2 * tau)\n",
    "    \n",
    "    return Calculate_Dephase"
   ]
  },
  {
   "cell_type": "markdown",
   "metadata": {},
   "source": [
    "$$\n",
    "\\rho_{After-Hadamard} = \n",
    "\n",
    "\\frac{1}{2} \n",
    "\n",
    "\\begin{bmatrix}\n",
    "\n",
    "1 & e^{(i\\phi - \\tau)} \\\\\n",
    "e^{(-i\\phi - \\tau)} & 1\n",
    "\n",
    "\\end{bmatrix}\n",
    "\n",
    "=\n",
    "\n",
    "\\frac{1}{2} \n",
    "\n",
    "\\begin{bmatrix}\n",
    "\n",
    "1 & e^{i\\phi} \\sqrt{1 - \\gamma} \\\\\n",
    "e^{-i\\phi} \\sqrt{1 - \\gamma} & 1\n",
    "\n",
    "\\end{bmatrix}$$\n",
    "\n",
    "$$\n",
    "\n",
    "where,\n",
    "\\quad \\gamma = \n",
    "1 - e^{-2 \\tau}\n",
    "$$"
   ]
  },
  {
   "cell_type": "markdown",
   "metadata": {},
   "source": [
    "\n",
    "$$ \n",
    "e^{-\\tau} = \\sqrt{1 - \\gamma}\n",
    "$$"
   ]
  },
  {
   "cell_type": "code",
   "execution_count": 64,
   "metadata": {},
   "outputs": [],
   "source": [
    "# == Generate circuit ==\n",
    "\n",
    "# circuit_1\n",
    "@qml.qnode(dev)\n",
    "def circuit_1(paras):\n",
    "    # Call global phi\n",
    "    global Phi_global\n",
    "    phi = Phi_global\n",
    "    \n",
    "    # Assign paras\n",
    "    theta_init, tau_1, tau_2 = paras[0], paras[1], paras[2]\n",
    "    \n",
    "    # Calculate dephase factor with given paras\n",
    "    gamma_dephase_in = np_.zeros(3)\n",
    "    for i in range(3):\n",
    "        gamma_dephase_in[i] = Dephase_factor(paras[i+3])\n",
    "        \n",
    "        \n",
    "    # Stage_1: RY for pi/2\n",
    "    qml.RY(np.pi/2, wires=0)\n",
    "    qml.RY(np.pi/2, wires=1)\n",
    "    \n",
    "    # Stage_2: Entangler    \n",
    "    qml.ApproxTimeEvolution(hamiltonian, tau_1, 1)\n",
    "    qml.PhaseDamping(gamma_dephase_in[0], wires = 0)\n",
    "    qml.PhaseDamping(gamma_dephase_in[0], wires = 1)\n",
    "    \n",
    "    qml.RX(theta_init, wires = 0)    \n",
    "    qml.RX(theta_init, wires = 1)    \n",
    "\n",
    "    qml.RY(-np.pi/2, wires = 0)    \n",
    "    qml.RY(-np.pi/2, wires = 1)   \n",
    "\n",
    "    qml.ApproxTimeEvolution(hamiltonian, tau_2, 1)\n",
    "    qml.PhaseDamping(gamma_dephase_in[1], wires = 0)\n",
    "    qml.PhaseDamping(gamma_dephase_in[1], wires = 1)\n",
    "\n",
    "    qml.RY(np.pi/2, wires = 0)    \n",
    "    qml.RY(np.pi/2, wires = 1) \n",
    "    \n",
    "    # Stage_3: Accumulater\n",
    "    qml.ApproxTimeEvolution(hamiltonian, phi, 1)\n",
    "    qml.PhaseDamping(gamma_dephase_in[2], wires = 0)\n",
    "    qml.PhaseDamping(gamma_dephase_in[2], wires = 1)\n",
    "    \n",
    "    qml.RY(-np.pi/2, wires=0)\n",
    "    qml.RY(-np.pi/2, wires=1)\n",
    "    \n",
    "    return qml.density_matrix(wires=[0, 1])\n",
    "\n",
    "\n",
    "# Circuit_2: Calculate decoherence by using [tau -> gamma_dephase_in] conversion\n",
    "@qml.qnode(dev)\n",
    "def Post_selection_Dephase(phi):\n",
    "    \n",
    "    # theta_init, tau_1, tau_2, gamma_1, gamma_2, gamma_3 = paras[0], paras[1], paras[2], paras[3], paras[4], paras[5]\n",
    "    global Paras_global, Phi_global, Gamma_ps\n",
    "    Phi_global = phi\n",
    "    \n",
    "    # Get density matrix from circuit_1\n",
    "    density_matrix = circuit_1(Paras_global)\n",
    "    qml.QubitDensityMatrix(density_matrix, wires=[0, 1])\n",
    "    \n",
    "    # Kraus operator for 2*2 matrix\n",
    "    K = np.array([ [np.sqrt(1 - Gamma_ps), 0], [0, 1] ])\n",
    "    K_H = K.conj().T\n",
    "    \n",
    "    Numerator = sp.linalg.kron(K, K) @ density_matrix @ sp.linalg.kron(K_H, K_H)\n",
    "    Denominator = np.trace(sp.linalg.kron(K, K) @ density_matrix @ sp.linalg.kron(K_H, K_H))\n",
    "    \n",
    "    rho_ps = Numerator / Denominator\n",
    "    \n",
    "    qml.QubitDensityMatrix(rho_ps, wires=[0, 1])\n",
    "    \n",
    "    return qml.density_matrix(wires=[0, 1])  "
   ]
  },
  {
   "cell_type": "markdown",
   "metadata": {},
   "source": [
    "$$ K =  \\begin{bmatrix}\n",
    "\\sqrt{1-\\gamma} & 0 \\\\\n",
    "0 & 1 \n",
    "\\end{bmatrix}  $$\n",
    "\n",
    "\n",
    "$$\n",
    "\\rho_{ps} = \n",
    "\\frac{(K \\otimes K) \\rho (K^{\\dagger} \\otimes K ^{\\dagger})}\n",
    "\n",
    "{Tr[(K \\otimes K) \\rho (K^{\\dagger} \\otimes K ^{\\dagger})]}\n",
    "$$"
   ]
  },
  {
   "cell_type": "markdown",
   "metadata": {},
   "source": [
    "![Alt text](image-1.png)"
   ]
  },
  {
   "cell_type": "code",
   "execution_count": 65,
   "metadata": {},
   "outputs": [],
   "source": [
    "# == Cost function ==\n",
    "def Cost_function(paras):\n",
    "    # expect: theta_init, tau_1, tau_2, tau_d1, tau_d2, tau_d3 = paras[0], paras[1], paras[2], paras[3], paras[4], paras[5]\n",
    "    global Paras_global, Phi_global\n",
    "    Paras_global, phi = paras, np.array([Phi_global])\n",
    "          \n",
    "    CFI = qml.qinfo.classical_fisher(Post_selection_Dephase)(phi[0])\n",
    "    \n",
    "    return -CFI"
   ]
  },
  {
   "cell_type": "code",
   "execution_count": 66,
   "metadata": {},
   "outputs": [
    {
     "name": "stdout",
     "output_type": "stream",
     "text": [
      "Gamma = 0.9999999999999998 , [ at tau = 18 ]\n"
     ]
    }
   ],
   "source": [
    "# == Check for maximum tau <-> gamma ==\n",
    "tau_test = 18\n",
    "\n",
    "print('Gamma =', Dephase_factor(tau_test), ', [ at tau =',tau_test,']' )"
   ]
  },
  {
   "cell_type": "code",
   "execution_count": 67,
   "metadata": {},
   "outputs": [],
   "source": [
    "# == SLSQP -> Return Data_set:[phi, CFI, 6-Paras] ==\n",
    "def SLSQP_test(Sweep_Data, paras, gamma_ps_select):\n",
    "    # Create Data array\n",
    "    PHI = np_.arange(Sweep_Data[0], Sweep_Data[1], Sweep_Data[2]).reshape(-1, 1)\n",
    "    \n",
    "    Data = np_.zeros((len(PHI), len(paras) + 1))\n",
    "    Data = np_.hstack((PHI, Data))\n",
    "    \n",
    "    # Set Data index\n",
    "    CFI_INDEX, PARAS_INDEX = 1, 2\n",
    "    \n",
    "    # Set global variables\n",
    "    global Gamma_ps, Phi_global, Paras_global\n",
    "    Gamma_ps = gamma_ps_select\n",
    "    \n",
    "    # Optimize begin\n",
    "    for i in range(len(PHI)):\n",
    "        # Assign global phi from Generated PHI array\n",
    "        Phi_global = Data[i][0]\n",
    "        \n",
    "        # Assign global paras for each phi\n",
    "        \n",
    "        # Set constraints for gamma_from_tau\n",
    "        tau_upper = 18\n",
    "        Constraints = [(-float('inf'), float('inf'))] * 3 + [(1e-100, tau_upper)] * 3\n",
    "        \n",
    "        Paras_global = paras \n",
    "        Result_SLSQP = sp.optimize.minimize(Cost_function, paras, method = 'SLSQP', bounds = Constraints)\n",
    "        Data[i][CFI_INDEX] = -Result_SLSQP.fun\n",
    "        \n",
    "        # Store data in array\n",
    "        for j in range(len(paras)):\n",
    "            Data[i][PARAS_INDEX + j] = Result_SLSQP.x[j]\n",
    "                \n",
    "    return Data"
   ]
  },
  {
   "cell_type": "code",
   "execution_count": 68,
   "metadata": {},
   "outputs": [
    {
     "name": "stderr",
     "output_type": "stream",
     "text": [
      "/Library/Frameworks/Python.framework/Versions/3.11/lib/python3.11/site-packages/scipy/optimize/_optimize.py:404: RuntimeWarning: Values in x were outside bounds during a minimize step, clipping to bounds\n",
      "  warnings.warn(\"Values in x were outside bounds during a \"\n"
     ]
    }
   ],
   "source": [
    "# == Fixed to gamma_ps = 0.8 ==\n",
    "# == Sweep for 0 ~ pi*3 == \n",
    "Sweep_data = np_.array([1e-3, np.pi /8 + 1e-3, 1e-1])\n",
    "# Para_init = np_.array([1, 1, 1, 1e-1, 1e-1, 1e-1])\n",
    "\n",
    "Para_init = np.array([-3.04130343e+01, -5.33930331e+01, 1.00062174e+00,  2.83292962e-02,  1.23605402e+00,  2.84133704e-02])\n",
    "       \n",
    "Gamma_ps_preset = 0.8\n",
    "\n",
    "Optimized_Result_test = SLSQP_test(Sweep_data, Para_init, Gamma_ps_preset)"
   ]
  },
  {
   "cell_type": "code",
   "execution_count": 69,
   "metadata": {},
   "outputs": [
    {
     "data": {
      "text/plain": [
       "array([ 3.01000000e-01,  5.64390898e+01, -3.46473823e+01, -5.36194129e+01,\n",
       "        1.00123868e+00,  2.39967032e-05,  2.58237192e-05,  2.39967285e-05])"
      ]
     },
     "execution_count": 69,
     "metadata": {},
     "output_type": "execute_result"
    }
   ],
   "source": [
    "Optimized_Result_test[3][:]"
   ]
  },
  {
   "cell_type": "markdown",
   "metadata": {},
   "source": [
    "Data = \n",
    "\n",
    "array([ [PHI_0, CFI_0, theta_0, tau_1, tau_2, tau_d1, tau_d2, tau_d3], \n",
    "\n",
    "..."
   ]
  },
  {
   "cell_type": "code",
   "execution_count": 70,
   "metadata": {},
   "outputs": [],
   "source": [
    "# == Fixed to gamma_ps = 0.8 ==\n",
    "# == Sweep for 0 ~ pi*3 == \n",
    "Sweep_data = np_.array([1e-3, np.pi /8 + 1e-3, 1e-1])\n",
    "# Para_init = np_.array([1, 1, 1, 1e-1, 1e-1, 1e-1])\n",
    "\n",
    "Para_init = np.array([-3.04130343e+01, -5.33930331e+01, 1.00062174e+00,  2.83292962e-02,  1.23605402e+00,  2.84133704e-02])\n",
    "       \n",
    "Gamma_ps_preset = 0.8\n",
    "\n",
    "Optimized_Result_test = SLSQP_test(Sweep_data, Para_init, Gamma_ps_preset)"
   ]
  },
  {
   "cell_type": "code",
   "execution_count": 71,
   "metadata": {},
   "outputs": [
    {
     "data": {
      "text/plain": [
       "array([ 3.01000000e-01,  5.64390898e+01, -3.46473823e+01, -5.36194129e+01,\n",
       "        1.00123868e+00,  2.39967032e-05,  2.58237192e-05,  2.39967285e-05])"
      ]
     },
     "execution_count": 71,
     "metadata": {},
     "output_type": "execute_result"
    }
   ],
   "source": [
    "Optimized_Result_test[3][:]"
   ]
  },
  {
   "cell_type": "code",
   "execution_count": 72,
   "metadata": {},
   "outputs": [
    {
     "ename": "IndexError",
     "evalue": "too many indices for array: array is 2-dimensional, but 3 were indexed",
     "output_type": "error",
     "traceback": [
      "\u001b[0;31m---------------------------------------------------------------------------\u001b[0m",
      "\u001b[0;31mIndexError\u001b[0m                                Traceback (most recent call last)",
      "\u001b[1;32m/Users/dongukkim/Desktop/Quantum_Workspace/CFI_Dephase_SLSQP_2_test.ipynb Cell 16\u001b[0m line \u001b[0;36m2\n\u001b[1;32m      <a href='vscode-notebook-cell:/Users/dongukkim/Desktop/Quantum_Workspace/CFI_Dephase_SLSQP_2_test.ipynb#X23sZmlsZQ%3D%3D?line=0'>1</a>\u001b[0m \u001b[39mfor\u001b[39;00m i \u001b[39min\u001b[39;00m \u001b[39mrange\u001b[39m(Iterations_set):\n\u001b[0;32m----> <a href='vscode-notebook-cell:/Users/dongukkim/Desktop/Quantum_Workspace/CFI_Dephase_SLSQP_2_test.ipynb#X23sZmlsZQ%3D%3D?line=1'>2</a>\u001b[0m     plt\u001b[39m.\u001b[39mplot(Optimized_Result_test[\u001b[39m0\u001b[39;49m, :, \u001b[39m0\u001b[39;49m], Optimized_Result_test[i, :, \u001b[39m1\u001b[39m], label \u001b[39m=\u001b[39m \u001b[39mf\u001b[39m\u001b[39m'\u001b[39m\u001b[39mIterations = \u001b[39m\u001b[39m{\u001b[39;00mi\u001b[39m}\u001b[39;00m\u001b[39m'\u001b[39m)\n\u001b[1;32m      <a href='vscode-notebook-cell:/Users/dongukkim/Desktop/Quantum_Workspace/CFI_Dephase_SLSQP_2_test.ipynb#X23sZmlsZQ%3D%3D?line=3'>4</a>\u001b[0m plt\u001b[39m.\u001b[39mtitle(\u001b[39m'\u001b[39m\u001b[39mCFI After SLSQP\u001b[39m\u001b[39m'\u001b[39m)\n\u001b[1;32m      <a href='vscode-notebook-cell:/Users/dongukkim/Desktop/Quantum_Workspace/CFI_Dephase_SLSQP_2_test.ipynb#X23sZmlsZQ%3D%3D?line=4'>5</a>\u001b[0m plt\u001b[39m.\u001b[39mxlabel(\u001b[39m'\u001b[39m\u001b[39mTime\u001b[39m\u001b[39m'\u001b[39m)\n",
      "\u001b[0;31mIndexError\u001b[0m: too many indices for array: array is 2-dimensional, but 3 were indexed"
     ]
    }
   ],
   "source": [
    "for i in range(Iterations_set):\n",
    "    plt.plot(Optimized_Result_test[0, :, 0], Optimized_Result_test[i, :, 1], label = f'Iterations = {i}')\n",
    "    \n",
    "plt.title('CFI After SLSQP')\n",
    "plt.xlabel('Time')\n",
    "plt.ylabel('CFI')\n",
    "plt.legend()\n",
    "plt.grid() "
   ]
  },
  {
   "cell_type": "markdown",
   "metadata": {},
   "source": [
    "Each row of 6-paras => Corresponds to phi\n",
    "\n",
    "func(phi, paras, gamma_ps)\n",
    "=> Implement on SLSQP \n",
    "\n",
    "Data = [[phi, CFI, theata_init, tau_1, tau_2, tau_d1, tau_d2, tau_d3] ... N]"
   ]
  },
  {
   "cell_type": "code",
   "execution_count": 80,
   "metadata": {},
   "outputs": [
    {
     "data": {
      "text/plain": [
       "array([[[0., 0., 0.],\n",
       "        [1., 0., 0.],\n",
       "        [2., 0., 0.],\n",
       "        [3., 0., 0.],\n",
       "        [4., 0., 0.],\n",
       "        [5., 0., 0.],\n",
       "        [6., 0., 0.],\n",
       "        [7., 0., 0.]],\n",
       "\n",
       "       [[0., 0., 0.],\n",
       "        [1., 0., 0.],\n",
       "        [2., 0., 0.],\n",
       "        [3., 0., 0.],\n",
       "        [4., 0., 0.],\n",
       "        [5., 0., 0.],\n",
       "        [6., 0., 0.],\n",
       "        [7., 0., 0.]]])"
      ]
     },
     "execution_count": 80,
     "metadata": {},
     "output_type": "execute_result"
    }
   ],
   "source": [
    "dd = np_.array([0,1,2,3,4,5,6,7])\n",
    "\n",
    "Data = np_.zeros((2, len(dd), 3))\n",
    "\n",
    "Data[:,:,0] = dd\n",
    "\n",
    "Data"
   ]
  }
 ],
 "metadata": {
  "kernelspec": {
   "display_name": "Python 3",
   "language": "python",
   "name": "python3"
  },
  "language_info": {
   "codemirror_mode": {
    "name": "ipython",
    "version": 3
   },
   "file_extension": ".py",
   "mimetype": "text/x-python",
   "name": "python",
   "nbconvert_exporter": "python",
   "pygments_lexer": "ipython3",
   "version": "3.11.4"
  },
  "orig_nbformat": 4
 },
 "nbformat": 4,
 "nbformat_minor": 2
}
