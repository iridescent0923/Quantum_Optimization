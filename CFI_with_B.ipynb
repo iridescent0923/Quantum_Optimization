{
 "cells": [
  {
   "cell_type": "code",
   "execution_count": 5,
   "metadata": {},
   "outputs": [],
   "source": [
    "import pennylane as qml\n",
    "from pennylane import numpy as np\n",
    "\n",
    "import matplotlib.pyplot as plt\n",
    "\n",
    "\n",
    "# == Hamiltonain setup == \n",
    "Coeff_ham = [1]\n",
    "Obs = [qml.PauliZ(0)]\n",
    "Hamiltonian = qml.Hamiltonian(Coeff_ham, Obs)\n",
    "\n",
    "dev = qml.device(\"default.mixed\", wires = 1)\n",
    "\n",
    "t = 0.0001\n",
    "gamma_dephase = 1 - np.exp(-2 * t)\n",
    "\n",
    "\n",
    "gamma_ps = 0.8\n",
    "\n",
    "# B, t = 1 * 10**-6, 0.5 * 10**\n",
    "# phi = gamma_ps * np.exp(1) * \n",
    "\n",
    "# Stage_1: Generate dephase\n",
    "@qml.qnode(dev)\n",
    "def Dephase_circuit(phi):\n",
    "    qml.Hadamard(wires=0)\n",
    "    \n",
    "    # Time_evo t fixed as -phi/2\n",
    "    qml.ApproxTimeEvolution(Hamiltonian, -phi/2, 1)\n",
    "    \n",
    "    qml.PhaseDamping(gamma_dephase, wires = 0)\n",
    "    \n",
    "    qml.Hadamard(wires=0)\n",
    "    \n",
    "    return qml.density_matrix(wires=0)\n",
    "\n",
    "# Stage_2: Post-selection\n",
    "@qml.qnode(dev)\n",
    "def Post_selection(phi):\n",
    "    rho_dephase = Dephase_circuit(phi)\n",
    "    Kraus_oper = np.array([ [np.sqrt(1-gamma_ps), 0], [0, 1] ])\n",
    "    \n",
    "    rho_ps = (Kraus_oper @ rho_dephase @ Kraus_oper.conj().T) / (np.trace(Kraus_oper @ rho_dephase @ Kraus_oper.conj().T))\n",
    "    qml.QubitDensityMatrix(rho_ps, wires=0)\n",
    "    \n",
    "    return qml.density_matrix(wires=0)"
   ]
  },
  {
   "cell_type": "code",
   "execution_count": null,
   "metadata": {},
   "outputs": [],
   "source": []
  }
 ],
 "metadata": {
  "kernelspec": {
   "display_name": "Python 3",
   "language": "python",
   "name": "python3"
  },
  "language_info": {
   "codemirror_mode": {
    "name": "ipython",
    "version": 3
   },
   "file_extension": ".py",
   "mimetype": "text/x-python",
   "name": "python",
   "nbconvert_exporter": "python",
   "pygments_lexer": "ipython3",
   "version": "3.11.4"
  },
  "orig_nbformat": 4
 },
 "nbformat": 4,
 "nbformat_minor": 2
}
