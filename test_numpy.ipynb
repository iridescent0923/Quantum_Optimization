{
 "cells": [
  {
   "cell_type": "code",
   "execution_count": 52,
   "metadata": {},
   "outputs": [],
   "source": [
    "import numpy as np\n",
    "from pennylane import numpy as np_"
   ]
  },
  {
   "cell_type": "code",
   "execution_count": 53,
   "metadata": {},
   "outputs": [
    {
     "name": "stdout",
     "output_type": "stream",
     "text": [
      "Step size of linspace:\n",
      "0.10134169850289655\n",
      "\n",
      "Step size of arange:\n",
      "0.10053096491487339\n"
     ]
    }
   ],
   "source": [
    "# == np.linspace == \n",
    "Select_bound = np.array([1e-4, np.pi * 4 + 1e-4])\n",
    "# Select_bound = np.array([0,  4])\n",
    "N = 125\n",
    "\n",
    "Phi_range_1 = np.linspace(Select_bound[0], Select_bound[1], N)\n",
    "\n",
    "#  == np.arange == \n",
    "Step_size = (Select_bound[1] - Select_bound[0]) / N\n",
    "\n",
    "Phi_range_2 = np.arange(Select_bound[0], Select_bound[1], Step_size)\n",
    "\n",
    "print('Step size of linspace:')\n",
    "print(Phi_range_1[1] - Phi_range_1[0])\n",
    "\n",
    "print()\n",
    "\n",
    "print('Step size of arange:')\n",
    "print(Step_size)"
   ]
  },
  {
   "cell_type": "code",
   "execution_count": 54,
   "metadata": {},
   "outputs": [
    {
     "name": "stdout",
     "output_type": "stream",
     "text": [
      "Step size of linspace:\n",
      "0.10134169850289655\n",
      "\n",
      "Step size of arange:\n",
      "0.10053096491487339\n"
     ]
    }
   ],
   "source": [
    "# == original numpy ==\n",
    "\n",
    "# == np.linspace == \n",
    "Select_bound = np_.array([1e-4, np.pi * 4 + 1e-4])\n",
    "# Select_bound = np.array([0,  4])\n",
    "\n",
    "\n",
    "Phi_range_1 = np_.linspace(Select_bound[0], Select_bound[1], N)\n",
    "\n",
    "Step_size = (Select_bound[1] - Select_bound[0]) / N\n",
    "\n",
    "Phi_range_2 = np_.arange(Select_bound[0], Select_bound[1], Step_size)\n",
    "\n",
    "print('Step size of linspace:')\n",
    "print(Phi_range_1[1] - Phi_range_1[0])\n",
    "\n",
    "print()\n",
    "\n",
    "print('Step size of arange:')\n",
    "print(Step_size)"
   ]
  }
 ],
 "metadata": {
  "kernelspec": {
   "display_name": "Python 3",
   "language": "python",
   "name": "python3"
  },
  "language_info": {
   "codemirror_mode": {
    "name": "ipython",
    "version": 3
   },
   "file_extension": ".py",
   "mimetype": "text/x-python",
   "name": "python",
   "nbconvert_exporter": "python",
   "pygments_lexer": "ipython3",
   "version": "3.11.4"
  },
  "orig_nbformat": 4
 },
 "nbformat": 4,
 "nbformat_minor": 2
}
