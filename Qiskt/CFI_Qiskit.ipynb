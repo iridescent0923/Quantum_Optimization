{
 "cells": [
  {
   "cell_type": "code",
   "execution_count": 2,
   "metadata": {},
   "outputs": [],
   "source": [
    "# import qiskit \n",
    "# # from qiskit.quantum_info import Statevector\n",
    "# import numpy as np\n",
    "\n",
    "# circuit = QuantumCircuit(1)\n",
    "\n",
    "# def With_norm(theta, gamma):\n",
    "# \tcoeff = np.array([ ((1+np.exp(-1.j * theta))/2) * (np.sqrt(1-gamma)) , (1-np.exp(-1.j * theta))/2 ]) / (1-gamma * (np.cos(theta)**2) ) \n",
    "\t\n",
    "# \tnorm = np.linalg.norm(coeff)\n",
    "\t\n",
    "# \treturn coeff / norm\n",
    "\n",
    "# circuit.initialize(With_norm(3.0,0), 0)\n",
    "\n",
    "\n",
    "# circuit.measure_all()"
   ]
  },
  {
   "cell_type": "code",
   "execution_count": 3,
   "metadata": {},
   "outputs": [],
   "source": [
    "# import numpy as np\n",
    "# from qiskit import QuantumCircuit, Aer, execute\n",
    "# from qiskit.visualization import plot_bloch_multivector\n",
    "\n",
    "# def With_norm(theta, gamma):\n",
    "#     coeff = np.array([((1 + np.exp(-1.j * theta)) / 2) * (np.sqrt(1 - gamma)), (1 - np.exp(-1.j * theta)) / 2]) / (1 - gamma * (np.cos(theta) ** 2))\n",
    "#     norm = np.linalg.norm(coeff)\n",
    "#     return coeff / norm\n",
    "\n",
    "# num_qubits = 1\n",
    "# qc = QuantumCircuit(num_qubits)\n",
    "\n",
    "# theta = np.pi \n",
    "\n",
    "# qc.initialize(With_norm(theta, 0), [0])\n",
    "\n",
    "# simulator = Aer.get_backend('statevector_simulator')\n",
    "# job = execute(qc, simulator)\n",
    "# result = job.result()\n",
    "# statevector = result.get_statevector()\n",
    "\n",
    "# plot_bloch_multivector(statevector)\n"
   ]
  },
  {
   "cell_type": "code",
   "execution_count": 24,
   "metadata": {},
   "outputs": [],
   "source": [
    "import numpy as np\n",
    "from qiskit import QuantumCircuit, QuantumRegister, execute, Aer\n",
    "import qiskit.quantum_info as qi\n",
    "\n",
    "def rho_ps(phi, gamma, t1, t2):\n",
    "    # Define the density matrix elements\n",
    "    mat00 = (gamma - 1) * (np.exp(t1 / t2) + np.cos(phi))\n",
    "    mat01 = 1.j * np.sqrt(1 - gamma) * np.sin(phi)\n",
    "    mat10 = -1.j * np.sqrt(1 - gamma) * np.sin(phi)\n",
    "    mat11 = np.cos(phi) - np.exp(t1 / t2)\n",
    "\n",
    "    # Normalize the density matrix\n",
    "    normalization = gamma * np.cos(phi) + (gamma - 2) * np.exp(t1 / t2)\n",
    "\n",
    "    # Create the density matrix\n",
    "    density_matrix_ps = np.array([[mat00, mat01], [mat10, mat11]]) / normalization\n",
    "\n",
    "\t# Casting type of density matrix to Qiskit\n",
    "    return qi.DensityMatrix(density_matrix_ps)\n",
    "\n",
    "\n",
    "# result = rho_ps(np.pi,0.5, 1, 1)\n",
    "# result = np.array(result)"
   ]
  },
  {
   "cell_type": "code",
   "execution_count": 26,
   "metadata": {},
   "outputs": [
    {
     "name": "stdout",
     "output_type": "stream",
     "text": [
      "DensityMatrix([[ 0.18769097-0.0000000e+00j, -0.        -1.8917983e-17j],\n",
      "               [-0.        +1.8917983e-17j,  0.81230903-0.0000000e+00j]],\n",
      "              dims=(2,))\n"
     ]
    }
   ],
   "source": [
    "matrix = rho_ps(np.pi, 0.5, 1, 1)\n",
    "\n",
    "matrix\n",
    "\n"
   ]
  },
  {
   "cell_type": "code",
   "execution_count": 28,
   "metadata": {},
   "outputs": [
    {
     "data": {
      "text/latex": [
       "$$\n",
       "\\rho_H = \n",
       "\\begin{bmatrix}\n",
       "0.1876909699 & 0  \\\\\n",
       " 0 & 0.8123090301  \\\\\n",
       " \\end{bmatrix}\n",
       "$$"
      ],
      "text/plain": [
       "<IPython.core.display.Latex object>"
      ]
     },
     "execution_count": 28,
     "metadata": {},
     "output_type": "execute_result"
    }
   ],
   "source": [
    "rho_H = qi.DensityMatrix(matrix)\n",
    "rho_H.draw('latex', prefix='\\\\rho_H = ')"
   ]
  },
  {
   "cell_type": "code",
   "execution_count": null,
   "metadata": {},
   "outputs": [],
   "source": [
    "# Example usage\n",
    "phi_val = np.pi\n",
    "gamma_val = 0.5\n",
    "t1_val = 1\n",
    "t2_val = 2\n",
    "\n",
    "density_matrix = rho_ps(phi_val, gamma_val, t1_val, t2_val)\n",
    "\n",
    "# Create a quantum circuit with a single qubit\n",
    "qreg = QuantumRegister(1)\n",
    "qc = QuantumCircuit(qreg)\n",
    "\n",
    "# Initialize the qubit using the density matrix\n",
    "qc.initialize(density_matrix, qreg)\n",
    "\n",
    "# Simulate the circuit\n",
    "backend = Aer.get_backend('statevector_simulator')\n",
    "job = execute(qc, backend)\n",
    "# result = job.result().get_statevector()\n",
    "\n",
    "# print(\"Density Matrix:\")\n",
    "# print(density_matrix)\n",
    "# print(\"\\nState Vector:\")\n",
    "# print(result)"
   ]
  }
 ],
 "metadata": {
  "kernelspec": {
   "display_name": "Python 3",
   "language": "python",
   "name": "python3"
  },
  "language_info": {
   "codemirror_mode": {
    "name": "ipython",
    "version": 3
   },
   "file_extension": ".py",
   "mimetype": "text/x-python",
   "name": "python",
   "nbconvert_exporter": "python",
   "pygments_lexer": "ipython3",
   "version": "3.11.4"
  },
  "orig_nbformat": 4
 },
 "nbformat": 4,
 "nbformat_minor": 2
}
