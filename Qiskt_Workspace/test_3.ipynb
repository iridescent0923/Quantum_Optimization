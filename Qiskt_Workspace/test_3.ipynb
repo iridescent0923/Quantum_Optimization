{
 "cells": [
  {
   "cell_type": "code",
   "execution_count": 10,
   "metadata": {},
   "outputs": [
    {
     "name": "stdout",
     "output_type": "stream",
     "text": [
      "DensityMatrix([[3.74939946e-33+0.00000000e+00j,\n",
      "                2.10126747e-17-5.75140588e-17j],\n",
      "               [2.10126747e-17+5.75140588e-17j,\n",
      "                1.00000000e+00+0.00000000e+00j]],\n",
      "              dims=(2,))\n"
     ]
    }
   ],
   "source": [
    "from qiskit import QuantumCircuit, Aer, transpile\n",
    "from qiskit.visualization import plot_histogram\n",
    "\n",
    "import numpy as np\n",
    "\n",
    "# Create the quantum circuit\n",
    "def create_circuit(phi_in):\n",
    "    qc = QuantumCircuit(1)\n",
    "\n",
    "    # Hadamard gate\n",
    "    qc.h(0)\n",
    "\n",
    "    # Time evolution under H\n",
    "    qc.rz(-1.0 * phi_in, 0) # The negative sign is due to the convention in Qiskit's RZ gate\n",
    "\n",
    "    # Hadamard gate\n",
    "    qc.h(0)\n",
    "\n",
    "    # Save the density matrix\n",
    "    qc.save_density_matrix()\n",
    "\n",
    "    return qc\n",
    "\n",
    "# Visualize the circuit\n",
    "phi_in_value = np.pi\n",
    "circuit = create_circuit(phi_in_value)\n",
    "circuit.draw('mpl')\n",
    "\n",
    "simulator = Aer.get_backend('aer_simulator')\n",
    "compiled_circuit = transpile(circuit, simulator)\n",
    "result = simulator.run(compiled_circuit).result()\n",
    "density_matrix = result.data()['density_matrix']\n",
    "\n",
    "print(density_matrix)\n"
   ]
  },
  {
   "cell_type": "code",
   "execution_count": null,
   "metadata": {},
   "outputs": [],
   "source": []
  }
 ],
 "metadata": {
  "kernelspec": {
   "display_name": "Python 3",
   "language": "python",
   "name": "python3"
  },
  "language_info": {
   "codemirror_mode": {
    "name": "ipython",
    "version": 3
   },
   "file_extension": ".py",
   "mimetype": "text/x-python",
   "name": "python",
   "nbconvert_exporter": "python",
   "pygments_lexer": "ipython3",
   "version": "3.11.4"
  }
 },
 "nbformat": 4,
 "nbformat_minor": 2
}
