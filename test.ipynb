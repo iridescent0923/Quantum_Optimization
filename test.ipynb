{
 "cells": [
  {
   "cell_type": "code",
   "execution_count": 2,
   "metadata": {},
   "outputs": [],
   "source": [
    "import pennylane as qml\n",
    "import torch\n",
    "\n",
    "import numpy as np"
   ]
  },
  {
   "cell_type": "code",
   "execution_count": 18,
   "metadata": {},
   "outputs": [],
   "source": [
    "H = qml.Hamiltonian(\n",
    "    coeffs=[-0.5], \n",
    "    observables=[qml.PauliZ(0) @ qml.PauliZ(1) @ qml.PauliZ(2)]\n",
    ")\n",
    "H_1 = qml.Hamiltonian(\n",
    "    coeffs=[-0.5, -0.5, -0.5], \n",
    "    observables=[qml.PauliZ(0), qml.PauliZ(1), qml.PauliZ(2)]\n",
    ")"
   ]
  },
  {
   "cell_type": "code",
   "execution_count": 19,
   "metadata": {},
   "outputs": [
    {
     "name": "stdout",
     "output_type": "stream",
     "text": [
      "  (-0.5) [Z0 Z1 Z2]\n"
     ]
    }
   ],
   "source": [
    "H"
   ]
  },
  {
   "cell_type": "code",
   "execution_count": 20,
   "metadata": {},
   "outputs": [
    {
     "name": "stdout",
     "output_type": "stream",
     "text": [
      "  (-0.5) [Z0]\n",
      "+ (-0.5) [Z1]\n",
      "+ (-0.5) [Z2]\n"
     ]
    }
   ],
   "source": [
    "H_1"
   ]
  },
  {
   "cell_type": "code",
   "execution_count": 7,
   "metadata": {},
   "outputs": [
    {
     "data": {
      "text/plain": [
       "tensor([1.5708, 1.5708, 1.5708])"
      ]
     },
     "execution_count": 7,
     "metadata": {},
     "output_type": "execute_result"
    }
   ],
   "source": [
    "init_par = torch.tensor([torch.pi/2, torch.pi/2, torch.pi/2], dtype=torch.float)\n",
    "\n",
    "# init_par[0] = torch.tensor(0.57)\n",
    "\n",
    "init_par"
   ]
  }
 ],
 "metadata": {
  "kernelspec": {
   "display_name": "Python 3",
   "language": "python",
   "name": "python3"
  },
  "language_info": {
   "codemirror_mode": {
    "name": "ipython",
    "version": 3
   },
   "file_extension": ".py",
   "mimetype": "text/x-python",
   "name": "python",
   "nbconvert_exporter": "python",
   "pygments_lexer": "ipython3",
   "version": "3.11.4"
  }
 },
 "nbformat": 4,
 "nbformat_minor": 2
}
