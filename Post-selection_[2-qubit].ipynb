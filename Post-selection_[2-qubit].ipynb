{
 "cells": [
  {
   "cell_type": "code",
   "execution_count": 870,
   "metadata": {},
   "outputs": [],
   "source": [
    "import pennylane as qml\n",
    "from pennylane import numpy as np\n",
    "from IPython.display import display, Latex\n",
    "\n",
    "# from numba import jit\n",
    "\n",
    "# numpy \n",
    "import numpy as np_\n",
    "import scipy as sp\n",
    "\n",
    "import matplotlib.pyplot as plt\n",
    "\n",
    "# 2-qubit\n",
    "dev = qml.device('default.mixed', wires= 2)\n",
    "# dev_new = qml.device('default.qubit', wires=2)\n",
    "\n",
    "# == Hamiltonian setup == \n",
    "coeffs = [1]\n",
    "obs = [qml.PauliZ(0) @ qml.PauliZ(1)]\n",
    "\n",
    "hamiltonian = qml.Hamiltonian(coeffs, obs)"
   ]
  },
  {
   "cell_type": "code",
   "execution_count": 871,
   "metadata": {},
   "outputs": [],
   "source": [
    "Tau_global, Phi_global = np.zeros(3), 0\n",
    "Gamma_ps_global = 0"
   ]
  },
  {
   "cell_type": "code",
   "execution_count": 872,
   "metadata": {},
   "outputs": [
    {
     "data": {
      "image/png": "[encoded data removed]",
      "text/plain": [
       "<Figure size 1100x300 with 1 Axes>"
      ]
     },
     "metadata": {},
     "output_type": "display_data"
    }
   ],
   "source": [
    "# 1-layer\n",
    "@qml.qnode(dev)\n",
    "def circuit_alt(phi_in):\n",
    "    global Tau_global, Phi_global\n",
    "    \n",
    "    theta_init, tau_1, tau_2 = np.array([np.pi/4, np.pi/2, np.pi/2])\n",
    "    phi = phi_in\n",
    "    \n",
    "    # Stage_1: RY for pi/2\n",
    "    qml.RY(np.pi/2, wires=0)\n",
    "    qml.RY(np.pi/2, wires=1)\n",
    "    \n",
    "    # Stage_2: Entangler    \n",
    "    qml.ApproxTimeEvolution(hamiltonian, -tau_1/2, 1)\n",
    "    \n",
    "    qml.RX(theta_init, wires = 0)    \n",
    "    qml.RX(theta_init, wires = 1)    \n",
    "\n",
    "    qml.RY(-np.pi/2, wires = 0)    \n",
    "    qml.RY(-np.pi/2, wires = 1)   \n",
    "\n",
    "    qml.ApproxTimeEvolution(hamiltonian, -tau_2/2, 1)\n",
    "\n",
    "    qml.RY(np.pi/2, wires = 0)    \n",
    "    qml.RY(np.pi/2, wires = 1) \n",
    "    \n",
    "    # Stage_3: Accumulator\n",
    "    qml.ApproxTimeEvolution(hamiltonian, -phi/2, 1)\n",
    "    \n",
    "    # qml.RX(np.pi/2, wires=0)\n",
    "    # qml.RX(np.pi/2, wires=1)\n",
    "    \n",
    "    qml.RY(-np.pi/2, wires=0)\n",
    "    qml.RY(-np.pi/2, wires=1)\n",
    "    \n",
    "    return qml.density_matrix(wires=[0, 1])\n",
    "\n",
    "fig, ax = qml.draw_mpl(circuit_alt)(0)"
   ]
  },
  {
   "cell_type": "code",
   "execution_count": 873,
   "metadata": {},
   "outputs": [
    {
     "data": {
      "text/plain": [
       "pennylane.numpy.tensor.tensor"
      ]
     },
     "execution_count": 873,
     "metadata": {},
     "output_type": "execute_result"
    }
   ],
   "source": [
    "type(circuit_alt(np.pi))"
   ]
  },
  {
   "cell_type": "code",
   "execution_count": 874,
   "metadata": {},
   "outputs": [
    {
     "data": {
      "text/plain": [
       "pennylane.numpy.tensor.tensor"
      ]
     },
     "execution_count": 874,
     "metadata": {},
     "output_type": "execute_result"
    }
   ],
   "source": [
    "rho = np.zeros((2 ** 2, 2 ** 2), dtype=np.complex128)\n",
    "\n",
    "type(rho)"
   ]
  },
  {
   "cell_type": "code",
   "execution_count": 875,
   "metadata": {},
   "outputs": [],
   "source": [
    "@qml.qnode(dev)\n",
    "def Post_selection_alt(phi):\n",
    "    global Gamma_ps_global\n",
    "    Gamma_ps = Gamma_ps_global\n",
    "        \n",
    "    # Get density matrix from circuit_2\n",
    "    density_matrix = np.zeros((4, 4), dtype=np.complex128)\n",
    "    density_matrix = circuit_alt(phi)\n",
    "    \n",
    "    qml.QubitDensityMatrix(density_matrix, wires=[0, 1])\n",
    "    \n",
    "    # Kraus operator for 2*2 matrix\n",
    "    K = np.array([ [np.sqrt(1 - Gamma_ps), 0], [0, 1] ])\n",
    "    K_H = K.conj().T\n",
    "    \n",
    "    Numerator = sp.linalg.kron(K, K) @ density_matrix @ sp.linalg.kron(K_H, K_H)\n",
    "    Denominator = np.trace(sp.linalg.kron(K, K) @ density_matrix @ sp.linalg.kron(K_H, K_H))\n",
    "    \n",
    "    rho_ps = Numerator / Denominator\n",
    "    \n",
    "    qml.QubitDensityMatrix(rho_ps, wires=[0, 1])\n",
    "    \n",
    "    return qml.density_matrix(wires=[0, 1])"
   ]
  },
  {
   "cell_type": "code",
   "execution_count": 876,
   "metadata": {},
   "outputs": [
    {
     "data": {
      "text/plain": [
       "array([[ 5.00000000e-01+8.47409176e-33j,  2.08166817e-16-1.11022302e-16j,\n",
       "         2.63677968e-16-4.16333634e-17j, -5.00000000e-01-1.11022302e-16j],\n",
       "       [ 2.49800181e-16+5.55111512e-17j,  2.77555756e-17+1.12757026e-17j,\n",
       "        -2.77555756e-17+1.47451495e-17j, -2.49800181e-16-9.71445147e-17j],\n",
       "       [ 2.63677968e-16+1.11022302e-16j, -5.55111512e-17-1.47451495e-17j,\n",
       "        -2.77555756e-17-1.12757026e-17j, -2.91433544e-16-1.11022302e-16j],\n",
       "       [-5.00000000e-01+1.11022302e-16j, -1.80411242e-16+1.38777878e-16j,\n",
       "        -2.35922393e-16+1.11022302e-16j,  5.00000000e-01-7.70371978e-33j]])"
      ]
     },
     "execution_count": 876,
     "metadata": {},
     "output_type": "execute_result"
    }
   ],
   "source": [
    "Post_selection_alt(np.pi)"
   ]
  },
  {
   "cell_type": "code",
   "execution_count": 877,
   "metadata": {},
   "outputs": [],
   "source": [
    "# @qml.qnode(dev_new)\n",
    "# def circuit_after(phi_input):\n",
    "#     Post_selection_alt(phi_input)\n",
    "    \n",
    "#     qml.qubit\n",
    "    \n",
    "#     return qml.density_matrix(wires=[0, 1])\n",
    "\n",
    "# Gamma_ps_global = 0.7\n",
    "# circuit_after(np.pi)"
   ]
  },
  {
   "cell_type": "code",
   "execution_count": 878,
   "metadata": {},
   "outputs": [],
   "source": [
    "def Sweep(Sweep_bound, Gamma_ps_in):\n",
    "    \n",
    "    PHI = np.arange(Sweep_bound[0], Sweep_bound[1], Sweep_bound[2]).reshape(-1, 1)\n",
    "    \n",
    "    Data = np.zeros((len(PHI), 1 + len(Gamma_ps_in)))\n",
    "    Data[:, 0] = PHI.squeeze()\n",
    "    \n",
    "    GAMMA_INDEX_IN_DATA = 1\n",
    "    \n",
    "    global Gamma_ps_global\n",
    "    \n",
    "    for Gamma_index in range(len(Gamma_ps_in)):\n",
    "        Gamma_ps_global = Gamma_ps_in[Gamma_index]\n",
    "        \n",
    "        for i in range(len(PHI)):\n",
    "            Data[i][Gamma_index + GAMMA_INDEX_IN_DATA] = qml.qinfo.classical_fisher(Post_selection_alt)(PHI[i])\n",
    "        \n",
    "    return Data"
   ]
  },
  {
   "cell_type": "code",
   "execution_count": 879,
   "metadata": {},
   "outputs": [
    {
     "name": "stdout",
     "output_type": "stream",
     "text": [
      "[[1.00000000e-04 3.81427388e+04 2.60541628e+04 9.16206777e+03\n",
      "  5.79100390e+03]\n",
      " [6.29318531e-02 6.63231265e+01 4.20241484e+01 1.52564060e+01\n",
      "  1.12281816e+01]\n",
      " [1.25763706e-01 1.40344549e-17 1.24237030e-17 9.17494752e-18\n",
      "  6.74623332e-18]\n",
      " [1.88595559e-01 4.60681217e-18 6.20672727e-18 3.28296065e-18\n",
      "  3.23345747e-18]\n",
      " [2.51427412e-01 4.76508155e+01 2.86658811e+01 5.47820803e+00\n",
      "  8.34663778e+00]\n",
      " [3.14259265e-01 1.12557469e-17 8.28784476e-18 3.86122616e-18\n",
      "  6.03126831e-18]\n",
      " [3.77091118e-01 6.69547696e-18 5.54289854e-18 5.21292628e-18\n",
      "  6.96544370e-18]\n",
      " [4.39922972e-01 2.63866848e-18 2.48066281e-18 2.56467095e-18\n",
      "  1.82876533e-18]\n",
      " [5.02754825e-01 1.39580063e+00 3.51285202e-01 3.29985529e-02\n",
      "  2.09484737e-01]\n",
      " [5.65586678e-01 7.56946695e-02 1.19792635e+00 1.38679918e-01\n",
      "  1.04316299e-01]\n",
      " [6.28418531e-01 2.33446589e-19 2.25923679e-20 8.85828350e-19\n",
      "  4.36996566e-19]\n",
      " [6.91250384e-01 4.26578129e-01 1.38644350e-01 1.81374130e-02\n",
      "  1.52309864e-01]\n",
      " [7.54082237e-01 4.24899372e-02 1.99027528e+00 5.08330438e-02\n",
      "  2.46838530e-03]\n",
      " [8.16914090e-01 2.43378551e-18 2.58811292e-19 3.97488105e-19\n",
      "  1.43124604e-18]\n",
      " [8.79745943e-01 2.37912330e-18 2.34092395e-18 5.35250545e-20\n",
      "  4.83598584e-19]\n",
      " [9.42577796e-01 4.36476160e-18 2.20276828e-18 1.01406408e-19\n",
      "  1.42192130e-18]\n",
      " [1.00540965e+00 1.68154612e-18 3.60100729e-18 3.69384165e-18\n",
      "  8.68684535e-20]\n",
      " [1.06824150e+00 5.03986348e-18 2.50579884e-18 5.05739167e-18\n",
      "  1.85164060e-18]\n",
      " [1.13107336e+00 8.85859117e-04 2.18741284e-01 1.33586659e-03\n",
      "  1.89625955e-05]\n",
      " [1.19390521e+00 5.95113338e-02 3.09516378e-02 4.50053102e-02\n",
      "  8.19522666e-03]\n",
      " [1.25673706e+00 4.04131468e-17 2.96269243e-17 4.96428611e-18\n",
      "  2.33988168e-18]\n",
      " [1.31956891e+00 6.40122473e-01 6.83867979e-01 5.14457494e-02\n",
      "  3.40257929e-02]\n",
      " [1.38240077e+00 7.95335588e-17 3.85985616e-17 9.12208784e-18\n",
      "  3.32855968e-18]\n",
      " [1.44523262e+00 4.01538154e-17 3.82930404e-17 9.85384869e-18\n",
      "  3.82210539e-18]\n",
      " [1.50806447e+00 1.67182273e-17 3.96877487e-17 1.43095115e-17\n",
      "  1.12487636e-17]\n",
      " [1.57089633e+00 4.78804835e-17 4.19981860e-17 2.01953230e-17\n",
      "  4.95992363e-18]\n",
      " [1.63372818e+00 3.92589251e-17 1.75231017e-17 2.86062314e-17\n",
      "  1.91502343e-18]\n",
      " [1.69656003e+00 1.98500181e-17 1.95336025e-17 9.27888405e-18\n",
      "  1.04555202e-18]\n",
      " [1.75939189e+00 3.34849708e-17 3.03268694e-17 2.51654511e-17\n",
      "  9.47369805e-18]\n",
      " [1.82222374e+00 3.90430963e-17 3.95617461e-17 2.04094822e-17\n",
      "  8.42046951e-18]\n",
      " [1.88505559e+00 1.71578713e-17 2.89114443e-17 2.55373276e-18\n",
      "  6.99910505e-18]\n",
      " [1.94788745e+00 6.75043328e-01 8.47402280e-01 2.78730382e-01\n",
      "  7.30663479e-02]\n",
      " [2.01071930e+00 4.49619716e-17 5.57367433e-17 1.39205748e-17\n",
      "  7.51776637e-18]\n",
      " [2.07355115e+00 4.82054775e-17 6.26725152e-17 2.32124945e-17\n",
      "  4.13318473e-18]\n",
      " [2.13638300e+00 2.47369128e-01 4.23964882e-01 7.72632001e-01\n",
      "  5.61855940e-01]\n",
      " [2.19921486e+00 6.88946679e-17 3.37139156e-17 2.58329855e-17\n",
      "  1.14296689e-17]\n",
      " [2.26204671e+00 4.52721525e-17 5.32938237e-17 1.51781715e-17\n",
      "  8.57628387e-18]\n",
      " [2.32487856e+00 2.29877149e+00 2.34421137e+00 2.97074882e-01\n",
      "  2.86712307e-01]\n",
      " [2.38771042e+00 3.26063760e-17 5.62239054e-17 1.16492907e-17\n",
      "  1.16785987e-17]\n",
      " [2.45054227e+00 3.15407682e-17 6.38013096e-17 3.98923006e-17\n",
      "  8.20302100e-18]\n",
      " [2.51337412e+00 2.98067355e-17 4.38491077e-17 1.54094246e-17\n",
      "  1.13729063e-17]\n",
      " [2.57620598e+00 3.52230364e-17 1.98231059e-17 2.38592281e-17\n",
      "  1.77798721e-17]\n",
      " [2.63903783e+00 3.42693037e+00 3.75624154e+00 1.19125424e+00\n",
      "  8.79131965e-01]\n",
      " [2.70186968e+00 6.74892173e-01 8.89787290e-01 1.43495444e+00\n",
      "  2.44022872e+00]\n",
      " [2.76470154e+00 1.25616234e+00 1.81213281e+00 5.05302160e-01\n",
      "  4.78722882e-01]\n",
      " [2.82753339e+00 1.67682652e+00 1.46642572e+00 7.71062214e-01\n",
      "  4.89855685e-01]\n",
      " [2.89036524e+00 2.28435832e-17 2.22358501e-17 1.28585281e-17\n",
      "  9.33464114e-18]\n",
      " [2.95319709e+00 2.17935143e+01 9.30330743e+00 4.24763618e+00\n",
      "  3.20763190e+00]\n",
      " [3.01602895e+00 1.82509660e-17 1.66792258e-17 1.09418140e-17\n",
      "  8.06984752e-18]\n",
      " [3.07886080e+00 1.67582693e-17 1.65092284e-17 9.44720478e-18\n",
      "  6.41433226e-18]\n",
      " [3.14169265e+00 9.81198809e-18 9.21399626e-18 5.74817832e-18\n",
      "  4.01656918e-18]\n",
      " [3.20452451e+00 6.65155220e+01 4.21139862e+01 1.52564060e+01\n",
      "  1.12532921e+01]\n",
      " [3.26735636e+00 3.84001032e+01 2.51288343e+01 8.02110992e+00\n",
      "  7.05832418e+00]\n",
      " [3.33018821e+00 2.85068961e-18 2.69813437e-18 2.03531730e-18\n",
      "  1.33273902e-18]\n",
      " [3.39302007e+00 7.86584332e-18 5.22627400e-18 2.16738472e-18\n",
      "  1.92161934e-18]\n",
      " [3.45585192e+00 7.31987815e-18 5.65416980e-18 1.99678059e-18\n",
      "  8.46424271e-18]\n",
      " [3.51868377e+00 1.07839051e+01 5.36294128e+00 2.83842823e+00\n",
      "  1.15918960e+01]\n",
      " [3.58151563e+00 2.61079071e-18 1.07784845e-17 3.59859556e-18\n",
      "  4.80228226e-18]\n",
      " [3.64434748e+00 1.12802185e+00 2.37802811e-01 4.06524786e-02\n",
      "  7.06722320e-01]\n",
      " [3.70717933e+00 6.81405206e-01 1.59806656e+00 1.38679918e-01\n",
      "  1.97025942e+00]\n",
      " [3.77001118e+00 2.40266450e-02 2.09075790e-01 5.88895306e-02\n",
      "  3.03886641e-01]\n",
      " [3.83284304e+00 1.22180262e-01 3.05107439e-01 3.51756875e-01\n",
      "  2.00561823e-02]\n",
      " [3.89567489e+00 6.24276547e-01 4.31208242e-02 5.08330438e-02\n",
      "  1.38855160e-02]\n",
      " [3.95850674e+00 2.34408410e-18 3.82264667e-18 2.65021125e-18\n",
      "  2.34395855e-18]\n",
      " [4.02133860e+00 2.12037166e-18 2.01455221e-18 8.74208770e-20\n",
      "  4.07705447e-19]\n",
      " [4.08417045e+00 3.88894249e-19 1.54737585e-18 3.03787431e-18\n",
      "  1.80933468e-18]\n",
      " [4.14700230e+00 2.60944829e-18 1.52632781e-19 3.05957390e-18\n",
      "  4.33511868e-19]\n",
      " [4.20983416e+00 1.24423366e-18 3.20348399e-18 1.32818598e-18\n",
      "  4.47665231e-18]\n",
      " [4.27266601e+00 3.86345187e-18 1.16880084e-18 5.46773655e-19\n",
      "  3.87546600e-19]\n",
      " [4.33549786e+00 2.13544578e-02 2.16112549e-01 9.57609828e-03\n",
      "  3.81988159e-04]\n",
      " [4.39832972e+00 1.96232189e-17 4.26663548e-17 1.97574937e-17\n",
      "  1.21466246e-18]\n",
      " [4.46116157e+00 8.31340898e-17 6.93510974e-17 1.71006807e-17\n",
      "  5.24550917e-18]\n",
      " [4.52399342e+00 3.35558234e-01 4.39134323e-01 2.92338039e-03\n",
      "  7.07431624e-02]\n",
      " [4.58682527e+00 3.54667345e-17 2.76243207e-17 1.57787750e-17\n",
      "  8.83120226e-18]\n",
      " [4.64965713e+00 3.40713841e-19 1.12918510e-17 4.01125171e-18\n",
      "  1.04230914e-17]\n",
      " [4.71248898e+00 3.83604831e-17 3.02911908e-17 3.23068044e-17\n",
      "  2.50198470e-18]\n",
      " [4.77532083e+00 2.63076357e-17 3.24526802e-17 2.40065028e-17\n",
      "  2.10887843e-18]\n",
      " [4.83815269e+00 4.09764506e-17 5.82788702e-17 4.55897765e-17\n",
      "  3.76118549e-19]\n",
      " [4.90098454e+00 1.16393950e-17 6.31491353e-18 1.52065839e-17\n",
      "  2.86671106e-18]\n",
      " [4.96381639e+00 5.34367813e-17 2.46261211e-17 7.55375528e-18\n",
      "  1.74318249e-18]\n",
      " [5.02664825e+00 8.89136493e-18 4.89650168e-17 9.67443403e-18\n",
      "  3.67463965e-18]\n",
      " [5.08948010e+00 3.30323875e-17 5.20992451e-17 1.29601361e-17\n",
      "  1.38814984e-17]\n",
      " [5.15231195e+00 5.78842974e-01 3.25552439e-01 4.87496093e-02\n",
      "  7.65535933e-02]\n",
      " [5.21514380e+00 2.74392822e-17 3.07623340e-17 1.61373341e-17\n",
      "  4.70904319e-18]\n",
      " [5.27797566e+00 4.83884969e+00 3.41752018e+00 4.12997434e-01\n",
      "  2.94133405e-01]\n",
      " [5.34080751e+00 2.04687646e-17 2.81617155e-17 1.70304329e-17\n",
      "  6.64386212e-18]\n",
      " [5.40363936e+00 1.37444891e-17 2.66829502e-17 1.15286358e-17\n",
      "  1.35963254e-17]\n",
      " [5.46647122e+00 4.41203672e+00 3.96074832e+00 1.79090393e+00\n",
      "  8.97257448e-01]\n",
      " [5.52930307e+00 1.19675891e+00 1.25662210e+00 9.32798062e-01\n",
      "  2.90661637e-01]\n",
      " [5.59213492e+00 3.59174261e-17 5.98617336e-17 3.77247477e-17\n",
      "  6.28160134e-18]\n",
      " [5.65496678e+00 4.24755219e-17 6.66753181e-17 3.00058620e-17\n",
      "  1.09098343e-17]\n",
      " [5.71779863e+00 6.06144251e-17 2.81975271e-17 3.04417949e-17\n",
      "  2.62515077e-17]\n",
      " [5.78063048e+00 2.42701127e-17 2.44466008e-17 1.56949980e-17\n",
      "  1.17460695e-17]\n",
      " [5.84346234e+00 2.45235347e-17 3.66988231e-17 2.68923718e-17\n",
      "  1.83899206e-17]\n",
      " [5.90629419e+00 3.63979181e-17 5.33459281e-17 1.45756814e-17\n",
      "  1.05163815e-17]\n",
      " [5.96912604e+00 3.63510590e-17 3.81854738e-17 2.03547719e-17\n",
      "  1.48321316e-17]\n",
      " [6.03195789e+00 2.83308718e-17 2.19504136e-17 1.54486189e-17\n",
      "  1.16980341e-17]\n",
      " [6.09478975e+00 3.32796879e-17 2.55175587e-17 1.59901305e-17\n",
      "  1.40135815e-17]\n",
      " [6.15762160e+00 2.74847813e+01 1.82603362e+01 7.05704102e+00\n",
      "  4.34954522e+00]\n",
      " [6.22045345e+00 6.07453330e+01 4.16831394e+01 1.30987888e+01\n",
      "  8.40974760e+00]\n",
      " [6.28328531e+00 3.81474035e+04 2.60592523e+04 9.16158966e+03\n",
      "  5.79186886e+03]\n",
      " [6.34611716e+00 6.63231265e+01 4.51808832e+01 1.52564060e+01\n",
      "  1.12281816e+01]\n",
      " [6.40894901e+00 1.40344549e-17 1.36921981e-17 9.17494752e-18\n",
      "  6.74623332e-18]\n",
      " [6.47178087e+00 4.97837699e-18 6.20672727e-18 3.28296065e-18\n",
      "  3.81970842e-18]\n",
      " [6.53461272e+00 4.76508155e+01 2.86658811e+01 5.47820803e+00\n",
      "  8.34663778e+00]\n",
      " [6.59744457e+00 9.75922447e-18 7.69192919e-18 4.90321994e-18\n",
      "  6.69450285e-18]\n",
      " [6.66027643e+00 6.69547696e-18 5.54289854e-18 5.21292628e-18\n",
      "  6.96544370e-18]\n",
      " [6.72310828e+00 1.79597626e-18 8.60409317e-19 1.22103341e-18\n",
      "  2.09373523e-18]\n",
      " [6.78594013e+00 2.70862368e-18 8.28090270e-19 4.86319083e-19\n",
      "  3.60475316e-18]\n",
      " [6.84877198e+00 5.16431209e+00 1.29362305e+00 6.56510172e-02\n",
      "  1.49439311e+00]\n",
      " [6.91160384e+00 8.10059903e-19 1.72203384e-18 7.02894832e-19\n",
      "  9.56322380e-19]\n",
      " [6.97443569e+00 4.26578129e-01 1.38644350e-01 1.81374130e-02\n",
      "  1.52309864e-01]\n",
      " [7.03726754e+00 8.31766038e-19 1.08278957e-18 2.89420862e-18\n",
      "  6.46606735e-18]\n",
      " [7.10009940e+00 1.33461493e-01 3.29675594e-03 2.87800238e-03\n",
      "  1.36977372e-02]\n",
      " [7.16293125e+00 9.52255189e-08 1.79107887e-05 9.77676594e-03\n",
      "  7.63195375e-05]\n",
      " [7.22576310e+00 2.01418158e-18 1.27756198e-19 2.58284674e-19\n",
      "  5.06315492e-19]\n",
      " [7.28859496e+00 1.68154612e-18 3.60100729e-18 3.69384165e-18\n",
      "  8.68684535e-20]\n",
      " [7.35142681e+00 1.61816951e-18 2.50579884e-18 3.65717877e-18\n",
      "  6.83297949e-19]\n",
      " [7.41425866e+00 8.85859117e-04 2.18741284e-01 1.33586659e-03\n",
      "  1.89625955e-05]\n",
      " [7.47709052e+00 1.46064315e-01 1.42789148e-03 5.86418374e-03\n",
      "  2.90414985e-04]\n",
      " [7.53992237e+00 4.68305172e-17 4.26815337e-17 2.12641343e-18\n",
      "  1.12492666e-19]\n",
      " [7.60275422e+00 6.40122473e-01 6.83867979e-01 5.14457494e-02\n",
      "  3.40257929e-02]\n",
      " [7.66558607e+00 2.54010474e+00 1.39428744e+00 3.06284264e-01\n",
      "  5.73064728e-02]\n",
      " [7.72841793e+00 5.58363707e-17 2.68126042e-17 1.27319396e-17\n",
      "  1.50084533e-19]\n",
      " [7.79124978e+00 3.75841411e-18 1.39482118e-17 7.05561241e-18\n",
      "  3.02109835e-18]\n",
      " [7.85408163e+00 4.14322102e-17 4.66624136e-17 2.24299227e-17\n",
      "  1.23205140e-17]\n",
      " [7.91691349e+00 3.92589251e-17 1.75231017e-17 2.86062314e-17\n",
      "  1.91502343e-18]\n",
      " [7.97974534e+00 4.49633694e-17 1.70840058e-17 2.94403127e-17\n",
      "  1.28970174e-17]\n",
      " [8.04257719e+00 3.34849708e-17 3.03268694e-17 2.51654511e-17\n",
      "  9.47369805e-18]\n",
      " [8.10540905e+00 3.90430963e-17 3.21322061e-17 1.77987117e-17\n",
      "  6.04698654e-18]\n",
      " [8.16824090e+00 9.55194593e-18 5.16069387e-17 2.19850011e-17\n",
      "  1.89093312e-18]\n",
      " [8.23107275e+00 6.30532176e+00 1.60920692e+00 8.07335066e-01\n",
      "  2.39280082e-01]\n",
      " [8.29390461e+00 2.98121418e-17 3.53172156e-17 1.79137238e-17\n",
      "  8.75311206e-18]\n",
      " [8.35673646e+00 2.93250419e-01 4.69589892e-01 8.99997925e-02\n",
      "  6.63859550e-02]\n",
      " [8.41956831e+00 4.68337470e-17 3.41129428e-17 2.03765770e-17\n",
      "  4.37921330e-18]\n",
      " [8.48240016e+00 2.51713988e-01 7.27615248e-01 2.96339559e-01\n",
      "  2.29874179e-01]\n",
      " [8.54523202e+00 2.23276681e-17 2.79289078e-17 2.91150105e-17\n",
      "  1.72569558e-17]\n",
      " [8.60806387e+00 2.85699766e-17 3.25809348e-17 3.56307439e-17\n",
      "  1.76377867e-17]\n",
      " [8.67089572e+00 3.01301366e-17 3.09272129e-17 1.48591993e-17\n",
      "  6.35307833e-18]\n",
      " [8.73372758e+00 2.75503776e-17 4.13986889e-17 3.42785932e-17\n",
      "  1.20395970e-17]\n",
      " [8.79655943e+00 5.16318106e-17 5.50164872e-17 3.84426184e-17\n",
      "  1.13729063e-17]\n",
      " [8.85939128e+00 5.04373001e-17 1.98231059e-17 2.38592281e-17\n",
      "  1.60714736e-17]\n",
      " [8.92222314e+00 3.42693037e+00 3.75624154e+00 1.19125424e+00\n",
      "  8.79131965e-01]\n",
      " [8.98505499e+00 1.46811409e-17 2.00796370e-17 1.32323624e-17\n",
      "  8.03880411e-18]\n",
      " [9.04788684e+00 2.00126759e-17 2.90377260e-17 1.20849543e-17\n",
      "  9.51785904e-18]\n",
      " [9.11071870e+00 1.03712135e+00 1.46642572e+00 6.69217481e-01\n",
      "  3.97647681e-01]\n",
      " [9.17355055e+00 1.31073585e+01 1.02719848e+01 3.18096561e+00\n",
      "  1.96960936e+00]\n",
      " [9.23638240e+00 1.97406992e+01 1.05522031e+01 3.86807052e+00\n",
      "  2.83507779e+00]\n",
      " [9.29921425e+00 1.82509660e-17 1.66792258e-17 1.09418140e-17\n",
      "  8.06984752e-18]\n",
      " [9.36204611e+00 1.67505914e-17 1.65010967e-17 9.69420606e-18\n",
      "  6.41433226e-18]]\n"
     ]
    }
   ],
   "source": [
    "Sweep_data = np_.array([1e-4, np.pi * 3 + 1e-4, np.pi/(25*2)])\n",
    "Gamma_ps_desired = 0.3, 0.4, 0.7, 0.8\n",
    "\n",
    "Result = Sweep(Sweep_data, Gamma_ps_desired)\n",
    "\n",
    "print(Result)"
   ]
  },
  {
   "cell_type": "code",
   "execution_count": 880,
   "metadata": {},
   "outputs": [
    {
     "data": {
      "image/png": "[encoded data removed]",
      "text/plain": [
       "<Figure size 640x480 with 1 Axes>"
      ]
     },
     "metadata": {},
     "output_type": "display_data"
    }
   ],
   "source": [
    "plt.plot(Result[:,0], Result[:,1], label = 0.3)\n",
    "plt.plot(Result[:,0], Result[:,2], label = 0.4)\n",
    "plt.plot(Result[:,0], Result[:,3], label = 0.7)\n",
    "# plt.plot(Result[:,0], Result[:,4], label = 0.8)\n",
    "\n",
    "plt.title('CFI by gamma')\n",
    "plt.xlabel('Time')\n",
    "plt.ylabel('CFI')\n",
    "plt.legend()\n",
    "plt.grid() "
   ]
  },
  {
   "cell_type": "code",
   "execution_count": 881,
   "metadata": {},
   "outputs": [
    {
     "data": {
      "text/plain": [
       "tensor([0.028, 0.028, 0.028, 0.028], requires_grad=True)"
      ]
     },
     "execution_count": 881,
     "metadata": {},
     "output_type": "execute_result"
    }
   ],
   "source": [
    "import random\n",
    "\n",
    "array = np_.zeros(4)\n",
    "\n",
    "array[:4] = random.uniform(0,1)\n",
    "\n",
    "array = np_.round(array, 3)\n",
    "array = np.array(array)\n",
    "\n",
    "array"
   ]
  },
  {
   "cell_type": "code",
   "execution_count": 882,
   "metadata": {},
   "outputs": [],
   "source": [
    "Sweep_data = np_.array([1e-4, np.pi * 3 + 1e-4, np.pi/(25*2)])\n",
    "Gamma_ps_desired = 0.6, 0.7\n",
    "\n",
    "Result = Sweep(Sweep_data, Gamma_ps_desired)\n",
    "\n",
    "# print(Result)\n",
    "\n",
    "# Result[:,0]"
   ]
  },
  {
   "cell_type": "code",
   "execution_count": 883,
   "metadata": {},
   "outputs": [
    {
     "data": {
      "image/png": "[encoded data removed]",
      "text/plain": [
       "<Figure size 640x480 with 1 Axes>"
      ]
     },
     "metadata": {},
     "output_type": "display_data"
    }
   ],
   "source": [
    "plt.plot(Result[:, 0], Result[:, 2], label = 'After ')\n",
    "    \n",
    "plt.title('dd')\n",
    "plt.xlabel('Time')\n",
    "plt.ylabel('CFI')\n",
    "plt.legend()\n",
    "plt.grid() "
   ]
  },
  {
   "cell_type": "code",
   "execution_count": 884,
   "metadata": {},
   "outputs": [
    {
     "ename": "SyntaxError",
     "evalue": "invalid syntax (2349037780.py, line 2)",
     "output_type": "error",
     "traceback": [
      "\u001b[0;36m  Cell \u001b[0;32mIn[884], line 2\u001b[0;36m\u001b[0m\n\u001b[0;31m    Data_Set =\u001b[0m\n\u001b[0m               ^\u001b[0m\n\u001b[0;31mSyntaxError\u001b[0m\u001b[0;31m:\u001b[0m invalid syntax\n"
     ]
    }
   ],
   "source": [
    "gamma_desired = 0.3, 0.4, 0.6, 0.7\n",
    "Data_Set = "
   ]
  }
 ],
 "metadata": {
  "kernelspec": {
   "display_name": "Python 3",
   "language": "python",
   "name": "python3"
  },
  "language_info": {
   "codemirror_mode": {
    "name": "ipython",
    "version": 3
   },
   "file_extension": ".py",
   "mimetype": "text/x-python",
   "name": "python",
   "nbconvert_exporter": "python",
   "pygments_lexer": "ipython3",
   "version": "3.11.4"
  }
 },
 "nbformat": 4,
 "nbformat_minor": 2
}
