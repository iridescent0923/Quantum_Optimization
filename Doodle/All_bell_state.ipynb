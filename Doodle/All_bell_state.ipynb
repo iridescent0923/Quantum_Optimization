{
 "cells": [
  {
   "cell_type": "code",
   "execution_count": 14,
   "metadata": {},
   "outputs": [
    {
     "name": "stdout",
     "output_type": "stream",
     "text": [
      "bell_state_1:\n",
      " [[0.5 0.  0.  0.5]\n",
      " [0.  0.  0.  0. ]\n",
      " [0.  0.  0.  0. ]\n",
      " [0.5 0.  0.  0.5]] \n",
      "\n",
      "bell_state_2:\n",
      " [[ 0.5  0.   0.  -0.5]\n",
      " [ 0.   0.   0.  -0. ]\n",
      " [ 0.   0.   0.  -0. ]\n",
      " [-0.5 -0.  -0.   0.5]] \n",
      "\n",
      "bell_state_3:\n",
      " [[0.  0.  0.  0. ]\n",
      " [0.  0.5 0.5 0. ]\n",
      " [0.  0.5 0.5 0. ]\n",
      " [0.  0.  0.  0. ]] \n",
      "\n",
      "bell_state_4:\n",
      " [[ 0.   0.  -0.   0. ]\n",
      " [ 0.   0.5 -0.5  0. ]\n",
      " [-0.  -0.5  0.5 -0. ]\n",
      " [ 0.   0.  -0.   0. ]] \n",
      "\n"
     ]
    }
   ],
   "source": [
    "import matplotlib.pyplot as plt\n",
    "import pennylane as qml\n",
    "import scipy as sp\n",
    "\n",
    "from pennylane import numpy as np\n",
    "from IPython.display import display, Math\n",
    "\n",
    "np.set_printoptions(threshold=np.inf, linewidth=np.inf)\n",
    "np.set_printoptions()\n",
    "\n",
    "# == Pre_defined state ==\n",
    "pauli_x = np.array([ [0, 1], [1, 0]])\n",
    "pauli_y = np.array([ [0, -1.j], [1.j, 0]])\n",
    "pauli_z = np.array([ [1, 0], [0, -1]])\n",
    "\n",
    "# state = (00 + 01 + 10 + 11)/2 = kron(|0> + |1>)/sqrt(2) , (|0> + |1>)/sqrt(2) )\n",
    "state_super_pos = np.kron( (np.array([[1], [0]]) + np.array([[0], [1]]))/np.sqrt(2) , (np.array([[1], [0]]) + np.array([[0], [1]]))/np.sqrt(2) )\n",
    "rho_super_pos = np.kron(state_super_pos, state_super_pos.conj().T) \n",
    "# state_super_pos, state_super_pos.con().T has different dimension \n",
    "\n",
    "\n",
    "# bell state = (|00> + |11>) / sqrt(2)\n",
    "state_bell_1 = ( np.kron( np.array([ [1], [0] ]) , np.array([ [1], [0] ]) ) +  np.kron( np.array([ [0], [1] ]) , np.array([ [0], [1] ]) ) )/np.sqrt(2) \n",
    "rho_bell_1 = np.kron(state_bell_1 , state_bell_1.conj().T)\n",
    "\n",
    "state_bell_2 = ( np.kron( np.array([ [1], [0] ]) , np.array([ [1], [0] ]) ) -  np.kron( np.array([ [0], [1] ]) , np.array([ [0], [1] ]) ) )/np.sqrt(2) \n",
    "rho_bell_2 = np.kron(state_bell_2 , state_bell_2.conj().T)\n",
    "\n",
    "state_bell_3 = ( np.kron( np.array([ [1], [0] ]) , np.array([ [0], [1] ]) ) +  np.kron( np.array([ [0], [1] ]) , np.array([ [1], [0] ]) ) )/np.sqrt(2) \n",
    "rho_bell_3 = np.kron(state_bell_3 , state_bell_3.conj().T)\n",
    "\n",
    "state_bell_4 = ( np.kron( np.array([ [1], [0] ]) , np.array([ [0], [1] ]) ) -  np.kron( np.array([ [0], [1] ]) , np.array([ [1], [0] ]) ) )/np.sqrt(2)  \n",
    "rho_bell_4 = np.kron(state_bell_4 , state_bell_4.conj().T)\n",
    "\n",
    "\n",
    "print('bell_state_1:\\n',rho_bell_1,'\\n')\n",
    "print('bell_state_2:\\n',rho_bell_2,'\\n')\n",
    "print('bell_state_3:\\n',rho_bell_3,'\\n')\n",
    "print('bell_state_4:\\n',rho_bell_4,'\\n')"
   ]
  }
 ],
 "metadata": {
  "kernelspec": {
   "display_name": "Python 3",
   "language": "python",
   "name": "python3"
  },
  "language_info": {
   "codemirror_mode": {
    "name": "ipython",
    "version": 3
   },
   "file_extension": ".py",
   "mimetype": "text/x-python",
   "name": "python",
   "nbconvert_exporter": "python",
   "pygments_lexer": "ipython3",
   "version": "3.11.4"
  },
  "orig_nbformat": 4
 },
 "nbformat": 4,
 "nbformat_minor": 2
}
