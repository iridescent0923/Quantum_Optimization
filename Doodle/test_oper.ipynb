{
 "cells": [
  {
   "cell_type": "code",
   "execution_count": 75,
   "metadata": {},
   "outputs": [],
   "source": [
    "import pennylane as qml\n",
    "from pennylane import numpy as np\n",
    "\n",
    "import matplotlib.pyplot as plt\n",
    "\n",
    "gamma = 0\n",
    "t = 0\n",
    "\n",
    "\n",
    "dev = qml.device(\"default.qubit\", wires=1)\n",
    "@qml.qnode(dev)\n",
    "def circuit(phi):\n",
    "    qml.Hadamard(wires=0)\n",
    "    \n",
    "    qml.RZ(phi, wires=0)\n",
    "    qml.RZ(t, wires=0)\n",
    "    \n",
    "    qml.Hadamard(wires=0)\n",
    "    \n",
    "    data = qml.density_matrix(wires=0)  \n",
    "    \n",
    "    return data \n",
    "\n",
    "def kraus(rho): \n",
    "    k = np.array([[np.sqrt(1-gamma), 0], [0, 1]])\n",
    "    rho_ps = (k @ rho @ k.conj().T) / np.trace(k @ k.conj().T * rho)\n",
    "    \n",
    "    return rho_ps\n",
    "\n"
   ]
  },
  {
   "cell_type": "code",
   "execution_count": 76,
   "metadata": {},
   "outputs": [
    {
     "data": {
      "text/plain": [
       "tensor([[3.74939946e-33+0.000000e+00j, 0.00000000e+00+6.123234e-17j],\n",
       "        [0.00000000e+00-6.123234e-17j, 1.00000000e+00+0.000000e+00j]], requires_grad=True)"
      ]
     },
     "execution_count": 76,
     "metadata": {},
     "output_type": "execute_result"
    }
   ],
   "source": [
    "circuit(np.pi)"
   ]
  },
  {
   "cell_type": "code",
   "execution_count": 77,
   "metadata": {},
   "outputs": [
    {
     "ename": "ValueError",
     "evalue": "matmul: Input operand 1 does not have enough dimensions (has 0, gufunc core with signature (n?,k),(k,m?)->(n?,m?) requires 1)",
     "output_type": "error",
     "traceback": [
      "\u001b[0;31m---------------------------------------------------------------------------\u001b[0m",
      "\u001b[0;31mValueError\u001b[0m                                Traceback (most recent call last)",
      "Cell \u001b[0;32mIn[77], line 12\u001b[0m\n\u001b[1;32m      6\u001b[0m \u001b[39m# CFI_numpy[0] = CFI(tau_CFI[0])\u001b[39;00m\n\u001b[1;32m      7\u001b[0m \n\u001b[1;32m      8\u001b[0m \u001b[39m# CFI_numpy\u001b[39;00m\n\u001b[1;32m      9\u001b[0m \n\u001b[1;32m     10\u001b[0m \u001b[39m# CFI -> Approcach with array index\u001b[39;00m\n\u001b[1;32m     11\u001b[0m \u001b[39mfor\u001b[39;00m i \u001b[39min\u001b[39;00m \u001b[39mrange\u001b[39m(\u001b[39mlen\u001b[39m(tau_CFI)):\n\u001b[0;32m---> 12\u001b[0m      CFI[i] \u001b[39m=\u001b[39m qml\u001b[39m.\u001b[39mqinfo\u001b[39m.\u001b[39mclassical_fisher(kraus(circuit))(tau_CFI[i])\n\u001b[1;32m     14\u001b[0m \u001b[39m# CFI_numpy[i] = (qml.qinfo.classical_fisher(circuit)(tau_CFI[i]))\u001b[39;00m\n\u001b[1;32m     15\u001b[0m \u001b[39m#     # Casting to numpy array without gradient\u001b[39;00m\n\u001b[1;32m     16\u001b[0m \u001b[39m#     CFI_numpy[i] = round((CFI_numpy[i]).numpy(), 10)\u001b[39;00m\n\u001b[1;32m     18\u001b[0m plt\u001b[39m.\u001b[39msubplot()\n",
      "Cell \u001b[0;32mIn[75], line 26\u001b[0m, in \u001b[0;36mkraus\u001b[0;34m(rho)\u001b[0m\n\u001b[1;32m     24\u001b[0m \u001b[39mdef\u001b[39;00m \u001b[39mkraus\u001b[39m(rho): \n\u001b[1;32m     25\u001b[0m     k \u001b[39m=\u001b[39m np\u001b[39m.\u001b[39marray([[np\u001b[39m.\u001b[39msqrt(\u001b[39m1\u001b[39m\u001b[39m-\u001b[39mgamma), \u001b[39m0\u001b[39m], [\u001b[39m0\u001b[39m, \u001b[39m1\u001b[39m]])\n\u001b[0;32m---> 26\u001b[0m     rho_ps \u001b[39m=\u001b[39m (k \u001b[39m@\u001b[39;49m rho \u001b[39m@\u001b[39m k\u001b[39m.\u001b[39mconj()\u001b[39m.\u001b[39mT) \u001b[39m/\u001b[39m np\u001b[39m.\u001b[39mtrace(k \u001b[39m@\u001b[39m k\u001b[39m.\u001b[39mconj()\u001b[39m.\u001b[39mT \u001b[39m*\u001b[39m rho)\n\u001b[1;32m     28\u001b[0m     \u001b[39mreturn\u001b[39;00m rho_ps\n",
      "File \u001b[0;32m/Library/Frameworks/Python.framework/Versions/3.11/lib/python3.11/site-packages/pennylane/numpy/tensor.py:155\u001b[0m, in \u001b[0;36mtensor.__array_ufunc__\u001b[0;34m(self, ufunc, method, *inputs, **kwargs)\u001b[0m\n\u001b[1;32m    151\u001b[0m args \u001b[39m=\u001b[39m [i\u001b[39m.\u001b[39munwrap() \u001b[39mif\u001b[39;00m \u001b[39mhasattr\u001b[39m(i, \u001b[39m\"\u001b[39m\u001b[39munwrap\u001b[39m\u001b[39m\"\u001b[39m) \u001b[39melse\u001b[39;00m i \u001b[39mfor\u001b[39;00m i \u001b[39min\u001b[39;00m inputs]\n\u001b[1;32m    153\u001b[0m \u001b[39m# call the ndarray.__array_ufunc__ method to compute the result\u001b[39;00m\n\u001b[1;32m    154\u001b[0m \u001b[39m# of the vectorized ufunc\u001b[39;00m\n\u001b[0;32m--> 155\u001b[0m res \u001b[39m=\u001b[39m \u001b[39msuper\u001b[39;49m()\u001b[39m.\u001b[39;49m__array_ufunc__(ufunc, method, \u001b[39m*\u001b[39;49margs, \u001b[39m*\u001b[39;49m\u001b[39m*\u001b[39;49mkwargs)\n\u001b[1;32m    157\u001b[0m \u001b[39mif\u001b[39;00m \u001b[39misinstance\u001b[39m(res, Operator):\n\u001b[1;32m    158\u001b[0m     \u001b[39mreturn\u001b[39;00m res\n",
      "\u001b[0;31mValueError\u001b[0m: matmul: Input operand 1 does not have enough dimensions (has 0, gufunc core with signature (n?,k),(k,m?)->(n?,m?) requires 1)"
     ]
    }
   ],
   "source": [
    "#  == Plot for CFI ==\n",
    "N = 1000\n",
    "tau_CFI = np.linspace(-0.001, 6.3, N)\n",
    "\n",
    "CFI = np.zeros(N)\n",
    "# CFI_numpy[0] = CFI(tau_CFI[0])\n",
    "\n",
    "# CFI_numpy\n",
    "\n",
    "# CFI -> Approcach with array index\n",
    "for i in range(len(tau_CFI)):\n",
    "     CFI[i] = qml.qinfo.classical_fisher(kraus(circuit))(tau_CFI[i])\n",
    "\n",
    "# CFI_numpy[i] = (qml.qinfo.classical_fisher(circuit)(tau_CFI[i]))\n",
    "#     # Casting to numpy array without gradient\n",
    "#     CFI_numpy[i] = round((CFI_numpy[i]).numpy(), 10)\n",
    "\n",
    "plt.subplot()\n",
    "plt.plot(tau_CFI, CFI)\n",
    "plt.title('CFI')\n",
    "plt.xlabel('Time')\n",
    "plt.ylabel('Probability_0_state')\n",
    "# plt.legend()\n",
    "plt.grid()"
   ]
  },
  {
   "cell_type": "code",
   "execution_count": null,
   "metadata": {},
   "outputs": [],
   "source": []
  },
  {
   "cell_type": "code",
   "execution_count": null,
   "metadata": {},
   "outputs": [
    {
     "name": "stdout",
     "output_type": "stream",
     "text": [
      "[[3.74939946e-33+0.000000e+00j 0.00000000e+00+6.123234e-17j]\n",
      " [0.00000000e+00-6.123234e-17j 1.00000000e+00+0.000000e+00j]] \n",
      "\n",
      " [[ 0.-0.000000e+00j -0.-6.123234e-17j]\n",
      " [-0.+6.123234e-17j  1.-0.000000e+00j]]\n"
     ]
    },
    {
     "data": {
      "text/plain": [
       "tensor([[ True,  True],\n",
       "        [ True,  True]], requires_grad=True)"
      ]
     },
     "execution_count": 33,
     "metadata": {},
     "output_type": "execute_result"
    }
   ],
   "source": []
  },
  {
   "cell_type": "code",
   "execution_count": null,
   "metadata": {},
   "outputs": [
    {
     "data": {
      "text/plain": [
       "tensor([[ True,  True],\n",
       "        [ True,  True]], requires_grad=True)"
      ]
     },
     "execution_count": 24,
     "metadata": {},
     "output_type": "execute_result"
    }
   ],
   "source": [
    "# def rho_ps(phi):\n",
    "\n",
    "# \trho_ps = np.array([ [(gamma - 1 )*(np.exp(t) + np.cos(phi)), 1.j*np.sqrt(1-gamma)*np.sin(phi) ], [-1.j*np.sqrt(1-gamma)*np.sin(phi), np.cos(phi) - np.exp(t)] ]) / (gamma * np.cos(phi) + (gamma - 2) * np.exp(t))\n",
    "# \treturn rho_ps\n",
    "\n",
    "\n",
    "# def rho(phi, t):\n",
    "#     result = np.array([ [1+np.exp(-t)*np.cos(phi), -1.j*np.exp(-t)*np.sin(phi)], [1.j*np.exp(-t)*np.sin(phi), 1-np.exp(-t)*np.cos(phi)] ]) / 2\n",
    "    \n",
    "#     return result\n",
    "\n",
    "# rho(np.pi, 0)\n",
    "\n",
    "\n",
    "# np.isclose(circuit(np.pi, 0), rho(np.pi, 0))"
   ]
  }
 ],
 "metadata": {
  "kernelspec": {
   "display_name": "Python 3",
   "language": "python",
   "name": "python3"
  },
  "language_info": {
   "codemirror_mode": {
    "name": "ipython",
    "version": 3
   },
   "file_extension": ".py",
   "mimetype": "text/x-python",
   "name": "python",
   "nbconvert_exporter": "python",
   "pygments_lexer": "ipython3",
   "version": "3.11.4"
  },
  "orig_nbformat": 4
 },
 "nbformat": 4,
 "nbformat_minor": 2
}
