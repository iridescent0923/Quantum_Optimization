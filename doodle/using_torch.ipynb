{
 "cells": [
  {
   "cell_type": "code",
   "execution_count": null,
   "metadata": {},
   "outputs": [],
   "source": [
    "import pennylane as qml\n",
    "from pennylane import numpy as qnp\n",
    "import torch\n",
    "\n",
    "N = 12"
   ]
  },
  {
   "cell_type": "code",
   "execution_count": null,
   "metadata": {},
   "outputs": [],
   "source": [
    "gate_dict = {\n",
    "    'RX': qml.RX,\n",
    "    'RY': qml.RY,\n",
    "    'RZ': qml.RZ,\n",
    "    'CNOT': qml.CNOT,\n",
    "    'IsingXX': qml.IsingXX,\n",
    "    'IsingYY': qml.IsingYY,\n",
    "    'IsingZZ': qml.IsingZZ\n",
    "}"
   ]
  },
  {
   "cell_type": "code",
   "execution_count": null,
   "metadata": {},
   "outputs": [],
   "source": [
    "noise_stdev = 0.1\n",
    "scale = 1.0"
   ]
  },
  {
   "cell_type": "code",
   "execution_count": null,
   "metadata": {},
   "outputs": [],
   "source": [
    "def near_identity_block(a, b):\n",
    "    #\n",
    "    # Pennylane decomposes SU(4) matrix by the following form:\n",
    "    #\n",
    "    # ---|---|---         ---RZ---RY---RZ---X---RZ---.--------X---RZ---RY---RZ--- \n",
    "    #    | U |       =                      |        |        |\n",
    "    # ___|---|---         ---RZ---RY---RZ---.---RY---X---RY---.---RZ---RY---RZ---\n",
    "    # \n",
    "    # Number of CNOT gates may be less than this. [see arXiv:0308045, PRA 70, 012310 (2004)]\n",
    "    # \n",
    "    # However, we cannot construct identity matrix using the form above. \n",
    "    # And Initialization with Identity block results in stucking in local minima provided by MPS. \n",
    "    # So, we should use the following form (though we need more gates...) with parameters having normal distributions.\n",
    "    #\n",
    "    # ---|---|---         ---RZ---RY---RZ---|----|---|----|---|----|---RZ---RY---RZ--- \n",
    "    #    | U |       =                      | XX |   | YY |   | ZZ |\n",
    "    # ___|---|---         ---RZ---RY---RZ---|----|---|----|---|----|---RZ---RY---RZ---\n",
    "    # \n",
    "    #\n",
    "    wl = []\n",
    "    gl = []\n",
    "    pm = []\n",
    "    decomp_out = two_qubit_decomposition(np.eye(4), [a, b])\n",
    "    for op in decomp_out:\n",
    "        wl.append(op.wires)\n",
    "        gl.append(op.name)\n",
    "        if op.parameters:\n",
    "            pm.append(op.parameters[0] + scale*np.random.normal(0, noise_stdev))\n",
    "    return gl, wl, pm"
   ]
  },
  {
   "cell_type": "code",
   "execution_count": null,
   "metadata": {},
   "outputs": [
    {
     "name": "stdout",
     "output_type": "stream",
     "text": [
      "<Hamiltonian: terms=33, wires=[0, 1, 2, 3, 4, 5, 6, 7, 8, 9, 10, 11]>\n"
     ]
    }
   ],
   "source": [
    "dev = qml.device('default.qubit', wires=range(12))\n",
    "coeffs = []\n",
    "ops = []\n",
    "for i in range(N-1):\n",
    "    for op in [qml.PauliX, qml.PauliY, qml.PauliZ]:\n",
    "        coeffs.append(1.0)\n",
    "        ops.append(op(i) @ op(i+1))\n",
    "H = qml.Hamiltonian(coeffs, ops)\n",
    "H"
   ]
  },
  {
   "cell_type": "code",
   "execution_count": null,
   "metadata": {},
   "outputs": [
    {
     "name": "stderr",
     "output_type": "stream",
     "text": [
      "/Users/shong/miniconda3/envs/QC/lib/python3.10/site-packages/numpy/linalg/linalg.py:2154: RuntimeWarning: divide by zero encountered in det\n",
      "  r = _umath_linalg.det(a, signature=signature)\n",
      "/Users/shong/miniconda3/envs/QC/lib/python3.10/site-packages/numpy/linalg/linalg.py:2154: RuntimeWarning: invalid value encountered in det\n",
      "  r = _umath_linalg.det(a, signature=signature)\n"
     ]
    }
   ],
   "source": [
    "wire_list = []\n",
    "params = []\n",
    "gate_list = []\n",
    "for G in G_list[::-1]:\n",
    "    for i in range(len(G)):\n",
    "        mat, ids = G[i]\n",
    "        mat = mat.reshape(4, 4)\n",
    "        # mat = unitary_group.rvs(4)\n",
    "        mat_d = two_qubit_decomposition(mat, wires=list(ids))\n",
    "            \n",
    "\n",
    "        for op in mat_d:\n",
    "            wire_list.append(op.wires)\n",
    "            gate_list.append(op.name)\n",
    "            if op.parameters:\n",
    "                params.append(op.parameters[0] + np.random.normal(0, noise_stdev))\n",
    "                \n",
    "for _ in range(N//2-2):\n",
    "    for i in range(N-1):\n",
    "        gates, wire_arr, param_arr = near_identity_block(i, i+1)\n",
    "        wire_list += (wire_arr)\n",
    "        gate_list += gates\n",
    "        params += param_arr\n",
    "        # mat = unitary_group.rvs(4)\n",
    "        # mat_d = two_qubit_decomposition(mat, wires=[i, i+1])\n",
    "\n",
    "        # for op in mat_d:\n",
    "        #     wire_list.append(op.wires)\n",
    "        #     gate_list.append(op.name)\n",
    "        #     if op.parameters:\n",
    "        #         params.append(op.parameters[0])"
   ]
  },
  {
   "cell_type": "code",
   "execution_count": null,
   "metadata": {},
   "outputs": [],
   "source": [
    "@qml.qnode(dev, interface=\"torch\", diff_method='backprop')\n",
    "def circuit(param):\n",
    "    cur = 0\n",
    "    for i in range(len(gate_list)):\n",
    "        if i > 0 and abs(wire_list[i-1][0] - wire_list[i][0]) > 2:\n",
    "            qml.Barrier(only_visual=True)\n",
    "        if gate_list[i] == 'CNOT':\n",
    "            gate_dict[gate_list[i]](wire_list[i])\n",
    "        else:\n",
    "            gate_dict[gate_list[i]](param[cur], wire_list[i])\n",
    "            cur += 1\n",
    "    return qml.expval(H)"
   ]
  },
  {
   "cell_type": "code",
   "execution_count": null,
   "metadata": {},
   "outputs": [],
   "source": [
    "# fig, ax = qml.draw_mpl(circuit)(params)\n",
    "# fig.show()"
   ]
  },
  {
   "cell_type": "code",
   "execution_count": null,
   "metadata": {},
   "outputs": [],
   "source": [
    "def cost_fn(param):\n",
    "    return torch.real(circuit(param))"
   ]
  },
  {
   "cell_type": "code",
   "execution_count": null,
   "metadata": {},
   "outputs": [
    {
     "data": {
      "text/plain": [
       "tensor(-13.3079, dtype=torch.float64)"
      ]
     },
     "execution_count": 21,
     "metadata": {},
     "output_type": "execute_result"
    }
   ],
   "source": [
    "cost_fn(params)"
   ]
  },
  {
   "cell_type": "code",
   "execution_count": null,
   "metadata": {},
   "outputs": [
    {
     "data": {
      "text/plain": [
       "array([-20.56836253+1.22396681e-16j, -19.44459175+9.31339718e-18j,\n",
       "       -19.44459175-7.05788277e-17j, -18.0531638 -2.30962399e-17j,\n",
       "       -18.0531638 -2.02135943e-17j, -19.44459175-4.93954604e-18j])"
      ]
     },
     "execution_count": 22,
     "metadata": {},
     "output_type": "execute_result"
    }
   ],
   "source": [
    "import scipy as sp\n",
    "\n",
    "eval, evec = sp.sparse.linalg.eigs(H.sparse_matrix())\n",
    "eval"
   ]
  },
  {
   "cell_type": "code",
   "execution_count": null,
   "metadata": {},
   "outputs": [
    {
     "name": "stdout",
     "output_type": "stream",
     "text": [
      "001th iteration, cost= -19.914963662777783\n",
      "002th iteration, cost= -20.245381617607297\n",
      "003th iteration, cost= -20.342660185042966\n",
      "004th iteration, cost= -20.393298760445\n",
      "005th iteration, cost= -20.440724375730827\n",
      "006th iteration, cost= -20.48809011169495\n",
      "007th iteration, cost= -20.518084686102913\n",
      "008th iteration, cost= -20.53734089380228\n",
      "009th iteration, cost= -20.54578349606164\n",
      "010th iteration, cost= -20.548710780863253\n",
      "011th iteration, cost= -20.550908629231156\n",
      "012th iteration, cost= -20.553508162605404\n",
      "013th iteration, cost= -20.555633418450302\n",
      "014th iteration, cost= -20.557917712761604\n",
      "015th iteration, cost= -20.559693261986215\n",
      "016th iteration, cost= -20.561430291393176\n",
      "017th iteration, cost= -20.562449113935664\n",
      "018th iteration, cost= -20.563074125881627\n",
      "019th iteration, cost= -20.563615255974067\n",
      "020th iteration, cost= -20.56390324873765\n",
      "021th iteration, cost= -20.564132575195753\n",
      "022th iteration, cost= -20.564365352478635\n",
      "023th iteration, cost= -20.56469196799268\n",
      "024th iteration, cost= -20.56497434551859\n",
      "025th iteration, cost= -20.565184135732615\n",
      "026th iteration, cost= -20.56537556631499\n",
      "027th iteration, cost= -20.565555139372798\n",
      "028th iteration, cost= -20.565718042526065\n",
      "029th iteration, cost= -20.565874644227588\n",
      "030th iteration, cost= -20.566001264208325\n",
      "031th iteration, cost= -20.566123763614204\n",
      "032th iteration, cost= -20.56620178935465\n",
      "033th iteration, cost= -20.566322551116556\n",
      "034th iteration, cost= -20.566483626900638\n",
      "035th iteration, cost= -20.56664105565886\n",
      "036th iteration, cost= -20.566758446774884\n",
      "037th iteration, cost= -20.56684478349442\n",
      "038th iteration, cost= -20.566889571589165\n",
      "039th iteration, cost= -20.566916163498483\n",
      "040th iteration, cost= -20.566936460845874\n",
      "041th iteration, cost= -20.566958953396316\n",
      "042th iteration, cost= -20.566977182481875\n",
      "043th iteration, cost= -20.56699307789672\n",
      "044th iteration, cost= -20.567008587552916\n",
      "045th iteration, cost= -20.567024339461287\n",
      "046th iteration, cost= -20.567044437243034\n",
      "047th iteration, cost= -20.567059595521727\n",
      "048th iteration, cost= -20.567074440444646\n",
      "049th iteration, cost= -20.56708426344983\n",
      "050th iteration, cost= -20.56709604838652\n",
      "051th iteration, cost= -20.56710716154604\n",
      "052th iteration, cost= -20.56711588321553\n",
      "053th iteration, cost= -20.567126775449736\n",
      "054th iteration, cost= -20.567137640751433\n",
      "055th iteration, cost= -20.56714900103751\n",
      "056th iteration, cost= -20.567162520774982\n",
      "057th iteration, cost= -20.567174973236714\n",
      "058th iteration, cost= -20.567183264814616\n",
      "059th iteration, cost= -20.567190775817043\n",
      "060th iteration, cost= -20.567199389959264\n",
      "061th iteration, cost= -20.56720598039812\n",
      "062th iteration, cost= -20.567211162326423\n",
      "063th iteration, cost= -20.567216603711127\n",
      "064th iteration, cost= -20.567221412741446\n",
      "065th iteration, cost= -20.567226322409578\n",
      "066th iteration, cost= -20.56723132781315\n",
      "067th iteration, cost= -20.567235574426302\n",
      "068th iteration, cost= -20.56723984496302\n",
      "069th iteration, cost= -20.567244291337047\n",
      "070th iteration, cost= -20.567251894174497\n",
      "071th iteration, cost= -20.567257761652606\n",
      "072th iteration, cost= -20.567265454668938\n",
      "073th iteration, cost= -20.567275143879055\n",
      "074th iteration, cost= -20.567286514017827\n",
      "075th iteration, cost= -20.567296669136212\n",
      "076th iteration, cost= -20.567309027933227\n",
      "077th iteration, cost= -20.567321445222156\n",
      "078th iteration, cost= -20.56733728509173\n",
      "079th iteration, cost= -20.567360668204934\n",
      "080th iteration, cost= -20.56738182672896\n",
      "081th iteration, cost= -20.567409241578446\n",
      "082th iteration, cost= -20.567436502741234\n",
      "083th iteration, cost= -20.567456020353443\n",
      "084th iteration, cost= -20.567474912394065\n",
      "085th iteration, cost= -20.567495364218697\n",
      "086th iteration, cost= -20.567515360168997\n",
      "087th iteration, cost= -20.567530702193174\n",
      "088th iteration, cost= -20.567544313974878\n",
      "089th iteration, cost= -20.56755894774375\n",
      "090th iteration, cost= -20.567573234691846\n",
      "091th iteration, cost= -20.567590617099633\n",
      "092th iteration, cost= -20.56761301283854\n",
      "093th iteration, cost= -20.56763497054249\n",
      "094th iteration, cost= -20.567649549165424\n",
      "095th iteration, cost= -20.56766064135637\n",
      "096th iteration, cost= -20.567671160409436\n",
      "097th iteration, cost= -20.567685535579642\n",
      "098th iteration, cost= -20.567697130982094\n",
      "099th iteration, cost= -20.567708678791792\n",
      "100th iteration, cost= -20.567722706625844\n",
      "101th iteration, cost= -20.56773760977678\n",
      "102th iteration, cost= -20.567753032044486\n",
      "103th iteration, cost= -20.56776698231302\n",
      "104th iteration, cost= -20.567783501002285\n",
      "105th iteration, cost= -20.5677998440499\n",
      "106th iteration, cost= -20.567818189180873\n",
      "107th iteration, cost= -20.567834600338\n",
      "108th iteration, cost= -20.567848869586935\n",
      "109th iteration, cost= -20.56786425165573\n",
      "110th iteration, cost= -20.567871902537476\n",
      "111th iteration, cost= -20.567878856925564\n",
      "112th iteration, cost= -20.56788442412003\n",
      "113th iteration, cost= -20.56788915030728\n",
      "114th iteration, cost= -20.56789374837868\n",
      "115th iteration, cost= -20.567898234489892\n",
      "116th iteration, cost= -20.567903581244206\n",
      "117th iteration, cost= -20.567908686170906\n",
      "118th iteration, cost= -20.567913653382767\n",
      "119th iteration, cost= -20.56791724770624\n",
      "120th iteration, cost= -20.567920749174277\n",
      "121th iteration, cost= -20.567924119707115\n",
      "122th iteration, cost= -20.567926707843604\n",
      "123th iteration, cost= -20.56792975555295\n",
      "124th iteration, cost= -20.567932846706572\n",
      "125th iteration, cost= -20.567935382741215\n",
      "126th iteration, cost= -20.567938749672273\n",
      "127th iteration, cost= -20.567940957315134\n",
      "128th iteration, cost= -20.56794353884958\n",
      "129th iteration, cost= -20.567945433341915\n",
      "130th iteration, cost= -20.56794774944307\n",
      "131th iteration, cost= -20.567949631435997\n",
      "132th iteration, cost= -20.567951006744558\n",
      "133th iteration, cost= -20.567952165049746\n",
      "134th iteration, cost= -20.567953350864226\n",
      "135th iteration, cost= -20.567954830644403\n",
      "136th iteration, cost= -20.56795632227774\n",
      "137th iteration, cost= -20.56795768815045\n",
      "138th iteration, cost= -20.567958994576397\n",
      "139th iteration, cost= -20.567960568306756\n",
      "140th iteration, cost= -20.56796226613631\n",
      "141th iteration, cost= -20.56796402132219\n",
      "142th iteration, cost= -20.567965536463465\n",
      "143th iteration, cost= -20.567966996234826\n",
      "144th iteration, cost= -20.567968068637654\n",
      "145th iteration, cost= -20.567969297556473\n",
      "146th iteration, cost= -20.56797041026878\n",
      "147th iteration, cost= -20.5679711845174\n",
      "148th iteration, cost= -20.567971866675922\n",
      "149th iteration, cost= -20.567972408797836\n",
      "150th iteration, cost= -20.567973160187492\n",
      "151th iteration, cost= -20.567974032736327\n",
      "152th iteration, cost= -20.56797516966146\n",
      "153th iteration, cost= -20.567976379469\n",
      "154th iteration, cost= -20.56797725405071\n",
      "155th iteration, cost= -20.56797795356677\n",
      "156th iteration, cost= -20.567978786483263\n",
      "157th iteration, cost= -20.567979708401023\n",
      "158th iteration, cost= -20.567980470447964\n",
      "159th iteration, cost= -20.567981386742446\n",
      "160th iteration, cost= -20.567982070643648\n",
      "161th iteration, cost= -20.567982781946164\n",
      "162th iteration, cost= -20.567983419811153\n",
      "163th iteration, cost= -20.567984233730314\n",
      "164th iteration, cost= -20.567985054759507\n",
      "165th iteration, cost= -20.567985839136757\n",
      "166th iteration, cost= -20.567986915783585\n",
      "167th iteration, cost= -20.567988021864736\n",
      "168th iteration, cost= -20.56798883275972\n",
      "169th iteration, cost= -20.567989269793493\n",
      "170th iteration, cost= -20.567989736693644\n",
      "171th iteration, cost= -20.56799010424036\n",
      "172th iteration, cost= -20.567990267684344\n",
      "173th iteration, cost= -20.567990562783674\n",
      "174th iteration, cost= -20.567991033701485\n",
      "175th iteration, cost= -20.567991333065685\n",
      "176th iteration, cost= -20.567991614505917\n",
      "177th iteration, cost= -20.5679918633447\n",
      "178th iteration, cost= -20.567992106981144\n",
      "179th iteration, cost= -20.567992307866884\n",
      "180th iteration, cost= -20.567992505656694\n",
      "181th iteration, cost= -20.56799273267054\n",
      "182th iteration, cost= -20.56799298470711\n",
      "183th iteration, cost= -20.56799326733268\n",
      "184th iteration, cost= -20.567993464113087\n",
      "185th iteration, cost= -20.567993666262783\n",
      "186th iteration, cost= -20.56799386191179\n",
      "187th iteration, cost= -20.567994040964184\n",
      "188th iteration, cost= -20.56799422389933\n",
      "189th iteration, cost= -20.567994432343998\n",
      "190th iteration, cost= -20.567994532237073\n",
      "191th iteration, cost= -20.56799469983177\n",
      "192th iteration, cost= -20.567994858254483\n",
      "193th iteration, cost= -20.567994992952347\n",
      "194th iteration, cost= -20.56799516542542\n",
      "195th iteration, cost= -20.567995283675483\n",
      "196th iteration, cost= -20.567995434637165\n",
      "197th iteration, cost= -20.56799552990508\n",
      "198th iteration, cost= -20.567995661391418\n",
      "199th iteration, cost= -20.56799579238241\n",
      "200th iteration, cost= -20.56799594378853\n",
      "201th iteration, cost= -20.56799595366689\n"
     ]
    }
   ],
   "source": [
    "params_t = torch.tensor(params, requires_grad=True)\n",
    "# params_t = torch.tensor(params, requires_grad=True, device=torch.device('mps'))\n",
    "\n",
    "opt = torch.optim.LBFGS([params_t])\n",
    "# opt = torch.optim.Adam([params_t])\n",
    "\n",
    "steps = 1000\n",
    "\n",
    "f_logs = [cost_fn(params_t).item()]\n",
    "ftol = 1e-9\n",
    "\n",
    "def closure():\n",
    "    opt.zero_grad()\n",
    "    loss = cost_fn(params_t)\n",
    "    loss.backward()\n",
    "    # print(loss)\n",
    "    return loss\n",
    "\n",
    "for i in range(steps):\n",
    "    opt.step(closure)\n",
    "    fval = cost_fn(opt.param_groups[0]['params'][0]).item()\n",
    "    print(f\"{i+1:03d}th iteration, cost=\", fval)\n",
    "    f_logs.append(fval)\n",
    "    if np.abs((fval-f_logs[-2])/fval) < ftol:\n",
    "        break"
   ]
  },
  {
   "cell_type": "code",
   "execution_count": null,
   "metadata": {},
   "outputs": [
    {
     "data": {
      "text/plain": [
       "[<matplotlib.lines.Line2D at 0x28903d7e0>]"
      ]
     },
     "execution_count": 24,
     "metadata": {},
     "output_type": "execute_result"
    },
    {
     "data": {
      "image/png": "[encoded data removed]",
      "text/plain": [
       "<Figure size 640x480 with 1 Axes>"
      ]
     },
     "metadata": {},
     "output_type": "display_data"
    }
   ],
   "source": [
    "import matplotlib.pyplot as plt\n",
    "\n",
    "plt.plot(f_logs)"
   ]
  },
  {
   "cell_type": "code",
   "execution_count": null,
   "metadata": {},
   "outputs": [
    {
     "data": {
      "text/plain": [
       "-20.568362531361974"
      ]
     },
     "execution_count": 25,
     "metadata": {},
     "output_type": "execute_result"
    }
   ],
   "source": [
    "exact_level = eval[0].real\n",
    "D4_level = -20.529440911386118\n",
    "exact_level"
   ]
  },
  {
   "cell_type": "code",
   "execution_count": null,
   "metadata": {},
   "outputs": [
    {
     "data": {
      "text/plain": [
       "[array(-5.48974699),\n",
       " array(-8.16637053),\n",
       " array(-10.46691466),\n",
       " array(-12.67104459),\n",
       " array(-14.91373869)]"
      ]
     },
     "execution_count": 26,
     "metadata": {},
     "output_type": "execute_result"
    }
   ],
   "source": [
    "import pickle\n",
    "\n",
    "with open('linear_rand_logs.pickle', 'rb') as f:\n",
    "    rand_f_logs = pickle.load(f)['f_logs']\n",
    "    \n",
    "rand_f_logs[:5]"
   ]
  },
  {
   "cell_type": "code",
   "execution_count": null,
   "metadata": {},
   "outputs": [
    {
     "data": {
      "image/png": "[encoded data removed]",
      "text/plain": [
       "<Figure size 640x480 with 1 Axes>"
      ]
     },
     "metadata": {},
     "output_type": "display_data"
    }
   ],
   "source": [
    "fig, ax1 = plt.subplots()\n",
    "\n",
    "ax1.plot(np.arange(len(f_logs))+1, np.abs((exact_level-f_logs)/exact_level), label=\"MPS\")\n",
    "ax1.plot(np.arange(len(rand_f_logs))+1, np.abs((exact_level-rand_f_logs)/exact_level), label=\"Random\")\n",
    "ax1.hlines(np.abs((exact_level-D4_level)/exact_level), 0, 1200, colors='black', linestyles='--', label='D=4 DMRG')\n",
    "\n",
    "ax1.set_yscale('log')\n",
    "# ax1.set_ylim(0.1, 1.0)\n",
    "ax1.set_xlim(-20, 1220)\n",
    "ax1.set_xlabel('# Steps')\n",
    "ax1.set_ylabel(r'$|(E_g-E)/E_g|$')\n",
    "ax1.legend()\n",
    "# ax1.set_xticks([20, 300, 500])\n",
    "plt.show()"
   ]
  },
  {
   "cell_type": "code",
   "execution_count": null,
   "metadata": {},
   "outputs": [],
   "source": [
    "data = {\n",
    "    'f_logs': f_logs\n",
    "}\n",
    "with open('torch_kak_5linear_MPS_logs.pickle', 'wb') as f:\n",
    "    pickle.dump(data, f, pickle.HIGHEST_PROTOCOL)"
   ]
  },
  {
   "cell_type": "code",
   "execution_count": null,
   "metadata": {},
   "outputs": [],
   "source": []
  }
 ],
 "metadata": {
  "kernelspec": {
   "display_name": "QC",
   "language": "python",
   "name": "python3"
  },
  "language_info": {
   "codemirror_mode": {
    "name": "ipython",
    "version": 3
   },
   "file_extension": ".py",
   "mimetype": "text/x-python",
   "name": "python",
   "nbconvert_exporter": "python",
   "pygments_lexer": "ipython3",
   "version": "3.10.12"
  },
  "orig_nbformat": 4
 },
 "nbformat": 4,
 "nbformat_minor": 2
}
