{
 "cells": [
  {
   "cell_type": "code",
   "execution_count": 25,
   "metadata": {},
   "outputs": [],
   "source": [
    "import pennylane as qml\n",
    "import numpy as np"
   ]
  },
  {
   "cell_type": "code",
   "execution_count": 26,
   "metadata": {},
   "outputs": [],
   "source": [
    "dev = qml.device('default.mixed', wires=1)\n",
    "\n",
    "Hamiltonian = qml.Hamiltonian(\n",
    "    coeffs = [1], \n",
    "    observables = [qml.PauliY(0)]\n",
    ")\n",
    "\n",
    "@qml.qnode(dev)\n",
    "def circuit(theta_in):\n",
    "    # case_1\n",
    "#    qml.PauliRot(theta_in, 'Y', wires=0)\n",
    "\n",
    "    # case_2\n",
    "   qml.ApproxTimeEvolution(Hamiltonian, theta_in, 1)\n",
    "   \n",
    "   return qml.density_matrix(wires=0)"
   ]
  },
  {
   "cell_type": "markdown",
   "metadata": {},
   "source": [
    "### case_1\n",
    "\n",
    "$$ R_y(\\theta) = e^{-i \\frac{\\theta}{2} Y} $$\n",
    "\n",
    "where,\n",
    "$$Y = \\begin{pmatrix} 0 & -i \\\\ i & 0 \\end{pmatrix}$$\n",
    "\n",
    "\n",
    "### case_2\n",
    "\n",
    "$$ U(t) = e^{-i H t} $$\n",
    "\n",
    "$$ U(t) = e^{-i Y t} $$\n",
    "\n",
    "where,\n",
    "$$ Y = \\begin{pmatrix} 0 & -i \\\\ i & 0 \\end{pmatrix}$$\n",
    "\n"
   ]
  },
  {
   "cell_type": "code",
   "execution_count": 28,
   "metadata": {},
   "outputs": [
    {
     "data": {
      "text/plain": [
       "array([[0.5, 0.5],\n",
       "       [0.5, 0.5]])"
      ]
     },
     "execution_count": 28,
     "metadata": {},
     "output_type": "execute_result"
    }
   ],
   "source": [
    "circuit(np.pi/2).real"
   ]
  }
 ],
 "metadata": {
  "kernelspec": {
   "display_name": "Python 3",
   "language": "python",
   "name": "python3"
  },
  "language_info": {
   "codemirror_mode": {
    "name": "ipython",
    "version": 3
   },
   "file_extension": ".py",
   "mimetype": "text/x-python",
   "name": "python",
   "nbconvert_exporter": "python",
   "pygments_lexer": "ipython3",
   "version": "3.11.4"
  }
 },
 "nbformat": 4,
 "nbformat_minor": 2
}
