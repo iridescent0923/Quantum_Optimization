{
 "cells": [
  {
   "cell_type": "code",
   "execution_count": 2,
   "metadata": {},
   "outputs": [],
   "source": [
    "import pennylane as qml\n",
    "\n",
    "import numpy as np\n"
   ]
  },
  {
   "cell_type": "code",
   "execution_count": 3,
   "metadata": {},
   "outputs": [],
   "source": [
    "dev = qml.device('default.mixed', wires=3)"
   ]
  },
  {
   "cell_type": "code",
   "execution_count": null,
   "metadata": {},
   "outputs": [],
   "source": [
    "dev = qml.device('default.qubit', wires=1)\n",
    "\n",
    "@qml.qnode(dev)\n",
    "def haar_random_unitary(phi, theta):\n",
    "    qml.Rot(phi, theta, 0, wires=0)\n",
    "    state_1 = qml.state()\n",
    "    # return state_1 @ state_1.T.conj()\n",
    "    return qml.density_matrix(wires=0)"
   ]
  },
  {
   "cell_type": "code",
   "execution_count": null,
   "metadata": {},
   "outputs": [],
   "source": [
    "# from scipy.stats import rv_continuous\n",
    "# class sin_prob_dist(rv_continuous):\n",
    "#     def _pdf(self, theta):\n",
    "#         # The 0.5 is so that the distribution is normalized\n",
    "#         return 0.5 * np.sin(theta)\n",
    "# # Samples of theta should be drawn from between 0 and pi\n",
    "# sin_sampler = sin_prob_dist(a=0, b=np.pi)\n",
    "# import pennylane as qml\n",
    "# # Use the mixed state simulator to save some steps in plotting later\n",
    "# # qubit 으로 바꿈\n",
    "dev = qml.device('default.qubit', wires=1)\n",
    "@qml.qnode(dev)\n",
    "def haar_random_unitary(phi, theta):\n",
    "    qml.Rot(phi, theta, 0, wires=0)\n",
    "    state_1 = qml.state()\n",
    "    # =========\n",
    "    rho = state_1 @ state_1.conj().T\n",
    "    \n",
    "    # =========\n",
    "\n",
    "    return state_1 @ state_1.T.conj()\n",
    "case = 0\n",
    "print(\"@#@#@#@##\")\n",
    "while True :\n",
    "    case += 1\n",
    "    theta = sin_sampler.rvs(size=1) # Sample theta from our new distribution\n",
    "    phi = 2 * np.pi * np.random.uniform(size=1) # Sample phi and omega as normal\n",
    "    rho = haar_random_unitary(phi, theta)"
   ]
  }
 ],
 "metadata": {
  "kernelspec": {
   "display_name": "Python 3",
   "language": "python",
   "name": "python3"
  },
  "language_info": {
   "codemirror_mode": {
    "name": "ipython",
    "version": 3
   },
   "file_extension": ".py",
   "mimetype": "text/x-python",
   "name": "python",
   "nbconvert_exporter": "python",
   "pygments_lexer": "ipython3",
   "version": "3.11.4"
  }
 },
 "nbformat": 4,
 "nbformat_minor": 2
}
