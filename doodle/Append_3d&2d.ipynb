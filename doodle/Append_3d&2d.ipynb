{
 "cells": [
  {
   "cell_type": "code",
   "execution_count": 1,
   "metadata": {},
   "outputs": [],
   "source": [
    "import numpy as np"
   ]
  },
  {
   "cell_type": "code",
   "execution_count": 15,
   "metadata": {},
   "outputs": [
    {
     "data": {
      "text/plain": [
       "array([[[0., 0., 0., 0.],\n",
       "        [1., 0., 0., 0.],\n",
       "        [2., 0., 0., 0.],\n",
       "        [3., 0., 0., 0.],\n",
       "        [4., 0., 0., 0.],\n",
       "        [5., 0., 0., 0.],\n",
       "        [6., 0., 0., 0.],\n",
       "        [7., 0., 0., 0.]],\n",
       "\n",
       "       [[0., 0., 0., 0.],\n",
       "        [1., 0., 0., 0.],\n",
       "        [2., 0., 0., 0.],\n",
       "        [3., 0., 0., 0.],\n",
       "        [4., 0., 0., 0.],\n",
       "        [5., 0., 0., 0.],\n",
       "        [6., 0., 0., 0.],\n",
       "        [7., 0., 0., 0.]]])"
      ]
     },
     "execution_count": 15,
     "metadata": {},
     "output_type": "execute_result"
    }
   ],
   "source": [
    "# How I append 2-d array in to 3-d array\n",
    "\n",
    "PHI = np.arange(0, 8, 1)\n",
    "\n",
    "Data = np.zeros((2, len(PHI), 4))\n",
    "\n",
    "Data[:,:,0] = PHI\n",
    "\n",
    "Data"
   ]
  }
 ],
 "metadata": {
  "kernelspec": {
   "display_name": "Python 3",
   "language": "python",
   "name": "python3"
  },
  "language_info": {
   "codemirror_mode": {
    "name": "ipython",
    "version": 3
   },
   "file_extension": ".py",
   "mimetype": "text/x-python",
   "name": "python",
   "nbconvert_exporter": "python",
   "pygments_lexer": "ipython3",
   "version": "3.11.4"
  },
  "orig_nbformat": 4
 },
 "nbformat": 4,
 "nbformat_minor": 2
}
