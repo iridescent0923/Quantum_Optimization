{
 "cells": [
  {
   "cell_type": "code",
   "execution_count": 63,
   "metadata": {},
   "outputs": [],
   "source": [
    "import pennylane as qml\n",
    "\n",
    "from pennylane import numpy as np\n",
    "\n",
    "import matplotlib.pyplot as plt\n",
    "\n",
    "import numpy as np_\n",
    "\n",
    "dev = qml.device('default.mixed', wires = 1)\n",
    "\n",
    "\n",
    "# == Hamiltonain ==\n",
    "coeffs = [1]\n",
    "obs = [qml.PauliZ(0)]\n",
    "\n",
    "hamiltonian = qml.Hamiltonian(coeffs, obs)"
   ]
  },
  {
   "cell_type": "code",
   "execution_count": 67,
   "metadata": {},
   "outputs": [
    {
     "data": {
      "text/plain": [
       "array([0.03806023, 0.96193977])"
      ]
     },
     "execution_count": 67,
     "metadata": {},
     "output_type": "execute_result"
    }
   ],
   "source": [
    "theta = np.pi/8\n",
    "\n",
    "@qml.qnode(dev)\n",
    "def circuit(theta):\n",
    "    qml.Hadamard(wires=0)\n",
    "    \n",
    "    qml.ApproxTimeEvolution(hamiltonian, -theta/2, 1)\n",
    "    \n",
    "    # qml.Hadamard(wires=0)\n",
    "    qml.RY(np.pi/2, wires=0)\n",
    "    \n",
    "    return qml.probs(wires=0)\n",
    "    # return qml.density_matrix(wires=0)\n",
    "\n",
    "\n",
    "circuit(theta)\n",
    "    \n",
    "    "
   ]
  },
  {
   "cell_type": "code",
   "execution_count": 65,
   "metadata": {},
   "outputs": [
    {
     "data": {
      "text/plain": [
       "array([0.96193977-0.19134172j, 0.03806023+0.19134172j])"
      ]
     },
     "execution_count": 65,
     "metadata": {},
     "output_type": "execute_result"
    }
   ],
   "source": [
    "state = np_.array([1+np.exp(-1.j*theta), 1-np.exp(-1.j*theta)])/2 \n",
    "\n",
    "state"
   ]
  }
 ],
 "metadata": {
  "kernelspec": {
   "display_name": "Python 3",
   "language": "python",
   "name": "python3"
  },
  "language_info": {
   "codemirror_mode": {
    "name": "ipython",
    "version": 3
   },
   "file_extension": ".py",
   "mimetype": "text/x-python",
   "name": "python",
   "nbconvert_exporter": "python",
   "pygments_lexer": "ipython3",
   "version": "3.0.0"
  }
 },
 "nbformat": 4,
 "nbformat_minor": 2
}
