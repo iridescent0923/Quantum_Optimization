{
 "cells": [
  {
   "cell_type": "code",
   "execution_count": 8,
   "metadata": {},
   "outputs": [],
   "source": [
    "import pennylane as qml\n",
    "from pennylane import numpy as np\n",
    "from pennylane.optimize import NesterovMomentumOptimizer\n",
    "\n",
    "dev = qml.device(\"default.qubit\", wires = 4)\n",
    "\n",
    "def Rot(R):\n",
    "    \n",
    "    qml.Rot(R[0, 0],R[0, 1],R[0, 2], wires=0)\n",
    "    qml.Rot(R[1, 0],R[1, 1],R[1, 2], wires=1)\n",
    "    qml.Rot(R[2, 0],R[2, 1],R[2, 2], wires=2)\n",
    "    qml.Rot(R[3, 0],R[3, 1],R[3, 2], wires=3)\n",
    "    \n",
    "    qml.CNOT(wires=[0, 1])\n",
    "    qml.CNOT(wires=[1, 2])\n",
    "    qml.CNOT(wires=[2, 3])\n",
    "    qml.CNOT(wires=[3, 0])\n",
    "    \n",
    "# convert to quantum state info \n",
    "def stateprep(x):\n",
    "    qml.BasisState(x, wires = [0, 1, 2, 3])\n",
    "    \n",
    "    \n",
    "@qml.qnode(dev, interface=\"autograd\")\n",
    "def circuit(weights, x):\n",
    "    \n",
    "    stateprep(x)\n",
    "    \n",
    "    for R in weights:\n",
    "        Rot(R)\n",
    "        \n",
    "        \n",
    "    return qml.expval(qml.PauliZ(0))\n",
    "    "
   ]
  },
  {
   "cell_type": "code",
   "execution_count": null,
   "metadata": {},
   "outputs": [],
   "source": [
    "def square_loss(labels, predicitons):\n",
    "    loss = 0\n",
    "    for l, p in zip(labels, predicitons):\n",
    "        loss = loss + (1-p)**2\n",
    "        \n",
    "        \n"
   ]
  }
 ],
 "metadata": {
  "kernelspec": {
   "display_name": "Python 3",
   "language": "python",
   "name": "python3"
  },
  "language_info": {
   "codemirror_mode": {
    "name": "ipython",
    "version": 3
   },
   "file_extension": ".py",
   "mimetype": "text/x-python",
   "name": "python",
   "nbconvert_exporter": "python",
   "pygments_lexer": "ipython3",
   "version": "3.11.3"
  },
  "orig_nbformat": 4
 },
 "nbformat": 4,
 "nbformat_minor": 2
}
