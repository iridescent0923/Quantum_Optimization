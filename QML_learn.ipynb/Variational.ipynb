{
 "cells": [
  {
   "cell_type": "code",
   "execution_count": 2,
   "metadata": {},
   "outputs": [],
   "source": [
    "import pennylane as qml\n",
    "from pennylane import numpy as np\n",
    "from pennylane.optimize import NesterovMomentumOptimizer\n",
    "\n",
    "dev = qml.device(\"default.qubit\", wires = 4)\n",
    "\n",
    "def layer(W):\n",
    "\n",
    "    qml.Rot(W[0, 0], W[0, 1], W[0, 2], wires = 0)\n",
    "    qml.Rot(W[1, 0], W[1, 1], W[1, 2], wires = 0)\n",
    "    qml.Rot(W[2, 0], W[2, 1], W[2, 2], wires = 0)\n",
    "    qml.Rot(W[3, 0], W[3, 1], W[3, 2], wires = 0)\n",
    "\n",
    "    qml.CNOT(wires=[0, 1])\n",
    "    qml.CNOT(wires=[1, 2])\n",
    "    qml.CNOT(wires=[2, 3])\n",
    "    qml.CNOT(wires=[3, 0])\n",
    "    \n",
    "    \n",
    "def state_init(x):\n",
    "    qml.BasisState(x, wires = [0, 1, 2, 3])\n",
    "\n",
    "#  circuit defined as dev(linking), \"autograd\" => enabling auto tracking for gradient while training \n",
    "@qml.qnode(dev, interface= \"autograd\")\n",
    "def circuit(weights, x):\n",
    "\n",
    "    state_init(x)\n",
    "\n",
    "    for W in weights:\n",
    "        layer(W)\n",
    "\n",
    "    return qml.expval(qml.PauliZ(0))\n",
    "\n",
    "def variational_classifier(weights, bias, x):\n",
    "    \n",
    "    return circuit(weights, x) + bias\n",
    "\n",
    "\n"
   ]
  },
  {
   "cell_type": "code",
   "execution_count": 5,
   "metadata": {},
   "outputs": [],
   "source": [
    "# define loss, accuracy, cost\n",
    "\n",
    "\n",
    "def loss(labels, predicitons):\n",
    "    \n",
    "    loss = 0\n",
    "    \n",
    "    for l, p in zip(labels, predicitons):\n",
    "        loss = loss +(l-p)**2\n",
    "        \n",
    "    loss = loss / len(labels)\n",
    "    return loss\n",
    "\n",
    "def accuracy(labels, predictions):\n",
    "    loss = 0 \n",
    "    \n",
    "    for l, p in zip(labels, predictions):\n",
    "        if(abs(1-predictions) < 1e-5):\n",
    "            \n",
    "            \n",
    "            loss = loss + 1\n",
    "            \n",
    "            \n",
    "    return loss \n",
    "            \n",
    "    "
   ]
  }
 ],
 "metadata": {
  "kernelspec": {
   "display_name": "base",
   "language": "python",
   "name": "python3"
  },
  "language_info": {
   "codemirror_mode": {
    "name": "ipython",
    "version": 3
   },
   "file_extension": ".py",
   "mimetype": "text/x-python",
   "name": "python",
   "nbconvert_exporter": "python",
   "pygments_lexer": "ipython3",
   "version": "3.11.3"
  },
  "orig_nbformat": 4
 },
 "nbformat": 4,
 "nbformat_minor": 2
}
