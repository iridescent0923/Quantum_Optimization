{
 "cells": [
  {
   "cell_type": "code",
   "execution_count": 3,
   "metadata": {},
   "outputs": [
    {
     "data": {
      "text/plain": [
       "tensor([ 0.59422561, -0.02615095, -0.03989212], requires_grad=True)"
      ]
     },
     "execution_count": 3,
     "metadata": {},
     "output_type": "execute_result"
    }
   ],
   "source": [
    "import pennylane as qml\n",
    "import pennylane.numpy as pnp\n",
    "\n",
    "n_wires = 2\n",
    "\n",
    "dev = qml.device(\"default.qubit\", wires=n_wires)\n",
    "\n",
    "H = 1.*qml.PauliX(0) @ qml.PauliX(1) - 0.5 * qml.PauliZ(1)\n",
    "\n",
    "@qml.qnode(dev)\n",
    "def circuit(params):\n",
    "    qml.RY(params[0], wires=1)\n",
    "    qml.CNOT(wires=(1,0))\n",
    "    qml.RY(params[1], wires=1)\n",
    "    qml.RZ(params[2], wires=1)\n",
    "    return qml.expval(H)\n",
    "\n",
    "params = pnp.array([0.5, 1., 0.2], requires_grad=True)\n",
    "\n",
    "gradient = qml.grad(circuit)(params)\n",
    "quantum_fisher_info = qml.qinfo.quantum_fisher(circuit)(params)\n",
    "\n",
    "\n",
    "quantum_fisher_info @ gradient"
   ]
  },
  {
   "cell_type": "code",
   "execution_count": 2,
   "metadata": {},
   "outputs": [
    {
     "name": "stderr",
     "output_type": "stream",
     "text": [
      "/Users/dongukkim/anaconda3/lib/python3.11/site-packages/pennylane/transforms/metric_tensor.py:428: UserWarning: The device does not have a wire that is not used by the tape.\n",
      "\n",
      "Reverting to the block-diagonal approximation. It will often be much more efficient to request the block-diagonal approximation directly!\n",
      "  warnings.warn(\n"
     ]
    }
   ],
   "source": [
    "dev = qml.device(\"default.qubit\", wires = n_wires, shots = 100)\n",
    "@qml.qnode(dev)\n",
    "def circuit(params):\n",
    "        qml.RY(params[0], wires = 1)\n",
    "        qml.CNOT(wires=(1,0 ))\n",
    "        qml.RY(params[1], wires = 1)\n",
    "        qml.RY(params[2], wires = 1)\n",
    "        return qml.expval(H)\n",
    "        \n",
    "        \n",
    "quantum_fisher_info = qml.qinfo.quantum_fisher(circuit)(params)"
   ]
  }
 ],
 "metadata": {
  "kernelspec": {
   "display_name": "base",
   "language": "python",
   "name": "python3"
  },
  "language_info": {
   "codemirror_mode": {
    "name": "ipython",
    "version": 3
   },
   "file_extension": ".py",
   "mimetype": "text/x-python",
   "name": "python",
   "nbconvert_exporter": "python",
   "pygments_lexer": "ipython3",
   "version": "3.11.3"
  },
  "orig_nbformat": 4
 },
 "nbformat": 4,
 "nbformat_minor": 2
}
