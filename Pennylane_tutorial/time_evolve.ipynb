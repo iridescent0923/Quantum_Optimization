{
 "cells": [
  {
   "cell_type": "code",
   "execution_count": 21,
   "metadata": {},
   "outputs": [
    {
     "name": "stdout",
     "output_type": "stream",
     "text": [
      "  (0.2) [X0]\n"
     ]
    }
   ],
   "source": [
    "import pennylane as qml\n",
    "from pennylane.templates import ApproxTimeEvolution\n",
    "\n",
    "\n",
    "coeffs = [0.2]\n",
    "obs = [qml.PauliX(0)]\n",
    "\n",
    "H = qml.Hamiltonian(coeffs, obs)\n",
    "\n",
    "H\n",
    "\n",
    "# dev = qml.device('default.qubit', wires=2)\n",
    "\n",
    "# hamiltonian = qml.Hamiltonian(1, qml.PauliX(0))\n",
    "\n",
    "# @qml.qnode(dev)\n",
    "# def circuit(time):\n",
    "#     ApproxTimeEvolution(hamiltonian, time, 2)\n",
    "#     return [qml.expval(qml.PauliZ(wires=0))]"
   ]
  }
 ],
 "metadata": {
  "kernelspec": {
   "display_name": "Python 3",
   "language": "python",
   "name": "python3"
  },
  "language_info": {
   "codemirror_mode": {
    "name": "ipython",
    "version": 3
   },
   "file_extension": ".py",
   "mimetype": "text/x-python",
   "name": "python",
   "nbconvert_exporter": "python",
   "pygments_lexer": "ipython3",
   "version": "3.10.6"
  },
  "orig_nbformat": 4
 },
 "nbformat": 4,
 "nbformat_minor": 2
}
