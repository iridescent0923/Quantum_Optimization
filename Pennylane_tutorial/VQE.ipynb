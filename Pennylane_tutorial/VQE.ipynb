{
 "cells": [
  {
   "cell_type": "code",
   "execution_count": 7,
   "metadata": {},
   "outputs": [
    {
     "name": "stdout",
     "output_type": "stream",
     "text": [
      "6\n",
      "[1 1 0 0 0 0]\n"
     ]
    }
   ],
   "source": [
    "import pennylane as qml\n",
    "from pennylane import numpy as np\n",
    "from pennylane import qchem\n",
    "\n",
    "symbols = [\"H\", \"H\", \"H\"]\n",
    "coordinates = np.array([ [0.0102, 0.0442, 0], [0.9867, 1.6303, 0], [1.8720, -0.0085, 0]])\n",
    "\n",
    "hamiltonian, qubits = qchem.molecular_hamiltonian(symbols, coordinates, charge=1)\n",
    "\n",
    "print(qubits)\n",
    "\n",
    "hf = qchem.hf_state(electrons=2, orbitals=6)\n",
    "print(hf)"
   ]
  },
  {
   "cell_type": "code",
   "execution_count": 13,
   "metadata": {},
   "outputs": [
    {
     "data": {
      "text/plain": [
       "tensor(-1.24655016, requires_grad=True)"
      ]
     },
     "execution_count": 13,
     "metadata": {},
     "output_type": "execute_result"
    }
   ],
   "source": [
    "num_wires = qubits\n",
    "dev = qml.device(\"default.qubit\", wires = num_wires)\n",
    "\n",
    "@qml.qnode(dev)\n",
    "def exp_energy(state):\n",
    "    qml.BasisState(np.array(state), wires = range(num_wires))\n",
    "    return qml.expval(hamiltonian)\n",
    "\n",
    "\n",
    "exp_energy(hf)\n",
    "#  we got expectation value of the hamiltonaian. How can we min it?"
   ]
  },
  {
   "cell_type": "code",
   "execution_count": null,
   "metadata": {},
   "outputs": [],
   "source": [
    "# Trial ground state"
   ]
  }
 ],
 "metadata": {
  "kernelspec": {
   "display_name": "Python 3",
   "language": "python",
   "name": "python3"
  },
  "language_info": {
   "codemirror_mode": {
    "name": "ipython",
    "version": 3
   },
   "file_extension": ".py",
   "mimetype": "text/x-python",
   "name": "python",
   "nbconvert_exporter": "python",
   "pygments_lexer": "ipython3",
   "version": "3.10.6"
  },
  "orig_nbformat": 4
 },
 "nbformat": 4,
 "nbformat_minor": 2
}
