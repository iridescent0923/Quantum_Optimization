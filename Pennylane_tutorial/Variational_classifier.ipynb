{
 "cells": [
  {
   "cell_type": "code",
   "execution_count": 1,
   "metadata": {},
   "outputs": [],
   "source": [
    "import pennylane as qml\n",
    "from pennylane import numpy as np\n",
    "from pennylane.optimize import NesterovMomentumOptimizer\n",
    "\n",
    "dev = qml.device(\"default.qubit\", wires = 4)\n",
    "#  define device as 4 qubits"
   ]
  },
  {
   "cell_type": "code",
   "execution_count": 2,
   "metadata": {},
   "outputs": [],
   "source": [
    "def layer(W):\n",
    "\n",
    "    qml.Rot(W[0, 0], W[0, 1], W[0, 2], wires = 0)\n",
    "    qml.Rot(W[1, 0], W[1, 1], W[1, 2], wires = 0)\n",
    "    qml.Rot(W[2, 0], W[2, 1], W[2, 2], wires = 0)\n",
    "    qml.Rot(W[3, 0], W[3, 1], W[3, 2], wires = 0)\n",
    "\n",
    "    qml.CNOT(wires=[0, 1])\n",
    "    qml.CNOT(wires=[1, 2])\n",
    "    qml.CNOT(wires=[2, 3])\n",
    "    qml.CNOT(wires=[3, 0])"
   ]
  },
  {
   "attachments": {},
   "cell_type": "markdown",
   "metadata": {},
   "source": [
    "Step1: Applying rotation\n",
    "=> data: W[angle1, angle2, angle3] ...\n",
    "\n",
    "Step2: Applying CNOT(entanglement)"
   ]
  },
  {
   "cell_type": "code",
   "execution_count": 3,
   "metadata": {},
   "outputs": [],
   "source": [
    "def state_init(x):\n",
    "    qml.BasisState(x, wires = [0, 1, 2, 3])\n",
    "\n",
    "#  circuit defined as dev(linking), \"autograd\" => enabling auto tracking for gradient while training \n",
    "@qml.qnode(dev, interface= \"autograd\")\n",
    "def circuit(weights, x):\n",
    "\n",
    "    state_init(x)\n",
    "\n",
    "    for W in weights:\n",
    "        layer(W)\n",
    "\n",
    "    return qml.expval(qml.PauliZ(0))"
   ]
  },
  {
   "attachments": {},
   "cell_type": "markdown",
   "metadata": {},
   "source": [
    "state_init(x):\n",
    "=> classical data -> quantumstate\n",
    "\n",
    "circuit(weights, x):\n",
    "=> Set to quantumstate. Applying encoding(=rotation, CNOT) for varable weights(angle data in array)\n",
    "\n",
    "return measurement on z axis"
   ]
  },
  {
   "cell_type": "code",
   "execution_count": 4,
   "metadata": {},
   "outputs": [],
   "source": [
    "def variational_classifier(weights, bias, x):\n",
    "    \n",
    "    return circuit(weights, x) + bias"
   ]
  },
  {
   "attachments": {},
   "cell_type": "markdown",
   "metadata": {},
   "source": [
    "variational_classifier(weights, bias, x):\n",
    "=> return prediciton value(y^) "
   ]
  },
  {
   "cell_type": "code",
   "execution_count": 5,
   "metadata": {},
   "outputs": [],
   "source": [
    "def square_loss(labels, predictions):\n",
    "    loss = 0\n",
    "\n",
    "    # for variables in zip(x, y) => x, y data를 variables에 mapping 해준다. \n",
    "    for l,p in zip(labels, predictions):\n",
    "        loss = loss + (l-p)**2\n",
    "\n",
    "    # len: return number of items\n",
    "    loss = loss / len(labels)\n",
    "    return loss\n",
    "\n",
    "\n",
    "def accuracy(labels, predictions):\n",
    "\n",
    "    loss = 0\n",
    "    for l, p in zip(labels, predictions):\n",
    "        # 1e-5 : 오차 감안 값(not exactly 0)\n",
    "        if abs(1-p) < 1e-5:\n",
    "            loss = loss + 1\n",
    "\n",
    "    loss = loss / len(labels)\n",
    "\n",
    "    return loss\n",
    "\n",
    "\n",
    "def cost(weights, bias, X, Y):\n",
    "    predictions = [variational_classifier(weights, bias, x) for x in X]\n",
    "\n",
    "    return square_loss(Y, predictions)\n"
   ]
  },
  {
   "attachments": {},
   "cell_type": "markdown",
   "metadata": {},
   "source": [
    "square_loss(labels, predictions):\n",
    "=> Applying cost\n",
    "\n",
    "COST: (1/N) * sigma_i(y-y_i)^2\n",
    "\n",
    "\n",
    "accuracy(labels, predcitions):\n",
    "=> calculating accuracy\n",
    "\n",
    "returns how many inputs classifier predicted correctly(value of counter)\n",
    "\n",
    "\n",
    "cost(weights, bias, X, Y):\n",
    "=> calculating final cost value\n",
    "    1) calculating predictions(y^) by using predicitons = variational_classifier(weights, bias, x) for x in X\n",
    "    2) calculating square loss by using square_loss(Y, predictions(=y^))"
   ]
  },
  {
   "cell_type": "code",
   "execution_count": 6,
   "metadata": {},
   "outputs": [
    {
     "name": "stdout",
     "output_type": "stream",
     "text": [
      "X = [0. 0. 0. 0.], Y = -1\n",
      "X = [0. 0. 0. 1.], Y =  1\n",
      "X = [0. 0. 1. 0.], Y =  1\n",
      "X = [0. 0. 1. 1.], Y = -1\n",
      "X = [0. 1. 0. 0.], Y =  1\n",
      ". . .\n"
     ]
    }
   ],
   "source": [
    "data = np.loadtxt(\"/home/iridescent923/home/Pennylane_tutorial/parity.txt\")\n",
    "\n",
    "#  data[:, :-1 ] => 행*열: 마지막 열(row) cut out\n",
    "X = np.array(data[:, :-1], requires_grad = False)\n",
    "\n",
    "# Y = data[:, -1] => 마지막 열(col)만 포함 => 가로(row)로 저장 \n",
    "Y = np.array(data[:, -1], requires_grad = False)\n",
    "Y = Y * 2 - np.ones(len(Y))\n",
    "\n",
    "for i in range(5):\n",
    "    print(\"X = {}, Y = {: d}\". format(X[i], int(Y[i])))\n",
    "\n",
    "\n",
    "print(\". . .\")"
   ]
  },
  {
   "attachments": {},
   "cell_type": "markdown",
   "metadata": {},
   "source": [
    "0 0 0 0 0\n",
    "0 0 0 1 1\n",
    "0 0 1 0 1\n",
    "0 0 1 1 0\n",
    "\n",
    "X = [:, :-1] and Y = [:, -1]\n",
    "\n",
    "X = 마지막 col뺴고 저장; execpt last column \n",
    "Y = 마지막 col만 저장(= label)"
   ]
  },
  {
   "cell_type": "code",
   "execution_count": 7,
   "metadata": {},
   "outputs": [
    {
     "name": "stdout",
     "output_type": "stream",
     "text": [
      "[[[ 0.01764052  0.00400157  0.00978738]\n",
      "  [ 0.02240893  0.01867558 -0.00977278]\n",
      "  [ 0.00950088 -0.00151357 -0.00103219]\n",
      "  [ 0.00410599  0.00144044  0.01454274]]\n",
      "\n",
      " [[ 0.00761038  0.00121675  0.00443863]\n",
      "  [ 0.00333674  0.01494079 -0.00205158]\n",
      "  [ 0.00313068 -0.00854096 -0.0255299 ]\n",
      "  [ 0.00653619  0.00864436 -0.00742165]]]\n",
      "\n",
      "\n",
      "0.0\n"
     ]
    }
   ],
   "source": [
    "#  generating random number\n",
    "np.random.seed(0)\n",
    "\n",
    "num_qubits = 4\n",
    "num_layers = 2\n",
    "#  requires_grad = True => track the gradient on training\n",
    "weights_init = 0.01 * np.random.randn(num_layers, num_qubits, 3, requires_grad = True)\n",
    "bias_init = np.array(0.0, requires_grad = True)\n",
    "\n",
    "print(weights_init)\n",
    "print('\\n')\n",
    "print(bias_init)"
   ]
  },
  {
   "attachments": {},
   "cell_type": "markdown",
   "metadata": {},
   "source": [
    "weights_init = 0.01 * np.random.randn(2, 4, 3, requires_grad = True)\n",
    "\n",
    "OUT:\n",
    "[[[ 0.01764052  0.00400157  0.00978738]\n",
    "  [ 0.02240893  0.01867558 -0.00977278]\n",
    "  [ 0.00950088 -0.00151357 -0.00103219]\n",
    "  [ 0.00410599  0.00144044  0.01454274]]\n",
    "\n",
    " [[ 0.00761038  0.00121675  0.00443863]\n",
    "  [ 0.00333674  0.01494079 -0.00205158]\n",
    "  [ 0.00313068 -0.00854096 -0.0255299 ]\n",
    "  [ 0.00653619  0.00864436 -0.00742165]]]\n",
    "\n",
    "\n",
    "=> \n",
    "random.randn => 난수 생성\n",
    "array set = 2, row = 4, col = 3"
   ]
  },
  {
   "cell_type": "code",
   "execution_count": 8,
   "metadata": {},
   "outputs": [
    {
     "name": "stdout",
     "output_type": "stream",
     "text": [
      "Iter:     1 | Cost: 3.4223141 | Accuracy: 0.0000000 \n",
      "Iter:     2 | Cost: 1.3291641 | Accuracy: 0.5000000 \n",
      "Iter:     3 | Cost: 1.8847136 | Accuracy: 0.5000000 \n",
      "Iter:     4 | Cost: 1.9897607 | Accuracy: 0.5000000 \n",
      "Iter:     5 | Cost: 1.2847100 | Accuracy: 0.0000000 \n",
      "Iter:     6 | Cost: 2.6672535 | Accuracy: 1.0000000 \n",
      "Iter:     7 | Cost: 1.0336971 | Accuracy: 0.5000000 \n",
      "Iter:     8 | Cost: 1.8244553 | Accuracy: 0.5000000 \n",
      "Iter:     9 | Cost: 1.3488304 | Accuracy: 1.0000000 \n",
      "Iter:    10 | Cost: 1.2036406 | Accuracy: 0.0000000 \n",
      "Iter:    11 | Cost: 1.9276973 | Accuracy: 0.5000000 \n",
      "Iter:    12 | Cost: 1.6115580 | Accuracy: 0.5000000 \n",
      "Iter:    13 | Cost: 2.3361288 | Accuracy: 0.0000000 \n",
      "Iter:    14 | Cost: 1.9648592 | Accuracy: 0.5000000 \n",
      "Iter:    15 | Cost: 1.9269579 | Accuracy: 0.5000000 \n",
      "Iter:    16 | Cost: 2.1141187 | Accuracy: 0.5000000 \n",
      "Iter:    17 | Cost: 1.0043716 | Accuracy: 0.0000000 \n",
      "Iter:    18 | Cost: 1.5411777 | Accuracy: 0.5000000 \n",
      "Iter:    19 | Cost: 1.9084307 | Accuracy: 0.5000000 \n",
      "Iter:    20 | Cost: 1.4778063 | Accuracy: 1.0000000 \n",
      "Iter:    21 | Cost: 1.0893310 | Accuracy: 1.0000000 \n",
      "Iter:    22 | Cost: 2.0852467 | Accuracy: 1.0000000 \n",
      "Iter:    23 | Cost: 1.3513766 | Accuracy: 0.5000000 \n",
      "Iter:    24 | Cost: 2.3407878 | Accuracy: 1.0000000 \n",
      "Iter:    25 | Cost: 3.0370201 | Accuracy: 0.0000000 \n"
     ]
    }
   ],
   "source": [
    "opt = NesterovMomentumOptimizer(0.5)\n",
    "batch_size = 5\n",
    "\n",
    "weights = weights_init\n",
    "bias = bias_init\n",
    "\n",
    "for i in range(25):\n",
    "    batch_index = np.random.randint(0, len(X), (batch_size,))\n",
    "    X_batch = X[batch_index]\n",
    "    Y_batch = Y[batch_index]\n",
    "    weights, bias, _, _ = opt.step(cost, weights, bias, X_batch, Y_batch)\n",
    "\n",
    "    predictions = [np.sign(variational_classifier(weights, bias, x)) for x in X]\n",
    "    acc = accuracy(Y, predictions)\n",
    "\n",
    "    print(\n",
    "        \"Iter: {:5d} | Cost: {:0.7f} | Accuracy: {:0.7f} \".format(\n",
    "            i + 1, cost(weights, bias, X, Y), acc)\n",
    "    )"
   ]
  },
  {
   "attachments": {},
   "cell_type": "markdown",
   "metadata": {},
   "source": [
    "Nesterov momentum optimizer \n",
    ": is used to find the optimal parameters for the variational quantum classifier\n",
    "\n",
    "weights, bias, _, _ = opt.step(cost, weights, bias, X_batch, Y_batch)\n",
    "=> opt.step()실행하면: updated parameters, the bias, the first moment, and the second moment\n",
    "\n",
    "first moment =  running average of the gradients\n",
    "second moment = squared gradients\n",
    "=> why?: to prevent the local minimum \n",
    "\n",
    "** batch = number of the data points  \n",
    "\n",
    "================================="
   ]
  }
 ],
 "metadata": {
  "kernelspec": {
   "display_name": "Python 3",
   "language": "python",
   "name": "python3"
  },
  "language_info": {
   "codemirror_mode": {
    "name": "ipython",
    "version": 3
   },
   "file_extension": ".py",
   "mimetype": "text/x-python",
   "name": "python",
   "nbconvert_exporter": "python",
   "pygments_lexer": "ipython3",
   "version": "3.10.6"
  },
  "orig_nbformat": 4
 },
 "nbformat": 4,
 "nbformat_minor": 2
}
