{
 "cells": [
  {
   "cell_type": "code",
   "execution_count": 18,
   "metadata": {},
   "outputs": [],
   "source": [
    "import pennylane as qml\n",
    "from pennylane import numpy as np\n",
    "\n",
    "# select default.mixed for simulating device\n",
    "dev = qml.device(\"default.mixed\", wires=[0])"
   ]
  },
  {
   "cell_type": "markdown",
   "metadata": {},
   "source": [
    "Step1: Initial state\n",
    "$$\n",
    "\\begin{bmatrix}\n",
    "1 \\\\\n",
    "0\n",
    "\\end{bmatrix}\n",
    "$$"
   ]
  },
  {
   "cell_type": "markdown",
   "metadata": {},
   "source": [
    "Step2: Apply Hadamard\n",
    "$$\n",
    "H \\begin{bmatrix}\n",
    "1 \\\\\n",
    "0\n",
    "\\end{bmatrix}\n",
    "= \\frac{1}{\\sqrt{2}}\\begin{bmatrix}\n",
    "1 & 1 \\\\\n",
    "1 & -1\n",
    "\\end{bmatrix}\n",
    "\\begin{bmatrix}\n",
    "1 \\\\\n",
    "0\n",
    "\\end{bmatrix}\n",
    "= \\frac{1}{\\sqrt{2}}\\begin{bmatrix}\n",
    "1 \\\\\n",
    "1\n",
    "\\end{bmatrix}\n",
    "\n",
    "$$"
   ]
  },
  {
   "cell_type": "markdown",
   "metadata": {},
   "source": [
    "Step3: Time evolution with rotation-z\n",
    "$$\n",
    "e^{-i\\sigma_z\\delta t} \\frac{1}{\\sqrt{2}}\\begin{bmatrix}\n",
    "1 \\\\\n",
    "1\n",
    "\\end{bmatrix}\n",
    "= \\frac{1}{\\sqrt{2}}\\begin{bmatrix}\n",
    "e^{-i\\delta t/2} & 0 \\\\\n",
    "0 & e^{i\\delta t/2}\n",
    "\\end{bmatrix}\n",
    "\\begin{bmatrix}\n",
    "1 \\\\\n",
    "1\n",
    "\\end{bmatrix}\n",
    "= \\frac{1}{\\sqrt{2}}\\begin{bmatrix}\n",
    "e^{-i\\delta t/2} \\\\\n",
    "e^{i\\delta t/2}\n",
    "\\end{bmatrix}\n",
    "$$"
   ]
  },
  {
   "cell_type": "markdown",
   "metadata": {},
   "source": [
    "Step4: Apply Hadamard\n",
    "\n",
    "$$\n",
    "\\frac{1}{{2}}\\begin{bmatrix}\n",
    "1 & 1 \\\\\n",
    "1 & -1\n",
    "\\end{bmatrix}\n",
    "\n",
    "\\begin{bmatrix}\n",
    "e^{-i\\delta t/2} \\\\\n",
    "e^{i\\delta t/2}\n",
    "\\end{bmatrix}\n",
    "\n",
    "=\n",
    "\n",
    "\n",
    "\\begin{bmatrix}\n",
    "(e^{-i\\delta t/2} + e^{i\\delta t/2})/2 \\\\\n",
    "(e^{-i\\delta t/2} - e^{i\\delta t/2})/2\n",
    "\\end{bmatrix}\n",
    "\n",
    "\n",
    "$$"
   ]
  },
  {
   "cell_type": "code",
   "execution_count": 19,
   "metadata": {},
   "outputs": [],
   "source": [
    "# Return one by one\n",
    "def Dephase_factor(tau):\n",
    "    Calculate_Dephase = 1 - np.exp(-2 * tau)\n",
    "    \n",
    "    return Calculate_Dephase"
   ]
  },
  {
   "cell_type": "code",
   "execution_count": 26,
   "metadata": {},
   "outputs": [
    {
     "data": {
      "text/plain": [
       "array([[ 8.03265330e-01+0.j, -4.96824804e-15+0.j],\n",
       "       [-4.94049246e-15+0.j,  1.96734670e-01+0.j]])"
      ]
     },
     "execution_count": 26,
     "metadata": {},
     "output_type": "execute_result"
    }
   ],
   "source": [
    "@qml.qnode(dev)\n",
    "def circuit(tau):\n",
    "    qml.Hadamard(wires=0)\n",
    "    \n",
    "    gamma = Dephase_factor(tau)\n",
    "    qml.PhaseDamping(gamma, wires = 0)\n",
    "    \n",
    "    qml.Hadamard(wires=0)\n",
    "    \n",
    "    # return qml.probs(wires=0)\n",
    "    return qml.density_matrix(wires=0)\n",
    "\n",
    "circuit(0.5)"
   ]
  }
 ],
 "metadata": {
  "kernelspec": {
   "display_name": "Python 3",
   "language": "python",
   "name": "python3"
  },
  "language_info": {
   "codemirror_mode": {
    "name": "ipython",
    "version": 3
   },
   "file_extension": ".py",
   "mimetype": "text/x-python",
   "name": "python",
   "nbconvert_exporter": "python",
   "pygments_lexer": "ipython3",
   "version": "3.11.4"
  }
 },
 "nbformat": 4,
 "nbformat_minor": 2
}
