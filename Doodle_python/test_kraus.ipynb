{
 "cells": [
  {
   "cell_type": "code",
   "execution_count": 87,
   "metadata": {},
   "outputs": [],
   "source": [
    "import pennylane as qml\n",
    "from pennylane import numpy as np\n",
    "\n",
    "import matplotlib.pyplot as plt\n",
    "\n",
    "t1, t2 = 1, 1\n",
    "\n",
    "\n",
    "theta = np.pi / 4\n",
    "gamma = np.exp(-t1/t2)\n",
    "\n",
    "def rho(theta):\n",
    "    vec = np.array([ [1], [np.exp(-1.j * theta)]]) / np.sqrt(2)\n",
    "    \n",
    "    res = vec @ vec.conj().T\n",
    "    \n",
    "    return res\n",
    "\n",
    "def kraus(gamma):\n",
    "    E0, E1 = np.array([ [1, 0], [0, np.sqrt(1-gamma)] ]), np.array([ [0, 0], [0, np.sqrt(gamma)]])\n",
    "    \n",
    "    rho_ = E0 @ rho(theta) @ E0.conj().T + E1 @ rho(theta) @ E1.conj().T\n",
    "    \n",
    "    return rho_\n",
    "\n",
    "def rho_kraus(theta):\n",
    "    res = np.array([ [1, np.exp(1.j * theta - t1/t2)], [np.exp(-1.j * theta - t1/t2), 1] ]) / 2\n",
    "    \n",
    "    return res"
   ]
  },
  {
   "cell_type": "code",
   "execution_count": 88,
   "metadata": {},
   "outputs": [
    {
     "name": "stdout",
     "output_type": "stream",
     "text": [
      "[[0.5       +0.j         0.16378409+0.16378409j]\n",
      " [0.16378409-0.16378409j 0.5       +0.j        ]]\n",
      "\n",
      "\n",
      "[[0.5       +0.j         0.13006502+0.13006502j]\n",
      " [0.13006502-0.13006502j 0.5       +0.j        ]]\n"
     ]
    }
   ],
   "source": [
    "print(kraus(theta))\n",
    "print('\\n')\n",
    "print(rho_kraus(theta))"
   ]
  },
  {
   "cell_type": "code",
   "execution_count": null,
   "metadata": {},
   "outputs": [],
   "source": []
  }
 ],
 "metadata": {
  "kernelspec": {
   "display_name": "Python 3",
   "language": "python",
   "name": "python3"
  },
  "language_info": {
   "codemirror_mode": {
    "name": "ipython",
    "version": 3
   },
   "file_extension": ".py",
   "mimetype": "text/x-python",
   "name": "python",
   "nbconvert_exporter": "python",
   "pygments_lexer": "ipython3",
   "version": "3.11.4"
  },
  "orig_nbformat": 4
 },
 "nbformat": 4,
 "nbformat_minor": 2
}
